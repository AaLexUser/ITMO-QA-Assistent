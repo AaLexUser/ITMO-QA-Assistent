{
 "cells": [
  {
   "cell_type": "code",
   "execution_count": 1,
   "metadata": {},
   "outputs": [],
   "source": [
    "import getpass\n",
    "import os\n",
    "\n",
    "def _set_env(var: str):\n",
    "    if not os.environ.get(var):\n",
    "        os.environ[var] = getpass.getpass(f\"{var}: \")\n",
    "_set_env(\"TAVILY_API_KEY\")\n",
    "_set_env(\"LANGSMITH_API_KEY\")\n",
    "_set_env(\"OPENAI_TOKEN\")\n",
    "os.environ[\"LANGCHAIN_TRACING_V2\"] = \"true\"\n",
    "os.environ[\"LANGCHAIN_PROJECT\"] = \"MegaSchoolAI\""
   ]
  },
  {
   "cell_type": "code",
   "execution_count": 7,
   "metadata": {},
   "outputs": [
    {
     "ename": "NameError",
     "evalue": "name '__file__' is not defined",
     "output_type": "error",
     "traceback": [
      "\u001b[0;31m---------------------------------------------------------------------------\u001b[0m",
      "\u001b[0;31mNameError\u001b[0m                                 Traceback (most recent call last)",
      "Cell \u001b[0;32mIn[7], line 3\u001b[0m\n\u001b[1;32m      1\u001b[0m \u001b[38;5;28;01mfrom\u001b[39;00m\u001b[38;5;250m \u001b[39m\u001b[38;5;21;01mpathlib\u001b[39;00m\u001b[38;5;250m \u001b[39m\u001b[38;5;28;01mimport\u001b[39;00m Path\n\u001b[0;32m----> 3\u001b[0m parent_dir \u001b[38;5;241m=\u001b[39m Path(\u001b[38;5;18;43m__file__\u001b[39;49m)\u001b[38;5;241m.\u001b[39mresolve()\u001b[38;5;241m.\u001b[39mparent\u001b[38;5;241m.\u001b[39mparent\n\u001b[1;32m      4\u001b[0m \u001b[38;5;28mprint\u001b[39m(parent_dir)\n",
      "\u001b[0;31mNameError\u001b[0m: name '__file__' is not defined"
     ]
    }
   ],
   "source": [
    "from pathlib import Path\n",
    "\n",
    "parent_dir = Path(__file__).resolve().parent.parent\n",
    "print(parent_dir)"
   ]
  },
  {
   "cell_type": "code",
   "execution_count": 2,
   "metadata": {},
   "outputs": [
    {
     "data": {
      "text/plain": [
       "{'query': 'В каком рейтинге (по состоянию на 2021 год) ИТМО впервые вошёл в топ-400 мировых университетов?\\n1. ARWU (Shanghai Ranking)\\n2. Times Higher Education (THE) World University Rankings\\n3. QS World University Rankings\\n4. U.S. News & World Report Best Global Universities',\n",
       " 'answer': 3,\n",
       " 'reasoning': 'ИТМО впервые вошло в топ-400 мировых университетов в QS World University Rankings в 2021 году, заняв 365-е место.',\n",
       " 'sources': ['https://news.itmo.ru/en/news/9704/',\n",
       "  'https://news.itmo.ru/en/news/10389/',\n",
       "  'https://news.itmo.ru/en/university_live/ratings/news/9494/'],\n",
       " 'is_opt': IsOptions(is_options=True)}"
      ]
     },
     "execution_count": 2,
     "metadata": {},
     "output_type": "execute_result"
    }
   ],
   "source": [
    "from assistent.assistent import Assistent\n",
    "from assistent.inference import AIInference\n",
    "inference = AIInference(model=\"gpt-4o-mini\", base_url=\"https://models.inference.ai.azure.com\", api_key=os.environ['OPENAI_TOKEN'])\n",
    "Assistent(inference=inference).create_graph().invoke({\"query\": \"В каком рейтинге (по состоянию на 2021 год) ИТМО впервые вошёл в топ-400 мировых университетов?\\n1. ARWU (Shanghai Ranking)\\n2. Times Higher Education (THE) World University Rankings\\n3. QS World University Rankings\\n4. U.S. News & World Report Best Global Universities\"})"
   ]
  }
 ],
 "metadata": {
  "kernelspec": {
   "display_name": ".venv",
   "language": "python",
   "name": "python3"
  },
  "language_info": {
   "codemirror_mode": {
    "name": "ipython",
    "version": 3
   },
   "file_extension": ".py",
   "mimetype": "text/x-python",
   "name": "python",
   "nbconvert_exporter": "python",
   "pygments_lexer": "ipython3",
   "version": "3.12.7"
  }
 },
 "nbformat": 4,
 "nbformat_minor": 2
}
