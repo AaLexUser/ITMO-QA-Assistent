{
 "cells": [
  {
   "cell_type": "code",
   "execution_count": 1,
   "metadata": {},
   "outputs": [],
   "source": [
    "import getpass\n",
    "import os\n",
    "\n",
    "def _set_env(var: str):\n",
    "    if not os.environ.get(var):\n",
    "        os.environ[var] = getpass.getpass(f\"{var}: \")\n",
    "_set_env(\"TAVILY_API_KEY\")\n",
    "_set_env(\"LANGSMITH_API_KEY\")\n",
    "_set_env(\"OPENAI_TOKEN\")\n",
    "os.environ[\"LANGCHAIN_TRACING_V2\"] = \"true\"\n",
    "os.environ[\"LANGCHAIN_PROJECT\"] = \"MegaSchoolAI\""
   ]
  },
  {
   "cell_type": "code",
   "execution_count": 2,
   "metadata": {},
   "outputs": [
    {
     "name": "stdout",
     "output_type": "stream",
     "text": [
      "Time taken to get the answer: 3.531074047088623 seconds\n"
     ]
    },
    {
     "data": {
      "text/plain": [
       "{'query': 'В каком рейтинге (по состоянию на 2021 год) ИТМО впервые вошёл в топ-400 мировых университетов?\\n1. ARWU (Shanghai Ranking)\\n2. Times Higher Education (THE) World University Rankings\\n3. QS World University Rankings\\n4. U.S. News & World Report Best Global Universities',\n",
       " 'answer': 3,\n",
       " 'reasoning': 'ИТМО впервые вошло в топ-400 мировых университетов в QS World University Rankings в 2021 году, заняв 365-е место.',\n",
       " 'sources': ['https://news.itmo.ru/en/news/9704/',\n",
       "  'https://news.itmo.ru/en/news/10389/',\n",
       "  'https://news.itmo.ru/en/university_live/ratings/news/9494/'],\n",
       " 'is_opt': True}"
      ]
     },
     "execution_count": 2,
     "metadata": {},
     "output_type": "execute_result"
    }
   ],
   "source": [
    "from assistent.assistent import Assistent\n",
    "from assistent.inference import AIInference\n",
    "inference = AIInference(model=\"gpt-4o-mini\", base_url=\"https://models.inference.ai.azure.com\", api_key=os.environ['OPENAI_TOKEN'])\n",
    "Assistent(inference=inference).create_graph().invoke({\"query\": \"В каком рейтинге (по состоянию на 2021 год) ИТМО впервые вошёл в топ-400 мировых университетов?\\n1. ARWU (Shanghai Ranking)\\n2. Times Higher Education (THE) World University Rankings\\n3. QS World University Rankings\\n4. U.S. News & World Report Best Global Universities\"})"
   ]
  },
  {
   "cell_type": "code",
   "execution_count": 2,
   "metadata": {},
   "outputs": [],
   "source": [
    "from assistent.local_retrieve import LocalRetrieve\n",
    "from assistent.inference import OpenaiEmbeddings\n",
    "from utils import load_config, DIR\n",
    "import os\n",
    "config = load_config(f'{DIR}/config.json')\n",
    "embeddings = OpenaiEmbeddings(api_key=os.environ['OPENAI_TOKEN'], base_url=config['base_url'], model=config['embeddings'])\n",
    "retriever = LocalRetrieve(embeddings)"
   ]
  },
  {
   "cell_type": "code",
   "execution_count": 4,
   "metadata": {},
   "outputs": [
    {
     "data": {
      "text/plain": [
       "{'ids': [['3342', '2346', '3401', '2199', '3540']],\n",
       " 'embeddings': None,\n",
       " 'documents': [['10 Апреля 2024, 13:38\\nUTC+3\\n35005\\nИТМО — единственный российский вуз в мировом топ-100 по искусственному интеллекту\\nПо результатам обновленного международного рейтинга QS World University Rankings ИТМО оказался единственным российским университетом в категории «Data Science & Artificial intelligence» (наука о данных и искусственный интеллект) — Первый неклассический расположился в диапазоне 51-70 среди мировых вузов. Кроме того, ИТМО занял 78 позицию в мире и второе место по России в области компьютерных наук.\\nГлавный корпус ИТМО на Кронверкском проспекте в Петербурге. Фото: Дмитрий Григорьев / ITMO.NEWS\\nИТМО практически удвоил представленность на рейтинговых позициях — с 7 до 12 предметных областей. Помимо компьютерных наук и искусственного интеллекта, укрепились позиции еще в нескольких предметах и отраслях. Университет занял второе место в России в области «Электроника и электротехника» и улучшил свою позицию до 146 места в мировом рейтинге. В естественных науках ИТМО поднялся на 254 место (на 11 пунктов), вошел в топ-250 по математике (вместо топ-300 в прошлом году), в топ-200 в категории Art & Design и впервые оказался представлен в области химического инжиниринга (топ-350).\\nВсемирный рейтинг университетов QS World University Rankings составляет глобальный научно-исследовательский консультационный центр QS Quacquarelli Symonds. Университеты в нем ранжируются по четырем показателям: репутация, которую вузы заработали в академическом сообществе, отзывы работодателей, цитируемость научных публикаций сотрудников вуза и индекс Хирша. В этом году появился пятый критерий «Международные научно-исследовательские сети», то есть учитываются коллаборации и международное соавторство (исключение – социальные и гуманитарные науки). Рейтинги QS считаются одними из самых авторитетных наравне с Шанхайским и рейтингом Times High Education.\\nВ этом году в QS World University Rankings by Subject вузы ранжируются по 54 предметам, объединенным в пять больших предметных областей: естес',\n",
       "   \"21 September 2016, 22:56\\nUTC+3\\nITMO University in\\xa0the Times Higher Education Ranking for the First Time and Amongst Russia’s Top Three\\nTimes Higher Education published the results of\\xa0the worldwide ranking for higher education institutions World University Rankings 2016−2017. ITMO University entered the ranking for the first time, being placed 351−400 in\\xa0the overall rankings and third in\\xa0Russia.\\nAll in\\xa0all, 980 universities were included this year. Amongst all universities in\\xa0Russia, Lomonosov Moscow State University is\\xa0now first with 188th place, and Moscow Institute of\\xa0Physics and Technology is\\xa0second (301−350).\\nThe Times Higher Education ranking is\\xa0based on\\xa0thirteen indicators combined into 5 groups: Teaching, Research, Citations, International Outlook and Industry Income. ITMO's best result was in\\xa0Industry Income which is\\xa0a\\xa0measure of\\xa0income scaled against staff numbers and normalised for purchasing-power parity. It\\xa0indicates an\\xa0institution’s general status and gives a\\xa0broad sense of\\xa0the infrastructure and facilities available to\\xa0students and staff. According to\\xa0Ilya Kuftiryov, Director of\\xa0ITMO's Rankings Research Center, this is\\xa0a\\xa0result of\\xa0effective interaction between research laboratories with the economic sector.\\n«This is\\xa0the very technological transfer that ITMO University is\\xa0so\\xa0focused on, and which results in\\xa0increased income from R&D. We\\xa0don't just use governmental financing effectively, but also raise funds from the corporate sector and earn ourselves, which proves that ITMO really is\\xa0an\\xa0entrepreneurial and innovative university»,\\xa0— comments Ilya Kuftiryov.\\nThe high positions in\\xa0the THE ranking are a\\xa0result of\\xa0the united work of\\xa0the academic staff, students and the university's administration. ITMO's strategy of\\xa0taking leading positions on\\xa0the world research market, convergence of\\xa0informational and photonic technologies, their translation into socially significant areas\\xa0— from medicine and urban science to\\xa0arts\\xa0— were reflected in\\xa0the World University R\",\n",
       "   '26 Декабря 2022, 15:30\\nUTC+3\\n32496\\nИТМО ― в десятке лучших российских вузов по версии Forbes\\nЖурнал Forbes опубликовал пятый рейтинг 100 лучших университетов России. ИТМО вошел в десятку лучших, расположившись в новом выпуске рейтинга на седьмой позиции.\\nСтуденческий офис ИТМО. Фото: Мария Бакина / «Мегабайт Медиа»\\nИздание публикует свою версию ТОП-100 отечественных вузов с 2018 года. При подсчете аналитики используют данные Мониторинга деятельности образовательных организаций высшего образования Минобрнауки России, результаты опроса 100 лучших работодателей России, а также информацию из открытых источников.\\nВузы оцениваются по пяти метрикам: востребованность выпускников, качество нетворкинга, качество преподавания, международная репутация и фактор Forbes. Наиболее сильные позиции у ИТМО в 2022 году по показателю «Качество преподавания» ― по этому критерию университет держится в тройке лидеров рейтинга (у ИТМО 12 баллов, как и двух других лидеров по этому показателю ― ВШЭ и МИФИ).\\nЧтобы оценить качество преподавания, составители использовали данные Мониторинга деятельности образовательных организаций высшего образования. В метрике учитывались пять параметров: уровень оплаты труда профессорско-преподавательского состава, доля преподавателей с ученой степенью, соотношение числа преподавателей и студентов, доля иностранных преподавателей, наличие программ двойного диплома. Перечисленные параметры имели одинаковый вес, максимально в этой метрике вуз мог получить 15 баллов.\\nВсего в лонг-лист рейтинга Forbes вошли 635 вузов. Лидером итоговой сотни, как и в прошлом году, стала Высшая школа экономики. С полной версией рейтинга можно ознакомиться по\\nссылке\\n.\\nДобавим, что в 2022 году ИТМО\\nстал лучшим\\nтехническим вузом России в рейтинге RUR Ranking,\\nвошел\\nв топ-10 российских вузов в глобальном рейтинге по версии U.S. News, а также\\nстал лидером\\nв России по научной продуктивности в компьютерных и инженерных науках по версии аналитического центра «Эксперт».\\nК началу\\nЕлизавета Кок',\n",
       "   '19 July 2022, 14:36\\nUTC+3\\n30592\\n2022 Shanghai Ranking: ITMO University Leads in Seven Subject Areas\\nToday, on July 19, ShanghaiRanking Consultancy published its annual\\nGlobal Ranking of Academic Subjects\\n. ITMO is represented in eight subject rankings, being the national leader in four of them and being in the top 3 in three.\\nCredit: ITMO.NEWS.\\nIn Automation & Control, ITMO University is among the world’s top 100 universities, sharing its position nation-wide with St. Petersburg State University in the 76-100 group. ITMO has been upholding its position in this category for four years in a row.\\nIn total, ITMO is represented in eight subject rankings. In three of them, it’s the only Russian university: Computer Science & Engineering (401-500 worldwide), Telecommunication Engineering (201-300 worldwide), and Electrical & Electronic Engineering (401-500 worldwide). In Nanoscience & Nanotechnology, ITMO became the national leader and placed 201-300 worldwide.\\nIn two subject rankings ITMO University placed among the national top three: namely, in Materials Science & Engineering (301-400 worldwide) and Management (401-500 worldwide).\\n“ITMO University’s success in the Shanghai Ranking is a result of high-quality publications in prestigious international journals, as well as a high level of scientific collaboration. Cutting-edge science needs to be open and global. If you were to take a look at any breakthrough paper in Nature or Science, you’d most probably see that it was created by an international team. But the significance of contributions made by researchers from a specific university matters, too. As of now, ITMO is in the top five of Russian universities in terms of its scientific participation rate (the Nature Index) and we hope that our university’s impact will keep growing,” says Ilya Kuftyrev, the head of ITMO Univesity’s Rankings Research Center.\\nIlya Kuftyrev. Credit: Dmitry Grigoryev, ITMO.NEWS.\\n“All subject areas, where ITMO University is in the lead, are rel',\n",
       "   'в журналах \"Nature\" или \"Science\", то практически со стопроцентной вероятностью обнаружите, что она создана международным коллективов авторов. Но здесь важен и другой аспект: а какой вклад в конечный научный результат внесли исследователи именно этого вуза? ИТМО на данный момент входит в топ-5 российских университетов именно по так называемой \"доле участия\" в научных статьях (Nature Index), и надеемся, что вклад ИТМО в прорывные научные результаты будет только расти»\\n, ― подчеркивает директор Центра рейтинговых исследований Университета ИТМО\\nИлья Куфтырев\\n.\\nИлья Куфтырев. Фото: Дмитрий Григорьев / ITMO.NEWS\\n«Все направления, в которых лидирует ИТМО, связаны с фронтирными разработками и исследованиями. В этом основа нашей Программы развития 2030 — мы хотим сосредоточиться на науке высокого уровня, отмести “мелкие” KPI и оставить только крупные достижения. Для нас важно отвечать реальным запросам времени, поэтому ИТМО совместно с лидерами рынка создает партнерские образовательные программы и научные лаборатории. Мы готовим уникальных профессионалов, которые смогут в кратчайшие сроки решать реальные задачи в сферах IT, ИИ, робототехники, медицины и промышленности» — добавила первый проректор и руководитель Программы развития ИТМО\\nДарья Козлова\\n.\\nДарья Козлова. Фото: Мария Бакина / «Мегабайт Медиа»\\nКак определяются лучшие университеты планеты\\nСоставители Шанхайского рейтинга оценивают вузы по комплексу критериев, среди которых: число и цитируемость научных статей, представленных в ведущих научных журналах планеты, международное соавторство, а также наличие престижных научных наград и премий у преподавателей и сотрудников вуза.\\nВсего в рейтинге 54 предмета, которые объединены в пять укрупненных направлений: естественные науки, инженерные науки, науки о жизни, медицинские науки и социальные науки. В этом году составители проанализировали порядка 5000 вузов из 96 стран, и только около 1800 попали в список лучших университетов мира.\\nКоличество университетов, входящих в публ']],\n",
       " 'uris': None,\n",
       " 'data': None,\n",
       " 'metadatas': [[{'title': 'ИТМО — единственный российский вуз в мировом топ-100 по искусственному интеллекту ',\n",
       "    'url': 'https://news.itmo.ru/ru/university_live/ratings/news/13704/',\n",
       "    'website': 'itmo-news'},\n",
       "   {'title': 'ITMO University in\\xa0the Times Higher Education Ranking for the First Time and Amongst Russia’s Top Three',\n",
       "    'url': 'https://news.itmo.ru/en/news/6032/',\n",
       "    'website': 'itmo-news'},\n",
       "   {'title': 'ИТМО ― в десятке лучших российских вузов по версии Forbes',\n",
       "    'url': 'https://news.itmo.ru/ru/university_live/ratings/news/12985/',\n",
       "    'website': 'itmo-news'},\n",
       "   {'title': '2022 Shanghai Ranking: ITMO University Leads in Seven Subject Areas',\n",
       "    'url': 'https://news.itmo.ru/en/news/12705/',\n",
       "    'website': 'itmo-news'},\n",
       "   {'title': 'ИТМО лидирует среди университетов России сразу в семи областях Шанхайского предметного рейтинга',\n",
       "    'url': 'https://news.itmo.ru/ru/university_live/ratings/news/12705/',\n",
       "    'website': 'itmo-news'}]],\n",
       " 'distances': [[0.34860342741012573,\n",
       "   0.352158784866333,\n",
       "   0.3618723750114441,\n",
       "   0.3644789457321167,\n",
       "   0.37150561809539795]],\n",
       " 'included': [<IncludeEnum.distances: 'distances'>,\n",
       "  <IncludeEnum.documents: 'documents'>,\n",
       "  <IncludeEnum.metadatas: 'metadatas'>]}"
      ]
     },
     "execution_count": 4,
     "metadata": {},
     "output_type": "execute_result"
    }
   ],
   "source": [
    "retriever.query(\"В каком рейтинге (по состоянию на 2021 год) ИТМО впервые вошёл в топ-400 мировых университетов?\\n1. ARWU (Shanghai Ranking)\\n2. Times Higher Education (THE) World University Rankings\\n3. QS World University Rankings\\n4. U.S. News & World Report Best Global Universities\")"
   ]
  },
  {
   "cell_type": "code",
   "execution_count": 3,
   "metadata": {},
   "outputs": [
    {
     "name": "stderr",
     "output_type": "stream",
     "text": [
      "100%|██████████| 8/8 [00:08<00:00,  1.09s/it]\n"
     ]
    },
    {
     "name": "stdout",
     "output_type": "stream",
     "text": [
      "---------------------------------\n",
      "Finished inserting vectors for <itmo>!\n",
      "---------------------------------\n"
     ]
    },
    {
     "name": "stderr",
     "output_type": "stream",
     "text": [
      "100%|██████████| 5/5 [00:05<00:00,  1.05s/it]\n"
     ]
    },
    {
     "name": "stdout",
     "output_type": "stream",
     "text": [
      "---------------------------------\n",
      "Finished inserting vectors for <itmo>!\n",
      "---------------------------------\n"
     ]
    },
    {
     "name": "stderr",
     "output_type": "stream",
     "text": [
      "100%|██████████| 3/3 [00:02<00:00,  1.17it/s]\n"
     ]
    },
    {
     "name": "stdout",
     "output_type": "stream",
     "text": [
      "---------------------------------\n",
      "Finished inserting vectors for <itmo>!\n",
      "---------------------------------\n"
     ]
    },
    {
     "name": "stderr",
     "output_type": "stream",
     "text": [
      "100%|██████████| 2/2 [00:03<00:00,  1.79s/it]\n"
     ]
    },
    {
     "name": "stdout",
     "output_type": "stream",
     "text": [
      "---------------------------------\n",
      "Finished inserting vectors for <itmo>!\n",
      "---------------------------------\n"
     ]
    },
    {
     "name": "stderr",
     "output_type": "stream",
     "text": [
      "100%|██████████| 1/1 [00:01<00:00,  1.27s/it]\n"
     ]
    },
    {
     "name": "stdout",
     "output_type": "stream",
     "text": [
      "---------------------------------\n",
      "Finished inserting vectors for <itmo>!\n",
      "---------------------------------\n"
     ]
    },
    {
     "name": "stderr",
     "output_type": "stream",
     "text": [
      "100%|██████████| 2/2 [00:02<00:00,  1.32s/it]\n"
     ]
    },
    {
     "name": "stdout",
     "output_type": "stream",
     "text": [
      "---------------------------------\n",
      "Finished inserting vectors for <itmo>!\n",
      "---------------------------------\n"
     ]
    },
    {
     "name": "stderr",
     "output_type": "stream",
     "text": [
      "100%|██████████| 1/1 [00:00<00:00,  1.43it/s]\n"
     ]
    },
    {
     "name": "stdout",
     "output_type": "stream",
     "text": [
      "---------------------------------\n",
      "Finished inserting vectors for <itmo>!\n",
      "---------------------------------\n"
     ]
    },
    {
     "name": "stderr",
     "output_type": "stream",
     "text": [
      "100%|██████████| 1/1 [00:01<00:00,  1.06s/it]\n"
     ]
    },
    {
     "name": "stdout",
     "output_type": "stream",
     "text": [
      "---------------------------------\n",
      "Finished inserting vectors for <itmo>!\n",
      "---------------------------------\n"
     ]
    },
    {
     "name": "stderr",
     "output_type": "stream",
     "text": [
      "100%|██████████| 1/1 [00:01<00:00,  1.41s/it]\n"
     ]
    },
    {
     "name": "stdout",
     "output_type": "stream",
     "text": [
      "---------------------------------\n",
      "Finished inserting vectors for <itmo>!\n",
      "---------------------------------\n"
     ]
    },
    {
     "name": "stderr",
     "output_type": "stream",
     "text": [
      "100%|██████████| 4/4 [00:04<00:00,  1.09s/it]\n"
     ]
    },
    {
     "name": "stdout",
     "output_type": "stream",
     "text": [
      "---------------------------------\n",
      "Finished inserting vectors for <itmo>!\n",
      "---------------------------------\n"
     ]
    },
    {
     "name": "stderr",
     "output_type": "stream",
     "text": [
      "100%|██████████| 4/4 [00:03<00:00,  1.11it/s]\n"
     ]
    },
    {
     "name": "stdout",
     "output_type": "stream",
     "text": [
      "---------------------------------\n",
      "Finished inserting vectors for <itmo>!\n",
      "---------------------------------\n"
     ]
    },
    {
     "name": "stderr",
     "output_type": "stream",
     "text": [
      "100%|██████████| 5/5 [00:09<00:00,  1.82s/it]\n"
     ]
    },
    {
     "name": "stdout",
     "output_type": "stream",
     "text": [
      "---------------------------------\n",
      "Finished inserting vectors for <itmo>!\n",
      "---------------------------------\n"
     ]
    },
    {
     "name": "stderr",
     "output_type": "stream",
     "text": [
      "100%|██████████| 1/1 [00:00<00:00,  1.09it/s]\n"
     ]
    },
    {
     "name": "stdout",
     "output_type": "stream",
     "text": [
      "---------------------------------\n",
      "Finished inserting vectors for <itmo>!\n",
      "---------------------------------\n"
     ]
    },
    {
     "name": "stderr",
     "output_type": "stream",
     "text": [
      "100%|██████████| 1/1 [00:00<00:00,  1.09it/s]\n"
     ]
    },
    {
     "name": "stdout",
     "output_type": "stream",
     "text": [
      "---------------------------------\n",
      "Finished inserting vectors for <itmo>!\n",
      "---------------------------------\n"
     ]
    },
    {
     "name": "stderr",
     "output_type": "stream",
     "text": [
      "100%|██████████| 4/4 [00:03<00:00,  1.30it/s]\n"
     ]
    },
    {
     "name": "stdout",
     "output_type": "stream",
     "text": [
      "---------------------------------\n",
      "Finished inserting vectors for <itmo>!\n",
      "---------------------------------\n"
     ]
    },
    {
     "name": "stderr",
     "output_type": "stream",
     "text": [
      "100%|██████████| 3/3 [00:02<00:00,  1.05it/s]\n"
     ]
    },
    {
     "name": "stdout",
     "output_type": "stream",
     "text": [
      "---------------------------------\n",
      "Finished inserting vectors for <itmo>!\n",
      "---------------------------------\n"
     ]
    },
    {
     "name": "stderr",
     "output_type": "stream",
     "text": [
      "100%|██████████| 7/7 [00:06<00:00,  1.16it/s]\n"
     ]
    },
    {
     "name": "stdout",
     "output_type": "stream",
     "text": [
      "---------------------------------\n",
      "Finished inserting vectors for <itmo>!\n",
      "---------------------------------\n"
     ]
    },
    {
     "name": "stderr",
     "output_type": "stream",
     "text": [
      "100%|██████████| 4/4 [00:04<00:00,  1.03s/it]\n"
     ]
    },
    {
     "name": "stdout",
     "output_type": "stream",
     "text": [
      "---------------------------------\n",
      "Finished inserting vectors for <itmo>!\n",
      "---------------------------------\n"
     ]
    },
    {
     "name": "stderr",
     "output_type": "stream",
     "text": [
      "100%|██████████| 3/3 [00:02<00:00,  1.26it/s]\n"
     ]
    },
    {
     "name": "stdout",
     "output_type": "stream",
     "text": [
      "---------------------------------\n",
      "Finished inserting vectors for <itmo>!\n",
      "---------------------------------\n"
     ]
    },
    {
     "name": "stderr",
     "output_type": "stream",
     "text": [
      "100%|██████████| 3/3 [00:02<00:00,  1.26it/s]\n"
     ]
    },
    {
     "name": "stdout",
     "output_type": "stream",
     "text": [
      "---------------------------------\n",
      "Finished inserting vectors for <itmo>!\n",
      "---------------------------------\n"
     ]
    },
    {
     "name": "stderr",
     "output_type": "stream",
     "text": [
      "100%|██████████| 4/4 [00:03<00:00,  1.02it/s]\n"
     ]
    },
    {
     "name": "stdout",
     "output_type": "stream",
     "text": [
      "---------------------------------\n",
      "Finished inserting vectors for <itmo>!\n",
      "---------------------------------\n"
     ]
    },
    {
     "name": "stderr",
     "output_type": "stream",
     "text": [
      "100%|██████████| 3/3 [00:02<00:00,  1.23it/s]\n"
     ]
    },
    {
     "name": "stdout",
     "output_type": "stream",
     "text": [
      "---------------------------------\n",
      "Finished inserting vectors for <itmo>!\n",
      "---------------------------------\n"
     ]
    },
    {
     "name": "stderr",
     "output_type": "stream",
     "text": [
      "100%|██████████| 3/3 [00:04<00:00,  1.46s/it]\n"
     ]
    },
    {
     "name": "stdout",
     "output_type": "stream",
     "text": [
      "---------------------------------\n",
      "Finished inserting vectors for <itmo>!\n",
      "---------------------------------\n"
     ]
    },
    {
     "name": "stderr",
     "output_type": "stream",
     "text": [
      "100%|██████████| 4/4 [00:03<00:00,  1.32it/s]\n"
     ]
    },
    {
     "name": "stdout",
     "output_type": "stream",
     "text": [
      "---------------------------------\n",
      "Finished inserting vectors for <itmo>!\n",
      "---------------------------------\n"
     ]
    },
    {
     "name": "stderr",
     "output_type": "stream",
     "text": [
      "100%|██████████| 3/3 [00:02<00:00,  1.16it/s]\n"
     ]
    },
    {
     "name": "stdout",
     "output_type": "stream",
     "text": [
      "---------------------------------\n",
      "Finished inserting vectors for <itmo>!\n",
      "---------------------------------\n"
     ]
    },
    {
     "name": "stderr",
     "output_type": "stream",
     "text": [
      "100%|██████████| 8/8 [00:06<00:00,  1.21it/s]\n"
     ]
    },
    {
     "name": "stdout",
     "output_type": "stream",
     "text": [
      "---------------------------------\n",
      "Finished inserting vectors for <itmo>!\n",
      "---------------------------------\n"
     ]
    },
    {
     "name": "stderr",
     "output_type": "stream",
     "text": [
      "100%|██████████| 3/3 [00:03<00:00,  1.26s/it]\n"
     ]
    },
    {
     "name": "stdout",
     "output_type": "stream",
     "text": [
      "---------------------------------\n",
      "Finished inserting vectors for <itmo>!\n",
      "---------------------------------\n"
     ]
    },
    {
     "name": "stderr",
     "output_type": "stream",
     "text": [
      "100%|██████████| 3/3 [00:02<00:00,  1.17it/s]\n"
     ]
    },
    {
     "name": "stdout",
     "output_type": "stream",
     "text": [
      "---------------------------------\n",
      "Finished inserting vectors for <itmo>!\n",
      "---------------------------------\n"
     ]
    },
    {
     "name": "stderr",
     "output_type": "stream",
     "text": [
      "100%|██████████| 3/3 [00:03<00:00,  1.12s/it]\n"
     ]
    },
    {
     "name": "stdout",
     "output_type": "stream",
     "text": [
      "---------------------------------\n",
      "Finished inserting vectors for <itmo>!\n",
      "---------------------------------\n"
     ]
    },
    {
     "name": "stderr",
     "output_type": "stream",
     "text": [
      "100%|██████████| 5/5 [00:05<00:00,  1.16s/it]\n"
     ]
    },
    {
     "name": "stdout",
     "output_type": "stream",
     "text": [
      "---------------------------------\n",
      "Finished inserting vectors for <itmo>!\n",
      "---------------------------------\n"
     ]
    },
    {
     "name": "stderr",
     "output_type": "stream",
     "text": [
      "100%|██████████| 9/9 [00:13<00:00,  1.50s/it]\n"
     ]
    },
    {
     "name": "stdout",
     "output_type": "stream",
     "text": [
      "---------------------------------\n",
      "Finished inserting vectors for <itmo>!\n",
      "---------------------------------\n"
     ]
    },
    {
     "name": "stderr",
     "output_type": "stream",
     "text": [
      "100%|██████████| 3/3 [00:02<00:00,  1.32it/s]\n"
     ]
    },
    {
     "name": "stdout",
     "output_type": "stream",
     "text": [
      "---------------------------------\n",
      "Finished inserting vectors for <itmo>!\n",
      "---------------------------------\n"
     ]
    },
    {
     "name": "stderr",
     "output_type": "stream",
     "text": [
      "100%|██████████| 3/3 [00:03<00:00,  1.12s/it]\n"
     ]
    },
    {
     "name": "stdout",
     "output_type": "stream",
     "text": [
      "---------------------------------\n",
      "Finished inserting vectors for <itmo>!\n",
      "---------------------------------\n"
     ]
    },
    {
     "name": "stderr",
     "output_type": "stream",
     "text": [
      "100%|██████████| 3/3 [00:02<00:00,  1.16it/s]\n"
     ]
    },
    {
     "name": "stdout",
     "output_type": "stream",
     "text": [
      "---------------------------------\n",
      "Finished inserting vectors for <itmo>!\n",
      "---------------------------------\n"
     ]
    },
    {
     "name": "stderr",
     "output_type": "stream",
     "text": [
      "100%|██████████| 6/6 [00:05<00:00,  1.10it/s]\n"
     ]
    },
    {
     "name": "stdout",
     "output_type": "stream",
     "text": [
      "---------------------------------\n",
      "Finished inserting vectors for <itmo>!\n",
      "---------------------------------\n"
     ]
    },
    {
     "name": "stderr",
     "output_type": "stream",
     "text": [
      "100%|██████████| 2/2 [00:01<00:00,  1.17it/s]\n"
     ]
    },
    {
     "name": "stdout",
     "output_type": "stream",
     "text": [
      "---------------------------------\n",
      "Finished inserting vectors for <itmo>!\n",
      "---------------------------------\n"
     ]
    },
    {
     "name": "stderr",
     "output_type": "stream",
     "text": [
      "100%|██████████| 4/4 [00:04<00:00,  1.08s/it]\n"
     ]
    },
    {
     "name": "stdout",
     "output_type": "stream",
     "text": [
      "---------------------------------\n",
      "Finished inserting vectors for <itmo>!\n",
      "---------------------------------\n"
     ]
    },
    {
     "name": "stderr",
     "output_type": "stream",
     "text": [
      "100%|██████████| 4/4 [00:03<00:00,  1.28it/s]\n"
     ]
    },
    {
     "name": "stdout",
     "output_type": "stream",
     "text": [
      "---------------------------------\n",
      "Finished inserting vectors for <itmo>!\n",
      "---------------------------------\n"
     ]
    },
    {
     "name": "stderr",
     "output_type": "stream",
     "text": [
      "100%|██████████| 4/4 [00:03<00:00,  1.06it/s]\n"
     ]
    },
    {
     "name": "stdout",
     "output_type": "stream",
     "text": [
      "---------------------------------\n",
      "Finished inserting vectors for <itmo>!\n",
      "---------------------------------\n"
     ]
    },
    {
     "name": "stderr",
     "output_type": "stream",
     "text": [
      "100%|██████████| 4/4 [00:04<00:00,  1.13s/it]\n"
     ]
    },
    {
     "name": "stdout",
     "output_type": "stream",
     "text": [
      "---------------------------------\n",
      "Finished inserting vectors for <itmo>!\n",
      "---------------------------------\n"
     ]
    },
    {
     "name": "stderr",
     "output_type": "stream",
     "text": [
      "100%|██████████| 6/6 [00:04<00:00,  1.26it/s]\n"
     ]
    },
    {
     "name": "stdout",
     "output_type": "stream",
     "text": [
      "---------------------------------\n",
      "Finished inserting vectors for <itmo>!\n",
      "---------------------------------\n"
     ]
    },
    {
     "name": "stderr",
     "output_type": "stream",
     "text": [
      "100%|██████████| 3/3 [00:02<00:00,  1.05it/s]\n"
     ]
    },
    {
     "name": "stdout",
     "output_type": "stream",
     "text": [
      "---------------------------------\n",
      "Finished inserting vectors for <itmo>!\n",
      "---------------------------------\n"
     ]
    },
    {
     "name": "stderr",
     "output_type": "stream",
     "text": [
      "100%|██████████| 3/3 [00:02<00:00,  1.04it/s]\n"
     ]
    },
    {
     "name": "stdout",
     "output_type": "stream",
     "text": [
      "---------------------------------\n",
      "Finished inserting vectors for <itmo>!\n",
      "---------------------------------\n"
     ]
    },
    {
     "name": "stderr",
     "output_type": "stream",
     "text": [
      "100%|██████████| 4/4 [00:03<00:00,  1.27it/s]\n"
     ]
    },
    {
     "name": "stdout",
     "output_type": "stream",
     "text": [
      "---------------------------------\n",
      "Finished inserting vectors for <itmo>!\n",
      "---------------------------------\n"
     ]
    },
    {
     "name": "stderr",
     "output_type": "stream",
     "text": [
      "100%|██████████| 4/4 [00:03<00:00,  1.02it/s]\n"
     ]
    },
    {
     "name": "stdout",
     "output_type": "stream",
     "text": [
      "---------------------------------\n",
      "Finished inserting vectors for <itmo>!\n",
      "---------------------------------\n"
     ]
    },
    {
     "name": "stderr",
     "output_type": "stream",
     "text": [
      "100%|██████████| 7/7 [00:05<00:00,  1.17it/s]\n"
     ]
    },
    {
     "name": "stdout",
     "output_type": "stream",
     "text": [
      "---------------------------------\n",
      "Finished inserting vectors for <itmo>!\n",
      "---------------------------------\n"
     ]
    },
    {
     "name": "stderr",
     "output_type": "stream",
     "text": [
      "100%|██████████| 7/7 [00:06<00:00,  1.14it/s]\n"
     ]
    },
    {
     "name": "stdout",
     "output_type": "stream",
     "text": [
      "---------------------------------\n",
      "Finished inserting vectors for <itmo>!\n",
      "---------------------------------\n"
     ]
    },
    {
     "name": "stderr",
     "output_type": "stream",
     "text": [
      "100%|██████████| 5/5 [00:06<00:00,  1.36s/it]\n"
     ]
    },
    {
     "name": "stdout",
     "output_type": "stream",
     "text": [
      "---------------------------------\n",
      "Finished inserting vectors for <itmo>!\n",
      "---------------------------------\n"
     ]
    },
    {
     "name": "stderr",
     "output_type": "stream",
     "text": [
      "100%|██████████| 5/5 [00:05<00:00,  1.02s/it]\n"
     ]
    },
    {
     "name": "stdout",
     "output_type": "stream",
     "text": [
      "---------------------------------\n",
      "Finished inserting vectors for <itmo>!\n",
      "---------------------------------\n"
     ]
    },
    {
     "name": "stderr",
     "output_type": "stream",
     "text": [
      "100%|██████████| 6/6 [00:05<00:00,  1.13it/s]\n"
     ]
    },
    {
     "name": "stdout",
     "output_type": "stream",
     "text": [
      "---------------------------------\n",
      "Finished inserting vectors for <itmo>!\n",
      "---------------------------------\n"
     ]
    },
    {
     "name": "stderr",
     "output_type": "stream",
     "text": [
      "100%|██████████| 7/7 [00:06<00:00,  1.03it/s]\n"
     ]
    },
    {
     "name": "stdout",
     "output_type": "stream",
     "text": [
      "---------------------------------\n",
      "Finished inserting vectors for <itmo>!\n",
      "---------------------------------\n"
     ]
    },
    {
     "name": "stderr",
     "output_type": "stream",
     "text": [
      "100%|██████████| 7/7 [00:07<00:00,  1.11s/it]\n"
     ]
    },
    {
     "name": "stdout",
     "output_type": "stream",
     "text": [
      "---------------------------------\n",
      "Finished inserting vectors for <itmo>!\n",
      "---------------------------------\n"
     ]
    },
    {
     "name": "stderr",
     "output_type": "stream",
     "text": [
      "100%|██████████| 7/7 [00:07<00:00,  1.11s/it]\n"
     ]
    },
    {
     "name": "stdout",
     "output_type": "stream",
     "text": [
      "---------------------------------\n",
      "Finished inserting vectors for <itmo>!\n",
      "---------------------------------\n"
     ]
    },
    {
     "name": "stderr",
     "output_type": "stream",
     "text": [
      "100%|██████████| 1/1 [00:00<00:00,  1.22it/s]\n"
     ]
    },
    {
     "name": "stdout",
     "output_type": "stream",
     "text": [
      "---------------------------------\n",
      "Finished inserting vectors for <itmo>!\n",
      "---------------------------------\n"
     ]
    },
    {
     "name": "stderr",
     "output_type": "stream",
     "text": [
      "100%|██████████| 7/7 [00:06<00:00,  1.13it/s]\n"
     ]
    },
    {
     "name": "stdout",
     "output_type": "stream",
     "text": [
      "---------------------------------\n",
      "Finished inserting vectors for <itmo>!\n",
      "---------------------------------\n"
     ]
    },
    {
     "name": "stderr",
     "output_type": "stream",
     "text": [
      "100%|██████████| 3/3 [00:02<00:00,  1.32it/s]\n"
     ]
    },
    {
     "name": "stdout",
     "output_type": "stream",
     "text": [
      "---------------------------------\n",
      "Finished inserting vectors for <itmo>!\n",
      "---------------------------------\n"
     ]
    },
    {
     "name": "stderr",
     "output_type": "stream",
     "text": [
      "100%|██████████| 5/5 [00:05<00:00,  1.07s/it]\n"
     ]
    },
    {
     "name": "stdout",
     "output_type": "stream",
     "text": [
      "---------------------------------\n",
      "Finished inserting vectors for <itmo>!\n",
      "---------------------------------\n"
     ]
    },
    {
     "name": "stderr",
     "output_type": "stream",
     "text": [
      "100%|██████████| 3/3 [00:02<00:00,  1.11it/s]\n"
     ]
    },
    {
     "name": "stdout",
     "output_type": "stream",
     "text": [
      "---------------------------------\n",
      "Finished inserting vectors for <itmo>!\n",
      "---------------------------------\n"
     ]
    },
    {
     "name": "stderr",
     "output_type": "stream",
     "text": [
      "100%|██████████| 3/3 [00:02<00:00,  1.37it/s]\n"
     ]
    },
    {
     "name": "stdout",
     "output_type": "stream",
     "text": [
      "---------------------------------\n",
      "Finished inserting vectors for <itmo>!\n",
      "---------------------------------\n"
     ]
    },
    {
     "name": "stderr",
     "output_type": "stream",
     "text": [
      "100%|██████████| 3/3 [00:02<00:00,  1.34it/s]\n"
     ]
    },
    {
     "name": "stdout",
     "output_type": "stream",
     "text": [
      "---------------------------------\n",
      "Finished inserting vectors for <itmo>!\n",
      "---------------------------------\n"
     ]
    },
    {
     "name": "stderr",
     "output_type": "stream",
     "text": [
      "100%|██████████| 6/6 [00:10<00:00,  1.72s/it]\n"
     ]
    },
    {
     "name": "stdout",
     "output_type": "stream",
     "text": [
      "---------------------------------\n",
      "Finished inserting vectors for <itmo>!\n",
      "---------------------------------\n"
     ]
    },
    {
     "name": "stderr",
     "output_type": "stream",
     "text": [
      "100%|██████████| 3/3 [00:02<00:00,  1.30it/s]\n"
     ]
    },
    {
     "name": "stdout",
     "output_type": "stream",
     "text": [
      "---------------------------------\n",
      "Finished inserting vectors for <itmo>!\n",
      "---------------------------------\n"
     ]
    },
    {
     "name": "stderr",
     "output_type": "stream",
     "text": [
      "100%|██████████| 4/4 [00:03<00:00,  1.13it/s]\n"
     ]
    },
    {
     "name": "stdout",
     "output_type": "stream",
     "text": [
      "---------------------------------\n",
      "Finished inserting vectors for <itmo>!\n",
      "---------------------------------\n"
     ]
    },
    {
     "name": "stderr",
     "output_type": "stream",
     "text": [
      "100%|██████████| 7/7 [00:07<00:00,  1.02s/it]\n"
     ]
    },
    {
     "name": "stdout",
     "output_type": "stream",
     "text": [
      "---------------------------------\n",
      "Finished inserting vectors for <itmo>!\n",
      "---------------------------------\n"
     ]
    },
    {
     "name": "stderr",
     "output_type": "stream",
     "text": [
      "100%|██████████| 10/10 [00:07<00:00,  1.26it/s]\n"
     ]
    },
    {
     "name": "stdout",
     "output_type": "stream",
     "text": [
      "---------------------------------\n",
      "Finished inserting vectors for <itmo>!\n",
      "---------------------------------\n"
     ]
    },
    {
     "name": "stderr",
     "output_type": "stream",
     "text": [
      "100%|██████████| 3/3 [00:02<00:00,  1.26it/s]\n"
     ]
    },
    {
     "name": "stdout",
     "output_type": "stream",
     "text": [
      "---------------------------------\n",
      "Finished inserting vectors for <itmo>!\n",
      "---------------------------------\n"
     ]
    },
    {
     "name": "stderr",
     "output_type": "stream",
     "text": [
      "100%|██████████| 4/4 [00:08<00:00,  2.11s/it]\n"
     ]
    },
    {
     "name": "stdout",
     "output_type": "stream",
     "text": [
      "---------------------------------\n",
      "Finished inserting vectors for <itmo>!\n",
      "---------------------------------\n"
     ]
    },
    {
     "name": "stderr",
     "output_type": "stream",
     "text": [
      "100%|██████████| 3/3 [00:03<00:00,  1.16s/it]\n"
     ]
    },
    {
     "name": "stdout",
     "output_type": "stream",
     "text": [
      "---------------------------------\n",
      "Finished inserting vectors for <itmo>!\n",
      "---------------------------------\n"
     ]
    },
    {
     "name": "stderr",
     "output_type": "stream",
     "text": [
      "100%|██████████| 4/4 [00:04<00:00,  1.10s/it]\n"
     ]
    },
    {
     "name": "stdout",
     "output_type": "stream",
     "text": [
      "---------------------------------\n",
      "Finished inserting vectors for <itmo>!\n",
      "---------------------------------\n"
     ]
    },
    {
     "name": "stderr",
     "output_type": "stream",
     "text": [
      "100%|██████████| 4/4 [00:03<00:00,  1.13it/s]\n"
     ]
    },
    {
     "name": "stdout",
     "output_type": "stream",
     "text": [
      "---------------------------------\n",
      "Finished inserting vectors for <itmo>!\n",
      "---------------------------------\n"
     ]
    },
    {
     "name": "stderr",
     "output_type": "stream",
     "text": [
      "100%|██████████| 3/3 [00:03<00:00,  1.08s/it]\n"
     ]
    },
    {
     "name": "stdout",
     "output_type": "stream",
     "text": [
      "---------------------------------\n",
      "Finished inserting vectors for <itmo>!\n",
      "---------------------------------\n"
     ]
    },
    {
     "name": "stderr",
     "output_type": "stream",
     "text": [
      "100%|██████████| 4/4 [00:02<00:00,  1.58it/s]\n"
     ]
    },
    {
     "name": "stdout",
     "output_type": "stream",
     "text": [
      "---------------------------------\n",
      "Finished inserting vectors for <itmo>!\n",
      "---------------------------------\n"
     ]
    },
    {
     "name": "stderr",
     "output_type": "stream",
     "text": [
      "100%|██████████| 3/3 [00:04<00:00,  1.37s/it]\n"
     ]
    },
    {
     "name": "stdout",
     "output_type": "stream",
     "text": [
      "---------------------------------\n",
      "Finished inserting vectors for <itmo>!\n",
      "---------------------------------\n"
     ]
    },
    {
     "name": "stderr",
     "output_type": "stream",
     "text": [
      "100%|██████████| 3/3 [00:02<00:00,  1.28it/s]\n"
     ]
    },
    {
     "name": "stdout",
     "output_type": "stream",
     "text": [
      "---------------------------------\n",
      "Finished inserting vectors for <itmo>!\n",
      "---------------------------------\n"
     ]
    },
    {
     "name": "stderr",
     "output_type": "stream",
     "text": [
      "100%|██████████| 3/3 [00:02<00:00,  1.36it/s]\n"
     ]
    },
    {
     "name": "stdout",
     "output_type": "stream",
     "text": [
      "---------------------------------\n",
      "Finished inserting vectors for <itmo>!\n",
      "---------------------------------\n"
     ]
    },
    {
     "name": "stderr",
     "output_type": "stream",
     "text": [
      "100%|██████████| 4/4 [00:04<00:00,  1.12s/it]\n"
     ]
    },
    {
     "name": "stdout",
     "output_type": "stream",
     "text": [
      "---------------------------------\n",
      "Finished inserting vectors for <itmo>!\n",
      "---------------------------------\n"
     ]
    },
    {
     "name": "stderr",
     "output_type": "stream",
     "text": [
      "100%|██████████| 3/3 [00:02<00:00,  1.04it/s]\n"
     ]
    },
    {
     "name": "stdout",
     "output_type": "stream",
     "text": [
      "---------------------------------\n",
      "Finished inserting vectors for <itmo>!\n",
      "---------------------------------\n"
     ]
    },
    {
     "name": "stderr",
     "output_type": "stream",
     "text": [
      "100%|██████████| 5/5 [00:04<00:00,  1.21it/s]\n"
     ]
    },
    {
     "name": "stdout",
     "output_type": "stream",
     "text": [
      "---------------------------------\n",
      "Finished inserting vectors for <itmo>!\n",
      "---------------------------------\n"
     ]
    },
    {
     "name": "stderr",
     "output_type": "stream",
     "text": [
      "100%|██████████| 3/3 [00:03<00:00,  1.17s/it]\n"
     ]
    },
    {
     "name": "stdout",
     "output_type": "stream",
     "text": [
      "---------------------------------\n",
      "Finished inserting vectors for <itmo>!\n",
      "---------------------------------\n"
     ]
    },
    {
     "name": "stderr",
     "output_type": "stream",
     "text": [
      "100%|██████████| 5/5 [00:04<00:00,  1.15it/s]\n"
     ]
    },
    {
     "name": "stdout",
     "output_type": "stream",
     "text": [
      "---------------------------------\n",
      "Finished inserting vectors for <itmo>!\n",
      "---------------------------------\n"
     ]
    },
    {
     "name": "stderr",
     "output_type": "stream",
     "text": [
      "100%|██████████| 5/5 [00:04<00:00,  1.16it/s]\n"
     ]
    },
    {
     "name": "stdout",
     "output_type": "stream",
     "text": [
      "---------------------------------\n",
      "Finished inserting vectors for <itmo>!\n",
      "---------------------------------\n"
     ]
    },
    {
     "name": "stderr",
     "output_type": "stream",
     "text": [
      "100%|██████████| 6/6 [00:08<00:00,  1.43s/it]\n"
     ]
    },
    {
     "name": "stdout",
     "output_type": "stream",
     "text": [
      "---------------------------------\n",
      "Finished inserting vectors for <itmo>!\n",
      "---------------------------------\n"
     ]
    },
    {
     "name": "stderr",
     "output_type": "stream",
     "text": [
      "100%|██████████| 6/6 [00:04<00:00,  1.30it/s]\n"
     ]
    },
    {
     "name": "stdout",
     "output_type": "stream",
     "text": [
      "---------------------------------\n",
      "Finished inserting vectors for <itmo>!\n",
      "---------------------------------\n"
     ]
    },
    {
     "name": "stderr",
     "output_type": "stream",
     "text": [
      "100%|██████████| 3/3 [00:02<00:00,  1.05it/s]\n"
     ]
    },
    {
     "name": "stdout",
     "output_type": "stream",
     "text": [
      "---------------------------------\n",
      "Finished inserting vectors for <itmo>!\n",
      "---------------------------------\n"
     ]
    },
    {
     "name": "stderr",
     "output_type": "stream",
     "text": [
      "100%|██████████| 5/5 [00:03<00:00,  1.40it/s]\n"
     ]
    },
    {
     "name": "stdout",
     "output_type": "stream",
     "text": [
      "---------------------------------\n",
      "Finished inserting vectors for <itmo>!\n",
      "---------------------------------\n"
     ]
    },
    {
     "name": "stderr",
     "output_type": "stream",
     "text": [
      "100%|██████████| 3/3 [00:02<00:00,  1.34it/s]\n"
     ]
    },
    {
     "name": "stdout",
     "output_type": "stream",
     "text": [
      "---------------------------------\n",
      "Finished inserting vectors for <itmo>!\n",
      "---------------------------------\n"
     ]
    },
    {
     "name": "stderr",
     "output_type": "stream",
     "text": [
      "100%|██████████| 3/3 [00:02<00:00,  1.01it/s]\n"
     ]
    },
    {
     "name": "stdout",
     "output_type": "stream",
     "text": [
      "---------------------------------\n",
      "Finished inserting vectors for <itmo>!\n",
      "---------------------------------\n"
     ]
    },
    {
     "name": "stderr",
     "output_type": "stream",
     "text": [
      "100%|██████████| 3/3 [00:04<00:00,  1.64s/it]\n"
     ]
    },
    {
     "name": "stdout",
     "output_type": "stream",
     "text": [
      "---------------------------------\n",
      "Finished inserting vectors for <itmo>!\n",
      "---------------------------------\n"
     ]
    },
    {
     "name": "stderr",
     "output_type": "stream",
     "text": [
      "100%|██████████| 3/3 [00:03<00:00,  1.05s/it]\n"
     ]
    },
    {
     "name": "stdout",
     "output_type": "stream",
     "text": [
      "---------------------------------\n",
      "Finished inserting vectors for <itmo>!\n",
      "---------------------------------\n"
     ]
    },
    {
     "name": "stderr",
     "output_type": "stream",
     "text": [
      "100%|██████████| 3/3 [00:04<00:00,  1.66s/it]\n"
     ]
    },
    {
     "name": "stdout",
     "output_type": "stream",
     "text": [
      "---------------------------------\n",
      "Finished inserting vectors for <itmo>!\n",
      "---------------------------------\n"
     ]
    },
    {
     "name": "stderr",
     "output_type": "stream",
     "text": [
      "100%|██████████| 4/4 [00:10<00:00,  2.65s/it]\n"
     ]
    },
    {
     "name": "stdout",
     "output_type": "stream",
     "text": [
      "---------------------------------\n",
      "Finished inserting vectors for <itmo>!\n",
      "---------------------------------\n"
     ]
    },
    {
     "name": "stderr",
     "output_type": "stream",
     "text": [
      "100%|██████████| 7/7 [00:07<00:00,  1.10s/it]\n"
     ]
    },
    {
     "name": "stdout",
     "output_type": "stream",
     "text": [
      "---------------------------------\n",
      "Finished inserting vectors for <itmo>!\n",
      "---------------------------------\n"
     ]
    },
    {
     "name": "stderr",
     "output_type": "stream",
     "text": [
      "100%|██████████| 3/3 [00:02<00:00,  1.05it/s]\n"
     ]
    },
    {
     "name": "stdout",
     "output_type": "stream",
     "text": [
      "---------------------------------\n",
      "Finished inserting vectors for <itmo>!\n",
      "---------------------------------\n"
     ]
    },
    {
     "name": "stderr",
     "output_type": "stream",
     "text": [
      "100%|██████████| 4/4 [00:03<00:00,  1.14it/s]\n"
     ]
    },
    {
     "name": "stdout",
     "output_type": "stream",
     "text": [
      "---------------------------------\n",
      "Finished inserting vectors for <itmo>!\n",
      "---------------------------------\n"
     ]
    },
    {
     "name": "stderr",
     "output_type": "stream",
     "text": [
      "100%|██████████| 6/6 [00:05<00:00,  1.11it/s]\n"
     ]
    },
    {
     "name": "stdout",
     "output_type": "stream",
     "text": [
      "---------------------------------\n",
      "Finished inserting vectors for <itmo>!\n",
      "---------------------------------\n"
     ]
    },
    {
     "name": "stderr",
     "output_type": "stream",
     "text": [
      "100%|██████████| 4/4 [00:03<00:00,  1.13it/s]\n"
     ]
    },
    {
     "name": "stdout",
     "output_type": "stream",
     "text": [
      "---------------------------------\n",
      "Finished inserting vectors for <itmo>!\n",
      "---------------------------------\n"
     ]
    },
    {
     "name": "stderr",
     "output_type": "stream",
     "text": [
      "100%|██████████| 8/8 [00:06<00:00,  1.14it/s]\n"
     ]
    },
    {
     "name": "stdout",
     "output_type": "stream",
     "text": [
      "---------------------------------\n",
      "Finished inserting vectors for <itmo>!\n",
      "---------------------------------\n"
     ]
    },
    {
     "name": "stderr",
     "output_type": "stream",
     "text": [
      "100%|██████████| 7/7 [00:05<00:00,  1.28it/s]\n"
     ]
    },
    {
     "name": "stdout",
     "output_type": "stream",
     "text": [
      "---------------------------------\n",
      "Finished inserting vectors for <itmo>!\n",
      "---------------------------------\n"
     ]
    },
    {
     "name": "stderr",
     "output_type": "stream",
     "text": [
      "100%|██████████| 5/5 [00:04<00:00,  1.14it/s]\n"
     ]
    },
    {
     "name": "stdout",
     "output_type": "stream",
     "text": [
      "---------------------------------\n",
      "Finished inserting vectors for <itmo>!\n",
      "---------------------------------\n"
     ]
    },
    {
     "name": "stderr",
     "output_type": "stream",
     "text": [
      "100%|██████████| 6/6 [00:05<00:00,  1.07it/s]\n"
     ]
    },
    {
     "name": "stdout",
     "output_type": "stream",
     "text": [
      "---------------------------------\n",
      "Finished inserting vectors for <itmo>!\n",
      "---------------------------------\n"
     ]
    },
    {
     "name": "stderr",
     "output_type": "stream",
     "text": [
      "100%|██████████| 3/3 [00:03<00:00,  1.08s/it]\n"
     ]
    },
    {
     "name": "stdout",
     "output_type": "stream",
     "text": [
      "---------------------------------\n",
      "Finished inserting vectors for <itmo>!\n",
      "---------------------------------\n"
     ]
    },
    {
     "name": "stderr",
     "output_type": "stream",
     "text": [
      "100%|██████████| 3/3 [00:02<00:00,  1.12it/s]\n"
     ]
    },
    {
     "name": "stdout",
     "output_type": "stream",
     "text": [
      "---------------------------------\n",
      "Finished inserting vectors for <itmo>!\n",
      "---------------------------------\n"
     ]
    },
    {
     "name": "stderr",
     "output_type": "stream",
     "text": [
      "100%|██████████| 3/3 [00:03<00:00,  1.07s/it]\n"
     ]
    },
    {
     "name": "stdout",
     "output_type": "stream",
     "text": [
      "---------------------------------\n",
      "Finished inserting vectors for <itmo>!\n",
      "---------------------------------\n"
     ]
    },
    {
     "name": "stderr",
     "output_type": "stream",
     "text": [
      "100%|██████████| 9/9 [00:08<00:00,  1.00it/s]\n"
     ]
    },
    {
     "name": "stdout",
     "output_type": "stream",
     "text": [
      "---------------------------------\n",
      "Finished inserting vectors for <itmo>!\n",
      "---------------------------------\n"
     ]
    },
    {
     "name": "stderr",
     "output_type": "stream",
     "text": [
      "100%|██████████| 3/3 [00:02<00:00,  1.12it/s]\n"
     ]
    },
    {
     "name": "stdout",
     "output_type": "stream",
     "text": [
      "---------------------------------\n",
      "Finished inserting vectors for <itmo>!\n",
      "---------------------------------\n"
     ]
    },
    {
     "name": "stderr",
     "output_type": "stream",
     "text": [
      "100%|██████████| 6/6 [00:07<00:00,  1.23s/it]\n"
     ]
    },
    {
     "name": "stdout",
     "output_type": "stream",
     "text": [
      "---------------------------------\n",
      "Finished inserting vectors for <itmo>!\n",
      "---------------------------------\n"
     ]
    },
    {
     "name": "stderr",
     "output_type": "stream",
     "text": [
      "100%|██████████| 3/3 [00:02<00:00,  1.04it/s]\n"
     ]
    },
    {
     "name": "stdout",
     "output_type": "stream",
     "text": [
      "---------------------------------\n",
      "Finished inserting vectors for <itmo>!\n",
      "---------------------------------\n"
     ]
    },
    {
     "name": "stderr",
     "output_type": "stream",
     "text": [
      "100%|██████████| 3/3 [00:02<00:00,  1.15it/s]\n"
     ]
    },
    {
     "name": "stdout",
     "output_type": "stream",
     "text": [
      "---------------------------------\n",
      "Finished inserting vectors for <itmo>!\n",
      "---------------------------------\n"
     ]
    },
    {
     "name": "stderr",
     "output_type": "stream",
     "text": [
      "100%|██████████| 4/4 [00:03<00:00,  1.15it/s]\n"
     ]
    },
    {
     "name": "stdout",
     "output_type": "stream",
     "text": [
      "---------------------------------\n",
      "Finished inserting vectors for <itmo>!\n",
      "---------------------------------\n"
     ]
    },
    {
     "name": "stderr",
     "output_type": "stream",
     "text": [
      "100%|██████████| 4/4 [00:03<00:00,  1.10it/s]\n"
     ]
    },
    {
     "name": "stdout",
     "output_type": "stream",
     "text": [
      "---------------------------------\n",
      "Finished inserting vectors for <itmo>!\n",
      "---------------------------------\n"
     ]
    },
    {
     "name": "stderr",
     "output_type": "stream",
     "text": [
      "100%|██████████| 3/3 [00:02<00:00,  1.08it/s]\n"
     ]
    },
    {
     "name": "stdout",
     "output_type": "stream",
     "text": [
      "---------------------------------\n",
      "Finished inserting vectors for <itmo>!\n",
      "---------------------------------\n"
     ]
    },
    {
     "name": "stderr",
     "output_type": "stream",
     "text": [
      "100%|██████████| 4/4 [00:03<00:00,  1.02it/s]\n"
     ]
    },
    {
     "name": "stdout",
     "output_type": "stream",
     "text": [
      "---------------------------------\n",
      "Finished inserting vectors for <itmo>!\n",
      "---------------------------------\n"
     ]
    },
    {
     "name": "stderr",
     "output_type": "stream",
     "text": [
      "100%|██████████| 4/4 [00:03<00:00,  1.12it/s]\n"
     ]
    },
    {
     "name": "stdout",
     "output_type": "stream",
     "text": [
      "---------------------------------\n",
      "Finished inserting vectors for <itmo>!\n",
      "---------------------------------\n"
     ]
    },
    {
     "name": "stderr",
     "output_type": "stream",
     "text": [
      "100%|██████████| 5/5 [00:05<00:00,  1.14s/it]\n"
     ]
    },
    {
     "name": "stdout",
     "output_type": "stream",
     "text": [
      "---------------------------------\n",
      "Finished inserting vectors for <itmo>!\n",
      "---------------------------------\n"
     ]
    },
    {
     "name": "stderr",
     "output_type": "stream",
     "text": [
      "100%|██████████| 4/4 [00:03<00:00,  1.11it/s]\n"
     ]
    },
    {
     "name": "stdout",
     "output_type": "stream",
     "text": [
      "---------------------------------\n",
      "Finished inserting vectors for <itmo>!\n",
      "---------------------------------\n"
     ]
    },
    {
     "name": "stderr",
     "output_type": "stream",
     "text": [
      "100%|██████████| 5/5 [00:04<00:00,  1.20it/s]\n"
     ]
    },
    {
     "name": "stdout",
     "output_type": "stream",
     "text": [
      "---------------------------------\n",
      "Finished inserting vectors for <itmo>!\n",
      "---------------------------------\n"
     ]
    },
    {
     "name": "stderr",
     "output_type": "stream",
     "text": [
      "100%|██████████| 2/2 [00:01<00:00,  1.18it/s]\n"
     ]
    },
    {
     "name": "stdout",
     "output_type": "stream",
     "text": [
      "---------------------------------\n",
      "Finished inserting vectors for <itmo>!\n",
      "---------------------------------\n"
     ]
    },
    {
     "name": "stderr",
     "output_type": "stream",
     "text": [
      "100%|██████████| 1/1 [00:00<00:00,  1.24it/s]\n"
     ]
    },
    {
     "name": "stdout",
     "output_type": "stream",
     "text": [
      "---------------------------------\n",
      "Finished inserting vectors for <itmo>!\n",
      "---------------------------------\n"
     ]
    },
    {
     "name": "stderr",
     "output_type": "stream",
     "text": [
      "100%|██████████| 4/4 [00:03<00:00,  1.27it/s]\n"
     ]
    },
    {
     "name": "stdout",
     "output_type": "stream",
     "text": [
      "---------------------------------\n",
      "Finished inserting vectors for <itmo>!\n",
      "---------------------------------\n"
     ]
    },
    {
     "name": "stderr",
     "output_type": "stream",
     "text": [
      "100%|██████████| 1/1 [00:00<00:00,  1.38it/s]\n"
     ]
    },
    {
     "name": "stdout",
     "output_type": "stream",
     "text": [
      "---------------------------------\n",
      "Finished inserting vectors for <itmo>!\n",
      "---------------------------------\n"
     ]
    },
    {
     "name": "stderr",
     "output_type": "stream",
     "text": [
      "100%|██████████| 1/1 [00:00<00:00,  1.16it/s]\n"
     ]
    },
    {
     "name": "stdout",
     "output_type": "stream",
     "text": [
      "---------------------------------\n",
      "Finished inserting vectors for <itmo>!\n",
      "---------------------------------\n"
     ]
    },
    {
     "name": "stderr",
     "output_type": "stream",
     "text": [
      "100%|██████████| 4/4 [00:03<00:00,  1.27it/s]\n"
     ]
    },
    {
     "name": "stdout",
     "output_type": "stream",
     "text": [
      "---------------------------------\n",
      "Finished inserting vectors for <itmo>!\n",
      "---------------------------------\n"
     ]
    },
    {
     "name": "stderr",
     "output_type": "stream",
     "text": [
      "100%|██████████| 3/3 [00:02<00:00,  1.18it/s]\n"
     ]
    },
    {
     "name": "stdout",
     "output_type": "stream",
     "text": [
      "---------------------------------\n",
      "Finished inserting vectors for <itmo>!\n",
      "---------------------------------\n"
     ]
    },
    {
     "name": "stderr",
     "output_type": "stream",
     "text": [
      "100%|██████████| 7/7 [00:07<00:00,  1.01s/it]\n"
     ]
    },
    {
     "name": "stdout",
     "output_type": "stream",
     "text": [
      "---------------------------------\n",
      "Finished inserting vectors for <itmo>!\n",
      "---------------------------------\n"
     ]
    },
    {
     "name": "stderr",
     "output_type": "stream",
     "text": [
      "100%|██████████| 4/4 [00:03<00:00,  1.26it/s]\n"
     ]
    },
    {
     "name": "stdout",
     "output_type": "stream",
     "text": [
      "---------------------------------\n",
      "Finished inserting vectors for <itmo>!\n",
      "---------------------------------\n"
     ]
    },
    {
     "name": "stderr",
     "output_type": "stream",
     "text": [
      "100%|██████████| 7/7 [00:06<00:00,  1.10it/s]\n"
     ]
    },
    {
     "name": "stdout",
     "output_type": "stream",
     "text": [
      "---------------------------------\n",
      "Finished inserting vectors for <itmo>!\n",
      "---------------------------------\n"
     ]
    },
    {
     "name": "stderr",
     "output_type": "stream",
     "text": [
      "100%|██████████| 8/8 [00:12<00:00,  1.62s/it]\n"
     ]
    },
    {
     "name": "stdout",
     "output_type": "stream",
     "text": [
      "---------------------------------\n",
      "Finished inserting vectors for <itmo>!\n",
      "---------------------------------\n"
     ]
    },
    {
     "name": "stderr",
     "output_type": "stream",
     "text": [
      "100%|██████████| 5/5 [00:04<00:00,  1.23it/s]\n"
     ]
    },
    {
     "name": "stdout",
     "output_type": "stream",
     "text": [
      "---------------------------------\n",
      "Finished inserting vectors for <itmo>!\n",
      "---------------------------------\n"
     ]
    },
    {
     "name": "stderr",
     "output_type": "stream",
     "text": [
      "100%|██████████| 5/5 [00:04<00:00,  1.07it/s]\n"
     ]
    },
    {
     "name": "stdout",
     "output_type": "stream",
     "text": [
      "---------------------------------\n",
      "Finished inserting vectors for <itmo>!\n",
      "---------------------------------\n"
     ]
    },
    {
     "name": "stderr",
     "output_type": "stream",
     "text": [
      "100%|██████████| 7/7 [00:06<00:00,  1.09it/s]\n"
     ]
    },
    {
     "name": "stdout",
     "output_type": "stream",
     "text": [
      "---------------------------------\n",
      "Finished inserting vectors for <itmo>!\n",
      "---------------------------------\n"
     ]
    },
    {
     "name": "stderr",
     "output_type": "stream",
     "text": [
      "100%|██████████| 8/8 [00:06<00:00,  1.23it/s]\n"
     ]
    },
    {
     "name": "stdout",
     "output_type": "stream",
     "text": [
      "---------------------------------\n",
      "Finished inserting vectors for <itmo>!\n",
      "---------------------------------\n"
     ]
    },
    {
     "name": "stderr",
     "output_type": "stream",
     "text": [
      "100%|██████████| 5/5 [00:04<00:00,  1.07it/s]\n"
     ]
    },
    {
     "name": "stdout",
     "output_type": "stream",
     "text": [
      "---------------------------------\n",
      "Finished inserting vectors for <itmo>!\n",
      "---------------------------------\n"
     ]
    },
    {
     "name": "stderr",
     "output_type": "stream",
     "text": [
      "100%|██████████| 7/7 [00:06<00:00,  1.11it/s]\n"
     ]
    },
    {
     "name": "stdout",
     "output_type": "stream",
     "text": [
      "---------------------------------\n",
      "Finished inserting vectors for <itmo>!\n",
      "---------------------------------\n"
     ]
    },
    {
     "name": "stderr",
     "output_type": "stream",
     "text": [
      "100%|██████████| 5/5 [00:03<00:00,  1.38it/s]\n"
     ]
    },
    {
     "name": "stdout",
     "output_type": "stream",
     "text": [
      "---------------------------------\n",
      "Finished inserting vectors for <itmo>!\n",
      "---------------------------------\n"
     ]
    },
    {
     "name": "stderr",
     "output_type": "stream",
     "text": [
      "100%|██████████| 4/4 [00:03<00:00,  1.23it/s]\n"
     ]
    },
    {
     "name": "stdout",
     "output_type": "stream",
     "text": [
      "---------------------------------\n",
      "Finished inserting vectors for <itmo>!\n",
      "---------------------------------\n"
     ]
    },
    {
     "name": "stderr",
     "output_type": "stream",
     "text": [
      "100%|██████████| 5/5 [00:04<00:00,  1.20it/s]\n"
     ]
    },
    {
     "name": "stdout",
     "output_type": "stream",
     "text": [
      "---------------------------------\n",
      "Finished inserting vectors for <itmo>!\n",
      "---------------------------------\n"
     ]
    },
    {
     "name": "stderr",
     "output_type": "stream",
     "text": [
      "100%|██████████| 4/4 [00:04<00:00,  1.12s/it]\n"
     ]
    },
    {
     "name": "stdout",
     "output_type": "stream",
     "text": [
      "---------------------------------\n",
      "Finished inserting vectors for <itmo>!\n",
      "---------------------------------\n"
     ]
    },
    {
     "name": "stderr",
     "output_type": "stream",
     "text": [
      "100%|██████████| 7/7 [00:05<00:00,  1.33it/s]\n"
     ]
    },
    {
     "name": "stdout",
     "output_type": "stream",
     "text": [
      "---------------------------------\n",
      "Finished inserting vectors for <itmo>!\n",
      "---------------------------------\n"
     ]
    },
    {
     "name": "stderr",
     "output_type": "stream",
     "text": [
      "100%|██████████| 3/3 [00:02<00:00,  1.29it/s]\n"
     ]
    },
    {
     "name": "stdout",
     "output_type": "stream",
     "text": [
      "---------------------------------\n",
      "Finished inserting vectors for <itmo>!\n",
      "---------------------------------\n"
     ]
    },
    {
     "name": "stderr",
     "output_type": "stream",
     "text": [
      "100%|██████████| 4/4 [00:03<00:00,  1.18it/s]\n"
     ]
    },
    {
     "name": "stdout",
     "output_type": "stream",
     "text": [
      "---------------------------------\n",
      "Finished inserting vectors for <itmo>!\n",
      "---------------------------------\n"
     ]
    },
    {
     "name": "stderr",
     "output_type": "stream",
     "text": [
      "100%|██████████| 5/5 [00:04<00:00,  1.04it/s]\n"
     ]
    },
    {
     "name": "stdout",
     "output_type": "stream",
     "text": [
      "---------------------------------\n",
      "Finished inserting vectors for <itmo>!\n",
      "---------------------------------\n"
     ]
    },
    {
     "name": "stderr",
     "output_type": "stream",
     "text": [
      "100%|██████████| 7/7 [00:06<00:00,  1.04it/s]\n"
     ]
    },
    {
     "name": "stdout",
     "output_type": "stream",
     "text": [
      "---------------------------------\n",
      "Finished inserting vectors for <itmo>!\n",
      "---------------------------------\n"
     ]
    },
    {
     "name": "stderr",
     "output_type": "stream",
     "text": [
      "100%|██████████| 5/5 [00:06<00:00,  1.22s/it]\n"
     ]
    },
    {
     "name": "stdout",
     "output_type": "stream",
     "text": [
      "---------------------------------\n",
      "Finished inserting vectors for <itmo>!\n",
      "---------------------------------\n"
     ]
    },
    {
     "name": "stderr",
     "output_type": "stream",
     "text": [
      "100%|██████████| 8/8 [00:07<00:00,  1.05it/s]\n"
     ]
    },
    {
     "name": "stdout",
     "output_type": "stream",
     "text": [
      "---------------------------------\n",
      "Finished inserting vectors for <itmo>!\n",
      "---------------------------------\n"
     ]
    },
    {
     "name": "stderr",
     "output_type": "stream",
     "text": [
      "100%|██████████| 5/5 [00:04<00:00,  1.08it/s]\n"
     ]
    },
    {
     "name": "stdout",
     "output_type": "stream",
     "text": [
      "---------------------------------\n",
      "Finished inserting vectors for <itmo>!\n",
      "---------------------------------\n"
     ]
    },
    {
     "name": "stderr",
     "output_type": "stream",
     "text": [
      "100%|██████████| 5/5 [00:04<00:00,  1.05it/s]\n"
     ]
    },
    {
     "name": "stdout",
     "output_type": "stream",
     "text": [
      "---------------------------------\n",
      "Finished inserting vectors for <itmo>!\n",
      "---------------------------------\n"
     ]
    },
    {
     "name": "stderr",
     "output_type": "stream",
     "text": [
      "100%|██████████| 4/4 [00:04<00:00,  1.04s/it]\n"
     ]
    },
    {
     "name": "stdout",
     "output_type": "stream",
     "text": [
      "---------------------------------\n",
      "Finished inserting vectors for <itmo>!\n",
      "---------------------------------\n"
     ]
    },
    {
     "name": "stderr",
     "output_type": "stream",
     "text": [
      "100%|██████████| 5/5 [00:04<00:00,  1.12it/s]\n"
     ]
    },
    {
     "name": "stdout",
     "output_type": "stream",
     "text": [
      "---------------------------------\n",
      "Finished inserting vectors for <itmo>!\n",
      "---------------------------------\n"
     ]
    },
    {
     "name": "stderr",
     "output_type": "stream",
     "text": [
      "100%|██████████| 5/5 [00:05<00:00,  1.05s/it]\n"
     ]
    },
    {
     "name": "stdout",
     "output_type": "stream",
     "text": [
      "---------------------------------\n",
      "Finished inserting vectors for <itmo>!\n",
      "---------------------------------\n"
     ]
    },
    {
     "name": "stderr",
     "output_type": "stream",
     "text": [
      "100%|██████████| 6/6 [00:08<00:00,  1.38s/it]\n"
     ]
    },
    {
     "name": "stdout",
     "output_type": "stream",
     "text": [
      "---------------------------------\n",
      "Finished inserting vectors for <itmo>!\n",
      "---------------------------------\n"
     ]
    },
    {
     "name": "stderr",
     "output_type": "stream",
     "text": [
      "100%|██████████| 5/5 [00:04<00:00,  1.24it/s]\n"
     ]
    },
    {
     "name": "stdout",
     "output_type": "stream",
     "text": [
      "---------------------------------\n",
      "Finished inserting vectors for <itmo>!\n",
      "---------------------------------\n"
     ]
    },
    {
     "name": "stderr",
     "output_type": "stream",
     "text": [
      "100%|██████████| 5/5 [00:06<00:00,  1.25s/it]\n"
     ]
    },
    {
     "name": "stdout",
     "output_type": "stream",
     "text": [
      "---------------------------------\n",
      "Finished inserting vectors for <itmo>!\n",
      "---------------------------------\n"
     ]
    },
    {
     "name": "stderr",
     "output_type": "stream",
     "text": [
      "100%|██████████| 7/7 [00:06<00:00,  1.11it/s]\n"
     ]
    },
    {
     "name": "stdout",
     "output_type": "stream",
     "text": [
      "---------------------------------\n",
      "Finished inserting vectors for <itmo>!\n",
      "---------------------------------\n"
     ]
    },
    {
     "name": "stderr",
     "output_type": "stream",
     "text": [
      "100%|██████████| 5/5 [00:03<00:00,  1.31it/s]\n"
     ]
    },
    {
     "name": "stdout",
     "output_type": "stream",
     "text": [
      "---------------------------------\n",
      "Finished inserting vectors for <itmo>!\n",
      "---------------------------------\n"
     ]
    },
    {
     "name": "stderr",
     "output_type": "stream",
     "text": [
      "100%|██████████| 7/7 [00:05<00:00,  1.30it/s]\n"
     ]
    },
    {
     "name": "stdout",
     "output_type": "stream",
     "text": [
      "---------------------------------\n",
      "Finished inserting vectors for <itmo>!\n",
      "---------------------------------\n"
     ]
    },
    {
     "name": "stderr",
     "output_type": "stream",
     "text": [
      "100%|██████████| 3/3 [00:02<00:00,  1.31it/s]\n"
     ]
    },
    {
     "name": "stdout",
     "output_type": "stream",
     "text": [
      "---------------------------------\n",
      "Finished inserting vectors for <itmo>!\n",
      "---------------------------------\n"
     ]
    },
    {
     "name": "stderr",
     "output_type": "stream",
     "text": [
      "100%|██████████| 3/3 [00:02<00:00,  1.46it/s]\n"
     ]
    },
    {
     "name": "stdout",
     "output_type": "stream",
     "text": [
      "---------------------------------\n",
      "Finished inserting vectors for <itmo>!\n",
      "---------------------------------\n"
     ]
    },
    {
     "name": "stderr",
     "output_type": "stream",
     "text": [
      "100%|██████████| 7/7 [00:06<00:00,  1.12it/s]\n"
     ]
    },
    {
     "name": "stdout",
     "output_type": "stream",
     "text": [
      "---------------------------------\n",
      "Finished inserting vectors for <itmo>!\n",
      "---------------------------------\n"
     ]
    },
    {
     "name": "stderr",
     "output_type": "stream",
     "text": [
      "100%|██████████| 3/3 [00:03<00:00,  1.08s/it]\n"
     ]
    },
    {
     "name": "stdout",
     "output_type": "stream",
     "text": [
      "---------------------------------\n",
      "Finished inserting vectors for <itmo>!\n",
      "---------------------------------\n"
     ]
    },
    {
     "name": "stderr",
     "output_type": "stream",
     "text": [
      "100%|██████████| 3/3 [00:03<00:00,  1.05s/it]\n"
     ]
    },
    {
     "name": "stdout",
     "output_type": "stream",
     "text": [
      "---------------------------------\n",
      "Finished inserting vectors for <itmo>!\n",
      "---------------------------------\n"
     ]
    },
    {
     "name": "stderr",
     "output_type": "stream",
     "text": [
      "100%|██████████| 3/3 [00:02<00:00,  1.05it/s]\n"
     ]
    },
    {
     "name": "stdout",
     "output_type": "stream",
     "text": [
      "---------------------------------\n",
      "Finished inserting vectors for <itmo>!\n",
      "---------------------------------\n"
     ]
    },
    {
     "name": "stderr",
     "output_type": "stream",
     "text": [
      "100%|██████████| 3/3 [00:02<00:00,  1.36it/s]\n"
     ]
    },
    {
     "name": "stdout",
     "output_type": "stream",
     "text": [
      "---------------------------------\n",
      "Finished inserting vectors for <itmo>!\n",
      "---------------------------------\n"
     ]
    },
    {
     "name": "stderr",
     "output_type": "stream",
     "text": [
      "100%|██████████| 1/1 [00:00<00:00,  1.24it/s]\n"
     ]
    },
    {
     "name": "stdout",
     "output_type": "stream",
     "text": [
      "---------------------------------\n",
      "Finished inserting vectors for <itmo>!\n",
      "---------------------------------\n"
     ]
    },
    {
     "name": "stderr",
     "output_type": "stream",
     "text": [
      "100%|██████████| 2/2 [00:01<00:00,  1.22it/s]\n"
     ]
    },
    {
     "name": "stdout",
     "output_type": "stream",
     "text": [
      "---------------------------------\n",
      "Finished inserting vectors for <itmo>!\n",
      "---------------------------------\n"
     ]
    },
    {
     "name": "stderr",
     "output_type": "stream",
     "text": [
      "100%|██████████| 3/3 [00:04<00:00,  1.41s/it]\n"
     ]
    },
    {
     "name": "stdout",
     "output_type": "stream",
     "text": [
      "---------------------------------\n",
      "Finished inserting vectors for <itmo>!\n",
      "---------------------------------\n"
     ]
    },
    {
     "name": "stderr",
     "output_type": "stream",
     "text": [
      "100%|██████████| 6/6 [00:05<00:00,  1.02it/s]\n"
     ]
    },
    {
     "name": "stdout",
     "output_type": "stream",
     "text": [
      "---------------------------------\n",
      "Finished inserting vectors for <itmo>!\n",
      "---------------------------------\n"
     ]
    },
    {
     "name": "stderr",
     "output_type": "stream",
     "text": [
      "100%|██████████| 2/2 [00:01<00:00,  1.29it/s]\n"
     ]
    },
    {
     "name": "stdout",
     "output_type": "stream",
     "text": [
      "---------------------------------\n",
      "Finished inserting vectors for <itmo>!\n",
      "---------------------------------\n"
     ]
    },
    {
     "name": "stderr",
     "output_type": "stream",
     "text": [
      "100%|██████████| 4/4 [00:03<00:00,  1.32it/s]\n"
     ]
    },
    {
     "name": "stdout",
     "output_type": "stream",
     "text": [
      "---------------------------------\n",
      "Finished inserting vectors for <itmo>!\n",
      "---------------------------------\n"
     ]
    },
    {
     "name": "stderr",
     "output_type": "stream",
     "text": [
      "100%|██████████| 3/3 [00:02<00:00,  1.02it/s]\n"
     ]
    },
    {
     "name": "stdout",
     "output_type": "stream",
     "text": [
      "---------------------------------\n",
      "Finished inserting vectors for <itmo>!\n",
      "---------------------------------\n"
     ]
    },
    {
     "name": "stderr",
     "output_type": "stream",
     "text": [
      "100%|██████████| 6/6 [00:05<00:00,  1.00it/s]\n"
     ]
    },
    {
     "name": "stdout",
     "output_type": "stream",
     "text": [
      "---------------------------------\n",
      "Finished inserting vectors for <itmo>!\n",
      "---------------------------------\n"
     ]
    },
    {
     "name": "stderr",
     "output_type": "stream",
     "text": [
      "100%|██████████| 4/4 [00:06<00:00,  1.51s/it]\n"
     ]
    },
    {
     "name": "stdout",
     "output_type": "stream",
     "text": [
      "---------------------------------\n",
      "Finished inserting vectors for <itmo>!\n",
      "---------------------------------\n"
     ]
    },
    {
     "name": "stderr",
     "output_type": "stream",
     "text": [
      "100%|██████████| 3/3 [00:02<00:00,  1.04it/s]\n"
     ]
    },
    {
     "name": "stdout",
     "output_type": "stream",
     "text": [
      "---------------------------------\n",
      "Finished inserting vectors for <itmo>!\n",
      "---------------------------------\n"
     ]
    },
    {
     "name": "stderr",
     "output_type": "stream",
     "text": [
      "100%|██████████| 2/2 [00:01<00:00,  1.41it/s]\n"
     ]
    },
    {
     "name": "stdout",
     "output_type": "stream",
     "text": [
      "---------------------------------\n",
      "Finished inserting vectors for <itmo>!\n",
      "---------------------------------\n"
     ]
    },
    {
     "name": "stderr",
     "output_type": "stream",
     "text": [
      "100%|██████████| 4/4 [00:03<00:00,  1.06it/s]\n"
     ]
    },
    {
     "name": "stdout",
     "output_type": "stream",
     "text": [
      "---------------------------------\n",
      "Finished inserting vectors for <itmo>!\n",
      "---------------------------------\n"
     ]
    },
    {
     "name": "stderr",
     "output_type": "stream",
     "text": [
      "100%|██████████| 6/6 [00:04<00:00,  1.36it/s]\n"
     ]
    },
    {
     "name": "stdout",
     "output_type": "stream",
     "text": [
      "---------------------------------\n",
      "Finished inserting vectors for <itmo>!\n",
      "---------------------------------\n"
     ]
    },
    {
     "name": "stderr",
     "output_type": "stream",
     "text": [
      "100%|██████████| 5/5 [00:04<00:00,  1.12it/s]\n"
     ]
    },
    {
     "name": "stdout",
     "output_type": "stream",
     "text": [
      "---------------------------------\n",
      "Finished inserting vectors for <itmo>!\n",
      "---------------------------------\n"
     ]
    },
    {
     "name": "stderr",
     "output_type": "stream",
     "text": [
      "100%|██████████| 4/4 [00:02<00:00,  1.43it/s]\n"
     ]
    },
    {
     "name": "stdout",
     "output_type": "stream",
     "text": [
      "---------------------------------\n",
      "Finished inserting vectors for <itmo>!\n",
      "---------------------------------\n"
     ]
    },
    {
     "name": "stderr",
     "output_type": "stream",
     "text": [
      "100%|██████████| 6/6 [00:04<00:00,  1.35it/s]\n"
     ]
    },
    {
     "name": "stdout",
     "output_type": "stream",
     "text": [
      "---------------------------------\n",
      "Finished inserting vectors for <itmo>!\n",
      "---------------------------------\n"
     ]
    },
    {
     "name": "stderr",
     "output_type": "stream",
     "text": [
      "100%|██████████| 6/6 [00:04<00:00,  1.28it/s]\n"
     ]
    },
    {
     "name": "stdout",
     "output_type": "stream",
     "text": [
      "---------------------------------\n",
      "Finished inserting vectors for <itmo>!\n",
      "---------------------------------\n"
     ]
    },
    {
     "name": "stderr",
     "output_type": "stream",
     "text": [
      "100%|██████████| 5/5 [00:06<00:00,  1.31s/it]\n"
     ]
    },
    {
     "name": "stdout",
     "output_type": "stream",
     "text": [
      "---------------------------------\n",
      "Finished inserting vectors for <itmo>!\n",
      "---------------------------------\n"
     ]
    },
    {
     "name": "stderr",
     "output_type": "stream",
     "text": [
      "100%|██████████| 2/2 [00:01<00:00,  1.58it/s]\n"
     ]
    },
    {
     "name": "stdout",
     "output_type": "stream",
     "text": [
      "---------------------------------\n",
      "Finished inserting vectors for <itmo>!\n",
      "---------------------------------\n"
     ]
    },
    {
     "name": "stderr",
     "output_type": "stream",
     "text": [
      "100%|██████████| 4/4 [00:02<00:00,  1.44it/s]\n"
     ]
    },
    {
     "name": "stdout",
     "output_type": "stream",
     "text": [
      "---------------------------------\n",
      "Finished inserting vectors for <itmo>!\n",
      "---------------------------------\n"
     ]
    },
    {
     "name": "stderr",
     "output_type": "stream",
     "text": [
      "100%|██████████| 5/5 [00:04<00:00,  1.19it/s]\n"
     ]
    },
    {
     "name": "stdout",
     "output_type": "stream",
     "text": [
      "---------------------------------\n",
      "Finished inserting vectors for <itmo>!\n",
      "---------------------------------\n"
     ]
    },
    {
     "name": "stderr",
     "output_type": "stream",
     "text": [
      "100%|██████████| 4/4 [00:03<00:00,  1.16it/s]\n"
     ]
    },
    {
     "name": "stdout",
     "output_type": "stream",
     "text": [
      "---------------------------------\n",
      "Finished inserting vectors for <itmo>!\n",
      "---------------------------------\n"
     ]
    },
    {
     "name": "stderr",
     "output_type": "stream",
     "text": [
      "100%|██████████| 4/4 [00:03<00:00,  1.16it/s]\n"
     ]
    },
    {
     "name": "stdout",
     "output_type": "stream",
     "text": [
      "---------------------------------\n",
      "Finished inserting vectors for <itmo>!\n",
      "---------------------------------\n"
     ]
    },
    {
     "name": "stderr",
     "output_type": "stream",
     "text": [
      "100%|██████████| 4/4 [00:04<00:00,  1.09s/it]\n"
     ]
    },
    {
     "name": "stdout",
     "output_type": "stream",
     "text": [
      "---------------------------------\n",
      "Finished inserting vectors for <itmo>!\n",
      "---------------------------------\n"
     ]
    },
    {
     "name": "stderr",
     "output_type": "stream",
     "text": [
      "100%|██████████| 4/4 [00:02<00:00,  1.50it/s]\n"
     ]
    },
    {
     "name": "stdout",
     "output_type": "stream",
     "text": [
      "---------------------------------\n",
      "Finished inserting vectors for <itmo>!\n",
      "---------------------------------\n"
     ]
    },
    {
     "name": "stderr",
     "output_type": "stream",
     "text": [
      "100%|██████████| 4/4 [00:03<00:00,  1.05it/s]\n"
     ]
    },
    {
     "name": "stdout",
     "output_type": "stream",
     "text": [
      "---------------------------------\n",
      "Finished inserting vectors for <itmo>!\n",
      "---------------------------------\n"
     ]
    },
    {
     "name": "stderr",
     "output_type": "stream",
     "text": [
      "100%|██████████| 2/2 [00:01<00:00,  1.28it/s]\n"
     ]
    },
    {
     "name": "stdout",
     "output_type": "stream",
     "text": [
      "---------------------------------\n",
      "Finished inserting vectors for <itmo>!\n",
      "---------------------------------\n"
     ]
    },
    {
     "name": "stderr",
     "output_type": "stream",
     "text": [
      "100%|██████████| 3/3 [00:03<00:00,  1.23s/it]\n"
     ]
    },
    {
     "name": "stdout",
     "output_type": "stream",
     "text": [
      "---------------------------------\n",
      "Finished inserting vectors for <itmo>!\n",
      "---------------------------------\n"
     ]
    },
    {
     "name": "stderr",
     "output_type": "stream",
     "text": [
      "100%|██████████| 4/4 [00:04<00:00,  1.12s/it]\n"
     ]
    },
    {
     "name": "stdout",
     "output_type": "stream",
     "text": [
      "---------------------------------\n",
      "Finished inserting vectors for <itmo>!\n",
      "---------------------------------\n"
     ]
    },
    {
     "name": "stderr",
     "output_type": "stream",
     "text": [
      "100%|██████████| 4/4 [00:05<00:00,  1.28s/it]\n"
     ]
    },
    {
     "name": "stdout",
     "output_type": "stream",
     "text": [
      "---------------------------------\n",
      "Finished inserting vectors for <itmo>!\n",
      "---------------------------------\n"
     ]
    },
    {
     "name": "stderr",
     "output_type": "stream",
     "text": [
      "100%|██████████| 6/6 [00:05<00:00,  1.09it/s]\n"
     ]
    },
    {
     "name": "stdout",
     "output_type": "stream",
     "text": [
      "---------------------------------\n",
      "Finished inserting vectors for <itmo>!\n",
      "---------------------------------\n"
     ]
    },
    {
     "name": "stderr",
     "output_type": "stream",
     "text": [
      "100%|██████████| 6/6 [00:04<00:00,  1.23it/s]\n"
     ]
    },
    {
     "name": "stdout",
     "output_type": "stream",
     "text": [
      "---------------------------------\n",
      "Finished inserting vectors for <itmo>!\n",
      "---------------------------------\n"
     ]
    },
    {
     "name": "stderr",
     "output_type": "stream",
     "text": [
      "100%|██████████| 6/6 [00:05<00:00,  1.04it/s]\n"
     ]
    },
    {
     "name": "stdout",
     "output_type": "stream",
     "text": [
      "---------------------------------\n",
      "Finished inserting vectors for <itmo>!\n",
      "---------------------------------\n"
     ]
    },
    {
     "name": "stderr",
     "output_type": "stream",
     "text": [
      "100%|██████████| 6/6 [00:06<00:00,  1.10s/it]\n"
     ]
    },
    {
     "name": "stdout",
     "output_type": "stream",
     "text": [
      "---------------------------------\n",
      "Finished inserting vectors for <itmo>!\n",
      "---------------------------------\n"
     ]
    },
    {
     "name": "stderr",
     "output_type": "stream",
     "text": [
      "100%|██████████| 3/3 [00:02<00:00,  1.46it/s]\n"
     ]
    },
    {
     "name": "stdout",
     "output_type": "stream",
     "text": [
      "---------------------------------\n",
      "Finished inserting vectors for <itmo>!\n",
      "---------------------------------\n"
     ]
    },
    {
     "name": "stderr",
     "output_type": "stream",
     "text": [
      "100%|██████████| 6/6 [00:04<00:00,  1.29it/s]\n"
     ]
    },
    {
     "name": "stdout",
     "output_type": "stream",
     "text": [
      "---------------------------------\n",
      "Finished inserting vectors for <itmo>!\n",
      "---------------------------------\n"
     ]
    },
    {
     "name": "stderr",
     "output_type": "stream",
     "text": [
      "100%|██████████| 7/7 [00:05<00:00,  1.33it/s]\n"
     ]
    },
    {
     "name": "stdout",
     "output_type": "stream",
     "text": [
      "---------------------------------\n",
      "Finished inserting vectors for <itmo>!\n",
      "---------------------------------\n"
     ]
    },
    {
     "name": "stderr",
     "output_type": "stream",
     "text": [
      "100%|██████████| 3/3 [00:03<00:00,  1.02s/it]\n"
     ]
    },
    {
     "name": "stdout",
     "output_type": "stream",
     "text": [
      "---------------------------------\n",
      "Finished inserting vectors for <itmo>!\n",
      "---------------------------------\n"
     ]
    },
    {
     "name": "stderr",
     "output_type": "stream",
     "text": [
      "100%|██████████| 3/3 [00:04<00:00,  1.38s/it]\n"
     ]
    },
    {
     "name": "stdout",
     "output_type": "stream",
     "text": [
      "---------------------------------\n",
      "Finished inserting vectors for <itmo>!\n",
      "---------------------------------\n"
     ]
    },
    {
     "name": "stderr",
     "output_type": "stream",
     "text": [
      "100%|██████████| 9/9 [00:06<00:00,  1.31it/s]\n"
     ]
    },
    {
     "name": "stdout",
     "output_type": "stream",
     "text": [
      "---------------------------------\n",
      "Finished inserting vectors for <itmo>!\n",
      "---------------------------------\n"
     ]
    },
    {
     "name": "stderr",
     "output_type": "stream",
     "text": [
      "100%|██████████| 5/5 [00:04<00:00,  1.07it/s]\n"
     ]
    },
    {
     "name": "stdout",
     "output_type": "stream",
     "text": [
      "---------------------------------\n",
      "Finished inserting vectors for <itmo>!\n",
      "---------------------------------\n"
     ]
    },
    {
     "name": "stderr",
     "output_type": "stream",
     "text": [
      "100%|██████████| 7/7 [00:08<00:00,  1.15s/it]\n"
     ]
    },
    {
     "name": "stdout",
     "output_type": "stream",
     "text": [
      "---------------------------------\n",
      "Finished inserting vectors for <itmo>!\n",
      "---------------------------------\n"
     ]
    },
    {
     "name": "stderr",
     "output_type": "stream",
     "text": [
      "100%|██████████| 5/5 [00:07<00:00,  1.42s/it]\n"
     ]
    },
    {
     "name": "stdout",
     "output_type": "stream",
     "text": [
      "---------------------------------\n",
      "Finished inserting vectors for <itmo>!\n",
      "---------------------------------\n"
     ]
    },
    {
     "name": "stderr",
     "output_type": "stream",
     "text": [
      "100%|██████████| 4/4 [00:03<00:00,  1.11it/s]\n"
     ]
    },
    {
     "name": "stdout",
     "output_type": "stream",
     "text": [
      "---------------------------------\n",
      "Finished inserting vectors for <itmo>!\n",
      "---------------------------------\n"
     ]
    },
    {
     "name": "stderr",
     "output_type": "stream",
     "text": [
      "100%|██████████| 7/7 [00:05<00:00,  1.21it/s]\n"
     ]
    },
    {
     "name": "stdout",
     "output_type": "stream",
     "text": [
      "---------------------------------\n",
      "Finished inserting vectors for <itmo>!\n",
      "---------------------------------\n"
     ]
    },
    {
     "name": "stderr",
     "output_type": "stream",
     "text": [
      "100%|██████████| 3/3 [00:02<00:00,  1.19it/s]\n"
     ]
    },
    {
     "name": "stdout",
     "output_type": "stream",
     "text": [
      "---------------------------------\n",
      "Finished inserting vectors for <itmo>!\n",
      "---------------------------------\n"
     ]
    },
    {
     "name": "stderr",
     "output_type": "stream",
     "text": [
      "100%|██████████| 3/3 [00:07<00:00,  2.56s/it]\n"
     ]
    },
    {
     "name": "stdout",
     "output_type": "stream",
     "text": [
      "---------------------------------\n",
      "Finished inserting vectors for <itmo>!\n",
      "---------------------------------\n"
     ]
    },
    {
     "name": "stderr",
     "output_type": "stream",
     "text": [
      "100%|██████████| 3/3 [00:02<00:00,  1.34it/s]\n"
     ]
    },
    {
     "name": "stdout",
     "output_type": "stream",
     "text": [
      "---------------------------------\n",
      "Finished inserting vectors for <itmo>!\n",
      "---------------------------------\n"
     ]
    },
    {
     "name": "stderr",
     "output_type": "stream",
     "text": [
      "100%|██████████| 3/3 [00:02<00:00,  1.19it/s]\n"
     ]
    },
    {
     "name": "stdout",
     "output_type": "stream",
     "text": [
      "---------------------------------\n",
      "Finished inserting vectors for <itmo>!\n",
      "---------------------------------\n"
     ]
    },
    {
     "name": "stderr",
     "output_type": "stream",
     "text": [
      "100%|██████████| 3/3 [00:03<00:00,  1.27s/it]\n"
     ]
    },
    {
     "name": "stdout",
     "output_type": "stream",
     "text": [
      "---------------------------------\n",
      "Finished inserting vectors for <itmo>!\n",
      "---------------------------------\n"
     ]
    },
    {
     "name": "stderr",
     "output_type": "stream",
     "text": [
      "100%|██████████| 3/3 [00:02<00:00,  1.04it/s]\n"
     ]
    },
    {
     "name": "stdout",
     "output_type": "stream",
     "text": [
      "---------------------------------\n",
      "Finished inserting vectors for <itmo>!\n",
      "---------------------------------\n"
     ]
    },
    {
     "name": "stderr",
     "output_type": "stream",
     "text": [
      "100%|██████████| 3/3 [00:04<00:00,  1.39s/it]\n"
     ]
    },
    {
     "name": "stdout",
     "output_type": "stream",
     "text": [
      "---------------------------------\n",
      "Finished inserting vectors for <itmo>!\n",
      "---------------------------------\n"
     ]
    },
    {
     "name": "stderr",
     "output_type": "stream",
     "text": [
      "100%|██████████| 4/4 [00:03<00:00,  1.22it/s]\n"
     ]
    },
    {
     "name": "stdout",
     "output_type": "stream",
     "text": [
      "---------------------------------\n",
      "Finished inserting vectors for <itmo>!\n",
      "---------------------------------\n"
     ]
    },
    {
     "name": "stderr",
     "output_type": "stream",
     "text": [
      "100%|██████████| 4/4 [00:02<00:00,  1.38it/s]\n"
     ]
    },
    {
     "name": "stdout",
     "output_type": "stream",
     "text": [
      "---------------------------------\n",
      "Finished inserting vectors for <itmo>!\n",
      "---------------------------------\n"
     ]
    },
    {
     "name": "stderr",
     "output_type": "stream",
     "text": [
      "100%|██████████| 5/5 [00:04<00:00,  1.16it/s]\n"
     ]
    },
    {
     "name": "stdout",
     "output_type": "stream",
     "text": [
      "---------------------------------\n",
      "Finished inserting vectors for <itmo>!\n",
      "---------------------------------\n"
     ]
    },
    {
     "name": "stderr",
     "output_type": "stream",
     "text": [
      "100%|██████████| 3/3 [00:02<00:00,  1.19it/s]\n"
     ]
    },
    {
     "name": "stdout",
     "output_type": "stream",
     "text": [
      "---------------------------------\n",
      "Finished inserting vectors for <itmo>!\n",
      "---------------------------------\n"
     ]
    },
    {
     "name": "stderr",
     "output_type": "stream",
     "text": [
      "100%|██████████| 6/6 [00:04<00:00,  1.26it/s]\n"
     ]
    },
    {
     "name": "stdout",
     "output_type": "stream",
     "text": [
      "---------------------------------\n",
      "Finished inserting vectors for <itmo>!\n",
      "---------------------------------\n"
     ]
    },
    {
     "name": "stderr",
     "output_type": "stream",
     "text": [
      "100%|██████████| 2/2 [00:01<00:00,  1.31it/s]\n"
     ]
    },
    {
     "name": "stdout",
     "output_type": "stream",
     "text": [
      "---------------------------------\n",
      "Finished inserting vectors for <itmo>!\n",
      "---------------------------------\n"
     ]
    },
    {
     "name": "stderr",
     "output_type": "stream",
     "text": [
      "100%|██████████| 5/5 [00:04<00:00,  1.00it/s]\n"
     ]
    },
    {
     "name": "stdout",
     "output_type": "stream",
     "text": [
      "---------------------------------\n",
      "Finished inserting vectors for <itmo>!\n",
      "---------------------------------\n"
     ]
    },
    {
     "name": "stderr",
     "output_type": "stream",
     "text": [
      "100%|██████████| 3/3 [00:03<00:00,  1.15s/it]\n"
     ]
    },
    {
     "name": "stdout",
     "output_type": "stream",
     "text": [
      "---------------------------------\n",
      "Finished inserting vectors for <itmo>!\n",
      "---------------------------------\n"
     ]
    },
    {
     "name": "stderr",
     "output_type": "stream",
     "text": [
      "100%|██████████| 6/6 [00:05<00:00,  1.04it/s]\n"
     ]
    },
    {
     "name": "stdout",
     "output_type": "stream",
     "text": [
      "---------------------------------\n",
      "Finished inserting vectors for <itmo>!\n",
      "---------------------------------\n"
     ]
    },
    {
     "name": "stderr",
     "output_type": "stream",
     "text": [
      "100%|██████████| 6/6 [00:05<00:00,  1.07it/s]\n"
     ]
    },
    {
     "name": "stdout",
     "output_type": "stream",
     "text": [
      "---------------------------------\n",
      "Finished inserting vectors for <itmo>!\n",
      "---------------------------------\n"
     ]
    },
    {
     "name": "stderr",
     "output_type": "stream",
     "text": [
      "100%|██████████| 4/4 [00:04<00:00,  1.15s/it]\n"
     ]
    },
    {
     "name": "stdout",
     "output_type": "stream",
     "text": [
      "---------------------------------\n",
      "Finished inserting vectors for <itmo>!\n",
      "---------------------------------\n"
     ]
    },
    {
     "name": "stderr",
     "output_type": "stream",
     "text": [
      "100%|██████████| 6/6 [00:04<00:00,  1.25it/s]\n"
     ]
    },
    {
     "name": "stdout",
     "output_type": "stream",
     "text": [
      "---------------------------------\n",
      "Finished inserting vectors for <itmo>!\n",
      "---------------------------------\n"
     ]
    },
    {
     "name": "stderr",
     "output_type": "stream",
     "text": [
      "100%|██████████| 3/3 [00:02<00:00,  1.17it/s]\n"
     ]
    },
    {
     "name": "stdout",
     "output_type": "stream",
     "text": [
      "---------------------------------\n",
      "Finished inserting vectors for <itmo>!\n",
      "---------------------------------\n"
     ]
    },
    {
     "name": "stderr",
     "output_type": "stream",
     "text": [
      "100%|██████████| 4/4 [00:03<00:00,  1.17it/s]\n"
     ]
    },
    {
     "name": "stdout",
     "output_type": "stream",
     "text": [
      "---------------------------------\n",
      "Finished inserting vectors for <itmo>!\n",
      "---------------------------------\n"
     ]
    },
    {
     "name": "stderr",
     "output_type": "stream",
     "text": [
      "100%|██████████| 6/6 [00:04<00:00,  1.34it/s]\n"
     ]
    },
    {
     "name": "stdout",
     "output_type": "stream",
     "text": [
      "---------------------------------\n",
      "Finished inserting vectors for <itmo>!\n",
      "---------------------------------\n"
     ]
    },
    {
     "name": "stderr",
     "output_type": "stream",
     "text": [
      "100%|██████████| 3/3 [00:01<00:00,  1.57it/s]\n"
     ]
    },
    {
     "name": "stdout",
     "output_type": "stream",
     "text": [
      "---------------------------------\n",
      "Finished inserting vectors for <itmo>!\n",
      "---------------------------------\n"
     ]
    },
    {
     "name": "stderr",
     "output_type": "stream",
     "text": [
      "100%|██████████| 7/7 [00:10<00:00,  1.45s/it]\n"
     ]
    },
    {
     "name": "stdout",
     "output_type": "stream",
     "text": [
      "---------------------------------\n",
      "Finished inserting vectors for <itmo>!\n",
      "---------------------------------\n"
     ]
    },
    {
     "name": "stderr",
     "output_type": "stream",
     "text": [
      "100%|██████████| 3/3 [00:02<00:00,  1.28it/s]\n"
     ]
    },
    {
     "name": "stdout",
     "output_type": "stream",
     "text": [
      "---------------------------------\n",
      "Finished inserting vectors for <itmo>!\n",
      "---------------------------------\n"
     ]
    },
    {
     "name": "stderr",
     "output_type": "stream",
     "text": [
      "100%|██████████| 6/6 [00:05<00:00,  1.15it/s]\n"
     ]
    },
    {
     "name": "stdout",
     "output_type": "stream",
     "text": [
      "---------------------------------\n",
      "Finished inserting vectors for <itmo>!\n",
      "---------------------------------\n"
     ]
    },
    {
     "name": "stderr",
     "output_type": "stream",
     "text": [
      "100%|██████████| 7/7 [00:05<00:00,  1.34it/s]\n"
     ]
    },
    {
     "name": "stdout",
     "output_type": "stream",
     "text": [
      "---------------------------------\n",
      "Finished inserting vectors for <itmo>!\n",
      "---------------------------------\n"
     ]
    },
    {
     "name": "stderr",
     "output_type": "stream",
     "text": [
      "100%|██████████| 7/7 [00:05<00:00,  1.36it/s]\n"
     ]
    },
    {
     "name": "stdout",
     "output_type": "stream",
     "text": [
      "---------------------------------\n",
      "Finished inserting vectors for <itmo>!\n",
      "---------------------------------\n"
     ]
    },
    {
     "name": "stderr",
     "output_type": "stream",
     "text": [
      "100%|██████████| 5/5 [00:05<00:00,  1.01s/it]\n"
     ]
    },
    {
     "name": "stdout",
     "output_type": "stream",
     "text": [
      "---------------------------------\n",
      "Finished inserting vectors for <itmo>!\n",
      "---------------------------------\n"
     ]
    },
    {
     "name": "stderr",
     "output_type": "stream",
     "text": [
      "100%|██████████| 7/7 [00:05<00:00,  1.19it/s]\n"
     ]
    },
    {
     "name": "stdout",
     "output_type": "stream",
     "text": [
      "---------------------------------\n",
      "Finished inserting vectors for <itmo>!\n",
      "---------------------------------\n"
     ]
    },
    {
     "name": "stderr",
     "output_type": "stream",
     "text": [
      "100%|██████████| 7/7 [00:06<00:00,  1.13it/s]\n"
     ]
    },
    {
     "name": "stdout",
     "output_type": "stream",
     "text": [
      "---------------------------------\n",
      "Finished inserting vectors for <itmo>!\n",
      "---------------------------------\n"
     ]
    },
    {
     "name": "stderr",
     "output_type": "stream",
     "text": [
      "100%|██████████| 3/3 [00:02<00:00,  1.01it/s]\n"
     ]
    },
    {
     "name": "stdout",
     "output_type": "stream",
     "text": [
      "---------------------------------\n",
      "Finished inserting vectors for <itmo>!\n",
      "---------------------------------\n"
     ]
    },
    {
     "name": "stderr",
     "output_type": "stream",
     "text": [
      "100%|██████████| 3/3 [00:02<00:00,  1.31it/s]\n"
     ]
    },
    {
     "name": "stdout",
     "output_type": "stream",
     "text": [
      "---------------------------------\n",
      "Finished inserting vectors for <itmo>!\n",
      "---------------------------------\n"
     ]
    },
    {
     "name": "stderr",
     "output_type": "stream",
     "text": [
      "100%|██████████| 3/3 [00:03<00:00,  1.09s/it]\n"
     ]
    },
    {
     "name": "stdout",
     "output_type": "stream",
     "text": [
      "---------------------------------\n",
      "Finished inserting vectors for <itmo>!\n",
      "---------------------------------\n"
     ]
    },
    {
     "name": "stderr",
     "output_type": "stream",
     "text": [
      "100%|██████████| 3/3 [00:03<00:00,  1.10s/it]\n"
     ]
    },
    {
     "name": "stdout",
     "output_type": "stream",
     "text": [
      "---------------------------------\n",
      "Finished inserting vectors for <itmo>!\n",
      "---------------------------------\n"
     ]
    },
    {
     "name": "stderr",
     "output_type": "stream",
     "text": [
      "100%|██████████| 3/3 [00:02<00:00,  1.13it/s]\n"
     ]
    },
    {
     "name": "stdout",
     "output_type": "stream",
     "text": [
      "---------------------------------\n",
      "Finished inserting vectors for <itmo>!\n",
      "---------------------------------\n"
     ]
    },
    {
     "name": "stderr",
     "output_type": "stream",
     "text": [
      "100%|██████████| 3/3 [00:02<00:00,  1.22it/s]\n"
     ]
    },
    {
     "name": "stdout",
     "output_type": "stream",
     "text": [
      "---------------------------------\n",
      "Finished inserting vectors for <itmo>!\n",
      "---------------------------------\n"
     ]
    },
    {
     "name": "stderr",
     "output_type": "stream",
     "text": [
      "100%|██████████| 4/4 [00:06<00:00,  1.52s/it]\n"
     ]
    },
    {
     "name": "stdout",
     "output_type": "stream",
     "text": [
      "---------------------------------\n",
      "Finished inserting vectors for <itmo>!\n",
      "---------------------------------\n"
     ]
    },
    {
     "name": "stderr",
     "output_type": "stream",
     "text": [
      "100%|██████████| 5/5 [00:04<00:00,  1.03it/s]\n"
     ]
    },
    {
     "name": "stdout",
     "output_type": "stream",
     "text": [
      "---------------------------------\n",
      "Finished inserting vectors for <itmo>!\n",
      "---------------------------------\n"
     ]
    },
    {
     "name": "stderr",
     "output_type": "stream",
     "text": [
      "100%|██████████| 3/3 [00:02<00:00,  1.02it/s]\n"
     ]
    },
    {
     "name": "stdout",
     "output_type": "stream",
     "text": [
      "---------------------------------\n",
      "Finished inserting vectors for <itmo>!\n",
      "---------------------------------\n"
     ]
    },
    {
     "name": "stderr",
     "output_type": "stream",
     "text": [
      "100%|██████████| 3/3 [00:02<00:00,  1.27it/s]\n"
     ]
    },
    {
     "name": "stdout",
     "output_type": "stream",
     "text": [
      "---------------------------------\n",
      "Finished inserting vectors for <itmo>!\n",
      "---------------------------------\n"
     ]
    },
    {
     "name": "stderr",
     "output_type": "stream",
     "text": [
      "100%|██████████| 3/3 [00:02<00:00,  1.18it/s]\n"
     ]
    },
    {
     "name": "stdout",
     "output_type": "stream",
     "text": [
      "---------------------------------\n",
      "Finished inserting vectors for <itmo>!\n",
      "---------------------------------\n"
     ]
    },
    {
     "name": "stderr",
     "output_type": "stream",
     "text": [
      "100%|██████████| 3/3 [00:03<00:00,  1.04s/it]\n"
     ]
    },
    {
     "name": "stdout",
     "output_type": "stream",
     "text": [
      "---------------------------------\n",
      "Finished inserting vectors for <itmo>!\n",
      "---------------------------------\n"
     ]
    },
    {
     "name": "stderr",
     "output_type": "stream",
     "text": [
      "100%|██████████| 3/3 [00:02<00:00,  1.32it/s]\n"
     ]
    },
    {
     "name": "stdout",
     "output_type": "stream",
     "text": [
      "---------------------------------\n",
      "Finished inserting vectors for <itmo>!\n",
      "---------------------------------\n"
     ]
    },
    {
     "name": "stderr",
     "output_type": "stream",
     "text": [
      "100%|██████████| 6/6 [00:06<00:00,  1.15s/it]\n"
     ]
    },
    {
     "name": "stdout",
     "output_type": "stream",
     "text": [
      "---------------------------------\n",
      "Finished inserting vectors for <itmo>!\n",
      "---------------------------------\n"
     ]
    },
    {
     "name": "stderr",
     "output_type": "stream",
     "text": [
      "100%|██████████| 3/3 [00:02<00:00,  1.04it/s]\n"
     ]
    },
    {
     "name": "stdout",
     "output_type": "stream",
     "text": [
      "---------------------------------\n",
      "Finished inserting vectors for <itmo>!\n",
      "---------------------------------\n"
     ]
    },
    {
     "name": "stderr",
     "output_type": "stream",
     "text": [
      "100%|██████████| 3/3 [00:02<00:00,  1.09it/s]\n"
     ]
    },
    {
     "name": "stdout",
     "output_type": "stream",
     "text": [
      "---------------------------------\n",
      "Finished inserting vectors for <itmo>!\n",
      "---------------------------------\n"
     ]
    },
    {
     "name": "stderr",
     "output_type": "stream",
     "text": [
      "100%|██████████| 3/3 [00:02<00:00,  1.25it/s]\n"
     ]
    },
    {
     "name": "stdout",
     "output_type": "stream",
     "text": [
      "---------------------------------\n",
      "Finished inserting vectors for <itmo>!\n",
      "---------------------------------\n"
     ]
    },
    {
     "name": "stderr",
     "output_type": "stream",
     "text": [
      "100%|██████████| 3/3 [00:02<00:00,  1.31it/s]\n"
     ]
    },
    {
     "name": "stdout",
     "output_type": "stream",
     "text": [
      "---------------------------------\n",
      "Finished inserting vectors for <itmo>!\n",
      "---------------------------------\n"
     ]
    },
    {
     "name": "stderr",
     "output_type": "stream",
     "text": [
      "100%|██████████| 5/5 [00:07<00:00,  1.48s/it]\n"
     ]
    },
    {
     "name": "stdout",
     "output_type": "stream",
     "text": [
      "---------------------------------\n",
      "Finished inserting vectors for <itmo>!\n",
      "---------------------------------\n"
     ]
    },
    {
     "name": "stderr",
     "output_type": "stream",
     "text": [
      "100%|██████████| 3/3 [00:03<00:00,  1.02s/it]\n"
     ]
    },
    {
     "name": "stdout",
     "output_type": "stream",
     "text": [
      "---------------------------------\n",
      "Finished inserting vectors for <itmo>!\n",
      "---------------------------------\n"
     ]
    },
    {
     "name": "stderr",
     "output_type": "stream",
     "text": [
      "100%|██████████| 3/3 [00:02<00:00,  1.04it/s]\n"
     ]
    },
    {
     "name": "stdout",
     "output_type": "stream",
     "text": [
      "---------------------------------\n",
      "Finished inserting vectors for <itmo>!\n",
      "---------------------------------\n"
     ]
    },
    {
     "name": "stderr",
     "output_type": "stream",
     "text": [
      "100%|██████████| 5/5 [00:04<00:00,  1.16it/s]\n"
     ]
    },
    {
     "name": "stdout",
     "output_type": "stream",
     "text": [
      "---------------------------------\n",
      "Finished inserting vectors for <itmo>!\n",
      "---------------------------------\n"
     ]
    },
    {
     "name": "stderr",
     "output_type": "stream",
     "text": [
      "100%|██████████| 4/4 [00:03<00:00,  1.22it/s]\n"
     ]
    },
    {
     "name": "stdout",
     "output_type": "stream",
     "text": [
      "---------------------------------\n",
      "Finished inserting vectors for <itmo>!\n",
      "---------------------------------\n"
     ]
    },
    {
     "name": "stderr",
     "output_type": "stream",
     "text": [
      "100%|██████████| 4/4 [00:03<00:00,  1.12it/s]\n"
     ]
    },
    {
     "name": "stdout",
     "output_type": "stream",
     "text": [
      "---------------------------------\n",
      "Finished inserting vectors for <itmo>!\n",
      "---------------------------------\n"
     ]
    },
    {
     "name": "stderr",
     "output_type": "stream",
     "text": [
      "100%|██████████| 5/5 [00:04<00:00,  1.22it/s]\n"
     ]
    },
    {
     "name": "stdout",
     "output_type": "stream",
     "text": [
      "---------------------------------\n",
      "Finished inserting vectors for <itmo>!\n",
      "---------------------------------\n"
     ]
    },
    {
     "name": "stderr",
     "output_type": "stream",
     "text": [
      "100%|██████████| 8/8 [00:06<00:00,  1.19it/s]\n"
     ]
    },
    {
     "name": "stdout",
     "output_type": "stream",
     "text": [
      "---------------------------------\n",
      "Finished inserting vectors for <itmo>!\n",
      "---------------------------------\n"
     ]
    },
    {
     "name": "stderr",
     "output_type": "stream",
     "text": [
      "100%|██████████| 7/7 [00:09<00:00,  1.33s/it]\n"
     ]
    },
    {
     "name": "stdout",
     "output_type": "stream",
     "text": [
      "---------------------------------\n",
      "Finished inserting vectors for <itmo>!\n",
      "---------------------------------\n"
     ]
    },
    {
     "name": "stderr",
     "output_type": "stream",
     "text": [
      "100%|██████████| 6/6 [00:04<00:00,  1.22it/s]\n"
     ]
    },
    {
     "name": "stdout",
     "output_type": "stream",
     "text": [
      "---------------------------------\n",
      "Finished inserting vectors for <itmo>!\n",
      "---------------------------------\n"
     ]
    },
    {
     "name": "stderr",
     "output_type": "stream",
     "text": [
      "100%|██████████| 3/3 [00:02<00:00,  1.22it/s]\n"
     ]
    },
    {
     "name": "stdout",
     "output_type": "stream",
     "text": [
      "---------------------------------\n",
      "Finished inserting vectors for <itmo>!\n",
      "---------------------------------\n"
     ]
    },
    {
     "name": "stderr",
     "output_type": "stream",
     "text": [
      "100%|██████████| 7/7 [00:05<00:00,  1.31it/s]\n"
     ]
    },
    {
     "name": "stdout",
     "output_type": "stream",
     "text": [
      "---------------------------------\n",
      "Finished inserting vectors for <itmo>!\n",
      "---------------------------------\n"
     ]
    },
    {
     "name": "stderr",
     "output_type": "stream",
     "text": [
      "100%|██████████| 5/5 [00:04<00:00,  1.14it/s]\n"
     ]
    },
    {
     "name": "stdout",
     "output_type": "stream",
     "text": [
      "---------------------------------\n",
      "Finished inserting vectors for <itmo>!\n",
      "---------------------------------\n"
     ]
    },
    {
     "name": "stderr",
     "output_type": "stream",
     "text": [
      "100%|██████████| 3/3 [00:02<00:00,  1.06it/s]\n"
     ]
    },
    {
     "name": "stdout",
     "output_type": "stream",
     "text": [
      "---------------------------------\n",
      "Finished inserting vectors for <itmo>!\n",
      "---------------------------------\n"
     ]
    },
    {
     "name": "stderr",
     "output_type": "stream",
     "text": [
      "100%|██████████| 3/3 [00:02<00:00,  1.03it/s]\n"
     ]
    },
    {
     "name": "stdout",
     "output_type": "stream",
     "text": [
      "---------------------------------\n",
      "Finished inserting vectors for <itmo>!\n",
      "---------------------------------\n"
     ]
    },
    {
     "name": "stderr",
     "output_type": "stream",
     "text": [
      "100%|██████████| 4/4 [00:08<00:00,  2.01s/it]\n"
     ]
    },
    {
     "name": "stdout",
     "output_type": "stream",
     "text": [
      "---------------------------------\n",
      "Finished inserting vectors for <itmo>!\n",
      "---------------------------------\n"
     ]
    },
    {
     "name": "stderr",
     "output_type": "stream",
     "text": [
      "100%|██████████| 3/3 [00:02<00:00,  1.44it/s]\n"
     ]
    },
    {
     "name": "stdout",
     "output_type": "stream",
     "text": [
      "---------------------------------\n",
      "Finished inserting vectors for <itmo>!\n",
      "---------------------------------\n"
     ]
    },
    {
     "name": "stderr",
     "output_type": "stream",
     "text": [
      "100%|██████████| 3/3 [00:06<00:00,  2.17s/it]\n"
     ]
    },
    {
     "name": "stdout",
     "output_type": "stream",
     "text": [
      "---------------------------------\n",
      "Finished inserting vectors for <itmo>!\n",
      "---------------------------------\n"
     ]
    },
    {
     "name": "stderr",
     "output_type": "stream",
     "text": [
      "100%|██████████| 3/3 [00:02<00:00,  1.20it/s]\n"
     ]
    },
    {
     "name": "stdout",
     "output_type": "stream",
     "text": [
      "---------------------------------\n",
      "Finished inserting vectors for <itmo>!\n",
      "---------------------------------\n"
     ]
    },
    {
     "name": "stderr",
     "output_type": "stream",
     "text": [
      "100%|██████████| 3/3 [00:02<00:00,  1.05it/s]\n"
     ]
    },
    {
     "name": "stdout",
     "output_type": "stream",
     "text": [
      "---------------------------------\n",
      "Finished inserting vectors for <itmo>!\n",
      "---------------------------------\n"
     ]
    },
    {
     "name": "stderr",
     "output_type": "stream",
     "text": [
      "100%|██████████| 3/3 [00:02<00:00,  1.16it/s]\n"
     ]
    },
    {
     "name": "stdout",
     "output_type": "stream",
     "text": [
      "---------------------------------\n",
      "Finished inserting vectors for <itmo>!\n",
      "---------------------------------\n"
     ]
    },
    {
     "name": "stderr",
     "output_type": "stream",
     "text": [
      "100%|██████████| 3/3 [00:02<00:00,  1.05it/s]\n"
     ]
    },
    {
     "name": "stdout",
     "output_type": "stream",
     "text": [
      "---------------------------------\n",
      "Finished inserting vectors for <itmo>!\n",
      "---------------------------------\n"
     ]
    },
    {
     "name": "stderr",
     "output_type": "stream",
     "text": [
      "100%|██████████| 3/3 [00:02<00:00,  1.20it/s]\n"
     ]
    },
    {
     "name": "stdout",
     "output_type": "stream",
     "text": [
      "---------------------------------\n",
      "Finished inserting vectors for <itmo>!\n",
      "---------------------------------\n"
     ]
    },
    {
     "name": "stderr",
     "output_type": "stream",
     "text": [
      "100%|██████████| 3/3 [00:02<00:00,  1.25it/s]\n"
     ]
    },
    {
     "name": "stdout",
     "output_type": "stream",
     "text": [
      "---------------------------------\n",
      "Finished inserting vectors for <itmo>!\n",
      "---------------------------------\n"
     ]
    },
    {
     "name": "stderr",
     "output_type": "stream",
     "text": [
      "100%|██████████| 3/3 [00:02<00:00,  1.12it/s]\n"
     ]
    },
    {
     "name": "stdout",
     "output_type": "stream",
     "text": [
      "---------------------------------\n",
      "Finished inserting vectors for <itmo>!\n",
      "---------------------------------\n"
     ]
    },
    {
     "name": "stderr",
     "output_type": "stream",
     "text": [
      "100%|██████████| 3/3 [00:03<00:00,  1.03s/it]\n"
     ]
    },
    {
     "name": "stdout",
     "output_type": "stream",
     "text": [
      "---------------------------------\n",
      "Finished inserting vectors for <itmo>!\n",
      "---------------------------------\n"
     ]
    },
    {
     "name": "stderr",
     "output_type": "stream",
     "text": [
      "100%|██████████| 4/4 [00:04<00:00,  1.05s/it]\n"
     ]
    },
    {
     "name": "stdout",
     "output_type": "stream",
     "text": [
      "---------------------------------\n",
      "Finished inserting vectors for <itmo>!\n",
      "---------------------------------\n"
     ]
    },
    {
     "name": "stderr",
     "output_type": "stream",
     "text": [
      "100%|██████████| 3/3 [00:02<00:00,  1.28it/s]\n"
     ]
    },
    {
     "name": "stdout",
     "output_type": "stream",
     "text": [
      "---------------------------------\n",
      "Finished inserting vectors for <itmo>!\n",
      "---------------------------------\n"
     ]
    },
    {
     "name": "stderr",
     "output_type": "stream",
     "text": [
      "100%|██████████| 3/3 [00:02<00:00,  1.19it/s]\n"
     ]
    },
    {
     "name": "stdout",
     "output_type": "stream",
     "text": [
      "---------------------------------\n",
      "Finished inserting vectors for <itmo>!\n",
      "---------------------------------\n"
     ]
    },
    {
     "name": "stderr",
     "output_type": "stream",
     "text": [
      "100%|██████████| 3/3 [00:02<00:00,  1.11it/s]\n"
     ]
    },
    {
     "name": "stdout",
     "output_type": "stream",
     "text": [
      "---------------------------------\n",
      "Finished inserting vectors for <itmo>!\n",
      "---------------------------------\n"
     ]
    },
    {
     "name": "stderr",
     "output_type": "stream",
     "text": [
      "100%|██████████| 3/3 [00:02<00:00,  1.21it/s]\n"
     ]
    },
    {
     "name": "stdout",
     "output_type": "stream",
     "text": [
      "---------------------------------\n",
      "Finished inserting vectors for <itmo>!\n",
      "---------------------------------\n"
     ]
    },
    {
     "name": "stderr",
     "output_type": "stream",
     "text": [
      "100%|██████████| 4/4 [00:03<00:00,  1.30it/s]\n"
     ]
    },
    {
     "name": "stdout",
     "output_type": "stream",
     "text": [
      "---------------------------------\n",
      "Finished inserting vectors for <itmo>!\n",
      "---------------------------------\n"
     ]
    },
    {
     "name": "stderr",
     "output_type": "stream",
     "text": [
      "100%|██████████| 3/3 [00:02<00:00,  1.10it/s]\n"
     ]
    },
    {
     "name": "stdout",
     "output_type": "stream",
     "text": [
      "---------------------------------\n",
      "Finished inserting vectors for <itmo>!\n",
      "---------------------------------\n"
     ]
    },
    {
     "name": "stderr",
     "output_type": "stream",
     "text": [
      "100%|██████████| 3/3 [00:05<00:00,  1.72s/it]\n"
     ]
    },
    {
     "name": "stdout",
     "output_type": "stream",
     "text": [
      "---------------------------------\n",
      "Finished inserting vectors for <itmo>!\n",
      "---------------------------------\n"
     ]
    },
    {
     "name": "stderr",
     "output_type": "stream",
     "text": [
      "100%|██████████| 3/3 [00:03<00:00,  1.06s/it]\n"
     ]
    },
    {
     "name": "stdout",
     "output_type": "stream",
     "text": [
      "---------------------------------\n",
      "Finished inserting vectors for <itmo>!\n",
      "---------------------------------\n"
     ]
    },
    {
     "name": "stderr",
     "output_type": "stream",
     "text": [
      "100%|██████████| 7/7 [00:07<00:00,  1.06s/it]\n"
     ]
    },
    {
     "name": "stdout",
     "output_type": "stream",
     "text": [
      "---------------------------------\n",
      "Finished inserting vectors for <itmo>!\n",
      "---------------------------------\n"
     ]
    },
    {
     "name": "stderr",
     "output_type": "stream",
     "text": [
      "100%|██████████| 4/4 [00:03<00:00,  1.20it/s]\n"
     ]
    },
    {
     "name": "stdout",
     "output_type": "stream",
     "text": [
      "---------------------------------\n",
      "Finished inserting vectors for <itmo>!\n",
      "---------------------------------\n"
     ]
    },
    {
     "name": "stderr",
     "output_type": "stream",
     "text": [
      "100%|██████████| 4/4 [00:04<00:00,  1.16s/it]\n"
     ]
    },
    {
     "name": "stdout",
     "output_type": "stream",
     "text": [
      "---------------------------------\n",
      "Finished inserting vectors for <itmo>!\n",
      "---------------------------------\n"
     ]
    },
    {
     "name": "stderr",
     "output_type": "stream",
     "text": [
      "100%|██████████| 3/3 [00:02<00:00,  1.13it/s]\n"
     ]
    },
    {
     "name": "stdout",
     "output_type": "stream",
     "text": [
      "---------------------------------\n",
      "Finished inserting vectors for <itmo>!\n",
      "---------------------------------\n"
     ]
    },
    {
     "name": "stderr",
     "output_type": "stream",
     "text": [
      "100%|██████████| 4/4 [00:03<00:00,  1.12it/s]\n"
     ]
    },
    {
     "name": "stdout",
     "output_type": "stream",
     "text": [
      "---------------------------------\n",
      "Finished inserting vectors for <itmo>!\n",
      "---------------------------------\n"
     ]
    },
    {
     "name": "stderr",
     "output_type": "stream",
     "text": [
      "100%|██████████| 4/4 [00:04<00:00,  1.13s/it]\n"
     ]
    },
    {
     "name": "stdout",
     "output_type": "stream",
     "text": [
      "---------------------------------\n",
      "Finished inserting vectors for <itmo>!\n",
      "---------------------------------\n"
     ]
    },
    {
     "name": "stderr",
     "output_type": "stream",
     "text": [
      "100%|██████████| 3/3 [00:02<00:00,  1.38it/s]\n"
     ]
    },
    {
     "name": "stdout",
     "output_type": "stream",
     "text": [
      "---------------------------------\n",
      "Finished inserting vectors for <itmo>!\n",
      "---------------------------------\n"
     ]
    },
    {
     "name": "stderr",
     "output_type": "stream",
     "text": [
      "100%|██████████| 3/3 [00:02<00:00,  1.28it/s]\n"
     ]
    },
    {
     "name": "stdout",
     "output_type": "stream",
     "text": [
      "---------------------------------\n",
      "Finished inserting vectors for <itmo>!\n",
      "---------------------------------\n"
     ]
    },
    {
     "name": "stderr",
     "output_type": "stream",
     "text": [
      "100%|██████████| 4/4 [00:03<00:00,  1.09it/s]\n"
     ]
    },
    {
     "name": "stdout",
     "output_type": "stream",
     "text": [
      "---------------------------------\n",
      "Finished inserting vectors for <itmo>!\n",
      "---------------------------------\n"
     ]
    },
    {
     "name": "stderr",
     "output_type": "stream",
     "text": [
      "100%|██████████| 4/4 [00:03<00:00,  1.19it/s]\n"
     ]
    },
    {
     "name": "stdout",
     "output_type": "stream",
     "text": [
      "---------------------------------\n",
      "Finished inserting vectors for <itmo>!\n",
      "---------------------------------\n"
     ]
    },
    {
     "name": "stderr",
     "output_type": "stream",
     "text": [
      "100%|██████████| 1/1 [00:00<00:00,  1.36it/s]\n"
     ]
    },
    {
     "name": "stdout",
     "output_type": "stream",
     "text": [
      "---------------------------------\n",
      "Finished inserting vectors for <itmo>!\n",
      "---------------------------------\n"
     ]
    },
    {
     "name": "stderr",
     "output_type": "stream",
     "text": [
      "100%|██████████| 1/1 [00:00<00:00,  1.18it/s]\n"
     ]
    },
    {
     "name": "stdout",
     "output_type": "stream",
     "text": [
      "---------------------------------\n",
      "Finished inserting vectors for <itmo>!\n",
      "---------------------------------\n"
     ]
    },
    {
     "name": "stderr",
     "output_type": "stream",
     "text": [
      "100%|██████████| 1/1 [00:00<00:00,  1.08it/s]\n"
     ]
    },
    {
     "name": "stdout",
     "output_type": "stream",
     "text": [
      "---------------------------------\n",
      "Finished inserting vectors for <itmo>!\n",
      "---------------------------------\n"
     ]
    },
    {
     "name": "stderr",
     "output_type": "stream",
     "text": [
      "100%|██████████| 1/1 [00:00<00:00,  1.33it/s]\n"
     ]
    },
    {
     "name": "stdout",
     "output_type": "stream",
     "text": [
      "---------------------------------\n",
      "Finished inserting vectors for <itmo>!\n",
      "---------------------------------\n"
     ]
    },
    {
     "name": "stderr",
     "output_type": "stream",
     "text": [
      "100%|██████████| 1/1 [00:01<00:00,  1.05s/it]\n"
     ]
    },
    {
     "name": "stdout",
     "output_type": "stream",
     "text": [
      "---------------------------------\n",
      "Finished inserting vectors for <itmo>!\n",
      "---------------------------------\n"
     ]
    },
    {
     "name": "stderr",
     "output_type": "stream",
     "text": [
      "100%|██████████| 1/1 [00:00<00:00,  1.27it/s]\n"
     ]
    },
    {
     "name": "stdout",
     "output_type": "stream",
     "text": [
      "---------------------------------\n",
      "Finished inserting vectors for <itmo>!\n",
      "---------------------------------\n"
     ]
    },
    {
     "name": "stderr",
     "output_type": "stream",
     "text": [
      "100%|██████████| 5/5 [00:04<00:00,  1.09it/s]\n"
     ]
    },
    {
     "name": "stdout",
     "output_type": "stream",
     "text": [
      "---------------------------------\n",
      "Finished inserting vectors for <itmo>!\n",
      "---------------------------------\n"
     ]
    },
    {
     "name": "stderr",
     "output_type": "stream",
     "text": [
      "100%|██████████| 2/2 [00:01<00:00,  1.05it/s]\n"
     ]
    },
    {
     "name": "stdout",
     "output_type": "stream",
     "text": [
      "---------------------------------\n",
      "Finished inserting vectors for <itmo>!\n",
      "---------------------------------\n"
     ]
    },
    {
     "name": "stderr",
     "output_type": "stream",
     "text": [
      "100%|██████████| 2/2 [00:02<00:00,  1.32s/it]\n"
     ]
    },
    {
     "name": "stdout",
     "output_type": "stream",
     "text": [
      "---------------------------------\n",
      "Finished inserting vectors for <itmo>!\n",
      "---------------------------------\n"
     ]
    },
    {
     "name": "stderr",
     "output_type": "stream",
     "text": [
      "100%|██████████| 2/2 [00:01<00:00,  1.00it/s]\n"
     ]
    },
    {
     "name": "stdout",
     "output_type": "stream",
     "text": [
      "---------------------------------\n",
      "Finished inserting vectors for <itmo>!\n",
      "---------------------------------\n"
     ]
    },
    {
     "name": "stderr",
     "output_type": "stream",
     "text": [
      "100%|██████████| 4/4 [00:03<00:00,  1.19it/s]\n"
     ]
    },
    {
     "name": "stdout",
     "output_type": "stream",
     "text": [
      "---------------------------------\n",
      "Finished inserting vectors for <itmo>!\n",
      "---------------------------------\n"
     ]
    },
    {
     "name": "stderr",
     "output_type": "stream",
     "text": [
      "100%|██████████| 3/3 [00:03<00:00,  1.30s/it]\n"
     ]
    },
    {
     "name": "stdout",
     "output_type": "stream",
     "text": [
      "---------------------------------\n",
      "Finished inserting vectors for <itmo>!\n",
      "---------------------------------\n"
     ]
    },
    {
     "name": "stderr",
     "output_type": "stream",
     "text": [
      "100%|██████████| 2/2 [00:05<00:00,  2.53s/it]\n"
     ]
    },
    {
     "name": "stdout",
     "output_type": "stream",
     "text": [
      "---------------------------------\n",
      "Finished inserting vectors for <itmo>!\n",
      "---------------------------------\n"
     ]
    },
    {
     "name": "stderr",
     "output_type": "stream",
     "text": [
      "100%|██████████| 2/2 [00:01<00:00,  1.23it/s]\n"
     ]
    },
    {
     "name": "stdout",
     "output_type": "stream",
     "text": [
      "---------------------------------\n",
      "Finished inserting vectors for <itmo>!\n",
      "---------------------------------\n"
     ]
    },
    {
     "name": "stderr",
     "output_type": "stream",
     "text": [
      "100%|██████████| 2/2 [00:01<00:00,  1.24it/s]\n"
     ]
    },
    {
     "name": "stdout",
     "output_type": "stream",
     "text": [
      "---------------------------------\n",
      "Finished inserting vectors for <itmo>!\n",
      "---------------------------------\n"
     ]
    },
    {
     "name": "stderr",
     "output_type": "stream",
     "text": [
      "100%|██████████| 5/5 [00:03<00:00,  1.29it/s]\n"
     ]
    },
    {
     "name": "stdout",
     "output_type": "stream",
     "text": [
      "---------------------------------\n",
      "Finished inserting vectors for <itmo>!\n",
      "---------------------------------\n"
     ]
    },
    {
     "name": "stderr",
     "output_type": "stream",
     "text": [
      "100%|██████████| 5/5 [00:04<00:00,  1.24it/s]\n"
     ]
    },
    {
     "name": "stdout",
     "output_type": "stream",
     "text": [
      "---------------------------------\n",
      "Finished inserting vectors for <itmo>!\n",
      "---------------------------------\n"
     ]
    },
    {
     "name": "stderr",
     "output_type": "stream",
     "text": [
      "100%|██████████| 5/5 [00:05<00:00,  1.07s/it]\n"
     ]
    },
    {
     "name": "stdout",
     "output_type": "stream",
     "text": [
      "---------------------------------\n",
      "Finished inserting vectors for <itmo>!\n",
      "---------------------------------\n"
     ]
    },
    {
     "name": "stderr",
     "output_type": "stream",
     "text": [
      "100%|██████████| 5/5 [00:05<00:00,  1.11s/it]\n"
     ]
    },
    {
     "name": "stdout",
     "output_type": "stream",
     "text": [
      "---------------------------------\n",
      "Finished inserting vectors for <itmo>!\n",
      "---------------------------------\n"
     ]
    },
    {
     "name": "stderr",
     "output_type": "stream",
     "text": [
      "100%|██████████| 4/4 [00:02<00:00,  1.33it/s]\n"
     ]
    },
    {
     "name": "stdout",
     "output_type": "stream",
     "text": [
      "---------------------------------\n",
      "Finished inserting vectors for <itmo>!\n",
      "---------------------------------\n"
     ]
    },
    {
     "name": "stderr",
     "output_type": "stream",
     "text": [
      "100%|██████████| 5/5 [00:04<00:00,  1.14it/s]\n"
     ]
    },
    {
     "name": "stdout",
     "output_type": "stream",
     "text": [
      "---------------------------------\n",
      "Finished inserting vectors for <itmo>!\n",
      "---------------------------------\n"
     ]
    },
    {
     "name": "stderr",
     "output_type": "stream",
     "text": [
      "100%|██████████| 7/7 [00:06<00:00,  1.12it/s]\n"
     ]
    },
    {
     "name": "stdout",
     "output_type": "stream",
     "text": [
      "---------------------------------\n",
      "Finished inserting vectors for <itmo>!\n",
      "---------------------------------\n"
     ]
    },
    {
     "name": "stderr",
     "output_type": "stream",
     "text": [
      "100%|██████████| 8/8 [00:12<00:00,  1.50s/it]\n"
     ]
    },
    {
     "name": "stdout",
     "output_type": "stream",
     "text": [
      "---------------------------------\n",
      "Finished inserting vectors for <itmo>!\n",
      "---------------------------------\n"
     ]
    },
    {
     "name": "stderr",
     "output_type": "stream",
     "text": [
      "100%|██████████| 5/5 [00:03<00:00,  1.26it/s]\n"
     ]
    },
    {
     "name": "stdout",
     "output_type": "stream",
     "text": [
      "---------------------------------\n",
      "Finished inserting vectors for <itmo>!\n",
      "---------------------------------\n"
     ]
    },
    {
     "name": "stderr",
     "output_type": "stream",
     "text": [
      "100%|██████████| 5/5 [00:05<00:00,  1.04s/it]\n"
     ]
    },
    {
     "name": "stdout",
     "output_type": "stream",
     "text": [
      "---------------------------------\n",
      "Finished inserting vectors for <itmo>!\n",
      "---------------------------------\n"
     ]
    },
    {
     "name": "stderr",
     "output_type": "stream",
     "text": [
      "100%|██████████| 5/5 [00:05<00:00,  1.04s/it]\n"
     ]
    },
    {
     "name": "stdout",
     "output_type": "stream",
     "text": [
      "---------------------------------\n",
      "Finished inserting vectors for <itmo>!\n",
      "---------------------------------\n"
     ]
    },
    {
     "name": "stderr",
     "output_type": "stream",
     "text": [
      "100%|██████████| 5/5 [00:04<00:00,  1.09it/s]\n"
     ]
    },
    {
     "name": "stdout",
     "output_type": "stream",
     "text": [
      "---------------------------------\n",
      "Finished inserting vectors for <itmo>!\n",
      "---------------------------------\n"
     ]
    },
    {
     "name": "stderr",
     "output_type": "stream",
     "text": [
      "100%|██████████| 4/4 [00:05<00:00,  1.48s/it]\n"
     ]
    },
    {
     "name": "stdout",
     "output_type": "stream",
     "text": [
      "---------------------------------\n",
      "Finished inserting vectors for <itmo>!\n",
      "---------------------------------\n"
     ]
    },
    {
     "name": "stderr",
     "output_type": "stream",
     "text": [
      "100%|██████████| 10/10 [00:08<00:00,  1.11it/s]\n"
     ]
    },
    {
     "name": "stdout",
     "output_type": "stream",
     "text": [
      "---------------------------------\n",
      "Finished inserting vectors for <itmo>!\n",
      "---------------------------------\n"
     ]
    },
    {
     "name": "stderr",
     "output_type": "stream",
     "text": [
      "100%|██████████| 4/4 [00:03<00:00,  1.20it/s]\n"
     ]
    },
    {
     "name": "stdout",
     "output_type": "stream",
     "text": [
      "---------------------------------\n",
      "Finished inserting vectors for <itmo>!\n",
      "---------------------------------\n"
     ]
    },
    {
     "name": "stderr",
     "output_type": "stream",
     "text": [
      "100%|██████████| 5/5 [00:04<00:00,  1.11it/s]\n"
     ]
    },
    {
     "name": "stdout",
     "output_type": "stream",
     "text": [
      "---------------------------------\n",
      "Finished inserting vectors for <itmo>!\n",
      "---------------------------------\n"
     ]
    },
    {
     "name": "stderr",
     "output_type": "stream",
     "text": [
      "100%|██████████| 5/5 [00:15<00:00,  3.17s/it]\n"
     ]
    },
    {
     "name": "stdout",
     "output_type": "stream",
     "text": [
      "---------------------------------\n",
      "Finished inserting vectors for <itmo>!\n",
      "---------------------------------\n"
     ]
    },
    {
     "name": "stderr",
     "output_type": "stream",
     "text": [
      "100%|██████████| 5/5 [00:07<00:00,  1.51s/it]\n"
     ]
    },
    {
     "name": "stdout",
     "output_type": "stream",
     "text": [
      "---------------------------------\n",
      "Finished inserting vectors for <itmo>!\n",
      "---------------------------------\n"
     ]
    },
    {
     "name": "stderr",
     "output_type": "stream",
     "text": [
      "100%|██████████| 3/3 [00:02<00:00,  1.15it/s]\n"
     ]
    },
    {
     "name": "stdout",
     "output_type": "stream",
     "text": [
      "---------------------------------\n",
      "Finished inserting vectors for <itmo>!\n",
      "---------------------------------\n"
     ]
    },
    {
     "name": "stderr",
     "output_type": "stream",
     "text": [
      "100%|██████████| 3/3 [00:02<00:00,  1.04it/s]\n"
     ]
    },
    {
     "name": "stdout",
     "output_type": "stream",
     "text": [
      "---------------------------------\n",
      "Finished inserting vectors for <itmo>!\n",
      "---------------------------------\n"
     ]
    },
    {
     "name": "stderr",
     "output_type": "stream",
     "text": [
      "100%|██████████| 4/4 [00:02<00:00,  1.35it/s]\n"
     ]
    },
    {
     "name": "stdout",
     "output_type": "stream",
     "text": [
      "---------------------------------\n",
      "Finished inserting vectors for <itmo>!\n",
      "---------------------------------\n"
     ]
    },
    {
     "name": "stderr",
     "output_type": "stream",
     "text": [
      "100%|██████████| 3/3 [00:02<00:00,  1.41it/s]\n"
     ]
    },
    {
     "name": "stdout",
     "output_type": "stream",
     "text": [
      "---------------------------------\n",
      "Finished inserting vectors for <itmo>!\n",
      "---------------------------------\n"
     ]
    },
    {
     "name": "stderr",
     "output_type": "stream",
     "text": [
      "100%|██████████| 3/3 [00:02<00:00,  1.12it/s]\n"
     ]
    },
    {
     "name": "stdout",
     "output_type": "stream",
     "text": [
      "---------------------------------\n",
      "Finished inserting vectors for <itmo>!\n",
      "---------------------------------\n"
     ]
    },
    {
     "name": "stderr",
     "output_type": "stream",
     "text": [
      "100%|██████████| 4/4 [00:04<00:00,  1.13s/it]\n"
     ]
    },
    {
     "name": "stdout",
     "output_type": "stream",
     "text": [
      "---------------------------------\n",
      "Finished inserting vectors for <itmo>!\n",
      "---------------------------------\n"
     ]
    },
    {
     "name": "stderr",
     "output_type": "stream",
     "text": [
      "100%|██████████| 5/5 [00:04<00:00,  1.09it/s]\n"
     ]
    },
    {
     "name": "stdout",
     "output_type": "stream",
     "text": [
      "---------------------------------\n",
      "Finished inserting vectors for <itmo>!\n",
      "---------------------------------\n"
     ]
    },
    {
     "name": "stderr",
     "output_type": "stream",
     "text": [
      "100%|██████████| 3/3 [00:02<00:00,  1.45it/s]\n"
     ]
    },
    {
     "name": "stdout",
     "output_type": "stream",
     "text": [
      "---------------------------------\n",
      "Finished inserting vectors for <itmo>!\n",
      "---------------------------------\n"
     ]
    },
    {
     "name": "stderr",
     "output_type": "stream",
     "text": [
      "100%|██████████| 5/5 [00:04<00:00,  1.21it/s]\n"
     ]
    },
    {
     "name": "stdout",
     "output_type": "stream",
     "text": [
      "---------------------------------\n",
      "Finished inserting vectors for <itmo>!\n",
      "---------------------------------\n"
     ]
    },
    {
     "name": "stderr",
     "output_type": "stream",
     "text": [
      "100%|██████████| 3/3 [00:02<00:00,  1.38it/s]\n"
     ]
    },
    {
     "name": "stdout",
     "output_type": "stream",
     "text": [
      "---------------------------------\n",
      "Finished inserting vectors for <itmo>!\n",
      "---------------------------------\n"
     ]
    },
    {
     "name": "stderr",
     "output_type": "stream",
     "text": [
      "100%|██████████| 4/4 [00:03<00:00,  1.06it/s]\n"
     ]
    },
    {
     "name": "stdout",
     "output_type": "stream",
     "text": [
      "---------------------------------\n",
      "Finished inserting vectors for <itmo>!\n",
      "---------------------------------\n"
     ]
    },
    {
     "name": "stderr",
     "output_type": "stream",
     "text": [
      "100%|██████████| 4/4 [00:05<00:00,  1.27s/it]\n"
     ]
    },
    {
     "name": "stdout",
     "output_type": "stream",
     "text": [
      "---------------------------------\n",
      "Finished inserting vectors for <itmo>!\n",
      "---------------------------------\n"
     ]
    },
    {
     "name": "stderr",
     "output_type": "stream",
     "text": [
      "100%|██████████| 3/3 [00:02<00:00,  1.40it/s]\n"
     ]
    },
    {
     "name": "stdout",
     "output_type": "stream",
     "text": [
      "---------------------------------\n",
      "Finished inserting vectors for <itmo>!\n",
      "---------------------------------\n"
     ]
    },
    {
     "name": "stderr",
     "output_type": "stream",
     "text": [
      "100%|██████████| 4/4 [00:03<00:00,  1.24it/s]\n"
     ]
    },
    {
     "name": "stdout",
     "output_type": "stream",
     "text": [
      "---------------------------------\n",
      "Finished inserting vectors for <itmo>!\n",
      "---------------------------------\n"
     ]
    },
    {
     "name": "stderr",
     "output_type": "stream",
     "text": [
      "100%|██████████| 5/5 [00:04<00:00,  1.06it/s]\n"
     ]
    },
    {
     "name": "stdout",
     "output_type": "stream",
     "text": [
      "---------------------------------\n",
      "Finished inserting vectors for <itmo>!\n",
      "---------------------------------\n"
     ]
    },
    {
     "name": "stderr",
     "output_type": "stream",
     "text": [
      "100%|██████████| 5/5 [00:03<00:00,  1.36it/s]\n"
     ]
    },
    {
     "name": "stdout",
     "output_type": "stream",
     "text": [
      "---------------------------------\n",
      "Finished inserting vectors for <itmo>!\n",
      "---------------------------------\n"
     ]
    },
    {
     "name": "stderr",
     "output_type": "stream",
     "text": [
      "100%|██████████| 8/8 [00:07<00:00,  1.08it/s]\n"
     ]
    },
    {
     "name": "stdout",
     "output_type": "stream",
     "text": [
      "---------------------------------\n",
      "Finished inserting vectors for <itmo>!\n",
      "---------------------------------\n"
     ]
    },
    {
     "name": "stderr",
     "output_type": "stream",
     "text": [
      "100%|██████████| 8/8 [00:07<00:00,  1.12it/s]\n"
     ]
    },
    {
     "name": "stdout",
     "output_type": "stream",
     "text": [
      "---------------------------------\n",
      "Finished inserting vectors for <itmo>!\n",
      "---------------------------------\n"
     ]
    },
    {
     "name": "stderr",
     "output_type": "stream",
     "text": [
      "100%|██████████| 2/2 [00:02<00:00,  1.15s/it]\n"
     ]
    },
    {
     "name": "stdout",
     "output_type": "stream",
     "text": [
      "---------------------------------\n",
      "Finished inserting vectors for <itmo>!\n",
      "---------------------------------\n"
     ]
    },
    {
     "name": "stderr",
     "output_type": "stream",
     "text": [
      "100%|██████████| 5/5 [00:05<00:00,  1.17s/it]\n"
     ]
    },
    {
     "name": "stdout",
     "output_type": "stream",
     "text": [
      "---------------------------------\n",
      "Finished inserting vectors for <itmo>!\n",
      "---------------------------------\n"
     ]
    },
    {
     "name": "stderr",
     "output_type": "stream",
     "text": [
      "100%|██████████| 5/5 [00:08<00:00,  1.70s/it]\n"
     ]
    },
    {
     "name": "stdout",
     "output_type": "stream",
     "text": [
      "---------------------------------\n",
      "Finished inserting vectors for <itmo>!\n",
      "---------------------------------\n"
     ]
    },
    {
     "name": "stderr",
     "output_type": "stream",
     "text": [
      "100%|██████████| 3/3 [00:02<00:00,  1.13it/s]\n"
     ]
    },
    {
     "name": "stdout",
     "output_type": "stream",
     "text": [
      "---------------------------------\n",
      "Finished inserting vectors for <itmo>!\n",
      "---------------------------------\n"
     ]
    },
    {
     "name": "stderr",
     "output_type": "stream",
     "text": [
      "100%|██████████| 4/4 [00:03<00:00,  1.10it/s]\n"
     ]
    },
    {
     "name": "stdout",
     "output_type": "stream",
     "text": [
      "---------------------------------\n",
      "Finished inserting vectors for <itmo>!\n",
      "---------------------------------\n"
     ]
    },
    {
     "name": "stderr",
     "output_type": "stream",
     "text": [
      "100%|██████████| 4/4 [00:03<00:00,  1.30it/s]\n"
     ]
    },
    {
     "name": "stdout",
     "output_type": "stream",
     "text": [
      "---------------------------------\n",
      "Finished inserting vectors for <itmo>!\n",
      "---------------------------------\n"
     ]
    },
    {
     "name": "stderr",
     "output_type": "stream",
     "text": [
      "100%|██████████| 3/3 [00:02<00:00,  1.41it/s]\n"
     ]
    },
    {
     "name": "stdout",
     "output_type": "stream",
     "text": [
      "---------------------------------\n",
      "Finished inserting vectors for <itmo>!\n",
      "---------------------------------\n"
     ]
    },
    {
     "name": "stderr",
     "output_type": "stream",
     "text": [
      "100%|██████████| 2/2 [00:01<00:00,  1.63it/s]\n"
     ]
    },
    {
     "name": "stdout",
     "output_type": "stream",
     "text": [
      "---------------------------------\n",
      "Finished inserting vectors for <itmo>!\n",
      "---------------------------------\n"
     ]
    },
    {
     "name": "stderr",
     "output_type": "stream",
     "text": [
      "100%|██████████| 4/4 [00:03<00:00,  1.30it/s]\n"
     ]
    },
    {
     "name": "stdout",
     "output_type": "stream",
     "text": [
      "---------------------------------\n",
      "Finished inserting vectors for <itmo>!\n",
      "---------------------------------\n"
     ]
    },
    {
     "name": "stderr",
     "output_type": "stream",
     "text": [
      "100%|██████████| 4/4 [00:03<00:00,  1.29it/s]\n"
     ]
    },
    {
     "name": "stdout",
     "output_type": "stream",
     "text": [
      "---------------------------------\n",
      "Finished inserting vectors for <itmo>!\n",
      "---------------------------------\n"
     ]
    },
    {
     "name": "stderr",
     "output_type": "stream",
     "text": [
      "100%|██████████| 4/4 [00:03<00:00,  1.21it/s]\n"
     ]
    },
    {
     "name": "stdout",
     "output_type": "stream",
     "text": [
      "---------------------------------\n",
      "Finished inserting vectors for <itmo>!\n",
      "---------------------------------\n"
     ]
    },
    {
     "name": "stderr",
     "output_type": "stream",
     "text": [
      "100%|██████████| 4/4 [00:03<00:00,  1.26it/s]\n"
     ]
    },
    {
     "name": "stdout",
     "output_type": "stream",
     "text": [
      "---------------------------------\n",
      "Finished inserting vectors for <itmo>!\n",
      "---------------------------------\n"
     ]
    },
    {
     "name": "stderr",
     "output_type": "stream",
     "text": [
      "100%|██████████| 4/4 [00:03<00:00,  1.32it/s]\n"
     ]
    },
    {
     "name": "stdout",
     "output_type": "stream",
     "text": [
      "---------------------------------\n",
      "Finished inserting vectors for <itmo>!\n",
      "---------------------------------\n"
     ]
    },
    {
     "name": "stderr",
     "output_type": "stream",
     "text": [
      "100%|██████████| 7/7 [00:05<00:00,  1.18it/s]\n"
     ]
    },
    {
     "name": "stdout",
     "output_type": "stream",
     "text": [
      "---------------------------------\n",
      "Finished inserting vectors for <itmo>!\n",
      "---------------------------------\n"
     ]
    },
    {
     "name": "stderr",
     "output_type": "stream",
     "text": [
      "100%|██████████| 3/3 [00:05<00:00,  1.71s/it]\n"
     ]
    },
    {
     "name": "stdout",
     "output_type": "stream",
     "text": [
      "---------------------------------\n",
      "Finished inserting vectors for <itmo>!\n",
      "---------------------------------\n"
     ]
    },
    {
     "name": "stderr",
     "output_type": "stream",
     "text": [
      "100%|██████████| 3/3 [00:02<00:00,  1.42it/s]\n"
     ]
    },
    {
     "name": "stdout",
     "output_type": "stream",
     "text": [
      "---------------------------------\n",
      "Finished inserting vectors for <itmo>!\n",
      "---------------------------------\n"
     ]
    },
    {
     "name": "stderr",
     "output_type": "stream",
     "text": [
      "100%|██████████| 6/6 [00:09<00:00,  1.55s/it]\n"
     ]
    },
    {
     "name": "stdout",
     "output_type": "stream",
     "text": [
      "---------------------------------\n",
      "Finished inserting vectors for <itmo>!\n",
      "---------------------------------\n"
     ]
    },
    {
     "name": "stderr",
     "output_type": "stream",
     "text": [
      "100%|██████████| 3/3 [00:02<00:00,  1.28it/s]\n"
     ]
    },
    {
     "name": "stdout",
     "output_type": "stream",
     "text": [
      "---------------------------------\n",
      "Finished inserting vectors for <itmo>!\n",
      "---------------------------------\n"
     ]
    },
    {
     "name": "stderr",
     "output_type": "stream",
     "text": [
      "100%|██████████| 2/2 [00:01<00:00,  1.67it/s]\n"
     ]
    },
    {
     "name": "stdout",
     "output_type": "stream",
     "text": [
      "---------------------------------\n",
      "Finished inserting vectors for <itmo>!\n",
      "---------------------------------\n"
     ]
    },
    {
     "name": "stderr",
     "output_type": "stream",
     "text": [
      "100%|██████████| 5/5 [00:04<00:00,  1.22it/s]\n"
     ]
    },
    {
     "name": "stdout",
     "output_type": "stream",
     "text": [
      "---------------------------------\n",
      "Finished inserting vectors for <itmo>!\n",
      "---------------------------------\n"
     ]
    },
    {
     "name": "stderr",
     "output_type": "stream",
     "text": [
      "100%|██████████| 3/3 [00:02<00:00,  1.31it/s]\n"
     ]
    },
    {
     "name": "stdout",
     "output_type": "stream",
     "text": [
      "---------------------------------\n",
      "Finished inserting vectors for <itmo>!\n",
      "---------------------------------\n"
     ]
    },
    {
     "name": "stderr",
     "output_type": "stream",
     "text": [
      "100%|██████████| 3/3 [00:02<00:00,  1.22it/s]\n"
     ]
    },
    {
     "name": "stdout",
     "output_type": "stream",
     "text": [
      "---------------------------------\n",
      "Finished inserting vectors for <itmo>!\n",
      "---------------------------------\n"
     ]
    },
    {
     "name": "stderr",
     "output_type": "stream",
     "text": [
      "100%|██████████| 5/5 [00:03<00:00,  1.27it/s]\n"
     ]
    },
    {
     "name": "stdout",
     "output_type": "stream",
     "text": [
      "---------------------------------\n",
      "Finished inserting vectors for <itmo>!\n",
      "---------------------------------\n"
     ]
    },
    {
     "name": "stderr",
     "output_type": "stream",
     "text": [
      "100%|██████████| 7/7 [00:06<00:00,  1.09it/s]\n"
     ]
    },
    {
     "name": "stdout",
     "output_type": "stream",
     "text": [
      "---------------------------------\n",
      "Finished inserting vectors for <itmo>!\n",
      "---------------------------------\n"
     ]
    },
    {
     "name": "stderr",
     "output_type": "stream",
     "text": [
      "100%|██████████| 6/6 [00:06<00:00,  1.05s/it]\n"
     ]
    },
    {
     "name": "stdout",
     "output_type": "stream",
     "text": [
      "---------------------------------\n",
      "Finished inserting vectors for <itmo>!\n",
      "---------------------------------\n"
     ]
    },
    {
     "name": "stderr",
     "output_type": "stream",
     "text": [
      "100%|██████████| 5/5 [00:05<00:00,  1.02s/it]\n"
     ]
    },
    {
     "name": "stdout",
     "output_type": "stream",
     "text": [
      "---------------------------------\n",
      "Finished inserting vectors for <itmo>!\n",
      "---------------------------------\n"
     ]
    },
    {
     "name": "stderr",
     "output_type": "stream",
     "text": [
      "100%|██████████| 5/5 [00:05<00:00,  1.13s/it]\n"
     ]
    },
    {
     "name": "stdout",
     "output_type": "stream",
     "text": [
      "---------------------------------\n",
      "Finished inserting vectors for <itmo>!\n",
      "---------------------------------\n"
     ]
    },
    {
     "name": "stderr",
     "output_type": "stream",
     "text": [
      "100%|██████████| 7/7 [00:09<00:00,  1.35s/it]\n"
     ]
    },
    {
     "name": "stdout",
     "output_type": "stream",
     "text": [
      "---------------------------------\n",
      "Finished inserting vectors for <itmo>!\n",
      "---------------------------------\n"
     ]
    },
    {
     "name": "stderr",
     "output_type": "stream",
     "text": [
      "100%|██████████| 15/15 [00:19<00:00,  1.30s/it]\n"
     ]
    },
    {
     "name": "stdout",
     "output_type": "stream",
     "text": [
      "---------------------------------\n",
      "Finished inserting vectors for <itmo>!\n",
      "---------------------------------\n"
     ]
    },
    {
     "name": "stderr",
     "output_type": "stream",
     "text": [
      "100%|██████████| 6/6 [00:05<00:00,  1.03it/s]\n"
     ]
    },
    {
     "name": "stdout",
     "output_type": "stream",
     "text": [
      "---------------------------------\n",
      "Finished inserting vectors for <itmo>!\n",
      "---------------------------------\n"
     ]
    },
    {
     "name": "stderr",
     "output_type": "stream",
     "text": [
      "100%|██████████| 4/4 [00:03<00:00,  1.31it/s]\n"
     ]
    },
    {
     "name": "stdout",
     "output_type": "stream",
     "text": [
      "---------------------------------\n",
      "Finished inserting vectors for <itmo>!\n",
      "---------------------------------\n"
     ]
    },
    {
     "name": "stderr",
     "output_type": "stream",
     "text": [
      "100%|██████████| 6/6 [00:05<00:00,  1.15it/s]\n"
     ]
    },
    {
     "name": "stdout",
     "output_type": "stream",
     "text": [
      "---------------------------------\n",
      "Finished inserting vectors for <itmo>!\n",
      "---------------------------------\n"
     ]
    },
    {
     "name": "stderr",
     "output_type": "stream",
     "text": [
      "100%|██████████| 7/7 [00:05<00:00,  1.21it/s]\n"
     ]
    },
    {
     "name": "stdout",
     "output_type": "stream",
     "text": [
      "---------------------------------\n",
      "Finished inserting vectors for <itmo>!\n",
      "---------------------------------\n"
     ]
    },
    {
     "name": "stderr",
     "output_type": "stream",
     "text": [
      "100%|██████████| 7/7 [00:05<00:00,  1.17it/s]\n"
     ]
    },
    {
     "name": "stdout",
     "output_type": "stream",
     "text": [
      "---------------------------------\n",
      "Finished inserting vectors for <itmo>!\n",
      "---------------------------------\n"
     ]
    },
    {
     "name": "stderr",
     "output_type": "stream",
     "text": [
      "100%|██████████| 4/4 [00:03<00:00,  1.26it/s]\n"
     ]
    },
    {
     "name": "stdout",
     "output_type": "stream",
     "text": [
      "---------------------------------\n",
      "Finished inserting vectors for <itmo>!\n",
      "---------------------------------\n"
     ]
    },
    {
     "name": "stderr",
     "output_type": "stream",
     "text": [
      "100%|██████████| 6/6 [00:05<00:00,  1.09it/s]\n"
     ]
    },
    {
     "name": "stdout",
     "output_type": "stream",
     "text": [
      "---------------------------------\n",
      "Finished inserting vectors for <itmo>!\n",
      "---------------------------------\n"
     ]
    },
    {
     "name": "stderr",
     "output_type": "stream",
     "text": [
      "100%|██████████| 6/6 [00:04<00:00,  1.43it/s]\n"
     ]
    },
    {
     "name": "stdout",
     "output_type": "stream",
     "text": [
      "---------------------------------\n",
      "Finished inserting vectors for <itmo>!\n",
      "---------------------------------\n"
     ]
    },
    {
     "name": "stderr",
     "output_type": "stream",
     "text": [
      "100%|██████████| 5/5 [00:03<00:00,  1.47it/s]\n"
     ]
    },
    {
     "name": "stdout",
     "output_type": "stream",
     "text": [
      "---------------------------------\n",
      "Finished inserting vectors for <itmo>!\n",
      "---------------------------------\n"
     ]
    },
    {
     "name": "stderr",
     "output_type": "stream",
     "text": [
      "100%|██████████| 6/6 [00:06<00:00,  1.07s/it]\n"
     ]
    },
    {
     "name": "stdout",
     "output_type": "stream",
     "text": [
      "---------------------------------\n",
      "Finished inserting vectors for <itmo>!\n",
      "---------------------------------\n"
     ]
    },
    {
     "name": "stderr",
     "output_type": "stream",
     "text": [
      "100%|██████████| 5/5 [00:04<00:00,  1.12it/s]\n"
     ]
    },
    {
     "name": "stdout",
     "output_type": "stream",
     "text": [
      "---------------------------------\n",
      "Finished inserting vectors for <itmo>!\n",
      "---------------------------------\n"
     ]
    },
    {
     "name": "stderr",
     "output_type": "stream",
     "text": [
      "100%|██████████| 3/3 [00:04<00:00,  1.45s/it]\n"
     ]
    },
    {
     "name": "stdout",
     "output_type": "stream",
     "text": [
      "---------------------------------\n",
      "Finished inserting vectors for <itmo>!\n",
      "---------------------------------\n"
     ]
    },
    {
     "name": "stderr",
     "output_type": "stream",
     "text": [
      "100%|██████████| 4/4 [00:03<00:00,  1.23it/s]\n"
     ]
    },
    {
     "name": "stdout",
     "output_type": "stream",
     "text": [
      "---------------------------------\n",
      "Finished inserting vectors for <itmo>!\n",
      "---------------------------------\n"
     ]
    },
    {
     "name": "stderr",
     "output_type": "stream",
     "text": [
      "100%|██████████| 4/4 [00:02<00:00,  1.37it/s]\n"
     ]
    },
    {
     "name": "stdout",
     "output_type": "stream",
     "text": [
      "---------------------------------\n",
      "Finished inserting vectors for <itmo>!\n",
      "---------------------------------\n"
     ]
    },
    {
     "name": "stderr",
     "output_type": "stream",
     "text": [
      "100%|██████████| 4/4 [00:03<00:00,  1.05it/s]\n"
     ]
    },
    {
     "name": "stdout",
     "output_type": "stream",
     "text": [
      "---------------------------------\n",
      "Finished inserting vectors for <itmo>!\n",
      "---------------------------------\n"
     ]
    },
    {
     "name": "stderr",
     "output_type": "stream",
     "text": [
      "100%|██████████| 4/4 [00:02<00:00,  1.42it/s]\n"
     ]
    },
    {
     "name": "stdout",
     "output_type": "stream",
     "text": [
      "---------------------------------\n",
      "Finished inserting vectors for <itmo>!\n",
      "---------------------------------\n"
     ]
    },
    {
     "name": "stderr",
     "output_type": "stream",
     "text": [
      "100%|██████████| 7/7 [00:06<00:00,  1.16it/s]\n"
     ]
    },
    {
     "name": "stdout",
     "output_type": "stream",
     "text": [
      "---------------------------------\n",
      "Finished inserting vectors for <itmo>!\n",
      "---------------------------------\n"
     ]
    },
    {
     "name": "stderr",
     "output_type": "stream",
     "text": [
      "100%|██████████| 5/5 [00:03<00:00,  1.34it/s]\n"
     ]
    },
    {
     "name": "stdout",
     "output_type": "stream",
     "text": [
      "---------------------------------\n",
      "Finished inserting vectors for <itmo>!\n",
      "---------------------------------\n"
     ]
    },
    {
     "name": "stderr",
     "output_type": "stream",
     "text": [
      "100%|██████████| 6/6 [00:05<00:00,  1.18it/s]\n"
     ]
    },
    {
     "name": "stdout",
     "output_type": "stream",
     "text": [
      "---------------------------------\n",
      "Finished inserting vectors for <itmo>!\n",
      "---------------------------------\n"
     ]
    },
    {
     "name": "stderr",
     "output_type": "stream",
     "text": [
      "100%|██████████| 5/5 [00:04<00:00,  1.19it/s]\n"
     ]
    },
    {
     "name": "stdout",
     "output_type": "stream",
     "text": [
      "---------------------------------\n",
      "Finished inserting vectors for <itmo>!\n",
      "---------------------------------\n"
     ]
    },
    {
     "name": "stderr",
     "output_type": "stream",
     "text": [
      "100%|██████████| 4/4 [00:05<00:00,  1.27s/it]\n"
     ]
    },
    {
     "name": "stdout",
     "output_type": "stream",
     "text": [
      "---------------------------------\n",
      "Finished inserting vectors for <itmo>!\n",
      "---------------------------------\n"
     ]
    },
    {
     "name": "stderr",
     "output_type": "stream",
     "text": [
      "100%|██████████| 6/6 [00:05<00:00,  1.05it/s]\n"
     ]
    },
    {
     "name": "stdout",
     "output_type": "stream",
     "text": [
      "---------------------------------\n",
      "Finished inserting vectors for <itmo>!\n",
      "---------------------------------\n"
     ]
    },
    {
     "name": "stderr",
     "output_type": "stream",
     "text": [
      "100%|██████████| 4/4 [00:02<00:00,  1.35it/s]\n"
     ]
    },
    {
     "name": "stdout",
     "output_type": "stream",
     "text": [
      "---------------------------------\n",
      "Finished inserting vectors for <itmo>!\n",
      "---------------------------------\n"
     ]
    },
    {
     "name": "stderr",
     "output_type": "stream",
     "text": [
      "100%|██████████| 4/4 [00:04<00:00,  1.12s/it]\n"
     ]
    },
    {
     "name": "stdout",
     "output_type": "stream",
     "text": [
      "---------------------------------\n",
      "Finished inserting vectors for <itmo>!\n",
      "---------------------------------\n"
     ]
    },
    {
     "name": "stderr",
     "output_type": "stream",
     "text": [
      "100%|██████████| 5/5 [00:03<00:00,  1.46it/s]\n"
     ]
    },
    {
     "name": "stdout",
     "output_type": "stream",
     "text": [
      "---------------------------------\n",
      "Finished inserting vectors for <itmo>!\n",
      "---------------------------------\n"
     ]
    },
    {
     "name": "stderr",
     "output_type": "stream",
     "text": [
      "100%|██████████| 3/3 [00:03<00:00,  1.13s/it]\n"
     ]
    },
    {
     "name": "stdout",
     "output_type": "stream",
     "text": [
      "---------------------------------\n",
      "Finished inserting vectors for <itmo>!\n",
      "---------------------------------\n"
     ]
    },
    {
     "name": "stderr",
     "output_type": "stream",
     "text": [
      "100%|██████████| 5/5 [00:03<00:00,  1.26it/s]\n"
     ]
    },
    {
     "name": "stdout",
     "output_type": "stream",
     "text": [
      "---------------------------------\n",
      "Finished inserting vectors for <itmo>!\n",
      "---------------------------------\n"
     ]
    },
    {
     "name": "stderr",
     "output_type": "stream",
     "text": [
      "100%|██████████| 4/4 [00:02<00:00,  1.40it/s]\n"
     ]
    },
    {
     "name": "stdout",
     "output_type": "stream",
     "text": [
      "---------------------------------\n",
      "Finished inserting vectors for <itmo>!\n",
      "---------------------------------\n"
     ]
    },
    {
     "name": "stderr",
     "output_type": "stream",
     "text": [
      "100%|██████████| 6/6 [00:04<00:00,  1.36it/s]\n"
     ]
    },
    {
     "name": "stdout",
     "output_type": "stream",
     "text": [
      "---------------------------------\n",
      "Finished inserting vectors for <itmo>!\n",
      "---------------------------------\n"
     ]
    },
    {
     "name": "stderr",
     "output_type": "stream",
     "text": [
      "100%|██████████| 4/4 [00:03<00:00,  1.33it/s]\n"
     ]
    },
    {
     "name": "stdout",
     "output_type": "stream",
     "text": [
      "---------------------------------\n",
      "Finished inserting vectors for <itmo>!\n",
      "---------------------------------\n"
     ]
    },
    {
     "name": "stderr",
     "output_type": "stream",
     "text": [
      "100%|██████████| 5/5 [00:03<00:00,  1.27it/s]\n"
     ]
    },
    {
     "name": "stdout",
     "output_type": "stream",
     "text": [
      "---------------------------------\n",
      "Finished inserting vectors for <itmo>!\n",
      "---------------------------------\n"
     ]
    },
    {
     "name": "stderr",
     "output_type": "stream",
     "text": [
      "100%|██████████| 5/5 [00:13<00:00,  2.66s/it]\n"
     ]
    },
    {
     "name": "stdout",
     "output_type": "stream",
     "text": [
      "---------------------------------\n",
      "Finished inserting vectors for <itmo>!\n",
      "---------------------------------\n"
     ]
    },
    {
     "name": "stderr",
     "output_type": "stream",
     "text": [
      "100%|██████████| 4/4 [00:03<00:00,  1.07it/s]\n"
     ]
    },
    {
     "name": "stdout",
     "output_type": "stream",
     "text": [
      "---------------------------------\n",
      "Finished inserting vectors for <itmo>!\n",
      "---------------------------------\n"
     ]
    },
    {
     "name": "stderr",
     "output_type": "stream",
     "text": [
      "100%|██████████| 5/5 [00:04<00:00,  1.19it/s]\n"
     ]
    },
    {
     "name": "stdout",
     "output_type": "stream",
     "text": [
      "---------------------------------\n",
      "Finished inserting vectors for <itmo>!\n",
      "---------------------------------\n"
     ]
    },
    {
     "name": "stderr",
     "output_type": "stream",
     "text": [
      "100%|██████████| 5/5 [00:04<00:00,  1.21it/s]\n"
     ]
    },
    {
     "name": "stdout",
     "output_type": "stream",
     "text": [
      "---------------------------------\n",
      "Finished inserting vectors for <itmo>!\n",
      "---------------------------------\n"
     ]
    },
    {
     "name": "stderr",
     "output_type": "stream",
     "text": [
      "100%|██████████| 2/2 [00:01<00:00,  1.35it/s]\n"
     ]
    },
    {
     "name": "stdout",
     "output_type": "stream",
     "text": [
      "---------------------------------\n",
      "Finished inserting vectors for <itmo>!\n",
      "---------------------------------\n"
     ]
    },
    {
     "name": "stderr",
     "output_type": "stream",
     "text": [
      "100%|██████████| 4/4 [00:03<00:00,  1.08it/s]\n"
     ]
    },
    {
     "name": "stdout",
     "output_type": "stream",
     "text": [
      "---------------------------------\n",
      "Finished inserting vectors for <itmo>!\n",
      "---------------------------------\n"
     ]
    },
    {
     "name": "stderr",
     "output_type": "stream",
     "text": [
      "100%|██████████| 4/4 [00:03<00:00,  1.19it/s]\n"
     ]
    },
    {
     "name": "stdout",
     "output_type": "stream",
     "text": [
      "---------------------------------\n",
      "Finished inserting vectors for <itmo>!\n",
      "---------------------------------\n"
     ]
    },
    {
     "name": "stderr",
     "output_type": "stream",
     "text": [
      "100%|██████████| 5/5 [00:04<00:00,  1.15it/s]\n"
     ]
    },
    {
     "name": "stdout",
     "output_type": "stream",
     "text": [
      "---------------------------------\n",
      "Finished inserting vectors for <itmo>!\n",
      "---------------------------------\n"
     ]
    },
    {
     "name": "stderr",
     "output_type": "stream",
     "text": [
      "100%|██████████| 5/5 [00:04<00:00,  1.15it/s]\n"
     ]
    },
    {
     "name": "stdout",
     "output_type": "stream",
     "text": [
      "---------------------------------\n",
      "Finished inserting vectors for <itmo>!\n",
      "---------------------------------\n"
     ]
    },
    {
     "name": "stderr",
     "output_type": "stream",
     "text": [
      "100%|██████████| 2/2 [00:01<00:00,  1.30it/s]\n"
     ]
    },
    {
     "name": "stdout",
     "output_type": "stream",
     "text": [
      "---------------------------------\n",
      "Finished inserting vectors for <itmo>!\n",
      "---------------------------------\n"
     ]
    },
    {
     "name": "stderr",
     "output_type": "stream",
     "text": [
      "100%|██████████| 5/5 [00:08<00:00,  1.73s/it]\n"
     ]
    },
    {
     "name": "stdout",
     "output_type": "stream",
     "text": [
      "---------------------------------\n",
      "Finished inserting vectors for <itmo>!\n",
      "---------------------------------\n"
     ]
    },
    {
     "name": "stderr",
     "output_type": "stream",
     "text": [
      "100%|██████████| 5/5 [00:05<00:00,  1.04s/it]\n"
     ]
    },
    {
     "name": "stdout",
     "output_type": "stream",
     "text": [
      "---------------------------------\n",
      "Finished inserting vectors for <itmo>!\n",
      "---------------------------------\n"
     ]
    },
    {
     "name": "stderr",
     "output_type": "stream",
     "text": [
      "100%|██████████| 5/5 [00:04<00:00,  1.11it/s]\n"
     ]
    },
    {
     "name": "stdout",
     "output_type": "stream",
     "text": [
      "---------------------------------\n",
      "Finished inserting vectors for <itmo>!\n",
      "---------------------------------\n"
     ]
    },
    {
     "name": "stderr",
     "output_type": "stream",
     "text": [
      "100%|██████████| 5/5 [00:05<00:00,  1.20s/it]\n"
     ]
    },
    {
     "name": "stdout",
     "output_type": "stream",
     "text": [
      "---------------------------------\n",
      "Finished inserting vectors for <itmo>!\n",
      "---------------------------------\n"
     ]
    },
    {
     "name": "stderr",
     "output_type": "stream",
     "text": [
      "100%|██████████| 5/5 [00:04<00:00,  1.14it/s]\n"
     ]
    },
    {
     "name": "stdout",
     "output_type": "stream",
     "text": [
      "---------------------------------\n",
      "Finished inserting vectors for <itmo>!\n",
      "---------------------------------\n"
     ]
    },
    {
     "name": "stderr",
     "output_type": "stream",
     "text": [
      "100%|██████████| 5/5 [00:04<00:00,  1.08it/s]\n"
     ]
    },
    {
     "name": "stdout",
     "output_type": "stream",
     "text": [
      "---------------------------------\n",
      "Finished inserting vectors for <itmo>!\n",
      "---------------------------------\n"
     ]
    },
    {
     "name": "stderr",
     "output_type": "stream",
     "text": [
      "100%|██████████| 4/4 [00:03<00:00,  1.20it/s]\n"
     ]
    },
    {
     "name": "stdout",
     "output_type": "stream",
     "text": [
      "---------------------------------\n",
      "Finished inserting vectors for <itmo>!\n",
      "---------------------------------\n"
     ]
    },
    {
     "name": "stderr",
     "output_type": "stream",
     "text": [
      "100%|██████████| 5/5 [00:04<00:00,  1.24it/s]\n"
     ]
    },
    {
     "name": "stdout",
     "output_type": "stream",
     "text": [
      "---------------------------------\n",
      "Finished inserting vectors for <itmo>!\n",
      "---------------------------------\n"
     ]
    },
    {
     "name": "stderr",
     "output_type": "stream",
     "text": [
      "100%|██████████| 2/2 [00:01<00:00,  1.10it/s]\n"
     ]
    },
    {
     "name": "stdout",
     "output_type": "stream",
     "text": [
      "---------------------------------\n",
      "Finished inserting vectors for <itmo>!\n",
      "---------------------------------\n"
     ]
    },
    {
     "name": "stderr",
     "output_type": "stream",
     "text": [
      "100%|██████████| 5/5 [00:04<00:00,  1.01it/s]\n"
     ]
    },
    {
     "name": "stdout",
     "output_type": "stream",
     "text": [
      "---------------------------------\n",
      "Finished inserting vectors for <itmo>!\n",
      "---------------------------------\n"
     ]
    },
    {
     "name": "stderr",
     "output_type": "stream",
     "text": [
      "100%|██████████| 3/3 [00:02<00:00,  1.28it/s]\n"
     ]
    },
    {
     "name": "stdout",
     "output_type": "stream",
     "text": [
      "---------------------------------\n",
      "Finished inserting vectors for <itmo>!\n",
      "---------------------------------\n"
     ]
    },
    {
     "name": "stderr",
     "output_type": "stream",
     "text": [
      "100%|██████████| 3/3 [00:02<00:00,  1.24it/s]\n"
     ]
    },
    {
     "name": "stdout",
     "output_type": "stream",
     "text": [
      "---------------------------------\n",
      "Finished inserting vectors for <itmo>!\n",
      "---------------------------------\n"
     ]
    },
    {
     "name": "stderr",
     "output_type": "stream",
     "text": [
      "100%|██████████| 3/3 [00:02<00:00,  1.38it/s]\n"
     ]
    },
    {
     "name": "stdout",
     "output_type": "stream",
     "text": [
      "---------------------------------\n",
      "Finished inserting vectors for <itmo>!\n",
      "---------------------------------\n"
     ]
    },
    {
     "name": "stderr",
     "output_type": "stream",
     "text": [
      "100%|██████████| 5/5 [00:05<00:00,  1.00s/it]\n"
     ]
    },
    {
     "name": "stdout",
     "output_type": "stream",
     "text": [
      "---------------------------------\n",
      "Finished inserting vectors for <itmo>!\n",
      "---------------------------------\n"
     ]
    },
    {
     "name": "stderr",
     "output_type": "stream",
     "text": [
      "100%|██████████| 3/3 [00:02<00:00,  1.23it/s]\n"
     ]
    },
    {
     "name": "stdout",
     "output_type": "stream",
     "text": [
      "---------------------------------\n",
      "Finished inserting vectors for <itmo>!\n",
      "---------------------------------\n"
     ]
    },
    {
     "name": "stderr",
     "output_type": "stream",
     "text": [
      "100%|██████████| 3/3 [00:05<00:00,  1.94s/it]\n"
     ]
    },
    {
     "name": "stdout",
     "output_type": "stream",
     "text": [
      "---------------------------------\n",
      "Finished inserting vectors for <itmo>!\n",
      "---------------------------------\n"
     ]
    },
    {
     "name": "stderr",
     "output_type": "stream",
     "text": [
      "100%|██████████| 3/3 [00:03<00:00,  1.17s/it]\n"
     ]
    },
    {
     "name": "stdout",
     "output_type": "stream",
     "text": [
      "---------------------------------\n",
      "Finished inserting vectors for <itmo>!\n",
      "---------------------------------\n"
     ]
    },
    {
     "name": "stderr",
     "output_type": "stream",
     "text": [
      "100%|██████████| 2/2 [00:01<00:00,  1.48it/s]\n"
     ]
    },
    {
     "name": "stdout",
     "output_type": "stream",
     "text": [
      "---------------------------------\n",
      "Finished inserting vectors for <itmo>!\n",
      "---------------------------------\n"
     ]
    },
    {
     "name": "stderr",
     "output_type": "stream",
     "text": [
      "100%|██████████| 3/3 [00:03<00:00,  1.27s/it]\n"
     ]
    },
    {
     "name": "stdout",
     "output_type": "stream",
     "text": [
      "---------------------------------\n",
      "Finished inserting vectors for <itmo>!\n",
      "---------------------------------\n"
     ]
    },
    {
     "name": "stderr",
     "output_type": "stream",
     "text": [
      "100%|██████████| 3/3 [00:02<00:00,  1.20it/s]\n"
     ]
    },
    {
     "name": "stdout",
     "output_type": "stream",
     "text": [
      "---------------------------------\n",
      "Finished inserting vectors for <itmo>!\n",
      "---------------------------------\n"
     ]
    },
    {
     "name": "stderr",
     "output_type": "stream",
     "text": [
      "100%|██████████| 3/3 [00:02<00:00,  1.16it/s]\n"
     ]
    },
    {
     "name": "stdout",
     "output_type": "stream",
     "text": [
      "---------------------------------\n",
      "Finished inserting vectors for <itmo>!\n",
      "---------------------------------\n"
     ]
    },
    {
     "name": "stderr",
     "output_type": "stream",
     "text": [
      "100%|██████████| 3/3 [00:02<00:00,  1.27it/s]\n"
     ]
    },
    {
     "name": "stdout",
     "output_type": "stream",
     "text": [
      "---------------------------------\n",
      "Finished inserting vectors for <itmo>!\n",
      "---------------------------------\n"
     ]
    },
    {
     "name": "stderr",
     "output_type": "stream",
     "text": [
      "100%|██████████| 3/3 [00:02<00:00,  1.07it/s]\n"
     ]
    },
    {
     "name": "stdout",
     "output_type": "stream",
     "text": [
      "---------------------------------\n",
      "Finished inserting vectors for <itmo>!\n",
      "---------------------------------\n"
     ]
    },
    {
     "name": "stderr",
     "output_type": "stream",
     "text": [
      "100%|██████████| 3/3 [00:02<00:00,  1.11it/s]\n"
     ]
    },
    {
     "name": "stdout",
     "output_type": "stream",
     "text": [
      "---------------------------------\n",
      "Finished inserting vectors for <itmo>!\n",
      "---------------------------------\n"
     ]
    },
    {
     "name": "stderr",
     "output_type": "stream",
     "text": [
      "100%|██████████| 3/3 [00:02<00:00,  1.05it/s]\n"
     ]
    },
    {
     "name": "stdout",
     "output_type": "stream",
     "text": [
      "---------------------------------\n",
      "Finished inserting vectors for <itmo>!\n",
      "---------------------------------\n"
     ]
    },
    {
     "name": "stderr",
     "output_type": "stream",
     "text": [
      "100%|██████████| 5/5 [00:04<00:00,  1.10it/s]\n"
     ]
    },
    {
     "name": "stdout",
     "output_type": "stream",
     "text": [
      "---------------------------------\n",
      "Finished inserting vectors for <itmo>!\n",
      "---------------------------------\n"
     ]
    },
    {
     "name": "stderr",
     "output_type": "stream",
     "text": [
      "100%|██████████| 7/7 [00:05<00:00,  1.22it/s]\n"
     ]
    },
    {
     "name": "stdout",
     "output_type": "stream",
     "text": [
      "---------------------------------\n",
      "Finished inserting vectors for <itmo>!\n",
      "---------------------------------\n"
     ]
    },
    {
     "name": "stderr",
     "output_type": "stream",
     "text": [
      "100%|██████████| 7/7 [00:07<00:00,  1.04s/it]\n"
     ]
    },
    {
     "name": "stdout",
     "output_type": "stream",
     "text": [
      "---------------------------------\n",
      "Finished inserting vectors for <itmo>!\n",
      "---------------------------------\n"
     ]
    },
    {
     "name": "stderr",
     "output_type": "stream",
     "text": [
      "100%|██████████| 7/7 [00:06<00:00,  1.12it/s]\n"
     ]
    },
    {
     "name": "stdout",
     "output_type": "stream",
     "text": [
      "---------------------------------\n",
      "Finished inserting vectors for <itmo>!\n",
      "---------------------------------\n"
     ]
    },
    {
     "name": "stderr",
     "output_type": "stream",
     "text": [
      "100%|██████████| 7/7 [00:06<00:00,  1.04it/s]\n"
     ]
    },
    {
     "name": "stdout",
     "output_type": "stream",
     "text": [
      "---------------------------------\n",
      "Finished inserting vectors for <itmo>!\n",
      "---------------------------------\n"
     ]
    },
    {
     "name": "stderr",
     "output_type": "stream",
     "text": [
      "100%|██████████| 2/2 [00:01<00:00,  1.10it/s]\n"
     ]
    },
    {
     "name": "stdout",
     "output_type": "stream",
     "text": [
      "---------------------------------\n",
      "Finished inserting vectors for <itmo>!\n",
      "---------------------------------\n"
     ]
    },
    {
     "name": "stderr",
     "output_type": "stream",
     "text": [
      "100%|██████████| 6/6 [00:04<00:00,  1.25it/s]\n"
     ]
    },
    {
     "name": "stdout",
     "output_type": "stream",
     "text": [
      "---------------------------------\n",
      "Finished inserting vectors for <itmo>!\n",
      "---------------------------------\n"
     ]
    },
    {
     "name": "stderr",
     "output_type": "stream",
     "text": [
      "100%|██████████| 5/5 [00:06<00:00,  1.25s/it]\n"
     ]
    },
    {
     "name": "stdout",
     "output_type": "stream",
     "text": [
      "---------------------------------\n",
      "Finished inserting vectors for <itmo>!\n",
      "---------------------------------\n"
     ]
    },
    {
     "name": "stderr",
     "output_type": "stream",
     "text": [
      "100%|██████████| 5/5 [00:03<00:00,  1.26it/s]\n"
     ]
    },
    {
     "name": "stdout",
     "output_type": "stream",
     "text": [
      "---------------------------------\n",
      "Finished inserting vectors for <itmo>!\n",
      "---------------------------------\n"
     ]
    },
    {
     "name": "stderr",
     "output_type": "stream",
     "text": [
      "100%|██████████| 5/5 [00:04<00:00,  1.08it/s]\n"
     ]
    },
    {
     "name": "stdout",
     "output_type": "stream",
     "text": [
      "---------------------------------\n",
      "Finished inserting vectors for <itmo>!\n",
      "---------------------------------\n"
     ]
    },
    {
     "name": "stderr",
     "output_type": "stream",
     "text": [
      "100%|██████████| 5/5 [00:03<00:00,  1.26it/s]\n"
     ]
    },
    {
     "name": "stdout",
     "output_type": "stream",
     "text": [
      "---------------------------------\n",
      "Finished inserting vectors for <itmo>!\n",
      "---------------------------------\n"
     ]
    },
    {
     "name": "stderr",
     "output_type": "stream",
     "text": [
      "100%|██████████| 5/5 [00:04<00:00,  1.03it/s]\n"
     ]
    },
    {
     "name": "stdout",
     "output_type": "stream",
     "text": [
      "---------------------------------\n",
      "Finished inserting vectors for <itmo>!\n",
      "---------------------------------\n"
     ]
    },
    {
     "name": "stderr",
     "output_type": "stream",
     "text": [
      "100%|██████████| 3/3 [00:03<00:00,  1.03s/it]\n"
     ]
    },
    {
     "name": "stdout",
     "output_type": "stream",
     "text": [
      "---------------------------------\n",
      "Finished inserting vectors for <itmo>!\n",
      "---------------------------------\n"
     ]
    },
    {
     "name": "stderr",
     "output_type": "stream",
     "text": [
      "100%|██████████| 4/4 [00:03<00:00,  1.05it/s]\n"
     ]
    },
    {
     "name": "stdout",
     "output_type": "stream",
     "text": [
      "---------------------------------\n",
      "Finished inserting vectors for <itmo>!\n",
      "---------------------------------\n"
     ]
    },
    {
     "name": "stderr",
     "output_type": "stream",
     "text": [
      "100%|██████████| 4/4 [00:03<00:00,  1.33it/s]\n"
     ]
    },
    {
     "name": "stdout",
     "output_type": "stream",
     "text": [
      "---------------------------------\n",
      "Finished inserting vectors for <itmo>!\n",
      "---------------------------------\n"
     ]
    },
    {
     "name": "stderr",
     "output_type": "stream",
     "text": [
      "100%|██████████| 3/3 [00:02<00:00,  1.37it/s]\n"
     ]
    },
    {
     "name": "stdout",
     "output_type": "stream",
     "text": [
      "---------------------------------\n",
      "Finished inserting vectors for <itmo>!\n",
      "---------------------------------\n"
     ]
    },
    {
     "name": "stderr",
     "output_type": "stream",
     "text": [
      "100%|██████████| 4/4 [00:03<00:00,  1.14it/s]\n"
     ]
    },
    {
     "name": "stdout",
     "output_type": "stream",
     "text": [
      "---------------------------------\n",
      "Finished inserting vectors for <itmo>!\n",
      "---------------------------------\n"
     ]
    },
    {
     "name": "stderr",
     "output_type": "stream",
     "text": [
      "100%|██████████| 2/2 [00:01<00:00,  1.30it/s]\n"
     ]
    },
    {
     "name": "stdout",
     "output_type": "stream",
     "text": [
      "---------------------------------\n",
      "Finished inserting vectors for <itmo>!\n",
      "---------------------------------\n"
     ]
    },
    {
     "name": "stderr",
     "output_type": "stream",
     "text": [
      "100%|██████████| 3/3 [00:02<00:00,  1.21it/s]\n"
     ]
    },
    {
     "name": "stdout",
     "output_type": "stream",
     "text": [
      "---------------------------------\n",
      "Finished inserting vectors for <itmo>!\n",
      "---------------------------------\n"
     ]
    },
    {
     "name": "stderr",
     "output_type": "stream",
     "text": [
      "100%|██████████| 2/2 [00:02<00:00,  1.02s/it]\n"
     ]
    },
    {
     "name": "stdout",
     "output_type": "stream",
     "text": [
      "---------------------------------\n",
      "Finished inserting vectors for <itmo>!\n",
      "---------------------------------\n"
     ]
    },
    {
     "name": "stderr",
     "output_type": "stream",
     "text": [
      "100%|██████████| 3/3 [00:02<00:00,  1.27it/s]\n"
     ]
    },
    {
     "name": "stdout",
     "output_type": "stream",
     "text": [
      "---------------------------------\n",
      "Finished inserting vectors for <itmo>!\n",
      "---------------------------------\n"
     ]
    },
    {
     "name": "stderr",
     "output_type": "stream",
     "text": [
      "100%|██████████| 3/3 [00:02<00:00,  1.31it/s]\n"
     ]
    },
    {
     "name": "stdout",
     "output_type": "stream",
     "text": [
      "---------------------------------\n",
      "Finished inserting vectors for <itmo>!\n",
      "---------------------------------\n"
     ]
    },
    {
     "name": "stderr",
     "output_type": "stream",
     "text": [
      "100%|██████████| 7/7 [00:06<00:00,  1.05it/s]\n"
     ]
    },
    {
     "name": "stdout",
     "output_type": "stream",
     "text": [
      "---------------------------------\n",
      "Finished inserting vectors for <itmo>!\n",
      "---------------------------------\n"
     ]
    },
    {
     "name": "stderr",
     "output_type": "stream",
     "text": [
      "100%|██████████| 13/13 [00:10<00:00,  1.21it/s]\n"
     ]
    },
    {
     "name": "stdout",
     "output_type": "stream",
     "text": [
      "---------------------------------\n",
      "Finished inserting vectors for <itmo>!\n",
      "---------------------------------\n"
     ]
    },
    {
     "name": "stderr",
     "output_type": "stream",
     "text": [
      "100%|██████████| 5/5 [00:03<00:00,  1.26it/s]\n"
     ]
    },
    {
     "name": "stdout",
     "output_type": "stream",
     "text": [
      "---------------------------------\n",
      "Finished inserting vectors for <itmo>!\n",
      "---------------------------------\n"
     ]
    },
    {
     "name": "stderr",
     "output_type": "stream",
     "text": [
      "100%|██████████| 5/5 [00:03<00:00,  1.27it/s]\n"
     ]
    },
    {
     "name": "stdout",
     "output_type": "stream",
     "text": [
      "---------------------------------\n",
      "Finished inserting vectors for <itmo>!\n",
      "---------------------------------\n"
     ]
    },
    {
     "name": "stderr",
     "output_type": "stream",
     "text": [
      "100%|██████████| 4/4 [00:03<00:00,  1.16it/s]\n"
     ]
    },
    {
     "name": "stdout",
     "output_type": "stream",
     "text": [
      "---------------------------------\n",
      "Finished inserting vectors for <itmo>!\n",
      "---------------------------------\n"
     ]
    },
    {
     "name": "stderr",
     "output_type": "stream",
     "text": [
      "100%|██████████| 6/6 [00:04<00:00,  1.24it/s]\n"
     ]
    },
    {
     "name": "stdout",
     "output_type": "stream",
     "text": [
      "---------------------------------\n",
      "Finished inserting vectors for <itmo>!\n",
      "---------------------------------\n"
     ]
    },
    {
     "name": "stderr",
     "output_type": "stream",
     "text": [
      "100%|██████████| 7/7 [00:06<00:00,  1.01it/s]\n"
     ]
    },
    {
     "name": "stdout",
     "output_type": "stream",
     "text": [
      "---------------------------------\n",
      "Finished inserting vectors for <itmo>!\n",
      "---------------------------------\n"
     ]
    },
    {
     "name": "stderr",
     "output_type": "stream",
     "text": [
      "100%|██████████| 5/5 [00:04<00:00,  1.19it/s]\n"
     ]
    },
    {
     "name": "stdout",
     "output_type": "stream",
     "text": [
      "---------------------------------\n",
      "Finished inserting vectors for <itmo>!\n",
      "---------------------------------\n"
     ]
    },
    {
     "name": "stderr",
     "output_type": "stream",
     "text": [
      "100%|██████████| 6/6 [00:09<00:00,  1.56s/it]\n"
     ]
    },
    {
     "name": "stdout",
     "output_type": "stream",
     "text": [
      "---------------------------------\n",
      "Finished inserting vectors for <itmo>!\n",
      "---------------------------------\n"
     ]
    },
    {
     "name": "stderr",
     "output_type": "stream",
     "text": [
      "100%|██████████| 3/3 [00:02<00:00,  1.28it/s]\n"
     ]
    },
    {
     "name": "stdout",
     "output_type": "stream",
     "text": [
      "---------------------------------\n",
      "Finished inserting vectors for <itmo>!\n",
      "---------------------------------\n"
     ]
    },
    {
     "name": "stderr",
     "output_type": "stream",
     "text": [
      "100%|██████████| 4/4 [00:03<00:00,  1.22it/s]\n"
     ]
    },
    {
     "name": "stdout",
     "output_type": "stream",
     "text": [
      "---------------------------------\n",
      "Finished inserting vectors for <itmo>!\n",
      "---------------------------------\n"
     ]
    },
    {
     "name": "stderr",
     "output_type": "stream",
     "text": [
      "100%|██████████| 1/1 [00:00<00:00,  1.18it/s]\n"
     ]
    },
    {
     "name": "stdout",
     "output_type": "stream",
     "text": [
      "---------------------------------\n",
      "Finished inserting vectors for <itmo>!\n",
      "---------------------------------\n"
     ]
    },
    {
     "name": "stderr",
     "output_type": "stream",
     "text": [
      "100%|██████████| 4/4 [00:03<00:00,  1.10it/s]\n"
     ]
    },
    {
     "name": "stdout",
     "output_type": "stream",
     "text": [
      "---------------------------------\n",
      "Finished inserting vectors for <itmo>!\n",
      "---------------------------------\n"
     ]
    },
    {
     "name": "stderr",
     "output_type": "stream",
     "text": [
      "100%|██████████| 3/3 [00:02<00:00,  1.25it/s]\n"
     ]
    },
    {
     "name": "stdout",
     "output_type": "stream",
     "text": [
      "---------------------------------\n",
      "Finished inserting vectors for <itmo>!\n",
      "---------------------------------\n"
     ]
    },
    {
     "name": "stderr",
     "output_type": "stream",
     "text": [
      "100%|██████████| 4/4 [00:03<00:00,  1.24it/s]\n"
     ]
    },
    {
     "name": "stdout",
     "output_type": "stream",
     "text": [
      "---------------------------------\n",
      "Finished inserting vectors for <itmo>!\n",
      "---------------------------------\n"
     ]
    },
    {
     "name": "stderr",
     "output_type": "stream",
     "text": [
      "100%|██████████| 4/4 [00:03<00:00,  1.06it/s]\n"
     ]
    },
    {
     "name": "stdout",
     "output_type": "stream",
     "text": [
      "---------------------------------\n",
      "Finished inserting vectors for <itmo>!\n",
      "---------------------------------\n"
     ]
    },
    {
     "name": "stderr",
     "output_type": "stream",
     "text": [
      "100%|██████████| 4/4 [00:03<00:00,  1.29it/s]\n"
     ]
    },
    {
     "name": "stdout",
     "output_type": "stream",
     "text": [
      "---------------------------------\n",
      "Finished inserting vectors for <itmo>!\n",
      "---------------------------------\n"
     ]
    },
    {
     "name": "stderr",
     "output_type": "stream",
     "text": [
      "100%|██████████| 6/6 [00:04<00:00,  1.40it/s]\n"
     ]
    },
    {
     "name": "stdout",
     "output_type": "stream",
     "text": [
      "---------------------------------\n",
      "Finished inserting vectors for <itmo>!\n",
      "---------------------------------\n"
     ]
    },
    {
     "name": "stderr",
     "output_type": "stream",
     "text": [
      "100%|██████████| 6/6 [00:08<00:00,  1.36s/it]\n"
     ]
    },
    {
     "name": "stdout",
     "output_type": "stream",
     "text": [
      "---------------------------------\n",
      "Finished inserting vectors for <itmo>!\n",
      "---------------------------------\n"
     ]
    },
    {
     "name": "stderr",
     "output_type": "stream",
     "text": [
      "100%|██████████| 4/4 [00:02<00:00,  1.48it/s]\n"
     ]
    },
    {
     "name": "stdout",
     "output_type": "stream",
     "text": [
      "---------------------------------\n",
      "Finished inserting vectors for <itmo>!\n",
      "---------------------------------\n"
     ]
    },
    {
     "name": "stderr",
     "output_type": "stream",
     "text": [
      "100%|██████████| 7/7 [00:05<00:00,  1.27it/s]\n"
     ]
    },
    {
     "name": "stdout",
     "output_type": "stream",
     "text": [
      "---------------------------------\n",
      "Finished inserting vectors for <itmo>!\n",
      "---------------------------------\n"
     ]
    },
    {
     "name": "stderr",
     "output_type": "stream",
     "text": [
      "100%|██████████| 5/5 [00:04<00:00,  1.14it/s]\n"
     ]
    },
    {
     "name": "stdout",
     "output_type": "stream",
     "text": [
      "---------------------------------\n",
      "Finished inserting vectors for <itmo>!\n",
      "---------------------------------\n"
     ]
    },
    {
     "name": "stderr",
     "output_type": "stream",
     "text": [
      "100%|██████████| 8/8 [00:13<00:00,  1.72s/it]\n"
     ]
    },
    {
     "name": "stdout",
     "output_type": "stream",
     "text": [
      "---------------------------------\n",
      "Finished inserting vectors for <itmo>!\n",
      "---------------------------------\n"
     ]
    },
    {
     "name": "stderr",
     "output_type": "stream",
     "text": [
      "100%|██████████| 7/7 [00:05<00:00,  1.21it/s]\n"
     ]
    },
    {
     "name": "stdout",
     "output_type": "stream",
     "text": [
      "---------------------------------\n",
      "Finished inserting vectors for <itmo>!\n",
      "---------------------------------\n"
     ]
    },
    {
     "name": "stderr",
     "output_type": "stream",
     "text": [
      "100%|██████████| 8/8 [00:11<00:00,  1.43s/it]\n"
     ]
    },
    {
     "name": "stdout",
     "output_type": "stream",
     "text": [
      "---------------------------------\n",
      "Finished inserting vectors for <itmo>!\n",
      "---------------------------------\n"
     ]
    },
    {
     "name": "stderr",
     "output_type": "stream",
     "text": [
      "100%|██████████| 3/3 [00:02<00:00,  1.09it/s]\n"
     ]
    },
    {
     "name": "stdout",
     "output_type": "stream",
     "text": [
      "---------------------------------\n",
      "Finished inserting vectors for <itmo>!\n",
      "---------------------------------\n"
     ]
    },
    {
     "name": "stderr",
     "output_type": "stream",
     "text": [
      "100%|██████████| 3/3 [00:02<00:00,  1.20it/s]\n"
     ]
    },
    {
     "name": "stdout",
     "output_type": "stream",
     "text": [
      "---------------------------------\n",
      "Finished inserting vectors for <itmo>!\n",
      "---------------------------------\n"
     ]
    },
    {
     "name": "stderr",
     "output_type": "stream",
     "text": [
      "100%|██████████| 9/9 [00:08<00:00,  1.06it/s]\n"
     ]
    },
    {
     "name": "stdout",
     "output_type": "stream",
     "text": [
      "---------------------------------\n",
      "Finished inserting vectors for <itmo>!\n",
      "---------------------------------\n"
     ]
    },
    {
     "name": "stderr",
     "output_type": "stream",
     "text": [
      "100%|██████████| 7/7 [00:06<00:00,  1.13it/s]\n"
     ]
    },
    {
     "name": "stdout",
     "output_type": "stream",
     "text": [
      "---------------------------------\n",
      "Finished inserting vectors for <itmo>!\n",
      "---------------------------------\n"
     ]
    },
    {
     "name": "stderr",
     "output_type": "stream",
     "text": [
      "100%|██████████| 5/5 [00:04<00:00,  1.02it/s]\n"
     ]
    },
    {
     "name": "stdout",
     "output_type": "stream",
     "text": [
      "---------------------------------\n",
      "Finished inserting vectors for <itmo>!\n",
      "---------------------------------\n"
     ]
    },
    {
     "name": "stderr",
     "output_type": "stream",
     "text": [
      "100%|██████████| 3/3 [00:02<00:00,  1.11it/s]\n"
     ]
    },
    {
     "name": "stdout",
     "output_type": "stream",
     "text": [
      "---------------------------------\n",
      "Finished inserting vectors for <itmo>!\n",
      "---------------------------------\n"
     ]
    },
    {
     "name": "stderr",
     "output_type": "stream",
     "text": [
      "100%|██████████| 6/6 [00:08<00:00,  1.43s/it]\n"
     ]
    },
    {
     "name": "stdout",
     "output_type": "stream",
     "text": [
      "---------------------------------\n",
      "Finished inserting vectors for <itmo>!\n",
      "---------------------------------\n"
     ]
    },
    {
     "name": "stderr",
     "output_type": "stream",
     "text": [
      "100%|██████████| 4/4 [00:03<00:00,  1.30it/s]\n"
     ]
    },
    {
     "name": "stdout",
     "output_type": "stream",
     "text": [
      "---------------------------------\n",
      "Finished inserting vectors for <itmo>!\n",
      "---------------------------------\n"
     ]
    },
    {
     "name": "stderr",
     "output_type": "stream",
     "text": [
      "100%|██████████| 7/7 [00:06<00:00,  1.10it/s]\n"
     ]
    },
    {
     "name": "stdout",
     "output_type": "stream",
     "text": [
      "---------------------------------\n",
      "Finished inserting vectors for <itmo>!\n",
      "---------------------------------\n"
     ]
    },
    {
     "name": "stderr",
     "output_type": "stream",
     "text": [
      "100%|██████████| 4/4 [00:03<00:00,  1.18it/s]\n"
     ]
    },
    {
     "name": "stdout",
     "output_type": "stream",
     "text": [
      "---------------------------------\n",
      "Finished inserting vectors for <itmo>!\n",
      "---------------------------------\n"
     ]
    },
    {
     "name": "stderr",
     "output_type": "stream",
     "text": [
      "100%|██████████| 8/8 [00:06<00:00,  1.22it/s]\n"
     ]
    },
    {
     "name": "stdout",
     "output_type": "stream",
     "text": [
      "---------------------------------\n",
      "Finished inserting vectors for <itmo>!\n",
      "---------------------------------\n"
     ]
    },
    {
     "name": "stderr",
     "output_type": "stream",
     "text": [
      "100%|██████████| 3/3 [00:02<00:00,  1.28it/s]\n"
     ]
    },
    {
     "name": "stdout",
     "output_type": "stream",
     "text": [
      "---------------------------------\n",
      "Finished inserting vectors for <itmo>!\n",
      "---------------------------------\n"
     ]
    },
    {
     "name": "stderr",
     "output_type": "stream",
     "text": [
      "100%|██████████| 3/3 [00:02<00:00,  1.21it/s]\n"
     ]
    },
    {
     "name": "stdout",
     "output_type": "stream",
     "text": [
      "---------------------------------\n",
      "Finished inserting vectors for <itmo>!\n",
      "---------------------------------\n"
     ]
    },
    {
     "name": "stderr",
     "output_type": "stream",
     "text": [
      "100%|██████████| 3/3 [00:03<00:00,  1.21s/it]\n"
     ]
    },
    {
     "name": "stdout",
     "output_type": "stream",
     "text": [
      "---------------------------------\n",
      "Finished inserting vectors for <itmo>!\n",
      "---------------------------------\n"
     ]
    },
    {
     "name": "stderr",
     "output_type": "stream",
     "text": [
      "100%|██████████| 3/3 [00:02<00:00,  1.19it/s]\n"
     ]
    },
    {
     "name": "stdout",
     "output_type": "stream",
     "text": [
      "---------------------------------\n",
      "Finished inserting vectors for <itmo>!\n",
      "---------------------------------\n"
     ]
    },
    {
     "name": "stderr",
     "output_type": "stream",
     "text": [
      "100%|██████████| 4/4 [00:03<00:00,  1.25it/s]\n"
     ]
    },
    {
     "name": "stdout",
     "output_type": "stream",
     "text": [
      "---------------------------------\n",
      "Finished inserting vectors for <itmo>!\n",
      "---------------------------------\n"
     ]
    },
    {
     "name": "stderr",
     "output_type": "stream",
     "text": [
      "100%|██████████| 2/2 [00:01<00:00,  1.06it/s]\n"
     ]
    },
    {
     "name": "stdout",
     "output_type": "stream",
     "text": [
      "---------------------------------\n",
      "Finished inserting vectors for <itmo>!\n",
      "---------------------------------\n"
     ]
    },
    {
     "name": "stderr",
     "output_type": "stream",
     "text": [
      "100%|██████████| 4/4 [00:05<00:00,  1.43s/it]\n"
     ]
    },
    {
     "name": "stdout",
     "output_type": "stream",
     "text": [
      "---------------------------------\n",
      "Finished inserting vectors for <itmo>!\n",
      "---------------------------------\n"
     ]
    },
    {
     "name": "stderr",
     "output_type": "stream",
     "text": [
      "100%|██████████| 3/3 [00:02<00:00,  1.14it/s]\n"
     ]
    },
    {
     "name": "stdout",
     "output_type": "stream",
     "text": [
      "---------------------------------\n",
      "Finished inserting vectors for <itmo>!\n",
      "---------------------------------\n"
     ]
    },
    {
     "name": "stderr",
     "output_type": "stream",
     "text": [
      "100%|██████████| 5/5 [00:05<00:00,  1.14s/it]\n"
     ]
    },
    {
     "name": "stdout",
     "output_type": "stream",
     "text": [
      "---------------------------------\n",
      "Finished inserting vectors for <itmo>!\n",
      "---------------------------------\n"
     ]
    },
    {
     "name": "stderr",
     "output_type": "stream",
     "text": [
      "100%|██████████| 13/13 [00:11<00:00,  1.16it/s]\n"
     ]
    },
    {
     "name": "stdout",
     "output_type": "stream",
     "text": [
      "---------------------------------\n",
      "Finished inserting vectors for <itmo>!\n",
      "---------------------------------\n"
     ]
    },
    {
     "name": "stderr",
     "output_type": "stream",
     "text": [
      "100%|██████████| 4/4 [00:03<00:00,  1.30it/s]\n"
     ]
    },
    {
     "name": "stdout",
     "output_type": "stream",
     "text": [
      "---------------------------------\n",
      "Finished inserting vectors for <itmo>!\n",
      "---------------------------------\n"
     ]
    },
    {
     "name": "stderr",
     "output_type": "stream",
     "text": [
      "100%|██████████| 5/5 [00:04<00:00,  1.06it/s]\n"
     ]
    },
    {
     "name": "stdout",
     "output_type": "stream",
     "text": [
      "---------------------------------\n",
      "Finished inserting vectors for <itmo>!\n",
      "---------------------------------\n"
     ]
    },
    {
     "name": "stderr",
     "output_type": "stream",
     "text": [
      "100%|██████████| 3/3 [00:02<00:00,  1.31it/s]\n"
     ]
    },
    {
     "name": "stdout",
     "output_type": "stream",
     "text": [
      "---------------------------------\n",
      "Finished inserting vectors for <itmo>!\n",
      "---------------------------------\n"
     ]
    },
    {
     "name": "stderr",
     "output_type": "stream",
     "text": [
      "100%|██████████| 2/2 [00:01<00:00,  1.24it/s]\n"
     ]
    },
    {
     "name": "stdout",
     "output_type": "stream",
     "text": [
      "---------------------------------\n",
      "Finished inserting vectors for <itmo>!\n",
      "---------------------------------\n"
     ]
    },
    {
     "name": "stderr",
     "output_type": "stream",
     "text": [
      "100%|██████████| 3/3 [00:02<00:00,  1.45it/s]\n"
     ]
    },
    {
     "name": "stdout",
     "output_type": "stream",
     "text": [
      "---------------------------------\n",
      "Finished inserting vectors for <itmo>!\n",
      "---------------------------------\n"
     ]
    },
    {
     "name": "stderr",
     "output_type": "stream",
     "text": [
      "100%|██████████| 3/3 [00:02<00:00,  1.41it/s]\n"
     ]
    },
    {
     "name": "stdout",
     "output_type": "stream",
     "text": [
      "---------------------------------\n",
      "Finished inserting vectors for <itmo>!\n",
      "---------------------------------\n"
     ]
    },
    {
     "name": "stderr",
     "output_type": "stream",
     "text": [
      "100%|██████████| 3/3 [00:02<00:00,  1.29it/s]\n"
     ]
    },
    {
     "name": "stdout",
     "output_type": "stream",
     "text": [
      "---------------------------------\n",
      "Finished inserting vectors for <itmo>!\n",
      "---------------------------------\n"
     ]
    },
    {
     "name": "stderr",
     "output_type": "stream",
     "text": [
      "100%|██████████| 4/4 [00:03<00:00,  1.30it/s]\n"
     ]
    },
    {
     "name": "stdout",
     "output_type": "stream",
     "text": [
      "---------------------------------\n",
      "Finished inserting vectors for <itmo>!\n",
      "---------------------------------\n"
     ]
    },
    {
     "name": "stderr",
     "output_type": "stream",
     "text": [
      "100%|██████████| 6/6 [00:04<00:00,  1.22it/s]\n"
     ]
    },
    {
     "name": "stdout",
     "output_type": "stream",
     "text": [
      "---------------------------------\n",
      "Finished inserting vectors for <itmo>!\n",
      "---------------------------------\n"
     ]
    },
    {
     "name": "stderr",
     "output_type": "stream",
     "text": [
      "100%|██████████| 3/3 [00:02<00:00,  1.46it/s]\n"
     ]
    },
    {
     "name": "stdout",
     "output_type": "stream",
     "text": [
      "---------------------------------\n",
      "Finished inserting vectors for <itmo>!\n",
      "---------------------------------\n"
     ]
    },
    {
     "name": "stderr",
     "output_type": "stream",
     "text": [
      "100%|██████████| 4/4 [00:04<00:00,  1.22s/it]\n"
     ]
    },
    {
     "name": "stdout",
     "output_type": "stream",
     "text": [
      "---------------------------------\n",
      "Finished inserting vectors for <itmo>!\n",
      "---------------------------------\n"
     ]
    },
    {
     "name": "stderr",
     "output_type": "stream",
     "text": [
      "100%|██████████| 5/5 [00:03<00:00,  1.45it/s]\n"
     ]
    },
    {
     "name": "stdout",
     "output_type": "stream",
     "text": [
      "---------------------------------\n",
      "Finished inserting vectors for <itmo>!\n",
      "---------------------------------\n"
     ]
    },
    {
     "name": "stderr",
     "output_type": "stream",
     "text": [
      "100%|██████████| 3/3 [00:02<00:00,  1.32it/s]\n"
     ]
    },
    {
     "name": "stdout",
     "output_type": "stream",
     "text": [
      "---------------------------------\n",
      "Finished inserting vectors for <itmo>!\n",
      "---------------------------------\n"
     ]
    },
    {
     "name": "stderr",
     "output_type": "stream",
     "text": [
      "100%|██████████| 4/4 [00:04<00:00,  1.22s/it]\n"
     ]
    },
    {
     "name": "stdout",
     "output_type": "stream",
     "text": [
      "---------------------------------\n",
      "Finished inserting vectors for <itmo>!\n",
      "---------------------------------\n"
     ]
    },
    {
     "name": "stderr",
     "output_type": "stream",
     "text": [
      "100%|██████████| 3/3 [00:02<00:00,  1.50it/s]\n"
     ]
    },
    {
     "name": "stdout",
     "output_type": "stream",
     "text": [
      "---------------------------------\n",
      "Finished inserting vectors for <itmo>!\n",
      "---------------------------------\n"
     ]
    },
    {
     "name": "stderr",
     "output_type": "stream",
     "text": [
      "100%|██████████| 3/3 [00:02<00:00,  1.15it/s]\n"
     ]
    },
    {
     "name": "stdout",
     "output_type": "stream",
     "text": [
      "---------------------------------\n",
      "Finished inserting vectors for <itmo>!\n",
      "---------------------------------\n"
     ]
    },
    {
     "name": "stderr",
     "output_type": "stream",
     "text": [
      "100%|██████████| 3/3 [00:02<00:00,  1.32it/s]\n"
     ]
    },
    {
     "name": "stdout",
     "output_type": "stream",
     "text": [
      "---------------------------------\n",
      "Finished inserting vectors for <itmo>!\n",
      "---------------------------------\n"
     ]
    },
    {
     "name": "stderr",
     "output_type": "stream",
     "text": [
      "100%|██████████| 7/7 [00:04<00:00,  1.50it/s]\n"
     ]
    },
    {
     "name": "stdout",
     "output_type": "stream",
     "text": [
      "---------------------------------\n",
      "Finished inserting vectors for <itmo>!\n",
      "---------------------------------\n"
     ]
    },
    {
     "name": "stderr",
     "output_type": "stream",
     "text": [
      "100%|██████████| 3/3 [00:02<00:00,  1.34it/s]\n"
     ]
    },
    {
     "name": "stdout",
     "output_type": "stream",
     "text": [
      "---------------------------------\n",
      "Finished inserting vectors for <itmo>!\n",
      "---------------------------------\n"
     ]
    },
    {
     "name": "stderr",
     "output_type": "stream",
     "text": [
      "100%|██████████| 3/3 [00:02<00:00,  1.16it/s]\n"
     ]
    },
    {
     "name": "stdout",
     "output_type": "stream",
     "text": [
      "---------------------------------\n",
      "Finished inserting vectors for <itmo>!\n",
      "---------------------------------\n"
     ]
    },
    {
     "name": "stderr",
     "output_type": "stream",
     "text": [
      "100%|██████████| 4/4 [00:03<00:00,  1.27it/s]\n"
     ]
    },
    {
     "name": "stdout",
     "output_type": "stream",
     "text": [
      "---------------------------------\n",
      "Finished inserting vectors for <itmo>!\n",
      "---------------------------------\n"
     ]
    },
    {
     "name": "stderr",
     "output_type": "stream",
     "text": [
      "100%|██████████| 4/4 [00:03<00:00,  1.24it/s]\n"
     ]
    },
    {
     "name": "stdout",
     "output_type": "stream",
     "text": [
      "---------------------------------\n",
      "Finished inserting vectors for <itmo>!\n",
      "---------------------------------\n"
     ]
    },
    {
     "name": "stderr",
     "output_type": "stream",
     "text": [
      "100%|██████████| 9/9 [00:05<00:00,  1.53it/s]\n"
     ]
    },
    {
     "name": "stdout",
     "output_type": "stream",
     "text": [
      "---------------------------------\n",
      "Finished inserting vectors for <itmo>!\n",
      "---------------------------------\n"
     ]
    },
    {
     "name": "stderr",
     "output_type": "stream",
     "text": [
      "100%|██████████| 4/4 [00:03<00:00,  1.32it/s]\n"
     ]
    },
    {
     "name": "stdout",
     "output_type": "stream",
     "text": [
      "---------------------------------\n",
      "Finished inserting vectors for <itmo>!\n",
      "---------------------------------\n"
     ]
    },
    {
     "name": "stderr",
     "output_type": "stream",
     "text": [
      "100%|██████████| 5/5 [00:03<00:00,  1.60it/s]\n"
     ]
    },
    {
     "name": "stdout",
     "output_type": "stream",
     "text": [
      "---------------------------------\n",
      "Finished inserting vectors for <itmo>!\n",
      "---------------------------------\n"
     ]
    },
    {
     "name": "stderr",
     "output_type": "stream",
     "text": [
      "100%|██████████| 4/4 [00:03<00:00,  1.10it/s]\n"
     ]
    },
    {
     "name": "stdout",
     "output_type": "stream",
     "text": [
      "---------------------------------\n",
      "Finished inserting vectors for <itmo>!\n",
      "---------------------------------\n"
     ]
    },
    {
     "name": "stderr",
     "output_type": "stream",
     "text": [
      "100%|██████████| 3/3 [00:02<00:00,  1.26it/s]\n"
     ]
    },
    {
     "name": "stdout",
     "output_type": "stream",
     "text": [
      "---------------------------------\n",
      "Finished inserting vectors for <itmo>!\n",
      "---------------------------------\n"
     ]
    },
    {
     "name": "stderr",
     "output_type": "stream",
     "text": [
      "100%|██████████| 3/3 [00:03<00:00,  1.16s/it]\n"
     ]
    },
    {
     "name": "stdout",
     "output_type": "stream",
     "text": [
      "---------------------------------\n",
      "Finished inserting vectors for <itmo>!\n",
      "---------------------------------\n"
     ]
    },
    {
     "name": "stderr",
     "output_type": "stream",
     "text": [
      "100%|██████████| 4/4 [00:02<00:00,  1.36it/s]\n"
     ]
    },
    {
     "name": "stdout",
     "output_type": "stream",
     "text": [
      "---------------------------------\n",
      "Finished inserting vectors for <itmo>!\n",
      "---------------------------------\n"
     ]
    },
    {
     "name": "stderr",
     "output_type": "stream",
     "text": [
      "100%|██████████| 3/3 [00:04<00:00,  1.50s/it]\n"
     ]
    },
    {
     "name": "stdout",
     "output_type": "stream",
     "text": [
      "---------------------------------\n",
      "Finished inserting vectors for <itmo>!\n",
      "---------------------------------\n"
     ]
    },
    {
     "name": "stderr",
     "output_type": "stream",
     "text": [
      "100%|██████████| 6/6 [00:04<00:00,  1.25it/s]\n"
     ]
    },
    {
     "name": "stdout",
     "output_type": "stream",
     "text": [
      "---------------------------------\n",
      "Finished inserting vectors for <itmo>!\n",
      "---------------------------------\n"
     ]
    },
    {
     "name": "stderr",
     "output_type": "stream",
     "text": [
      "100%|██████████| 4/4 [00:05<00:00,  1.45s/it]\n"
     ]
    },
    {
     "name": "stdout",
     "output_type": "stream",
     "text": [
      "---------------------------------\n",
      "Finished inserting vectors for <itmo>!\n",
      "---------------------------------\n"
     ]
    },
    {
     "name": "stderr",
     "output_type": "stream",
     "text": [
      "100%|██████████| 5/5 [00:03<00:00,  1.32it/s]\n"
     ]
    },
    {
     "name": "stdout",
     "output_type": "stream",
     "text": [
      "---------------------------------\n",
      "Finished inserting vectors for <itmo>!\n",
      "---------------------------------\n"
     ]
    },
    {
     "name": "stderr",
     "output_type": "stream",
     "text": [
      "100%|██████████| 6/6 [00:04<00:00,  1.30it/s]\n"
     ]
    },
    {
     "name": "stdout",
     "output_type": "stream",
     "text": [
      "---------------------------------\n",
      "Finished inserting vectors for <itmo>!\n",
      "---------------------------------\n"
     ]
    },
    {
     "name": "stderr",
     "output_type": "stream",
     "text": [
      "100%|██████████| 2/2 [00:01<00:00,  1.49it/s]\n"
     ]
    },
    {
     "name": "stdout",
     "output_type": "stream",
     "text": [
      "---------------------------------\n",
      "Finished inserting vectors for <itmo>!\n",
      "---------------------------------\n"
     ]
    },
    {
     "name": "stderr",
     "output_type": "stream",
     "text": [
      "100%|██████████| 3/3 [00:02<00:00,  1.26it/s]\n"
     ]
    },
    {
     "name": "stdout",
     "output_type": "stream",
     "text": [
      "---------------------------------\n",
      "Finished inserting vectors for <itmo>!\n",
      "---------------------------------\n"
     ]
    },
    {
     "name": "stderr",
     "output_type": "stream",
     "text": [
      "100%|██████████| 5/5 [00:03<00:00,  1.36it/s]\n"
     ]
    },
    {
     "name": "stdout",
     "output_type": "stream",
     "text": [
      "---------------------------------\n",
      "Finished inserting vectors for <itmo>!\n",
      "---------------------------------\n"
     ]
    },
    {
     "name": "stderr",
     "output_type": "stream",
     "text": [
      "100%|██████████| 3/3 [00:01<00:00,  1.54it/s]\n"
     ]
    },
    {
     "name": "stdout",
     "output_type": "stream",
     "text": [
      "---------------------------------\n",
      "Finished inserting vectors for <itmo>!\n",
      "---------------------------------\n"
     ]
    },
    {
     "name": "stderr",
     "output_type": "stream",
     "text": [
      "100%|██████████| 3/3 [00:02<00:00,  1.34it/s]\n"
     ]
    },
    {
     "name": "stdout",
     "output_type": "stream",
     "text": [
      "---------------------------------\n",
      "Finished inserting vectors for <itmo>!\n",
      "---------------------------------\n"
     ]
    },
    {
     "name": "stderr",
     "output_type": "stream",
     "text": [
      "100%|██████████| 2/2 [00:02<00:00,  1.13s/it]\n"
     ]
    },
    {
     "name": "stdout",
     "output_type": "stream",
     "text": [
      "---------------------------------\n",
      "Finished inserting vectors for <itmo>!\n",
      "---------------------------------\n"
     ]
    },
    {
     "name": "stderr",
     "output_type": "stream",
     "text": [
      "100%|██████████| 4/4 [00:03<00:00,  1.31it/s]\n"
     ]
    },
    {
     "name": "stdout",
     "output_type": "stream",
     "text": [
      "---------------------------------\n",
      "Finished inserting vectors for <itmo>!\n",
      "---------------------------------\n"
     ]
    },
    {
     "name": "stderr",
     "output_type": "stream",
     "text": [
      "100%|██████████| 5/5 [00:04<00:00,  1.10it/s]\n"
     ]
    },
    {
     "name": "stdout",
     "output_type": "stream",
     "text": [
      "---------------------------------\n",
      "Finished inserting vectors for <itmo>!\n",
      "---------------------------------\n"
     ]
    },
    {
     "name": "stderr",
     "output_type": "stream",
     "text": [
      "100%|██████████| 3/3 [00:02<00:00,  1.35it/s]\n"
     ]
    },
    {
     "name": "stdout",
     "output_type": "stream",
     "text": [
      "---------------------------------\n",
      "Finished inserting vectors for <itmo>!\n",
      "---------------------------------\n"
     ]
    },
    {
     "name": "stderr",
     "output_type": "stream",
     "text": [
      "100%|██████████| 5/5 [00:05<00:00,  1.09s/it]\n"
     ]
    },
    {
     "name": "stdout",
     "output_type": "stream",
     "text": [
      "---------------------------------\n",
      "Finished inserting vectors for <itmo>!\n",
      "---------------------------------\n"
     ]
    },
    {
     "name": "stderr",
     "output_type": "stream",
     "text": [
      "100%|██████████| 5/5 [00:06<00:00,  1.20s/it]\n"
     ]
    },
    {
     "name": "stdout",
     "output_type": "stream",
     "text": [
      "---------------------------------\n",
      "Finished inserting vectors for <itmo>!\n",
      "---------------------------------\n"
     ]
    },
    {
     "name": "stderr",
     "output_type": "stream",
     "text": [
      "100%|██████████| 6/6 [00:04<00:00,  1.30it/s]\n"
     ]
    },
    {
     "name": "stdout",
     "output_type": "stream",
     "text": [
      "---------------------------------\n",
      "Finished inserting vectors for <itmo>!\n",
      "---------------------------------\n"
     ]
    },
    {
     "name": "stderr",
     "output_type": "stream",
     "text": [
      "100%|██████████| 3/3 [00:01<00:00,  1.60it/s]\n"
     ]
    },
    {
     "name": "stdout",
     "output_type": "stream",
     "text": [
      "---------------------------------\n",
      "Finished inserting vectors for <itmo>!\n",
      "---------------------------------\n"
     ]
    },
    {
     "name": "stderr",
     "output_type": "stream",
     "text": [
      "100%|██████████| 3/3 [00:04<00:00,  1.45s/it]\n"
     ]
    },
    {
     "name": "stdout",
     "output_type": "stream",
     "text": [
      "---------------------------------\n",
      "Finished inserting vectors for <itmo>!\n",
      "---------------------------------\n"
     ]
    },
    {
     "name": "stderr",
     "output_type": "stream",
     "text": [
      "100%|██████████| 4/4 [00:04<00:00,  1.18s/it]\n"
     ]
    },
    {
     "name": "stdout",
     "output_type": "stream",
     "text": [
      "---------------------------------\n",
      "Finished inserting vectors for <itmo>!\n",
      "---------------------------------\n"
     ]
    },
    {
     "name": "stderr",
     "output_type": "stream",
     "text": [
      "100%|██████████| 4/4 [00:02<00:00,  1.38it/s]\n"
     ]
    },
    {
     "name": "stdout",
     "output_type": "stream",
     "text": [
      "---------------------------------\n",
      "Finished inserting vectors for <itmo>!\n",
      "---------------------------------\n"
     ]
    },
    {
     "name": "stderr",
     "output_type": "stream",
     "text": [
      "100%|██████████| 1/1 [00:00<00:00,  1.06it/s]\n"
     ]
    },
    {
     "name": "stdout",
     "output_type": "stream",
     "text": [
      "---------------------------------\n",
      "Finished inserting vectors for <itmo>!\n",
      "---------------------------------\n"
     ]
    },
    {
     "name": "stderr",
     "output_type": "stream",
     "text": [
      "100%|██████████| 4/4 [00:02<00:00,  1.47it/s]\n"
     ]
    },
    {
     "name": "stdout",
     "output_type": "stream",
     "text": [
      "---------------------------------\n",
      "Finished inserting vectors for <itmo>!\n",
      "---------------------------------\n"
     ]
    },
    {
     "name": "stderr",
     "output_type": "stream",
     "text": [
      "100%|██████████| 7/7 [00:05<00:00,  1.38it/s]\n"
     ]
    },
    {
     "name": "stdout",
     "output_type": "stream",
     "text": [
      "---------------------------------\n",
      "Finished inserting vectors for <itmo>!\n",
      "---------------------------------\n"
     ]
    },
    {
     "name": "stderr",
     "output_type": "stream",
     "text": [
      "100%|██████████| 2/2 [00:01<00:00,  1.14it/s]\n"
     ]
    },
    {
     "name": "stdout",
     "output_type": "stream",
     "text": [
      "---------------------------------\n",
      "Finished inserting vectors for <itmo>!\n",
      "---------------------------------\n"
     ]
    },
    {
     "name": "stderr",
     "output_type": "stream",
     "text": [
      "100%|██████████| 6/6 [00:04<00:00,  1.49it/s]\n"
     ]
    },
    {
     "name": "stdout",
     "output_type": "stream",
     "text": [
      "---------------------------------\n",
      "Finished inserting vectors for <itmo>!\n",
      "---------------------------------\n"
     ]
    },
    {
     "name": "stderr",
     "output_type": "stream",
     "text": [
      "100%|██████████| 6/6 [00:08<00:00,  1.49s/it]\n"
     ]
    },
    {
     "name": "stdout",
     "output_type": "stream",
     "text": [
      "---------------------------------\n",
      "Finished inserting vectors for <itmo>!\n",
      "---------------------------------\n"
     ]
    },
    {
     "name": "stderr",
     "output_type": "stream",
     "text": [
      "100%|██████████| 2/2 [00:03<00:00,  1.99s/it]\n"
     ]
    },
    {
     "name": "stdout",
     "output_type": "stream",
     "text": [
      "---------------------------------\n",
      "Finished inserting vectors for <itmo>!\n",
      "---------------------------------\n"
     ]
    },
    {
     "name": "stderr",
     "output_type": "stream",
     "text": [
      "100%|██████████| 4/4 [00:03<00:00,  1.02it/s]\n"
     ]
    },
    {
     "name": "stdout",
     "output_type": "stream",
     "text": [
      "---------------------------------\n",
      "Finished inserting vectors for <itmo>!\n",
      "---------------------------------\n"
     ]
    },
    {
     "name": "stderr",
     "output_type": "stream",
     "text": [
      "100%|██████████| 2/2 [00:01<00:00,  1.35it/s]\n"
     ]
    },
    {
     "name": "stdout",
     "output_type": "stream",
     "text": [
      "---------------------------------\n",
      "Finished inserting vectors for <itmo>!\n",
      "---------------------------------\n"
     ]
    },
    {
     "name": "stderr",
     "output_type": "stream",
     "text": [
      "100%|██████████| 8/8 [00:06<00:00,  1.22it/s]\n"
     ]
    },
    {
     "name": "stdout",
     "output_type": "stream",
     "text": [
      "---------------------------------\n",
      "Finished inserting vectors for <itmo>!\n",
      "---------------------------------\n"
     ]
    },
    {
     "name": "stderr",
     "output_type": "stream",
     "text": [
      "100%|██████████| 3/3 [00:02<00:00,  1.27it/s]\n"
     ]
    },
    {
     "name": "stdout",
     "output_type": "stream",
     "text": [
      "---------------------------------\n",
      "Finished inserting vectors for <itmo>!\n",
      "---------------------------------\n"
     ]
    },
    {
     "name": "stderr",
     "output_type": "stream",
     "text": [
      "100%|██████████| 3/3 [00:03<00:00,  1.11s/it]\n"
     ]
    },
    {
     "name": "stdout",
     "output_type": "stream",
     "text": [
      "---------------------------------\n",
      "Finished inserting vectors for <itmo>!\n",
      "---------------------------------\n"
     ]
    },
    {
     "name": "stderr",
     "output_type": "stream",
     "text": [
      "100%|██████████| 3/3 [00:02<00:00,  1.46it/s]\n"
     ]
    },
    {
     "name": "stdout",
     "output_type": "stream",
     "text": [
      "---------------------------------\n",
      "Finished inserting vectors for <itmo>!\n",
      "---------------------------------\n"
     ]
    },
    {
     "name": "stderr",
     "output_type": "stream",
     "text": [
      "100%|██████████| 5/5 [00:05<00:00,  1.02s/it]\n"
     ]
    },
    {
     "name": "stdout",
     "output_type": "stream",
     "text": [
      "---------------------------------\n",
      "Finished inserting vectors for <itmo>!\n",
      "---------------------------------\n"
     ]
    },
    {
     "name": "stderr",
     "output_type": "stream",
     "text": [
      "100%|██████████| 3/3 [00:03<00:00,  1.09s/it]\n"
     ]
    },
    {
     "name": "stdout",
     "output_type": "stream",
     "text": [
      "---------------------------------\n",
      "Finished inserting vectors for <itmo>!\n",
      "---------------------------------\n"
     ]
    },
    {
     "name": "stderr",
     "output_type": "stream",
     "text": [
      "100%|██████████| 2/2 [00:02<00:00,  1.08s/it]\n"
     ]
    },
    {
     "name": "stdout",
     "output_type": "stream",
     "text": [
      "---------------------------------\n",
      "Finished inserting vectors for <itmo>!\n",
      "---------------------------------\n"
     ]
    },
    {
     "name": "stderr",
     "output_type": "stream",
     "text": [
      "100%|██████████| 3/3 [00:02<00:00,  1.36it/s]\n"
     ]
    },
    {
     "name": "stdout",
     "output_type": "stream",
     "text": [
      "---------------------------------\n",
      "Finished inserting vectors for <itmo>!\n",
      "---------------------------------\n"
     ]
    },
    {
     "name": "stderr",
     "output_type": "stream",
     "text": [
      "100%|██████████| 6/6 [00:04<00:00,  1.33it/s]\n"
     ]
    },
    {
     "name": "stdout",
     "output_type": "stream",
     "text": [
      "---------------------------------\n",
      "Finished inserting vectors for <itmo>!\n",
      "---------------------------------\n"
     ]
    },
    {
     "name": "stderr",
     "output_type": "stream",
     "text": [
      "100%|██████████| 3/3 [00:03<00:00,  1.32s/it]\n"
     ]
    },
    {
     "name": "stdout",
     "output_type": "stream",
     "text": [
      "---------------------------------\n",
      "Finished inserting vectors for <itmo>!\n",
      "---------------------------------\n"
     ]
    },
    {
     "name": "stderr",
     "output_type": "stream",
     "text": [
      "100%|██████████| 7/7 [00:05<00:00,  1.31it/s]\n"
     ]
    },
    {
     "name": "stdout",
     "output_type": "stream",
     "text": [
      "---------------------------------\n",
      "Finished inserting vectors for <itmo>!\n",
      "---------------------------------\n"
     ]
    },
    {
     "name": "stderr",
     "output_type": "stream",
     "text": [
      "100%|██████████| 3/3 [00:02<00:00,  1.30it/s]\n"
     ]
    },
    {
     "name": "stdout",
     "output_type": "stream",
     "text": [
      "---------------------------------\n",
      "Finished inserting vectors for <itmo>!\n",
      "---------------------------------\n"
     ]
    },
    {
     "name": "stderr",
     "output_type": "stream",
     "text": [
      "100%|██████████| 5/5 [00:03<00:00,  1.41it/s]\n"
     ]
    },
    {
     "name": "stdout",
     "output_type": "stream",
     "text": [
      "---------------------------------\n",
      "Finished inserting vectors for <itmo>!\n",
      "---------------------------------\n"
     ]
    },
    {
     "name": "stderr",
     "output_type": "stream",
     "text": [
      "100%|██████████| 2/2 [00:01<00:00,  1.17it/s]\n"
     ]
    },
    {
     "name": "stdout",
     "output_type": "stream",
     "text": [
      "---------------------------------\n",
      "Finished inserting vectors for <itmo>!\n",
      "---------------------------------\n"
     ]
    },
    {
     "name": "stderr",
     "output_type": "stream",
     "text": [
      "100%|██████████| 3/3 [00:02<00:00,  1.20it/s]\n"
     ]
    },
    {
     "name": "stdout",
     "output_type": "stream",
     "text": [
      "---------------------------------\n",
      "Finished inserting vectors for <itmo>!\n",
      "---------------------------------\n"
     ]
    },
    {
     "name": "stderr",
     "output_type": "stream",
     "text": [
      "100%|██████████| 3/3 [00:02<00:00,  1.17it/s]\n"
     ]
    },
    {
     "name": "stdout",
     "output_type": "stream",
     "text": [
      "---------------------------------\n",
      "Finished inserting vectors for <itmo>!\n",
      "---------------------------------\n"
     ]
    },
    {
     "name": "stderr",
     "output_type": "stream",
     "text": [
      "100%|██████████| 4/4 [00:02<00:00,  1.49it/s]\n"
     ]
    },
    {
     "name": "stdout",
     "output_type": "stream",
     "text": [
      "---------------------------------\n",
      "Finished inserting vectors for <itmo>!\n",
      "---------------------------------\n"
     ]
    },
    {
     "name": "stderr",
     "output_type": "stream",
     "text": [
      "100%|██████████| 5/5 [00:04<00:00,  1.17it/s]\n"
     ]
    },
    {
     "name": "stdout",
     "output_type": "stream",
     "text": [
      "---------------------------------\n",
      "Finished inserting vectors for <itmo>!\n",
      "---------------------------------\n"
     ]
    },
    {
     "name": "stderr",
     "output_type": "stream",
     "text": [
      "100%|██████████| 5/5 [00:03<00:00,  1.32it/s]\n"
     ]
    },
    {
     "name": "stdout",
     "output_type": "stream",
     "text": [
      "---------------------------------\n",
      "Finished inserting vectors for <itmo>!\n",
      "---------------------------------\n"
     ]
    },
    {
     "name": "stderr",
     "output_type": "stream",
     "text": [
      "100%|██████████| 3/3 [00:02<00:00,  1.34it/s]\n"
     ]
    },
    {
     "name": "stdout",
     "output_type": "stream",
     "text": [
      "---------------------------------\n",
      "Finished inserting vectors for <itmo>!\n",
      "---------------------------------\n"
     ]
    },
    {
     "name": "stderr",
     "output_type": "stream",
     "text": [
      "100%|██████████| 9/9 [00:05<00:00,  1.52it/s]\n"
     ]
    },
    {
     "name": "stdout",
     "output_type": "stream",
     "text": [
      "---------------------------------\n",
      "Finished inserting vectors for <itmo>!\n",
      "---------------------------------\n"
     ]
    },
    {
     "name": "stderr",
     "output_type": "stream",
     "text": [
      "100%|██████████| 5/5 [00:03<00:00,  1.37it/s]\n"
     ]
    },
    {
     "name": "stdout",
     "output_type": "stream",
     "text": [
      "---------------------------------\n",
      "Finished inserting vectors for <itmo>!\n",
      "---------------------------------\n"
     ]
    },
    {
     "name": "stderr",
     "output_type": "stream",
     "text": [
      "100%|██████████| 4/4 [00:02<00:00,  1.57it/s]\n"
     ]
    },
    {
     "name": "stdout",
     "output_type": "stream",
     "text": [
      "---------------------------------\n",
      "Finished inserting vectors for <itmo>!\n",
      "---------------------------------\n"
     ]
    },
    {
     "name": "stderr",
     "output_type": "stream",
     "text": [
      "100%|██████████| 6/6 [00:05<00:00,  1.18it/s]\n"
     ]
    },
    {
     "name": "stdout",
     "output_type": "stream",
     "text": [
      "---------------------------------\n",
      "Finished inserting vectors for <itmo>!\n",
      "---------------------------------\n"
     ]
    },
    {
     "name": "stderr",
     "output_type": "stream",
     "text": [
      "100%|██████████| 6/6 [00:08<00:00,  1.45s/it]\n"
     ]
    },
    {
     "name": "stdout",
     "output_type": "stream",
     "text": [
      "---------------------------------\n",
      "Finished inserting vectors for <itmo>!\n",
      "---------------------------------\n"
     ]
    },
    {
     "name": "stderr",
     "output_type": "stream",
     "text": [
      "100%|██████████| 13/13 [00:09<00:00,  1.43it/s]\n"
     ]
    },
    {
     "name": "stdout",
     "output_type": "stream",
     "text": [
      "---------------------------------\n",
      "Finished inserting vectors for <itmo>!\n",
      "---------------------------------\n"
     ]
    },
    {
     "name": "stderr",
     "output_type": "stream",
     "text": [
      "100%|██████████| 15/15 [00:13<00:00,  1.15it/s]\n"
     ]
    },
    {
     "name": "stdout",
     "output_type": "stream",
     "text": [
      "---------------------------------\n",
      "Finished inserting vectors for <itmo>!\n",
      "---------------------------------\n"
     ]
    },
    {
     "name": "stderr",
     "output_type": "stream",
     "text": [
      "100%|██████████| 5/5 [00:03<00:00,  1.30it/s]\n"
     ]
    },
    {
     "name": "stdout",
     "output_type": "stream",
     "text": [
      "---------------------------------\n",
      "Finished inserting vectors for <itmo>!\n",
      "---------------------------------\n"
     ]
    },
    {
     "name": "stderr",
     "output_type": "stream",
     "text": [
      "100%|██████████| 4/4 [00:03<00:00,  1.30it/s]\n"
     ]
    },
    {
     "name": "stdout",
     "output_type": "stream",
     "text": [
      "---------------------------------\n",
      "Finished inserting vectors for <itmo>!\n",
      "---------------------------------\n"
     ]
    },
    {
     "name": "stderr",
     "output_type": "stream",
     "text": [
      "100%|██████████| 3/3 [00:01<00:00,  1.52it/s]\n"
     ]
    },
    {
     "name": "stdout",
     "output_type": "stream",
     "text": [
      "---------------------------------\n",
      "Finished inserting vectors for <itmo>!\n",
      "---------------------------------\n"
     ]
    },
    {
     "name": "stderr",
     "output_type": "stream",
     "text": [
      "100%|██████████| 2/2 [00:01<00:00,  1.25it/s]\n"
     ]
    },
    {
     "name": "stdout",
     "output_type": "stream",
     "text": [
      "---------------------------------\n",
      "Finished inserting vectors for <itmo>!\n",
      "---------------------------------\n"
     ]
    },
    {
     "name": "stderr",
     "output_type": "stream",
     "text": [
      "100%|██████████| 3/3 [00:03<00:00,  1.18s/it]\n"
     ]
    },
    {
     "name": "stdout",
     "output_type": "stream",
     "text": [
      "---------------------------------\n",
      "Finished inserting vectors for <itmo>!\n",
      "---------------------------------\n"
     ]
    },
    {
     "name": "stderr",
     "output_type": "stream",
     "text": [
      "100%|██████████| 2/2 [00:01<00:00,  1.62it/s]\n"
     ]
    },
    {
     "name": "stdout",
     "output_type": "stream",
     "text": [
      "---------------------------------\n",
      "Finished inserting vectors for <itmo>!\n",
      "---------------------------------\n"
     ]
    },
    {
     "name": "stderr",
     "output_type": "stream",
     "text": [
      "100%|██████████| 2/2 [00:01<00:00,  1.24it/s]\n"
     ]
    },
    {
     "name": "stdout",
     "output_type": "stream",
     "text": [
      "---------------------------------\n",
      "Finished inserting vectors for <itmo>!\n",
      "---------------------------------\n"
     ]
    },
    {
     "name": "stderr",
     "output_type": "stream",
     "text": [
      "100%|██████████| 3/3 [00:02<00:00,  1.13it/s]\n"
     ]
    },
    {
     "name": "stdout",
     "output_type": "stream",
     "text": [
      "---------------------------------\n",
      "Finished inserting vectors for <itmo>!\n",
      "---------------------------------\n"
     ]
    },
    {
     "name": "stderr",
     "output_type": "stream",
     "text": [
      "100%|██████████| 2/2 [00:01<00:00,  1.08it/s]\n"
     ]
    },
    {
     "name": "stdout",
     "output_type": "stream",
     "text": [
      "---------------------------------\n",
      "Finished inserting vectors for <itmo>!\n",
      "---------------------------------\n"
     ]
    },
    {
     "name": "stderr",
     "output_type": "stream",
     "text": [
      "100%|██████████| 8/8 [00:05<00:00,  1.37it/s]\n"
     ]
    },
    {
     "name": "stdout",
     "output_type": "stream",
     "text": [
      "---------------------------------\n",
      "Finished inserting vectors for <itmo>!\n",
      "---------------------------------\n"
     ]
    },
    {
     "name": "stderr",
     "output_type": "stream",
     "text": [
      "100%|██████████| 2/2 [00:04<00:00,  2.03s/it]\n"
     ]
    },
    {
     "name": "stdout",
     "output_type": "stream",
     "text": [
      "---------------------------------\n",
      "Finished inserting vectors for <itmo>!\n",
      "---------------------------------\n"
     ]
    },
    {
     "name": "stderr",
     "output_type": "stream",
     "text": [
      "100%|██████████| 2/2 [00:01<00:00,  1.60it/s]\n"
     ]
    },
    {
     "name": "stdout",
     "output_type": "stream",
     "text": [
      "---------------------------------\n",
      "Finished inserting vectors for <itmo>!\n",
      "---------------------------------\n"
     ]
    },
    {
     "name": "stderr",
     "output_type": "stream",
     "text": [
      "100%|██████████| 6/6 [00:04<00:00,  1.36it/s]\n"
     ]
    },
    {
     "name": "stdout",
     "output_type": "stream",
     "text": [
      "---------------------------------\n",
      "Finished inserting vectors for <itmo>!\n",
      "---------------------------------\n"
     ]
    },
    {
     "name": "stderr",
     "output_type": "stream",
     "text": [
      "100%|██████████| 2/2 [00:01<00:00,  1.16it/s]\n"
     ]
    },
    {
     "name": "stdout",
     "output_type": "stream",
     "text": [
      "---------------------------------\n",
      "Finished inserting vectors for <itmo>!\n",
      "---------------------------------\n"
     ]
    },
    {
     "name": "stderr",
     "output_type": "stream",
     "text": [
      "100%|██████████| 2/2 [00:01<00:00,  1.37it/s]\n"
     ]
    },
    {
     "name": "stdout",
     "output_type": "stream",
     "text": [
      "---------------------------------\n",
      "Finished inserting vectors for <itmo>!\n",
      "---------------------------------\n"
     ]
    },
    {
     "name": "stderr",
     "output_type": "stream",
     "text": [
      "100%|██████████| 4/4 [00:02<00:00,  1.34it/s]\n"
     ]
    },
    {
     "name": "stdout",
     "output_type": "stream",
     "text": [
      "---------------------------------\n",
      "Finished inserting vectors for <itmo>!\n",
      "---------------------------------\n"
     ]
    },
    {
     "name": "stderr",
     "output_type": "stream",
     "text": [
      "100%|██████████| 7/7 [00:04<00:00,  1.42it/s]\n"
     ]
    },
    {
     "name": "stdout",
     "output_type": "stream",
     "text": [
      "---------------------------------\n",
      "Finished inserting vectors for <itmo>!\n",
      "---------------------------------\n"
     ]
    },
    {
     "name": "stderr",
     "output_type": "stream",
     "text": [
      "100%|██████████| 6/6 [00:04<00:00,  1.21it/s]\n"
     ]
    },
    {
     "name": "stdout",
     "output_type": "stream",
     "text": [
      "---------------------------------\n",
      "Finished inserting vectors for <itmo>!\n",
      "---------------------------------\n"
     ]
    },
    {
     "name": "stderr",
     "output_type": "stream",
     "text": [
      "100%|██████████| 4/4 [00:02<00:00,  1.45it/s]\n"
     ]
    },
    {
     "name": "stdout",
     "output_type": "stream",
     "text": [
      "---------------------------------\n",
      "Finished inserting vectors for <itmo>!\n",
      "---------------------------------\n"
     ]
    },
    {
     "name": "stderr",
     "output_type": "stream",
     "text": [
      "100%|██████████| 3/3 [00:02<00:00,  1.39it/s]\n"
     ]
    },
    {
     "name": "stdout",
     "output_type": "stream",
     "text": [
      "---------------------------------\n",
      "Finished inserting vectors for <itmo>!\n",
      "---------------------------------\n"
     ]
    },
    {
     "name": "stderr",
     "output_type": "stream",
     "text": [
      "100%|██████████| 7/7 [00:05<00:00,  1.19it/s]\n"
     ]
    },
    {
     "name": "stdout",
     "output_type": "stream",
     "text": [
      "---------------------------------\n",
      "Finished inserting vectors for <itmo>!\n",
      "---------------------------------\n"
     ]
    },
    {
     "name": "stderr",
     "output_type": "stream",
     "text": [
      "100%|██████████| 3/3 [00:02<00:00,  1.50it/s]\n"
     ]
    },
    {
     "name": "stdout",
     "output_type": "stream",
     "text": [
      "---------------------------------\n",
      "Finished inserting vectors for <itmo>!\n",
      "---------------------------------\n"
     ]
    },
    {
     "name": "stderr",
     "output_type": "stream",
     "text": [
      "100%|██████████| 3/3 [00:01<00:00,  1.54it/s]\n"
     ]
    },
    {
     "name": "stdout",
     "output_type": "stream",
     "text": [
      "---------------------------------\n",
      "Finished inserting vectors for <itmo>!\n",
      "---------------------------------\n"
     ]
    },
    {
     "name": "stderr",
     "output_type": "stream",
     "text": [
      "100%|██████████| 3/3 [00:02<00:00,  1.28it/s]\n"
     ]
    },
    {
     "name": "stdout",
     "output_type": "stream",
     "text": [
      "---------------------------------\n",
      "Finished inserting vectors for <itmo>!\n",
      "---------------------------------\n"
     ]
    },
    {
     "name": "stderr",
     "output_type": "stream",
     "text": [
      "100%|██████████| 2/2 [00:01<00:00,  1.67it/s]\n"
     ]
    },
    {
     "name": "stdout",
     "output_type": "stream",
     "text": [
      "---------------------------------\n",
      "Finished inserting vectors for <itmo>!\n",
      "---------------------------------\n"
     ]
    },
    {
     "name": "stderr",
     "output_type": "stream",
     "text": [
      "100%|██████████| 4/4 [00:03<00:00,  1.22it/s]\n"
     ]
    },
    {
     "name": "stdout",
     "output_type": "stream",
     "text": [
      "---------------------------------\n",
      "Finished inserting vectors for <itmo>!\n",
      "---------------------------------\n"
     ]
    },
    {
     "name": "stderr",
     "output_type": "stream",
     "text": [
      "100%|██████████| 3/3 [00:02<00:00,  1.29it/s]\n"
     ]
    },
    {
     "name": "stdout",
     "output_type": "stream",
     "text": [
      "---------------------------------\n",
      "Finished inserting vectors for <itmo>!\n",
      "---------------------------------\n"
     ]
    },
    {
     "name": "stderr",
     "output_type": "stream",
     "text": [
      "100%|██████████| 2/2 [00:01<00:00,  1.42it/s]\n"
     ]
    },
    {
     "name": "stdout",
     "output_type": "stream",
     "text": [
      "---------------------------------\n",
      "Finished inserting vectors for <itmo>!\n",
      "---------------------------------\n"
     ]
    },
    {
     "name": "stderr",
     "output_type": "stream",
     "text": [
      "100%|██████████| 2/2 [00:01<00:00,  1.23it/s]\n"
     ]
    },
    {
     "name": "stdout",
     "output_type": "stream",
     "text": [
      "---------------------------------\n",
      "Finished inserting vectors for <itmo>!\n",
      "---------------------------------\n"
     ]
    },
    {
     "name": "stderr",
     "output_type": "stream",
     "text": [
      "100%|██████████| 5/5 [00:04<00:00,  1.15it/s]\n"
     ]
    },
    {
     "name": "stdout",
     "output_type": "stream",
     "text": [
      "---------------------------------\n",
      "Finished inserting vectors for <itmo>!\n",
      "---------------------------------\n"
     ]
    },
    {
     "name": "stderr",
     "output_type": "stream",
     "text": [
      "100%|██████████| 6/6 [00:07<00:00,  1.21s/it]\n"
     ]
    },
    {
     "name": "stdout",
     "output_type": "stream",
     "text": [
      "---------------------------------\n",
      "Finished inserting vectors for <itmo>!\n",
      "---------------------------------\n"
     ]
    },
    {
     "name": "stderr",
     "output_type": "stream",
     "text": [
      "100%|██████████| 4/4 [00:02<00:00,  1.53it/s]\n"
     ]
    },
    {
     "name": "stdout",
     "output_type": "stream",
     "text": [
      "---------------------------------\n",
      "Finished inserting vectors for <itmo>!\n",
      "---------------------------------\n"
     ]
    },
    {
     "name": "stderr",
     "output_type": "stream",
     "text": [
      "100%|██████████| 8/8 [00:05<00:00,  1.52it/s]\n"
     ]
    },
    {
     "name": "stdout",
     "output_type": "stream",
     "text": [
      "---------------------------------\n",
      "Finished inserting vectors for <itmo>!\n",
      "---------------------------------\n"
     ]
    },
    {
     "name": "stderr",
     "output_type": "stream",
     "text": [
      "100%|██████████| 3/3 [00:01<00:00,  1.61it/s]\n"
     ]
    },
    {
     "name": "stdout",
     "output_type": "stream",
     "text": [
      "---------------------------------\n",
      "Finished inserting vectors for <itmo>!\n",
      "---------------------------------\n"
     ]
    },
    {
     "name": "stderr",
     "output_type": "stream",
     "text": [
      "100%|██████████| 5/5 [00:03<00:00,  1.27it/s]\n"
     ]
    },
    {
     "name": "stdout",
     "output_type": "stream",
     "text": [
      "---------------------------------\n",
      "Finished inserting vectors for <itmo>!\n",
      "---------------------------------\n"
     ]
    },
    {
     "name": "stderr",
     "output_type": "stream",
     "text": [
      "100%|██████████| 5/5 [00:03<00:00,  1.35it/s]\n"
     ]
    },
    {
     "name": "stdout",
     "output_type": "stream",
     "text": [
      "---------------------------------\n",
      "Finished inserting vectors for <itmo>!\n",
      "---------------------------------\n"
     ]
    },
    {
     "name": "stderr",
     "output_type": "stream",
     "text": [
      "100%|██████████| 7/7 [00:04<00:00,  1.42it/s]\n"
     ]
    },
    {
     "name": "stdout",
     "output_type": "stream",
     "text": [
      "---------------------------------\n",
      "Finished inserting vectors for <itmo>!\n",
      "---------------------------------\n"
     ]
    },
    {
     "name": "stderr",
     "output_type": "stream",
     "text": [
      "100%|██████████| 6/6 [00:04<00:00,  1.33it/s]\n"
     ]
    },
    {
     "name": "stdout",
     "output_type": "stream",
     "text": [
      "---------------------------------\n",
      "Finished inserting vectors for <itmo>!\n",
      "---------------------------------\n"
     ]
    },
    {
     "name": "stderr",
     "output_type": "stream",
     "text": [
      "100%|██████████| 3/3 [00:02<00:00,  1.17it/s]\n"
     ]
    },
    {
     "name": "stdout",
     "output_type": "stream",
     "text": [
      "---------------------------------\n",
      "Finished inserting vectors for <itmo>!\n",
      "---------------------------------\n"
     ]
    },
    {
     "name": "stderr",
     "output_type": "stream",
     "text": [
      "100%|██████████| 3/3 [00:02<00:00,  1.25it/s]\n"
     ]
    },
    {
     "name": "stdout",
     "output_type": "stream",
     "text": [
      "---------------------------------\n",
      "Finished inserting vectors for <itmo>!\n",
      "---------------------------------\n"
     ]
    },
    {
     "name": "stderr",
     "output_type": "stream",
     "text": [
      "100%|██████████| 3/3 [00:01<00:00,  1.60it/s]\n"
     ]
    },
    {
     "name": "stdout",
     "output_type": "stream",
     "text": [
      "---------------------------------\n",
      "Finished inserting vectors for <itmo>!\n",
      "---------------------------------\n"
     ]
    },
    {
     "name": "stderr",
     "output_type": "stream",
     "text": [
      "100%|██████████| 3/3 [00:02<00:00,  1.46it/s]\n"
     ]
    },
    {
     "name": "stdout",
     "output_type": "stream",
     "text": [
      "---------------------------------\n",
      "Finished inserting vectors for <itmo>!\n",
      "---------------------------------\n"
     ]
    },
    {
     "name": "stderr",
     "output_type": "stream",
     "text": [
      "100%|██████████| 2/2 [00:06<00:00,  3.06s/it]\n"
     ]
    },
    {
     "name": "stdout",
     "output_type": "stream",
     "text": [
      "---------------------------------\n",
      "Finished inserting vectors for <itmo>!\n",
      "---------------------------------\n"
     ]
    },
    {
     "name": "stderr",
     "output_type": "stream",
     "text": [
      "100%|██████████| 3/3 [00:02<00:00,  1.43it/s]\n"
     ]
    },
    {
     "name": "stdout",
     "output_type": "stream",
     "text": [
      "---------------------------------\n",
      "Finished inserting vectors for <itmo>!\n",
      "---------------------------------\n"
     ]
    },
    {
     "name": "stderr",
     "output_type": "stream",
     "text": [
      "100%|██████████| 4/4 [00:02<00:00,  1.47it/s]\n"
     ]
    },
    {
     "name": "stdout",
     "output_type": "stream",
     "text": [
      "---------------------------------\n",
      "Finished inserting vectors for <itmo>!\n",
      "---------------------------------\n"
     ]
    },
    {
     "name": "stderr",
     "output_type": "stream",
     "text": [
      "100%|██████████| 3/3 [00:02<00:00,  1.43it/s]\n"
     ]
    },
    {
     "name": "stdout",
     "output_type": "stream",
     "text": [
      "---------------------------------\n",
      "Finished inserting vectors for <itmo>!\n",
      "---------------------------------\n"
     ]
    },
    {
     "name": "stderr",
     "output_type": "stream",
     "text": [
      "100%|██████████| 3/3 [00:02<00:00,  1.25it/s]\n"
     ]
    },
    {
     "name": "stdout",
     "output_type": "stream",
     "text": [
      "---------------------------------\n",
      "Finished inserting vectors for <itmo>!\n",
      "---------------------------------\n"
     ]
    },
    {
     "name": "stderr",
     "output_type": "stream",
     "text": [
      "100%|██████████| 7/7 [00:06<00:00,  1.14it/s]\n"
     ]
    },
    {
     "name": "stdout",
     "output_type": "stream",
     "text": [
      "---------------------------------\n",
      "Finished inserting vectors for <itmo>!\n",
      "---------------------------------\n"
     ]
    },
    {
     "name": "stderr",
     "output_type": "stream",
     "text": [
      "100%|██████████| 3/3 [00:02<00:00,  1.07it/s]\n"
     ]
    },
    {
     "name": "stdout",
     "output_type": "stream",
     "text": [
      "---------------------------------\n",
      "Finished inserting vectors for <itmo>!\n",
      "---------------------------------\n"
     ]
    },
    {
     "name": "stderr",
     "output_type": "stream",
     "text": [
      "100%|██████████| 5/5 [00:03<00:00,  1.41it/s]\n"
     ]
    },
    {
     "name": "stdout",
     "output_type": "stream",
     "text": [
      "---------------------------------\n",
      "Finished inserting vectors for <itmo>!\n",
      "---------------------------------\n"
     ]
    },
    {
     "name": "stderr",
     "output_type": "stream",
     "text": [
      "100%|██████████| 6/6 [00:04<00:00,  1.44it/s]\n"
     ]
    },
    {
     "name": "stdout",
     "output_type": "stream",
     "text": [
      "---------------------------------\n",
      "Finished inserting vectors for <itmo>!\n",
      "---------------------------------\n"
     ]
    },
    {
     "name": "stderr",
     "output_type": "stream",
     "text": [
      "100%|██████████| 7/7 [00:04<00:00,  1.42it/s]\n"
     ]
    },
    {
     "name": "stdout",
     "output_type": "stream",
     "text": [
      "---------------------------------\n",
      "Finished inserting vectors for <itmo>!\n",
      "---------------------------------\n"
     ]
    },
    {
     "name": "stderr",
     "output_type": "stream",
     "text": [
      "100%|██████████| 7/7 [00:04<00:00,  1.50it/s]\n"
     ]
    },
    {
     "name": "stdout",
     "output_type": "stream",
     "text": [
      "---------------------------------\n",
      "Finished inserting vectors for <itmo>!\n",
      "---------------------------------\n"
     ]
    },
    {
     "name": "stderr",
     "output_type": "stream",
     "text": [
      "100%|██████████| 6/6 [00:04<00:00,  1.24it/s]\n"
     ]
    },
    {
     "name": "stdout",
     "output_type": "stream",
     "text": [
      "---------------------------------\n",
      "Finished inserting vectors for <itmo>!\n",
      "---------------------------------\n"
     ]
    },
    {
     "name": "stderr",
     "output_type": "stream",
     "text": [
      "100%|██████████| 3/3 [00:01<00:00,  1.55it/s]\n"
     ]
    },
    {
     "name": "stdout",
     "output_type": "stream",
     "text": [
      "---------------------------------\n",
      "Finished inserting vectors for <itmo>!\n",
      "---------------------------------\n"
     ]
    },
    {
     "name": "stderr",
     "output_type": "stream",
     "text": [
      "100%|██████████| 3/3 [00:02<00:00,  1.46it/s]\n"
     ]
    },
    {
     "name": "stdout",
     "output_type": "stream",
     "text": [
      "---------------------------------\n",
      "Finished inserting vectors for <itmo>!\n",
      "---------------------------------\n"
     ]
    },
    {
     "name": "stderr",
     "output_type": "stream",
     "text": [
      "100%|██████████| 2/2 [00:01<00:00,  1.08it/s]\n"
     ]
    },
    {
     "name": "stdout",
     "output_type": "stream",
     "text": [
      "---------------------------------\n",
      "Finished inserting vectors for <itmo>!\n",
      "---------------------------------\n"
     ]
    },
    {
     "name": "stderr",
     "output_type": "stream",
     "text": [
      "100%|██████████| 7/7 [00:05<00:00,  1.30it/s]\n"
     ]
    },
    {
     "name": "stdout",
     "output_type": "stream",
     "text": [
      "---------------------------------\n",
      "Finished inserting vectors for <itmo>!\n",
      "---------------------------------\n"
     ]
    },
    {
     "name": "stderr",
     "output_type": "stream",
     "text": [
      "100%|██████████| 8/8 [00:06<00:00,  1.28it/s]\n"
     ]
    },
    {
     "name": "stdout",
     "output_type": "stream",
     "text": [
      "---------------------------------\n",
      "Finished inserting vectors for <itmo>!\n",
      "---------------------------------\n"
     ]
    },
    {
     "name": "stderr",
     "output_type": "stream",
     "text": [
      "100%|██████████| 2/2 [00:01<00:00,  1.30it/s]\n"
     ]
    },
    {
     "name": "stdout",
     "output_type": "stream",
     "text": [
      "---------------------------------\n",
      "Finished inserting vectors for <itmo>!\n",
      "---------------------------------\n"
     ]
    },
    {
     "name": "stderr",
     "output_type": "stream",
     "text": [
      "100%|██████████| 3/3 [00:02<00:00,  1.14it/s]\n"
     ]
    },
    {
     "name": "stdout",
     "output_type": "stream",
     "text": [
      "---------------------------------\n",
      "Finished inserting vectors for <itmo>!\n",
      "---------------------------------\n"
     ]
    },
    {
     "name": "stderr",
     "output_type": "stream",
     "text": [
      "100%|██████████| 4/4 [00:02<00:00,  1.44it/s]\n"
     ]
    },
    {
     "name": "stdout",
     "output_type": "stream",
     "text": [
      "---------------------------------\n",
      "Finished inserting vectors for <itmo>!\n",
      "---------------------------------\n"
     ]
    },
    {
     "name": "stderr",
     "output_type": "stream",
     "text": [
      "100%|██████████| 7/7 [00:04<00:00,  1.49it/s]\n"
     ]
    },
    {
     "name": "stdout",
     "output_type": "stream",
     "text": [
      "---------------------------------\n",
      "Finished inserting vectors for <itmo>!\n",
      "---------------------------------\n"
     ]
    },
    {
     "name": "stderr",
     "output_type": "stream",
     "text": [
      "100%|██████████| 5/5 [00:04<00:00,  1.16it/s]\n"
     ]
    },
    {
     "name": "stdout",
     "output_type": "stream",
     "text": [
      "---------------------------------\n",
      "Finished inserting vectors for <itmo>!\n",
      "---------------------------------\n"
     ]
    },
    {
     "name": "stderr",
     "output_type": "stream",
     "text": [
      "100%|██████████| 4/4 [00:02<00:00,  1.51it/s]\n"
     ]
    },
    {
     "name": "stdout",
     "output_type": "stream",
     "text": [
      "---------------------------------\n",
      "Finished inserting vectors for <itmo>!\n",
      "---------------------------------\n"
     ]
    },
    {
     "name": "stderr",
     "output_type": "stream",
     "text": [
      "100%|██████████| 5/5 [00:06<00:00,  1.24s/it]\n"
     ]
    },
    {
     "name": "stdout",
     "output_type": "stream",
     "text": [
      "---------------------------------\n",
      "Finished inserting vectors for <itmo>!\n",
      "---------------------------------\n"
     ]
    },
    {
     "name": "stderr",
     "output_type": "stream",
     "text": [
      "100%|██████████| 4/4 [00:02<00:00,  1.43it/s]\n"
     ]
    },
    {
     "name": "stdout",
     "output_type": "stream",
     "text": [
      "---------------------------------\n",
      "Finished inserting vectors for <itmo>!\n",
      "---------------------------------\n"
     ]
    },
    {
     "name": "stderr",
     "output_type": "stream",
     "text": [
      "100%|██████████| 3/3 [00:02<00:00,  1.14it/s]\n"
     ]
    },
    {
     "name": "stdout",
     "output_type": "stream",
     "text": [
      "---------------------------------\n",
      "Finished inserting vectors for <itmo>!\n",
      "---------------------------------\n"
     ]
    },
    {
     "name": "stderr",
     "output_type": "stream",
     "text": [
      "100%|██████████| 3/3 [00:01<00:00,  1.52it/s]\n"
     ]
    },
    {
     "name": "stdout",
     "output_type": "stream",
     "text": [
      "---------------------------------\n",
      "Finished inserting vectors for <itmo>!\n",
      "---------------------------------\n"
     ]
    },
    {
     "name": "stderr",
     "output_type": "stream",
     "text": [
      "100%|██████████| 4/4 [00:03<00:00,  1.26it/s]\n"
     ]
    },
    {
     "name": "stdout",
     "output_type": "stream",
     "text": [
      "---------------------------------\n",
      "Finished inserting vectors for <itmo>!\n",
      "---------------------------------\n"
     ]
    },
    {
     "name": "stderr",
     "output_type": "stream",
     "text": [
      "100%|██████████| 4/4 [00:03<00:00,  1.33it/s]\n"
     ]
    },
    {
     "name": "stdout",
     "output_type": "stream",
     "text": [
      "---------------------------------\n",
      "Finished inserting vectors for <itmo>!\n",
      "---------------------------------\n"
     ]
    },
    {
     "name": "stderr",
     "output_type": "stream",
     "text": [
      "100%|██████████| 2/2 [00:01<00:00,  1.28it/s]\n"
     ]
    },
    {
     "name": "stdout",
     "output_type": "stream",
     "text": [
      "---------------------------------\n",
      "Finished inserting vectors for <itmo>!\n",
      "---------------------------------\n"
     ]
    },
    {
     "name": "stderr",
     "output_type": "stream",
     "text": [
      "100%|██████████| 4/4 [00:03<00:00,  1.27it/s]\n"
     ]
    },
    {
     "name": "stdout",
     "output_type": "stream",
     "text": [
      "---------------------------------\n",
      "Finished inserting vectors for <itmo>!\n",
      "---------------------------------\n"
     ]
    },
    {
     "name": "stderr",
     "output_type": "stream",
     "text": [
      "100%|██████████| 5/5 [00:03<00:00,  1.33it/s]\n"
     ]
    },
    {
     "name": "stdout",
     "output_type": "stream",
     "text": [
      "---------------------------------\n",
      "Finished inserting vectors for <itmo>!\n",
      "---------------------------------\n"
     ]
    },
    {
     "name": "stderr",
     "output_type": "stream",
     "text": [
      "100%|██████████| 3/3 [00:02<00:00,  1.04it/s]\n"
     ]
    },
    {
     "name": "stdout",
     "output_type": "stream",
     "text": [
      "---------------------------------\n",
      "Finished inserting vectors for <itmo>!\n",
      "---------------------------------\n"
     ]
    },
    {
     "name": "stderr",
     "output_type": "stream",
     "text": [
      "100%|██████████| 5/5 [00:03<00:00,  1.39it/s]\n"
     ]
    },
    {
     "name": "stdout",
     "output_type": "stream",
     "text": [
      "---------------------------------\n",
      "Finished inserting vectors for <itmo>!\n",
      "---------------------------------\n"
     ]
    },
    {
     "name": "stderr",
     "output_type": "stream",
     "text": [
      "100%|██████████| 3/3 [00:02<00:00,  1.23it/s]\n"
     ]
    },
    {
     "name": "stdout",
     "output_type": "stream",
     "text": [
      "---------------------------------\n",
      "Finished inserting vectors for <itmo>!\n",
      "---------------------------------\n"
     ]
    },
    {
     "name": "stderr",
     "output_type": "stream",
     "text": [
      "100%|██████████| 5/5 [00:04<00:00,  1.24it/s]\n"
     ]
    },
    {
     "name": "stdout",
     "output_type": "stream",
     "text": [
      "---------------------------------\n",
      "Finished inserting vectors for <itmo>!\n",
      "---------------------------------\n"
     ]
    },
    {
     "name": "stderr",
     "output_type": "stream",
     "text": [
      "100%|██████████| 3/3 [00:02<00:00,  1.17it/s]\n"
     ]
    },
    {
     "name": "stdout",
     "output_type": "stream",
     "text": [
      "---------------------------------\n",
      "Finished inserting vectors for <itmo>!\n",
      "---------------------------------\n"
     ]
    },
    {
     "name": "stderr",
     "output_type": "stream",
     "text": [
      "100%|██████████| 5/5 [00:03<00:00,  1.26it/s]\n"
     ]
    },
    {
     "name": "stdout",
     "output_type": "stream",
     "text": [
      "---------------------------------\n",
      "Finished inserting vectors for <itmo>!\n",
      "---------------------------------\n"
     ]
    },
    {
     "name": "stderr",
     "output_type": "stream",
     "text": [
      "100%|██████████| 6/6 [00:06<00:00,  1.13s/it]\n"
     ]
    },
    {
     "name": "stdout",
     "output_type": "stream",
     "text": [
      "---------------------------------\n",
      "Finished inserting vectors for <itmo>!\n",
      "---------------------------------\n"
     ]
    },
    {
     "name": "stderr",
     "output_type": "stream",
     "text": [
      "100%|██████████| 4/4 [00:04<00:00,  1.05s/it]\n"
     ]
    },
    {
     "name": "stdout",
     "output_type": "stream",
     "text": [
      "---------------------------------\n",
      "Finished inserting vectors for <itmo>!\n",
      "---------------------------------\n"
     ]
    },
    {
     "name": "stderr",
     "output_type": "stream",
     "text": [
      "100%|██████████| 4/4 [00:03<00:00,  1.07it/s]\n"
     ]
    },
    {
     "name": "stdout",
     "output_type": "stream",
     "text": [
      "---------------------------------\n",
      "Finished inserting vectors for <itmo>!\n",
      "---------------------------------\n"
     ]
    },
    {
     "name": "stderr",
     "output_type": "stream",
     "text": [
      "100%|██████████| 4/4 [00:07<00:00,  1.86s/it]\n"
     ]
    },
    {
     "name": "stdout",
     "output_type": "stream",
     "text": [
      "---------------------------------\n",
      "Finished inserting vectors for <itmo>!\n",
      "---------------------------------\n"
     ]
    },
    {
     "name": "stderr",
     "output_type": "stream",
     "text": [
      "100%|██████████| 4/4 [00:02<00:00,  1.53it/s]\n"
     ]
    },
    {
     "name": "stdout",
     "output_type": "stream",
     "text": [
      "---------------------------------\n",
      "Finished inserting vectors for <itmo>!\n",
      "---------------------------------\n"
     ]
    },
    {
     "name": "stderr",
     "output_type": "stream",
     "text": [
      "100%|██████████| 9/9 [00:12<00:00,  1.38s/it]\n"
     ]
    },
    {
     "name": "stdout",
     "output_type": "stream",
     "text": [
      "---------------------------------\n",
      "Finished inserting vectors for <itmo>!\n",
      "---------------------------------\n"
     ]
    },
    {
     "name": "stderr",
     "output_type": "stream",
     "text": [
      "100%|██████████| 4/4 [00:05<00:00,  1.50s/it]\n"
     ]
    },
    {
     "name": "stdout",
     "output_type": "stream",
     "text": [
      "---------------------------------\n",
      "Finished inserting vectors for <itmo>!\n",
      "---------------------------------\n"
     ]
    },
    {
     "name": "stderr",
     "output_type": "stream",
     "text": [
      "100%|██████████| 5/5 [00:04<00:00,  1.18it/s]\n"
     ]
    },
    {
     "name": "stdout",
     "output_type": "stream",
     "text": [
      "---------------------------------\n",
      "Finished inserting vectors for <itmo>!\n",
      "---------------------------------\n"
     ]
    },
    {
     "name": "stderr",
     "output_type": "stream",
     "text": [
      "100%|██████████| 4/4 [00:03<00:00,  1.29it/s]\n"
     ]
    },
    {
     "name": "stdout",
     "output_type": "stream",
     "text": [
      "---------------------------------\n",
      "Finished inserting vectors for <itmo>!\n",
      "---------------------------------\n"
     ]
    },
    {
     "name": "stderr",
     "output_type": "stream",
     "text": [
      "100%|██████████| 8/8 [00:07<00:00,  1.12it/s]\n"
     ]
    },
    {
     "name": "stdout",
     "output_type": "stream",
     "text": [
      "---------------------------------\n",
      "Finished inserting vectors for <itmo>!\n",
      "---------------------------------\n"
     ]
    },
    {
     "name": "stderr",
     "output_type": "stream",
     "text": [
      "100%|██████████| 7/7 [00:05<00:00,  1.18it/s]\n"
     ]
    },
    {
     "name": "stdout",
     "output_type": "stream",
     "text": [
      "---------------------------------\n",
      "Finished inserting vectors for <itmo>!\n",
      "---------------------------------\n"
     ]
    },
    {
     "name": "stderr",
     "output_type": "stream",
     "text": [
      "100%|██████████| 3/3 [00:01<00:00,  1.51it/s]\n"
     ]
    },
    {
     "name": "stdout",
     "output_type": "stream",
     "text": [
      "---------------------------------\n",
      "Finished inserting vectors for <itmo>!\n",
      "---------------------------------\n"
     ]
    },
    {
     "name": "stderr",
     "output_type": "stream",
     "text": [
      "100%|██████████| 4/4 [00:03<00:00,  1.27it/s]\n"
     ]
    },
    {
     "name": "stdout",
     "output_type": "stream",
     "text": [
      "---------------------------------\n",
      "Finished inserting vectors for <itmo>!\n",
      "---------------------------------\n"
     ]
    },
    {
     "name": "stderr",
     "output_type": "stream",
     "text": [
      "100%|██████████| 9/9 [00:08<00:00,  1.12it/s]\n"
     ]
    },
    {
     "name": "stdout",
     "output_type": "stream",
     "text": [
      "---------------------------------\n",
      "Finished inserting vectors for <itmo>!\n",
      "---------------------------------\n"
     ]
    },
    {
     "name": "stderr",
     "output_type": "stream",
     "text": [
      "100%|██████████| 3/3 [00:02<00:00,  1.08it/s]\n"
     ]
    },
    {
     "name": "stdout",
     "output_type": "stream",
     "text": [
      "---------------------------------\n",
      "Finished inserting vectors for <itmo>!\n",
      "---------------------------------\n"
     ]
    },
    {
     "name": "stderr",
     "output_type": "stream",
     "text": [
      "100%|██████████| 3/3 [00:02<00:00,  1.33it/s]\n"
     ]
    },
    {
     "name": "stdout",
     "output_type": "stream",
     "text": [
      "---------------------------------\n",
      "Finished inserting vectors for <itmo>!\n",
      "---------------------------------\n"
     ]
    },
    {
     "name": "stderr",
     "output_type": "stream",
     "text": [
      "100%|██████████| 3/3 [00:02<00:00,  1.31it/s]\n"
     ]
    },
    {
     "name": "stdout",
     "output_type": "stream",
     "text": [
      "---------------------------------\n",
      "Finished inserting vectors for <itmo>!\n",
      "---------------------------------\n"
     ]
    },
    {
     "name": "stderr",
     "output_type": "stream",
     "text": [
      "100%|██████████| 3/3 [00:02<00:00,  1.27it/s]\n"
     ]
    },
    {
     "name": "stdout",
     "output_type": "stream",
     "text": [
      "---------------------------------\n",
      "Finished inserting vectors for <itmo>!\n",
      "---------------------------------\n"
     ]
    },
    {
     "name": "stderr",
     "output_type": "stream",
     "text": [
      "100%|██████████| 3/3 [00:02<00:00,  1.03it/s]\n"
     ]
    },
    {
     "name": "stdout",
     "output_type": "stream",
     "text": [
      "---------------------------------\n",
      "Finished inserting vectors for <itmo>!\n",
      "---------------------------------\n"
     ]
    },
    {
     "name": "stderr",
     "output_type": "stream",
     "text": [
      "100%|██████████| 3/3 [00:02<00:00,  1.46it/s]\n"
     ]
    },
    {
     "name": "stdout",
     "output_type": "stream",
     "text": [
      "---------------------------------\n",
      "Finished inserting vectors for <itmo>!\n",
      "---------------------------------\n"
     ]
    },
    {
     "name": "stderr",
     "output_type": "stream",
     "text": [
      "100%|██████████| 5/5 [00:03<00:00,  1.32it/s]\n"
     ]
    },
    {
     "name": "stdout",
     "output_type": "stream",
     "text": [
      "---------------------------------\n",
      "Finished inserting vectors for <itmo>!\n",
      "---------------------------------\n"
     ]
    },
    {
     "name": "stderr",
     "output_type": "stream",
     "text": [
      "100%|██████████| 2/2 [00:01<00:00,  1.50it/s]\n"
     ]
    },
    {
     "name": "stdout",
     "output_type": "stream",
     "text": [
      "---------------------------------\n",
      "Finished inserting vectors for <itmo>!\n",
      "---------------------------------\n"
     ]
    },
    {
     "name": "stderr",
     "output_type": "stream",
     "text": [
      "100%|██████████| 4/4 [00:04<00:00,  1.13s/it]\n"
     ]
    },
    {
     "name": "stdout",
     "output_type": "stream",
     "text": [
      "---------------------------------\n",
      "Finished inserting vectors for <itmo>!\n",
      "---------------------------------\n"
     ]
    },
    {
     "name": "stderr",
     "output_type": "stream",
     "text": [
      "100%|██████████| 4/4 [00:03<00:00,  1.12it/s]\n"
     ]
    },
    {
     "name": "stdout",
     "output_type": "stream",
     "text": [
      "---------------------------------\n",
      "Finished inserting vectors for <itmo>!\n",
      "---------------------------------\n"
     ]
    },
    {
     "name": "stderr",
     "output_type": "stream",
     "text": [
      "100%|██████████| 4/4 [00:03<00:00,  1.14it/s]\n"
     ]
    },
    {
     "name": "stdout",
     "output_type": "stream",
     "text": [
      "---------------------------------\n",
      "Finished inserting vectors for <itmo>!\n",
      "---------------------------------\n"
     ]
    },
    {
     "name": "stderr",
     "output_type": "stream",
     "text": [
      "100%|██████████| 7/7 [00:06<00:00,  1.09it/s]\n"
     ]
    },
    {
     "name": "stdout",
     "output_type": "stream",
     "text": [
      "---------------------------------\n",
      "Finished inserting vectors for <itmo>!\n",
      "---------------------------------\n"
     ]
    },
    {
     "name": "stderr",
     "output_type": "stream",
     "text": [
      "100%|██████████| 7/7 [00:05<00:00,  1.25it/s]\n"
     ]
    },
    {
     "name": "stdout",
     "output_type": "stream",
     "text": [
      "---------------------------------\n",
      "Finished inserting vectors for <itmo>!\n",
      "---------------------------------\n"
     ]
    },
    {
     "name": "stderr",
     "output_type": "stream",
     "text": [
      "100%|██████████| 7/7 [00:11<00:00,  1.69s/it]\n"
     ]
    },
    {
     "name": "stdout",
     "output_type": "stream",
     "text": [
      "---------------------------------\n",
      "Finished inserting vectors for <itmo>!\n",
      "---------------------------------\n"
     ]
    },
    {
     "name": "stderr",
     "output_type": "stream",
     "text": [
      "100%|██████████| 5/5 [00:04<00:00,  1.04it/s]\n"
     ]
    },
    {
     "name": "stdout",
     "output_type": "stream",
     "text": [
      "---------------------------------\n",
      "Finished inserting vectors for <itmo>!\n",
      "---------------------------------\n"
     ]
    },
    {
     "name": "stderr",
     "output_type": "stream",
     "text": [
      "100%|██████████| 7/7 [00:05<00:00,  1.18it/s]\n"
     ]
    },
    {
     "name": "stdout",
     "output_type": "stream",
     "text": [
      "---------------------------------\n",
      "Finished inserting vectors for <itmo>!\n",
      "---------------------------------\n"
     ]
    },
    {
     "name": "stderr",
     "output_type": "stream",
     "text": [
      "100%|██████████| 3/3 [00:02<00:00,  1.46it/s]\n"
     ]
    },
    {
     "name": "stdout",
     "output_type": "stream",
     "text": [
      "---------------------------------\n",
      "Finished inserting vectors for <itmo>!\n",
      "---------------------------------\n"
     ]
    },
    {
     "name": "stderr",
     "output_type": "stream",
     "text": [
      "100%|██████████| 2/2 [00:01<00:00,  1.30it/s]\n"
     ]
    },
    {
     "name": "stdout",
     "output_type": "stream",
     "text": [
      "---------------------------------\n",
      "Finished inserting vectors for <itmo>!\n",
      "---------------------------------\n"
     ]
    },
    {
     "name": "stderr",
     "output_type": "stream",
     "text": [
      "100%|██████████| 2/2 [00:01<00:00,  1.66it/s]\n"
     ]
    },
    {
     "name": "stdout",
     "output_type": "stream",
     "text": [
      "---------------------------------\n",
      "Finished inserting vectors for <itmo>!\n",
      "---------------------------------\n"
     ]
    },
    {
     "name": "stderr",
     "output_type": "stream",
     "text": [
      "100%|██████████| 3/3 [00:02<00:00,  1.23it/s]\n"
     ]
    },
    {
     "name": "stdout",
     "output_type": "stream",
     "text": [
      "---------------------------------\n",
      "Finished inserting vectors for <itmo>!\n",
      "---------------------------------\n"
     ]
    },
    {
     "name": "stderr",
     "output_type": "stream",
     "text": [
      "100%|██████████| 2/2 [00:01<00:00,  1.28it/s]\n"
     ]
    },
    {
     "name": "stdout",
     "output_type": "stream",
     "text": [
      "---------------------------------\n",
      "Finished inserting vectors for <itmo>!\n",
      "---------------------------------\n"
     ]
    },
    {
     "name": "stderr",
     "output_type": "stream",
     "text": [
      "100%|██████████| 6/6 [00:04<00:00,  1.36it/s]\n"
     ]
    },
    {
     "name": "stdout",
     "output_type": "stream",
     "text": [
      "---------------------------------\n",
      "Finished inserting vectors for <itmo>!\n",
      "---------------------------------\n"
     ]
    },
    {
     "name": "stderr",
     "output_type": "stream",
     "text": [
      "100%|██████████| 2/2 [00:01<00:00,  1.28it/s]\n"
     ]
    },
    {
     "name": "stdout",
     "output_type": "stream",
     "text": [
      "---------------------------------\n",
      "Finished inserting vectors for <itmo>!\n",
      "---------------------------------\n"
     ]
    },
    {
     "name": "stderr",
     "output_type": "stream",
     "text": [
      "100%|██████████| 4/4 [00:03<00:00,  1.27it/s]\n"
     ]
    },
    {
     "name": "stdout",
     "output_type": "stream",
     "text": [
      "---------------------------------\n",
      "Finished inserting vectors for <itmo>!\n",
      "---------------------------------\n"
     ]
    },
    {
     "name": "stderr",
     "output_type": "stream",
     "text": [
      "100%|██████████| 2/2 [00:01<00:00,  1.66it/s]\n"
     ]
    },
    {
     "name": "stdout",
     "output_type": "stream",
     "text": [
      "---------------------------------\n",
      "Finished inserting vectors for <itmo>!\n",
      "---------------------------------\n"
     ]
    },
    {
     "name": "stderr",
     "output_type": "stream",
     "text": [
      "100%|██████████| 2/2 [00:01<00:00,  1.39it/s]\n"
     ]
    },
    {
     "name": "stdout",
     "output_type": "stream",
     "text": [
      "---------------------------------\n",
      "Finished inserting vectors for <itmo>!\n",
      "---------------------------------\n"
     ]
    },
    {
     "name": "stderr",
     "output_type": "stream",
     "text": [
      "100%|██████████| 2/2 [00:01<00:00,  1.20it/s]\n"
     ]
    },
    {
     "name": "stdout",
     "output_type": "stream",
     "text": [
      "---------------------------------\n",
      "Finished inserting vectors for <itmo>!\n",
      "---------------------------------\n"
     ]
    },
    {
     "name": "stderr",
     "output_type": "stream",
     "text": [
      "100%|██████████| 2/2 [00:09<00:00,  4.84s/it]\n"
     ]
    },
    {
     "name": "stdout",
     "output_type": "stream",
     "text": [
      "---------------------------------\n",
      "Finished inserting vectors for <itmo>!\n",
      "---------------------------------\n"
     ]
    },
    {
     "name": "stderr",
     "output_type": "stream",
     "text": [
      "100%|██████████| 3/3 [00:02<00:00,  1.33it/s]\n"
     ]
    },
    {
     "name": "stdout",
     "output_type": "stream",
     "text": [
      "---------------------------------\n",
      "Finished inserting vectors for <itmo>!\n",
      "---------------------------------\n"
     ]
    },
    {
     "name": "stderr",
     "output_type": "stream",
     "text": [
      "100%|██████████| 3/3 [00:02<00:00,  1.24it/s]\n"
     ]
    },
    {
     "name": "stdout",
     "output_type": "stream",
     "text": [
      "---------------------------------\n",
      "Finished inserting vectors for <itmo>!\n",
      "---------------------------------\n"
     ]
    },
    {
     "name": "stderr",
     "output_type": "stream",
     "text": [
      "100%|██████████| 3/3 [00:02<00:00,  1.44it/s]\n"
     ]
    },
    {
     "name": "stdout",
     "output_type": "stream",
     "text": [
      "---------------------------------\n",
      "Finished inserting vectors for <itmo>!\n",
      "---------------------------------\n"
     ]
    },
    {
     "name": "stderr",
     "output_type": "stream",
     "text": [
      "100%|██████████| 3/3 [00:02<00:00,  1.31it/s]\n"
     ]
    },
    {
     "name": "stdout",
     "output_type": "stream",
     "text": [
      "---------------------------------\n",
      "Finished inserting vectors for <itmo>!\n",
      "---------------------------------\n"
     ]
    },
    {
     "name": "stderr",
     "output_type": "stream",
     "text": [
      "100%|██████████| 3/3 [00:02<00:00,  1.29it/s]\n"
     ]
    },
    {
     "name": "stdout",
     "output_type": "stream",
     "text": [
      "---------------------------------\n",
      "Finished inserting vectors for <itmo>!\n",
      "---------------------------------\n"
     ]
    },
    {
     "name": "stderr",
     "output_type": "stream",
     "text": [
      "100%|██████████| 3/3 [00:02<00:00,  1.17it/s]\n"
     ]
    },
    {
     "name": "stdout",
     "output_type": "stream",
     "text": [
      "---------------------------------\n",
      "Finished inserting vectors for <itmo>!\n",
      "---------------------------------\n"
     ]
    },
    {
     "name": "stderr",
     "output_type": "stream",
     "text": [
      "100%|██████████| 3/3 [00:02<00:00,  1.01it/s]\n"
     ]
    },
    {
     "name": "stdout",
     "output_type": "stream",
     "text": [
      "---------------------------------\n",
      "Finished inserting vectors for <itmo>!\n",
      "---------------------------------\n"
     ]
    },
    {
     "name": "stderr",
     "output_type": "stream",
     "text": [
      "100%|██████████| 4/4 [00:03<00:00,  1.31it/s]\n"
     ]
    },
    {
     "name": "stdout",
     "output_type": "stream",
     "text": [
      "---------------------------------\n",
      "Finished inserting vectors for <itmo>!\n",
      "---------------------------------\n"
     ]
    },
    {
     "name": "stderr",
     "output_type": "stream",
     "text": [
      "100%|██████████| 3/3 [00:02<00:00,  1.08it/s]\n"
     ]
    },
    {
     "name": "stdout",
     "output_type": "stream",
     "text": [
      "---------------------------------\n",
      "Finished inserting vectors for <itmo>!\n",
      "---------------------------------\n"
     ]
    },
    {
     "name": "stderr",
     "output_type": "stream",
     "text": [
      "100%|██████████| 3/3 [00:01<00:00,  1.60it/s]\n"
     ]
    },
    {
     "name": "stdout",
     "output_type": "stream",
     "text": [
      "---------------------------------\n",
      "Finished inserting vectors for <itmo>!\n",
      "---------------------------------\n"
     ]
    },
    {
     "name": "stderr",
     "output_type": "stream",
     "text": [
      "100%|██████████| 3/3 [00:02<00:00,  1.29it/s]\n"
     ]
    },
    {
     "name": "stdout",
     "output_type": "stream",
     "text": [
      "---------------------------------\n",
      "Finished inserting vectors for <itmo>!\n",
      "---------------------------------\n"
     ]
    },
    {
     "name": "stderr",
     "output_type": "stream",
     "text": [
      "100%|██████████| 3/3 [00:02<00:00,  1.21it/s]\n"
     ]
    },
    {
     "name": "stdout",
     "output_type": "stream",
     "text": [
      "---------------------------------\n",
      "Finished inserting vectors for <itmo>!\n",
      "---------------------------------\n"
     ]
    },
    {
     "name": "stderr",
     "output_type": "stream",
     "text": [
      "100%|██████████| 3/3 [00:02<00:00,  1.12it/s]\n"
     ]
    },
    {
     "name": "stdout",
     "output_type": "stream",
     "text": [
      "---------------------------------\n",
      "Finished inserting vectors for <itmo>!\n",
      "---------------------------------\n"
     ]
    },
    {
     "name": "stderr",
     "output_type": "stream",
     "text": [
      "100%|██████████| 3/3 [00:02<00:00,  1.42it/s]\n"
     ]
    },
    {
     "name": "stdout",
     "output_type": "stream",
     "text": [
      "---------------------------------\n",
      "Finished inserting vectors for <itmo>!\n",
      "---------------------------------\n"
     ]
    },
    {
     "name": "stderr",
     "output_type": "stream",
     "text": [
      "100%|██████████| 3/3 [00:02<00:00,  1.22it/s]\n"
     ]
    },
    {
     "name": "stdout",
     "output_type": "stream",
     "text": [
      "---------------------------------\n",
      "Finished inserting vectors for <itmo>!\n",
      "---------------------------------\n"
     ]
    },
    {
     "name": "stderr",
     "output_type": "stream",
     "text": [
      "100%|██████████| 3/3 [00:02<00:00,  1.22it/s]\n"
     ]
    },
    {
     "name": "stdout",
     "output_type": "stream",
     "text": [
      "---------------------------------\n",
      "Finished inserting vectors for <itmo>!\n",
      "---------------------------------\n"
     ]
    },
    {
     "name": "stderr",
     "output_type": "stream",
     "text": [
      "100%|██████████| 2/2 [00:01<00:00,  1.10it/s]\n"
     ]
    },
    {
     "name": "stdout",
     "output_type": "stream",
     "text": [
      "---------------------------------\n",
      "Finished inserting vectors for <itmo>!\n",
      "---------------------------------\n"
     ]
    },
    {
     "name": "stderr",
     "output_type": "stream",
     "text": [
      "100%|██████████| 2/2 [00:01<00:00,  1.49it/s]\n"
     ]
    },
    {
     "name": "stdout",
     "output_type": "stream",
     "text": [
      "---------------------------------\n",
      "Finished inserting vectors for <itmo>!\n",
      "---------------------------------\n"
     ]
    },
    {
     "name": "stderr",
     "output_type": "stream",
     "text": [
      "100%|██████████| 2/2 [00:01<00:00,  1.24it/s]\n"
     ]
    },
    {
     "name": "stdout",
     "output_type": "stream",
     "text": [
      "---------------------------------\n",
      "Finished inserting vectors for <itmo>!\n",
      "---------------------------------\n"
     ]
    },
    {
     "name": "stderr",
     "output_type": "stream",
     "text": [
      "100%|██████████| 5/5 [00:04<00:00,  1.09it/s]\n"
     ]
    },
    {
     "name": "stdout",
     "output_type": "stream",
     "text": [
      "---------------------------------\n",
      "Finished inserting vectors for <itmo>!\n",
      "---------------------------------\n"
     ]
    },
    {
     "name": "stderr",
     "output_type": "stream",
     "text": [
      "100%|██████████| 4/4 [00:03<00:00,  1.12it/s]\n"
     ]
    },
    {
     "name": "stdout",
     "output_type": "stream",
     "text": [
      "---------------------------------\n",
      "Finished inserting vectors for <itmo>!\n",
      "---------------------------------\n"
     ]
    },
    {
     "name": "stderr",
     "output_type": "stream",
     "text": [
      "100%|██████████| 3/3 [00:02<00:00,  1.06it/s]\n"
     ]
    },
    {
     "name": "stdout",
     "output_type": "stream",
     "text": [
      "---------------------------------\n",
      "Finished inserting vectors for <itmo>!\n",
      "---------------------------------\n"
     ]
    },
    {
     "name": "stderr",
     "output_type": "stream",
     "text": [
      "100%|██████████| 2/2 [00:01<00:00,  1.32it/s]\n"
     ]
    },
    {
     "name": "stdout",
     "output_type": "stream",
     "text": [
      "---------------------------------\n",
      "Finished inserting vectors for <itmo>!\n",
      "---------------------------------\n"
     ]
    },
    {
     "name": "stderr",
     "output_type": "stream",
     "text": [
      "100%|██████████| 2/2 [00:01<00:00,  1.09it/s]\n"
     ]
    },
    {
     "name": "stdout",
     "output_type": "stream",
     "text": [
      "---------------------------------\n",
      "Finished inserting vectors for <itmo>!\n",
      "---------------------------------\n"
     ]
    },
    {
     "name": "stderr",
     "output_type": "stream",
     "text": [
      "100%|██████████| 2/2 [00:01<00:00,  1.32it/s]\n"
     ]
    },
    {
     "name": "stdout",
     "output_type": "stream",
     "text": [
      "---------------------------------\n",
      "Finished inserting vectors for <itmo>!\n",
      "---------------------------------\n"
     ]
    },
    {
     "name": "stderr",
     "output_type": "stream",
     "text": [
      "100%|██████████| 2/2 [00:01<00:00,  1.03it/s]\n"
     ]
    },
    {
     "name": "stdout",
     "output_type": "stream",
     "text": [
      "---------------------------------\n",
      "Finished inserting vectors for <itmo>!\n",
      "---------------------------------\n"
     ]
    },
    {
     "name": "stderr",
     "output_type": "stream",
     "text": [
      "100%|██████████| 9/9 [00:07<00:00,  1.21it/s]\n"
     ]
    },
    {
     "name": "stdout",
     "output_type": "stream",
     "text": [
      "---------------------------------\n",
      "Finished inserting vectors for <itmo>!\n",
      "---------------------------------\n"
     ]
    },
    {
     "name": "stderr",
     "output_type": "stream",
     "text": [
      "100%|██████████| 2/2 [00:02<00:00,  1.40s/it]\n"
     ]
    },
    {
     "name": "stdout",
     "output_type": "stream",
     "text": [
      "---------------------------------\n",
      "Finished inserting vectors for <itmo>!\n",
      "---------------------------------\n"
     ]
    },
    {
     "name": "stderr",
     "output_type": "stream",
     "text": [
      "100%|██████████| 5/5 [00:05<00:00,  1.01s/it]\n"
     ]
    },
    {
     "name": "stdout",
     "output_type": "stream",
     "text": [
      "---------------------------------\n",
      "Finished inserting vectors for <itmo>!\n",
      "---------------------------------\n"
     ]
    },
    {
     "name": "stderr",
     "output_type": "stream",
     "text": [
      "100%|██████████| 5/5 [00:04<00:00,  1.06it/s]\n"
     ]
    },
    {
     "name": "stdout",
     "output_type": "stream",
     "text": [
      "---------------------------------\n",
      "Finished inserting vectors for <itmo>!\n",
      "---------------------------------\n"
     ]
    },
    {
     "name": "stderr",
     "output_type": "stream",
     "text": [
      "100%|██████████| 5/5 [00:03<00:00,  1.27it/s]\n"
     ]
    },
    {
     "name": "stdout",
     "output_type": "stream",
     "text": [
      "---------------------------------\n",
      "Finished inserting vectors for <itmo>!\n",
      "---------------------------------\n"
     ]
    },
    {
     "name": "stderr",
     "output_type": "stream",
     "text": [
      "100%|██████████| 5/5 [00:04<00:00,  1.22it/s]\n"
     ]
    },
    {
     "name": "stdout",
     "output_type": "stream",
     "text": [
      "---------------------------------\n",
      "Finished inserting vectors for <itmo>!\n",
      "---------------------------------\n"
     ]
    },
    {
     "name": "stderr",
     "output_type": "stream",
     "text": [
      "100%|██████████| 4/4 [00:03<00:00,  1.14it/s]\n"
     ]
    },
    {
     "name": "stdout",
     "output_type": "stream",
     "text": [
      "---------------------------------\n",
      "Finished inserting vectors for <itmo>!\n",
      "---------------------------------\n"
     ]
    },
    {
     "name": "stderr",
     "output_type": "stream",
     "text": [
      "100%|██████████| 3/3 [00:02<00:00,  1.22it/s]\n"
     ]
    },
    {
     "name": "stdout",
     "output_type": "stream",
     "text": [
      "---------------------------------\n",
      "Finished inserting vectors for <itmo>!\n",
      "---------------------------------\n"
     ]
    },
    {
     "name": "stderr",
     "output_type": "stream",
     "text": [
      "100%|██████████| 5/5 [00:04<00:00,  1.15it/s]\n"
     ]
    },
    {
     "name": "stdout",
     "output_type": "stream",
     "text": [
      "---------------------------------\n",
      "Finished inserting vectors for <itmo>!\n",
      "---------------------------------\n"
     ]
    },
    {
     "name": "stderr",
     "output_type": "stream",
     "text": [
      "100%|██████████| 3/3 [00:02<00:00,  1.09it/s]\n"
     ]
    },
    {
     "name": "stdout",
     "output_type": "stream",
     "text": [
      "---------------------------------\n",
      "Finished inserting vectors for <itmo>!\n",
      "---------------------------------\n"
     ]
    },
    {
     "name": "stderr",
     "output_type": "stream",
     "text": [
      "100%|██████████| 5/5 [00:07<00:00,  1.50s/it]\n"
     ]
    },
    {
     "name": "stdout",
     "output_type": "stream",
     "text": [
      "---------------------------------\n",
      "Finished inserting vectors for <itmo>!\n",
      "---------------------------------\n"
     ]
    },
    {
     "name": "stderr",
     "output_type": "stream",
     "text": [
      "100%|██████████| 4/4 [00:04<00:00,  1.18s/it]\n"
     ]
    },
    {
     "name": "stdout",
     "output_type": "stream",
     "text": [
      "---------------------------------\n",
      "Finished inserting vectors for <itmo>!\n",
      "---------------------------------\n"
     ]
    },
    {
     "name": "stderr",
     "output_type": "stream",
     "text": [
      "100%|██████████| 8/8 [00:11<00:00,  1.43s/it]\n"
     ]
    },
    {
     "name": "stdout",
     "output_type": "stream",
     "text": [
      "---------------------------------\n",
      "Finished inserting vectors for <itmo>!\n",
      "---------------------------------\n"
     ]
    },
    {
     "name": "stderr",
     "output_type": "stream",
     "text": [
      "100%|██████████| 4/4 [00:03<00:00,  1.31it/s]\n"
     ]
    },
    {
     "name": "stdout",
     "output_type": "stream",
     "text": [
      "---------------------------------\n",
      "Finished inserting vectors for <itmo>!\n",
      "---------------------------------\n"
     ]
    },
    {
     "name": "stderr",
     "output_type": "stream",
     "text": [
      "100%|██████████| 2/2 [00:01<00:00,  1.15it/s]\n"
     ]
    },
    {
     "name": "stdout",
     "output_type": "stream",
     "text": [
      "---------------------------------\n",
      "Finished inserting vectors for <itmo>!\n",
      "---------------------------------\n"
     ]
    },
    {
     "name": "stderr",
     "output_type": "stream",
     "text": [
      "100%|██████████| 5/5 [00:03<00:00,  1.41it/s]\n"
     ]
    },
    {
     "name": "stdout",
     "output_type": "stream",
     "text": [
      "---------------------------------\n",
      "Finished inserting vectors for <itmo>!\n",
      "---------------------------------\n"
     ]
    },
    {
     "name": "stderr",
     "output_type": "stream",
     "text": [
      "100%|██████████| 2/2 [00:01<00:00,  1.02it/s]\n"
     ]
    },
    {
     "name": "stdout",
     "output_type": "stream",
     "text": [
      "---------------------------------\n",
      "Finished inserting vectors for <itmo>!\n",
      "---------------------------------\n"
     ]
    },
    {
     "name": "stderr",
     "output_type": "stream",
     "text": [
      "100%|██████████| 2/2 [00:01<00:00,  1.18it/s]\n"
     ]
    },
    {
     "name": "stdout",
     "output_type": "stream",
     "text": [
      "---------------------------------\n",
      "Finished inserting vectors for <itmo>!\n",
      "---------------------------------\n"
     ]
    },
    {
     "name": "stderr",
     "output_type": "stream",
     "text": [
      "100%|██████████| 2/2 [00:01<00:00,  1.31it/s]\n"
     ]
    },
    {
     "name": "stdout",
     "output_type": "stream",
     "text": [
      "---------------------------------\n",
      "Finished inserting vectors for <itmo>!\n",
      "---------------------------------\n"
     ]
    },
    {
     "name": "stderr",
     "output_type": "stream",
     "text": [
      "100%|██████████| 7/7 [00:05<00:00,  1.29it/s]\n"
     ]
    },
    {
     "name": "stdout",
     "output_type": "stream",
     "text": [
      "---------------------------------\n",
      "Finished inserting vectors for <itmo>!\n",
      "---------------------------------\n"
     ]
    },
    {
     "name": "stderr",
     "output_type": "stream",
     "text": [
      "100%|██████████| 3/3 [00:02<00:00,  1.01it/s]\n"
     ]
    },
    {
     "name": "stdout",
     "output_type": "stream",
     "text": [
      "---------------------------------\n",
      "Finished inserting vectors for <itmo>!\n",
      "---------------------------------\n"
     ]
    },
    {
     "name": "stderr",
     "output_type": "stream",
     "text": [
      "100%|██████████| 7/7 [00:05<00:00,  1.17it/s]\n"
     ]
    },
    {
     "name": "stdout",
     "output_type": "stream",
     "text": [
      "---------------------------------\n",
      "Finished inserting vectors for <itmo>!\n",
      "---------------------------------\n"
     ]
    },
    {
     "name": "stderr",
     "output_type": "stream",
     "text": [
      "100%|██████████| 3/3 [00:02<00:00,  1.24it/s]\n"
     ]
    },
    {
     "name": "stdout",
     "output_type": "stream",
     "text": [
      "---------------------------------\n",
      "Finished inserting vectors for <itmo>!\n",
      "---------------------------------\n"
     ]
    },
    {
     "name": "stderr",
     "output_type": "stream",
     "text": [
      "100%|██████████| 7/7 [00:34<00:00,  4.99s/it]\n"
     ]
    },
    {
     "name": "stdout",
     "output_type": "stream",
     "text": [
      "---------------------------------\n",
      "Finished inserting vectors for <itmo>!\n",
      "---------------------------------\n"
     ]
    },
    {
     "name": "stderr",
     "output_type": "stream",
     "text": [
      "100%|██████████| 6/6 [00:06<00:00,  1.06s/it]\n"
     ]
    },
    {
     "name": "stdout",
     "output_type": "stream",
     "text": [
      "---------------------------------\n",
      "Finished inserting vectors for <itmo>!\n",
      "---------------------------------\n"
     ]
    },
    {
     "name": "stderr",
     "output_type": "stream",
     "text": [
      "100%|██████████| 2/2 [00:13<00:00,  6.60s/it]\n"
     ]
    },
    {
     "name": "stdout",
     "output_type": "stream",
     "text": [
      "---------------------------------\n",
      "Finished inserting vectors for <itmo>!\n",
      "---------------------------------\n"
     ]
    },
    {
     "name": "stderr",
     "output_type": "stream",
     "text": [
      "100%|██████████| 2/2 [00:04<00:00,  2.48s/it]\n"
     ]
    },
    {
     "name": "stdout",
     "output_type": "stream",
     "text": [
      "---------------------------------\n",
      "Finished inserting vectors for <itmo>!\n",
      "---------------------------------\n"
     ]
    },
    {
     "name": "stderr",
     "output_type": "stream",
     "text": [
      "100%|██████████| 2/2 [00:01<00:00,  1.04it/s]\n"
     ]
    },
    {
     "name": "stdout",
     "output_type": "stream",
     "text": [
      "---------------------------------\n",
      "Finished inserting vectors for <itmo>!\n",
      "---------------------------------\n"
     ]
    },
    {
     "name": "stderr",
     "output_type": "stream",
     "text": [
      "100%|██████████| 6/6 [00:04<00:00,  1.23it/s]\n"
     ]
    },
    {
     "name": "stdout",
     "output_type": "stream",
     "text": [
      "---------------------------------\n",
      "Finished inserting vectors for <itmo>!\n",
      "---------------------------------\n"
     ]
    },
    {
     "name": "stderr",
     "output_type": "stream",
     "text": [
      "100%|██████████| 2/2 [00:01<00:00,  1.24it/s]\n"
     ]
    },
    {
     "name": "stdout",
     "output_type": "stream",
     "text": [
      "---------------------------------\n",
      "Finished inserting vectors for <itmo>!\n",
      "---------------------------------\n"
     ]
    },
    {
     "name": "stderr",
     "output_type": "stream",
     "text": [
      "100%|██████████| 3/3 [00:02<00:00,  1.32it/s]\n"
     ]
    },
    {
     "name": "stdout",
     "output_type": "stream",
     "text": [
      "---------------------------------\n",
      "Finished inserting vectors for <itmo>!\n",
      "---------------------------------\n"
     ]
    },
    {
     "name": "stderr",
     "output_type": "stream",
     "text": [
      "100%|██████████| 2/2 [00:01<00:00,  1.09it/s]\n"
     ]
    },
    {
     "name": "stdout",
     "output_type": "stream",
     "text": [
      "---------------------------------\n",
      "Finished inserting vectors for <itmo>!\n",
      "---------------------------------\n"
     ]
    },
    {
     "name": "stderr",
     "output_type": "stream",
     "text": [
      "100%|██████████| 6/6 [00:05<00:00,  1.08it/s]\n"
     ]
    },
    {
     "name": "stdout",
     "output_type": "stream",
     "text": [
      "---------------------------------\n",
      "Finished inserting vectors for <itmo>!\n",
      "---------------------------------\n"
     ]
    },
    {
     "name": "stderr",
     "output_type": "stream",
     "text": [
      "100%|██████████| 4/4 [00:02<00:00,  1.44it/s]\n"
     ]
    },
    {
     "name": "stdout",
     "output_type": "stream",
     "text": [
      "---------------------------------\n",
      "Finished inserting vectors for <itmo>!\n",
      "---------------------------------\n"
     ]
    },
    {
     "name": "stderr",
     "output_type": "stream",
     "text": [
      "100%|██████████| 2/2 [00:01<00:00,  1.46it/s]\n"
     ]
    },
    {
     "name": "stdout",
     "output_type": "stream",
     "text": [
      "---------------------------------\n",
      "Finished inserting vectors for <itmo>!\n",
      "---------------------------------\n"
     ]
    },
    {
     "name": "stderr",
     "output_type": "stream",
     "text": [
      "100%|██████████| 4/4 [00:05<00:00,  1.46s/it]\n"
     ]
    },
    {
     "name": "stdout",
     "output_type": "stream",
     "text": [
      "---------------------------------\n",
      "Finished inserting vectors for <itmo>!\n",
      "---------------------------------\n"
     ]
    },
    {
     "name": "stderr",
     "output_type": "stream",
     "text": [
      "100%|██████████| 2/2 [00:04<00:00,  2.40s/it]\n"
     ]
    },
    {
     "name": "stdout",
     "output_type": "stream",
     "text": [
      "---------------------------------\n",
      "Finished inserting vectors for <itmo>!\n",
      "---------------------------------\n"
     ]
    },
    {
     "name": "stderr",
     "output_type": "stream",
     "text": [
      "100%|██████████| 3/3 [00:02<00:00,  1.22it/s]\n"
     ]
    },
    {
     "name": "stdout",
     "output_type": "stream",
     "text": [
      "---------------------------------\n",
      "Finished inserting vectors for <itmo>!\n",
      "---------------------------------\n"
     ]
    },
    {
     "name": "stderr",
     "output_type": "stream",
     "text": [
      "100%|██████████| 2/2 [00:01<00:00,  1.02it/s]\n"
     ]
    },
    {
     "name": "stdout",
     "output_type": "stream",
     "text": [
      "---------------------------------\n",
      "Finished inserting vectors for <itmo>!\n",
      "---------------------------------\n"
     ]
    },
    {
     "name": "stderr",
     "output_type": "stream",
     "text": [
      "100%|██████████| 2/2 [00:01<00:00,  1.14it/s]\n"
     ]
    },
    {
     "name": "stdout",
     "output_type": "stream",
     "text": [
      "---------------------------------\n",
      "Finished inserting vectors for <itmo>!\n",
      "---------------------------------\n"
     ]
    },
    {
     "name": "stderr",
     "output_type": "stream",
     "text": [
      "100%|██████████| 3/3 [00:03<00:00,  1.28s/it]\n"
     ]
    },
    {
     "name": "stdout",
     "output_type": "stream",
     "text": [
      "---------------------------------\n",
      "Finished inserting vectors for <itmo>!\n",
      "---------------------------------\n"
     ]
    },
    {
     "name": "stderr",
     "output_type": "stream",
     "text": [
      "100%|██████████| 1/1 [00:00<00:00,  1.05it/s]\n"
     ]
    },
    {
     "name": "stdout",
     "output_type": "stream",
     "text": [
      "---------------------------------\n",
      "Finished inserting vectors for <itmo>!\n",
      "---------------------------------\n"
     ]
    },
    {
     "name": "stderr",
     "output_type": "stream",
     "text": [
      "100%|██████████| 2/2 [00:01<00:00,  1.15it/s]\n"
     ]
    },
    {
     "name": "stdout",
     "output_type": "stream",
     "text": [
      "---------------------------------\n",
      "Finished inserting vectors for <itmo>!\n",
      "---------------------------------\n"
     ]
    },
    {
     "name": "stderr",
     "output_type": "stream",
     "text": [
      "100%|██████████| 1/1 [00:00<00:00,  1.32it/s]\n"
     ]
    },
    {
     "name": "stdout",
     "output_type": "stream",
     "text": [
      "---------------------------------\n",
      "Finished inserting vectors for <itmo>!\n",
      "---------------------------------\n"
     ]
    },
    {
     "name": "stderr",
     "output_type": "stream",
     "text": [
      "100%|██████████| 1/1 [00:00<00:00,  1.33it/s]\n"
     ]
    },
    {
     "name": "stdout",
     "output_type": "stream",
     "text": [
      "---------------------------------\n",
      "Finished inserting vectors for <itmo>!\n",
      "---------------------------------\n"
     ]
    },
    {
     "name": "stderr",
     "output_type": "stream",
     "text": [
      "100%|██████████| 1/1 [00:00<00:00,  1.41it/s]\n"
     ]
    },
    {
     "name": "stdout",
     "output_type": "stream",
     "text": [
      "---------------------------------\n",
      "Finished inserting vectors for <itmo>!\n",
      "---------------------------------\n"
     ]
    },
    {
     "name": "stderr",
     "output_type": "stream",
     "text": [
      "100%|██████████| 2/2 [00:01<00:00,  1.51it/s]\n"
     ]
    },
    {
     "name": "stdout",
     "output_type": "stream",
     "text": [
      "---------------------------------\n",
      "Finished inserting vectors for <itmo>!\n",
      "---------------------------------\n"
     ]
    },
    {
     "name": "stderr",
     "output_type": "stream",
     "text": [
      "100%|██████████| 2/2 [00:01<00:00,  1.29it/s]\n"
     ]
    },
    {
     "name": "stdout",
     "output_type": "stream",
     "text": [
      "---------------------------------\n",
      "Finished inserting vectors for <itmo>!\n",
      "---------------------------------\n"
     ]
    },
    {
     "name": "stderr",
     "output_type": "stream",
     "text": [
      "100%|██████████| 2/2 [00:01<00:00,  1.41it/s]\n"
     ]
    },
    {
     "name": "stdout",
     "output_type": "stream",
     "text": [
      "---------------------------------\n",
      "Finished inserting vectors for <itmo>!\n",
      "---------------------------------\n"
     ]
    },
    {
     "name": "stderr",
     "output_type": "stream",
     "text": [
      "100%|██████████| 4/4 [00:02<00:00,  1.44it/s]\n"
     ]
    },
    {
     "name": "stdout",
     "output_type": "stream",
     "text": [
      "---------------------------------\n",
      "Finished inserting vectors for <itmo>!\n",
      "---------------------------------\n"
     ]
    },
    {
     "name": "stderr",
     "output_type": "stream",
     "text": [
      "100%|██████████| 4/4 [00:03<00:00,  1.03it/s]\n"
     ]
    },
    {
     "name": "stdout",
     "output_type": "stream",
     "text": [
      "---------------------------------\n",
      "Finished inserting vectors for <itmo>!\n",
      "---------------------------------\n"
     ]
    },
    {
     "name": "stderr",
     "output_type": "stream",
     "text": [
      "100%|██████████| 2/2 [00:01<00:00,  1.33it/s]\n"
     ]
    },
    {
     "name": "stdout",
     "output_type": "stream",
     "text": [
      "---------------------------------\n",
      "Finished inserting vectors for <itmo>!\n",
      "---------------------------------\n"
     ]
    },
    {
     "name": "stderr",
     "output_type": "stream",
     "text": [
      "100%|██████████| 4/4 [00:03<00:00,  1.05it/s]\n"
     ]
    },
    {
     "name": "stdout",
     "output_type": "stream",
     "text": [
      "---------------------------------\n",
      "Finished inserting vectors for <itmo>!\n",
      "---------------------------------\n"
     ]
    },
    {
     "name": "stderr",
     "output_type": "stream",
     "text": [
      "100%|██████████| 3/3 [00:02<00:00,  1.27it/s]\n"
     ]
    },
    {
     "name": "stdout",
     "output_type": "stream",
     "text": [
      "---------------------------------\n",
      "Finished inserting vectors for <itmo>!\n",
      "---------------------------------\n"
     ]
    },
    {
     "name": "stderr",
     "output_type": "stream",
     "text": [
      "100%|██████████| 3/3 [00:04<00:00,  1.50s/it]\n"
     ]
    },
    {
     "name": "stdout",
     "output_type": "stream",
     "text": [
      "---------------------------------\n",
      "Finished inserting vectors for <itmo>!\n",
      "---------------------------------\n"
     ]
    },
    {
     "name": "stderr",
     "output_type": "stream",
     "text": [
      "100%|██████████| 3/3 [00:02<00:00,  1.28it/s]\n"
     ]
    },
    {
     "name": "stdout",
     "output_type": "stream",
     "text": [
      "---------------------------------\n",
      "Finished inserting vectors for <itmo>!\n",
      "---------------------------------\n"
     ]
    },
    {
     "name": "stderr",
     "output_type": "stream",
     "text": [
      "100%|██████████| 3/3 [00:03<00:00,  1.23s/it]\n"
     ]
    },
    {
     "name": "stdout",
     "output_type": "stream",
     "text": [
      "---------------------------------\n",
      "Finished inserting vectors for <itmo>!\n",
      "---------------------------------\n"
     ]
    },
    {
     "name": "stderr",
     "output_type": "stream",
     "text": [
      "100%|██████████| 4/4 [00:04<00:00,  1.05s/it]\n"
     ]
    },
    {
     "name": "stdout",
     "output_type": "stream",
     "text": [
      "---------------------------------\n",
      "Finished inserting vectors for <itmo>!\n",
      "---------------------------------\n"
     ]
    },
    {
     "name": "stderr",
     "output_type": "stream",
     "text": [
      "100%|██████████| 3/3 [00:03<00:00,  1.17s/it]\n"
     ]
    },
    {
     "name": "stdout",
     "output_type": "stream",
     "text": [
      "---------------------------------\n",
      "Finished inserting vectors for <itmo>!\n",
      "---------------------------------\n"
     ]
    },
    {
     "name": "stderr",
     "output_type": "stream",
     "text": [
      "100%|██████████| 2/2 [00:01<00:00,  1.62it/s]\n"
     ]
    },
    {
     "name": "stdout",
     "output_type": "stream",
     "text": [
      "---------------------------------\n",
      "Finished inserting vectors for <itmo>!\n",
      "---------------------------------\n"
     ]
    },
    {
     "name": "stderr",
     "output_type": "stream",
     "text": [
      "100%|██████████| 2/2 [00:01<00:00,  1.33it/s]\n"
     ]
    },
    {
     "name": "stdout",
     "output_type": "stream",
     "text": [
      "---------------------------------\n",
      "Finished inserting vectors for <itmo>!\n",
      "---------------------------------\n"
     ]
    },
    {
     "name": "stderr",
     "output_type": "stream",
     "text": [
      "100%|██████████| 2/2 [00:05<00:00,  2.92s/it]\n"
     ]
    },
    {
     "name": "stdout",
     "output_type": "stream",
     "text": [
      "---------------------------------\n",
      "Finished inserting vectors for <itmo>!\n",
      "---------------------------------\n"
     ]
    },
    {
     "name": "stderr",
     "output_type": "stream",
     "text": [
      "100%|██████████| 1/1 [00:00<00:00,  1.31it/s]\n"
     ]
    },
    {
     "name": "stdout",
     "output_type": "stream",
     "text": [
      "---------------------------------\n",
      "Finished inserting vectors for <itmo>!\n",
      "---------------------------------\n"
     ]
    },
    {
     "name": "stderr",
     "output_type": "stream",
     "text": [
      "100%|██████████| 1/1 [00:01<00:00,  1.82s/it]\n"
     ]
    },
    {
     "name": "stdout",
     "output_type": "stream",
     "text": [
      "---------------------------------\n",
      "Finished inserting vectors for <itmo>!\n",
      "---------------------------------\n"
     ]
    },
    {
     "name": "stderr",
     "output_type": "stream",
     "text": [
      "100%|██████████| 2/2 [00:01<00:00,  1.11it/s]\n"
     ]
    },
    {
     "name": "stdout",
     "output_type": "stream",
     "text": [
      "---------------------------------\n",
      "Finished inserting vectors for <itmo>!\n",
      "---------------------------------\n"
     ]
    },
    {
     "name": "stderr",
     "output_type": "stream",
     "text": [
      "100%|██████████| 1/1 [00:01<00:00,  1.12s/it]\n"
     ]
    },
    {
     "name": "stdout",
     "output_type": "stream",
     "text": [
      "---------------------------------\n",
      "Finished inserting vectors for <itmo>!\n",
      "---------------------------------\n"
     ]
    },
    {
     "name": "stderr",
     "output_type": "stream",
     "text": [
      "100%|██████████| 2/2 [00:02<00:00,  1.42s/it]\n"
     ]
    },
    {
     "name": "stdout",
     "output_type": "stream",
     "text": [
      "---------------------------------\n",
      "Finished inserting vectors for <itmo>!\n",
      "---------------------------------\n"
     ]
    },
    {
     "name": "stderr",
     "output_type": "stream",
     "text": [
      "100%|██████████| 2/2 [00:01<00:00,  1.15it/s]\n"
     ]
    },
    {
     "name": "stdout",
     "output_type": "stream",
     "text": [
      "---------------------------------\n",
      "Finished inserting vectors for <itmo>!\n",
      "---------------------------------\n"
     ]
    },
    {
     "name": "stderr",
     "output_type": "stream",
     "text": [
      "100%|██████████| 2/2 [00:01<00:00,  1.43it/s]\n"
     ]
    },
    {
     "name": "stdout",
     "output_type": "stream",
     "text": [
      "---------------------------------\n",
      "Finished inserting vectors for <itmo>!\n",
      "---------------------------------\n"
     ]
    },
    {
     "name": "stderr",
     "output_type": "stream",
     "text": [
      "100%|██████████| 1/1 [00:00<00:00,  1.05it/s]\n"
     ]
    },
    {
     "name": "stdout",
     "output_type": "stream",
     "text": [
      "---------------------------------\n",
      "Finished inserting vectors for <itmo>!\n",
      "---------------------------------\n"
     ]
    },
    {
     "name": "stderr",
     "output_type": "stream",
     "text": [
      "100%|██████████| 2/2 [00:01<00:00,  1.38it/s]\n"
     ]
    },
    {
     "name": "stdout",
     "output_type": "stream",
     "text": [
      "---------------------------------\n",
      "Finished inserting vectors for <itmo>!\n",
      "---------------------------------\n"
     ]
    },
    {
     "name": "stderr",
     "output_type": "stream",
     "text": [
      "100%|██████████| 2/2 [00:01<00:00,  1.36it/s]\n"
     ]
    },
    {
     "name": "stdout",
     "output_type": "stream",
     "text": [
      "---------------------------------\n",
      "Finished inserting vectors for <itmo>!\n",
      "---------------------------------\n"
     ]
    },
    {
     "name": "stderr",
     "output_type": "stream",
     "text": [
      "100%|██████████| 2/2 [00:01<00:00,  1.27it/s]\n"
     ]
    },
    {
     "name": "stdout",
     "output_type": "stream",
     "text": [
      "---------------------------------\n",
      "Finished inserting vectors for <itmo>!\n",
      "---------------------------------\n"
     ]
    },
    {
     "name": "stderr",
     "output_type": "stream",
     "text": [
      "100%|██████████| 4/4 [00:03<00:00,  1.14it/s]\n"
     ]
    },
    {
     "name": "stdout",
     "output_type": "stream",
     "text": [
      "---------------------------------\n",
      "Finished inserting vectors for <itmo>!\n",
      "---------------------------------\n"
     ]
    },
    {
     "name": "stderr",
     "output_type": "stream",
     "text": [
      "100%|██████████| 2/2 [00:01<00:00,  1.14it/s]\n"
     ]
    },
    {
     "name": "stdout",
     "output_type": "stream",
     "text": [
      "---------------------------------\n",
      "Finished inserting vectors for <itmo>!\n",
      "---------------------------------\n"
     ]
    },
    {
     "name": "stderr",
     "output_type": "stream",
     "text": [
      "100%|██████████| 2/2 [00:01<00:00,  1.12it/s]\n"
     ]
    },
    {
     "name": "stdout",
     "output_type": "stream",
     "text": [
      "---------------------------------\n",
      "Finished inserting vectors for <itmo>!\n",
      "---------------------------------\n"
     ]
    },
    {
     "name": "stderr",
     "output_type": "stream",
     "text": [
      "100%|██████████| 2/2 [00:01<00:00,  1.14it/s]\n"
     ]
    },
    {
     "name": "stdout",
     "output_type": "stream",
     "text": [
      "---------------------------------\n",
      "Finished inserting vectors for <itmo>!\n",
      "---------------------------------\n"
     ]
    },
    {
     "name": "stderr",
     "output_type": "stream",
     "text": [
      "100%|██████████| 2/2 [00:01<00:00,  1.29it/s]\n"
     ]
    },
    {
     "name": "stdout",
     "output_type": "stream",
     "text": [
      "---------------------------------\n",
      "Finished inserting vectors for <itmo>!\n",
      "---------------------------------\n"
     ]
    },
    {
     "name": "stderr",
     "output_type": "stream",
     "text": [
      "100%|██████████| 2/2 [00:05<00:00,  2.58s/it]\n"
     ]
    },
    {
     "name": "stdout",
     "output_type": "stream",
     "text": [
      "---------------------------------\n",
      "Finished inserting vectors for <itmo>!\n",
      "---------------------------------\n"
     ]
    },
    {
     "name": "stderr",
     "output_type": "stream",
     "text": [
      "100%|██████████| 2/2 [00:01<00:00,  1.32it/s]\n"
     ]
    },
    {
     "name": "stdout",
     "output_type": "stream",
     "text": [
      "---------------------------------\n",
      "Finished inserting vectors for <itmo>!\n",
      "---------------------------------\n"
     ]
    },
    {
     "name": "stderr",
     "output_type": "stream",
     "text": [
      "100%|██████████| 2/2 [00:02<00:00,  1.42s/it]\n"
     ]
    },
    {
     "name": "stdout",
     "output_type": "stream",
     "text": [
      "---------------------------------\n",
      "Finished inserting vectors for <itmo>!\n",
      "---------------------------------\n"
     ]
    },
    {
     "name": "stderr",
     "output_type": "stream",
     "text": [
      "100%|██████████| 2/2 [00:02<00:00,  1.05s/it]\n"
     ]
    },
    {
     "name": "stdout",
     "output_type": "stream",
     "text": [
      "---------------------------------\n",
      "Finished inserting vectors for <itmo>!\n",
      "---------------------------------\n"
     ]
    },
    {
     "name": "stderr",
     "output_type": "stream",
     "text": [
      "100%|██████████| 1/1 [00:00<00:00,  1.11it/s]\n"
     ]
    },
    {
     "name": "stdout",
     "output_type": "stream",
     "text": [
      "---------------------------------\n",
      "Finished inserting vectors for <itmo>!\n",
      "---------------------------------\n"
     ]
    },
    {
     "name": "stderr",
     "output_type": "stream",
     "text": [
      "100%|██████████| 1/1 [00:00<00:00,  1.27it/s]\n"
     ]
    },
    {
     "name": "stdout",
     "output_type": "stream",
     "text": [
      "---------------------------------\n",
      "Finished inserting vectors for <itmo>!\n",
      "---------------------------------\n"
     ]
    },
    {
     "name": "stderr",
     "output_type": "stream",
     "text": [
      "100%|██████████| 2/2 [00:01<00:00,  1.29it/s]\n"
     ]
    },
    {
     "name": "stdout",
     "output_type": "stream",
     "text": [
      "---------------------------------\n",
      "Finished inserting vectors for <itmo>!\n",
      "---------------------------------\n"
     ]
    },
    {
     "name": "stderr",
     "output_type": "stream",
     "text": [
      "100%|██████████| 2/2 [00:02<00:00,  1.45s/it]\n"
     ]
    },
    {
     "name": "stdout",
     "output_type": "stream",
     "text": [
      "---------------------------------\n",
      "Finished inserting vectors for <itmo>!\n",
      "---------------------------------\n"
     ]
    },
    {
     "name": "stderr",
     "output_type": "stream",
     "text": [
      "100%|██████████| 5/5 [00:04<00:00,  1.15it/s]\n"
     ]
    },
    {
     "name": "stdout",
     "output_type": "stream",
     "text": [
      "---------------------------------\n",
      "Finished inserting vectors for <itmo>!\n",
      "---------------------------------\n"
     ]
    },
    {
     "name": "stderr",
     "output_type": "stream",
     "text": [
      "100%|██████████| 4/4 [00:03<00:00,  1.23it/s]\n"
     ]
    },
    {
     "name": "stdout",
     "output_type": "stream",
     "text": [
      "---------------------------------\n",
      "Finished inserting vectors for <itmo>!\n",
      "---------------------------------\n"
     ]
    },
    {
     "name": "stderr",
     "output_type": "stream",
     "text": [
      "100%|██████████| 2/2 [00:01<00:00,  1.18it/s]\n"
     ]
    },
    {
     "name": "stdout",
     "output_type": "stream",
     "text": [
      "---------------------------------\n",
      "Finished inserting vectors for <itmo>!\n",
      "---------------------------------\n"
     ]
    },
    {
     "name": "stderr",
     "output_type": "stream",
     "text": [
      "100%|██████████| 3/3 [00:02<00:00,  1.10it/s]\n"
     ]
    },
    {
     "name": "stdout",
     "output_type": "stream",
     "text": [
      "---------------------------------\n",
      "Finished inserting vectors for <itmo>!\n",
      "---------------------------------\n"
     ]
    },
    {
     "name": "stderr",
     "output_type": "stream",
     "text": [
      "100%|██████████| 3/3 [00:03<00:00,  1.02s/it]\n"
     ]
    },
    {
     "name": "stdout",
     "output_type": "stream",
     "text": [
      "---------------------------------\n",
      "Finished inserting vectors for <itmo>!\n",
      "---------------------------------\n"
     ]
    },
    {
     "name": "stderr",
     "output_type": "stream",
     "text": [
      "100%|██████████| 3/3 [00:02<00:00,  1.40it/s]\n"
     ]
    },
    {
     "name": "stdout",
     "output_type": "stream",
     "text": [
      "---------------------------------\n",
      "Finished inserting vectors for <itmo>!\n",
      "---------------------------------\n"
     ]
    },
    {
     "name": "stderr",
     "output_type": "stream",
     "text": [
      "100%|██████████| 2/2 [00:01<00:00,  1.31it/s]\n"
     ]
    },
    {
     "name": "stdout",
     "output_type": "stream",
     "text": [
      "---------------------------------\n",
      "Finished inserting vectors for <itmo>!\n",
      "---------------------------------\n"
     ]
    },
    {
     "name": "stderr",
     "output_type": "stream",
     "text": [
      "100%|██████████| 3/3 [00:02<00:00,  1.05it/s]\n"
     ]
    },
    {
     "name": "stdout",
     "output_type": "stream",
     "text": [
      "---------------------------------\n",
      "Finished inserting vectors for <itmo>!\n",
      "---------------------------------\n"
     ]
    },
    {
     "name": "stderr",
     "output_type": "stream",
     "text": [
      "100%|██████████| 5/5 [00:04<00:00,  1.21it/s]\n"
     ]
    },
    {
     "name": "stdout",
     "output_type": "stream",
     "text": [
      "---------------------------------\n",
      "Finished inserting vectors for <itmo>!\n",
      "---------------------------------\n"
     ]
    },
    {
     "name": "stderr",
     "output_type": "stream",
     "text": [
      "100%|██████████| 7/7 [00:06<00:00,  1.07it/s]\n"
     ]
    },
    {
     "name": "stdout",
     "output_type": "stream",
     "text": [
      "---------------------------------\n",
      "Finished inserting vectors for <itmo>!\n",
      "---------------------------------\n"
     ]
    },
    {
     "name": "stderr",
     "output_type": "stream",
     "text": [
      "100%|██████████| 2/2 [00:01<00:00,  1.38it/s]\n"
     ]
    },
    {
     "name": "stdout",
     "output_type": "stream",
     "text": [
      "---------------------------------\n",
      "Finished inserting vectors for <itmo>!\n",
      "---------------------------------\n"
     ]
    },
    {
     "name": "stderr",
     "output_type": "stream",
     "text": [
      "100%|██████████| 3/3 [00:02<00:00,  1.23it/s]\n"
     ]
    },
    {
     "name": "stdout",
     "output_type": "stream",
     "text": [
      "---------------------------------\n",
      "Finished inserting vectors for <itmo>!\n",
      "---------------------------------\n"
     ]
    },
    {
     "name": "stderr",
     "output_type": "stream",
     "text": [
      "100%|██████████| 3/3 [00:02<00:00,  1.01it/s]\n"
     ]
    },
    {
     "name": "stdout",
     "output_type": "stream",
     "text": [
      "---------------------------------\n",
      "Finished inserting vectors for <itmo>!\n",
      "---------------------------------\n"
     ]
    },
    {
     "name": "stderr",
     "output_type": "stream",
     "text": [
      "100%|██████████| 5/5 [00:04<00:00,  1.02it/s]\n"
     ]
    },
    {
     "name": "stdout",
     "output_type": "stream",
     "text": [
      "---------------------------------\n",
      "Finished inserting vectors for <itmo>!\n",
      "---------------------------------\n"
     ]
    },
    {
     "name": "stderr",
     "output_type": "stream",
     "text": [
      "100%|██████████| 3/3 [00:02<00:00,  1.23it/s]\n"
     ]
    },
    {
     "name": "stdout",
     "output_type": "stream",
     "text": [
      "---------------------------------\n",
      "Finished inserting vectors for <itmo>!\n",
      "---------------------------------\n"
     ]
    },
    {
     "name": "stderr",
     "output_type": "stream",
     "text": [
      "100%|██████████| 6/6 [00:05<00:00,  1.07it/s]\n"
     ]
    },
    {
     "name": "stdout",
     "output_type": "stream",
     "text": [
      "---------------------------------\n",
      "Finished inserting vectors for <itmo>!\n",
      "---------------------------------\n"
     ]
    },
    {
     "name": "stderr",
     "output_type": "stream",
     "text": [
      "100%|██████████| 2/2 [00:01<00:00,  1.46it/s]\n"
     ]
    },
    {
     "name": "stdout",
     "output_type": "stream",
     "text": [
      "---------------------------------\n",
      "Finished inserting vectors for <itmo>!\n",
      "---------------------------------\n"
     ]
    },
    {
     "name": "stderr",
     "output_type": "stream",
     "text": [
      "100%|██████████| 2/2 [00:01<00:00,  1.11it/s]\n"
     ]
    },
    {
     "name": "stdout",
     "output_type": "stream",
     "text": [
      "---------------------------------\n",
      "Finished inserting vectors for <itmo>!\n",
      "---------------------------------\n"
     ]
    },
    {
     "name": "stderr",
     "output_type": "stream",
     "text": [
      "100%|██████████| 4/4 [00:04<00:00,  1.07s/it]\n"
     ]
    },
    {
     "name": "stdout",
     "output_type": "stream",
     "text": [
      "---------------------------------\n",
      "Finished inserting vectors for <itmo>!\n",
      "---------------------------------\n"
     ]
    },
    {
     "name": "stderr",
     "output_type": "stream",
     "text": [
      "100%|██████████| 2/2 [00:01<00:00,  1.28it/s]\n"
     ]
    },
    {
     "name": "stdout",
     "output_type": "stream",
     "text": [
      "---------------------------------\n",
      "Finished inserting vectors for <itmo>!\n",
      "---------------------------------\n"
     ]
    },
    {
     "name": "stderr",
     "output_type": "stream",
     "text": [
      "100%|██████████| 3/3 [00:02<00:00,  1.26it/s]\n"
     ]
    },
    {
     "name": "stdout",
     "output_type": "stream",
     "text": [
      "---------------------------------\n",
      "Finished inserting vectors for <itmo>!\n",
      "---------------------------------\n"
     ]
    },
    {
     "name": "stderr",
     "output_type": "stream",
     "text": [
      "100%|██████████| 3/3 [00:02<00:00,  1.09it/s]\n"
     ]
    },
    {
     "name": "stdout",
     "output_type": "stream",
     "text": [
      "---------------------------------\n",
      "Finished inserting vectors for <itmo>!\n",
      "---------------------------------\n"
     ]
    },
    {
     "name": "stderr",
     "output_type": "stream",
     "text": [
      "100%|██████████| 2/2 [00:01<00:00,  1.41it/s]\n"
     ]
    },
    {
     "name": "stdout",
     "output_type": "stream",
     "text": [
      "---------------------------------\n",
      "Finished inserting vectors for <itmo>!\n",
      "---------------------------------\n"
     ]
    },
    {
     "name": "stderr",
     "output_type": "stream",
     "text": [
      "100%|██████████| 2/2 [00:01<00:00,  1.50it/s]\n"
     ]
    },
    {
     "name": "stdout",
     "output_type": "stream",
     "text": [
      "---------------------------------\n",
      "Finished inserting vectors for <itmo>!\n",
      "---------------------------------\n"
     ]
    },
    {
     "name": "stderr",
     "output_type": "stream",
     "text": [
      "100%|██████████| 3/3 [00:02<00:00,  1.40it/s]\n"
     ]
    },
    {
     "name": "stdout",
     "output_type": "stream",
     "text": [
      "---------------------------------\n",
      "Finished inserting vectors for <itmo>!\n",
      "---------------------------------\n"
     ]
    },
    {
     "name": "stderr",
     "output_type": "stream",
     "text": [
      "100%|██████████| 3/3 [00:02<00:00,  1.05it/s]\n"
     ]
    },
    {
     "name": "stdout",
     "output_type": "stream",
     "text": [
      "---------------------------------\n",
      "Finished inserting vectors for <itmo>!\n",
      "---------------------------------\n"
     ]
    },
    {
     "name": "stderr",
     "output_type": "stream",
     "text": [
      "100%|██████████| 4/4 [00:02<00:00,  1.40it/s]\n"
     ]
    },
    {
     "name": "stdout",
     "output_type": "stream",
     "text": [
      "---------------------------------\n",
      "Finished inserting vectors for <itmo>!\n",
      "---------------------------------\n"
     ]
    },
    {
     "name": "stderr",
     "output_type": "stream",
     "text": [
      "100%|██████████| 3/3 [00:02<00:00,  1.37it/s]\n"
     ]
    },
    {
     "name": "stdout",
     "output_type": "stream",
     "text": [
      "---------------------------------\n",
      "Finished inserting vectors for <itmo>!\n",
      "---------------------------------\n"
     ]
    },
    {
     "name": "stderr",
     "output_type": "stream",
     "text": [
      "100%|██████████| 3/3 [00:02<00:00,  1.12it/s]\n"
     ]
    },
    {
     "name": "stdout",
     "output_type": "stream",
     "text": [
      "---------------------------------\n",
      "Finished inserting vectors for <itmo>!\n",
      "---------------------------------\n"
     ]
    },
    {
     "name": "stderr",
     "output_type": "stream",
     "text": [
      "100%|██████████| 4/4 [00:03<00:00,  1.18it/s]\n"
     ]
    },
    {
     "name": "stdout",
     "output_type": "stream",
     "text": [
      "---------------------------------\n",
      "Finished inserting vectors for <itmo>!\n",
      "---------------------------------\n"
     ]
    },
    {
     "name": "stderr",
     "output_type": "stream",
     "text": [
      "100%|██████████| 4/4 [00:02<00:00,  1.36it/s]\n"
     ]
    },
    {
     "name": "stdout",
     "output_type": "stream",
     "text": [
      "---------------------------------\n",
      "Finished inserting vectors for <itmo>!\n",
      "---------------------------------\n"
     ]
    },
    {
     "name": "stderr",
     "output_type": "stream",
     "text": [
      "100%|██████████| 3/3 [00:02<00:00,  1.48it/s]\n"
     ]
    },
    {
     "name": "stdout",
     "output_type": "stream",
     "text": [
      "---------------------------------\n",
      "Finished inserting vectors for <itmo>!\n",
      "---------------------------------\n"
     ]
    },
    {
     "name": "stderr",
     "output_type": "stream",
     "text": [
      "100%|██████████| 2/2 [00:01<00:00,  1.45it/s]\n"
     ]
    },
    {
     "name": "stdout",
     "output_type": "stream",
     "text": [
      "---------------------------------\n",
      "Finished inserting vectors for <itmo>!\n",
      "---------------------------------\n"
     ]
    },
    {
     "name": "stderr",
     "output_type": "stream",
     "text": [
      "100%|██████████| 3/3 [00:02<00:00,  1.27it/s]\n"
     ]
    },
    {
     "name": "stdout",
     "output_type": "stream",
     "text": [
      "---------------------------------\n",
      "Finished inserting vectors for <itmo>!\n",
      "---------------------------------\n"
     ]
    },
    {
     "name": "stderr",
     "output_type": "stream",
     "text": [
      "100%|██████████| 3/3 [00:02<00:00,  1.33it/s]\n"
     ]
    },
    {
     "name": "stdout",
     "output_type": "stream",
     "text": [
      "---------------------------------\n",
      "Finished inserting vectors for <itmo>!\n",
      "---------------------------------\n"
     ]
    },
    {
     "name": "stderr",
     "output_type": "stream",
     "text": [
      "100%|██████████| 4/4 [00:04<00:00,  1.06s/it]\n"
     ]
    },
    {
     "name": "stdout",
     "output_type": "stream",
     "text": [
      "---------------------------------\n",
      "Finished inserting vectors for <itmo>!\n",
      "---------------------------------\n"
     ]
    },
    {
     "name": "stderr",
     "output_type": "stream",
     "text": [
      "100%|██████████| 4/4 [00:02<00:00,  1.47it/s]\n"
     ]
    },
    {
     "name": "stdout",
     "output_type": "stream",
     "text": [
      "---------------------------------\n",
      "Finished inserting vectors for <itmo>!\n",
      "---------------------------------\n"
     ]
    },
    {
     "name": "stderr",
     "output_type": "stream",
     "text": [
      "100%|██████████| 3/3 [00:02<00:00,  1.29it/s]\n"
     ]
    },
    {
     "name": "stdout",
     "output_type": "stream",
     "text": [
      "---------------------------------\n",
      "Finished inserting vectors for <itmo>!\n",
      "---------------------------------\n"
     ]
    },
    {
     "name": "stderr",
     "output_type": "stream",
     "text": [
      "100%|██████████| 2/2 [00:01<00:00,  1.68it/s]\n"
     ]
    },
    {
     "name": "stdout",
     "output_type": "stream",
     "text": [
      "---------------------------------\n",
      "Finished inserting vectors for <itmo>!\n",
      "---------------------------------\n"
     ]
    },
    {
     "name": "stderr",
     "output_type": "stream",
     "text": [
      "100%|██████████| 5/5 [00:04<00:00,  1.25it/s]\n"
     ]
    },
    {
     "name": "stdout",
     "output_type": "stream",
     "text": [
      "---------------------------------\n",
      "Finished inserting vectors for <itmo>!\n",
      "---------------------------------\n"
     ]
    },
    {
     "name": "stderr",
     "output_type": "stream",
     "text": [
      "100%|██████████| 4/4 [00:03<00:00,  1.32it/s]\n"
     ]
    },
    {
     "name": "stdout",
     "output_type": "stream",
     "text": [
      "---------------------------------\n",
      "Finished inserting vectors for <itmo>!\n",
      "---------------------------------\n"
     ]
    },
    {
     "name": "stderr",
     "output_type": "stream",
     "text": [
      "100%|██████████| 2/2 [00:01<00:00,  1.16it/s]\n"
     ]
    },
    {
     "name": "stdout",
     "output_type": "stream",
     "text": [
      "---------------------------------\n",
      "Finished inserting vectors for <itmo>!\n",
      "---------------------------------\n"
     ]
    },
    {
     "name": "stderr",
     "output_type": "stream",
     "text": [
      "100%|██████████| 2/2 [00:01<00:00,  1.10it/s]\n"
     ]
    },
    {
     "name": "stdout",
     "output_type": "stream",
     "text": [
      "---------------------------------\n",
      "Finished inserting vectors for <itmo>!\n",
      "---------------------------------\n"
     ]
    },
    {
     "name": "stderr",
     "output_type": "stream",
     "text": [
      "100%|██████████| 2/2 [00:01<00:00,  1.11it/s]\n"
     ]
    },
    {
     "name": "stdout",
     "output_type": "stream",
     "text": [
      "---------------------------------\n",
      "Finished inserting vectors for <itmo>!\n",
      "---------------------------------\n"
     ]
    },
    {
     "name": "stderr",
     "output_type": "stream",
     "text": [
      "100%|██████████| 2/2 [00:02<00:00,  1.09s/it]\n"
     ]
    },
    {
     "name": "stdout",
     "output_type": "stream",
     "text": [
      "---------------------------------\n",
      "Finished inserting vectors for <itmo>!\n",
      "---------------------------------\n"
     ]
    },
    {
     "name": "stderr",
     "output_type": "stream",
     "text": [
      "100%|██████████| 3/3 [00:02<00:00,  1.13it/s]\n"
     ]
    },
    {
     "name": "stdout",
     "output_type": "stream",
     "text": [
      "---------------------------------\n",
      "Finished inserting vectors for <itmo>!\n",
      "---------------------------------\n"
     ]
    },
    {
     "name": "stderr",
     "output_type": "stream",
     "text": [
      "100%|██████████| 3/3 [00:02<00:00,  1.08it/s]\n"
     ]
    },
    {
     "name": "stdout",
     "output_type": "stream",
     "text": [
      "---------------------------------\n",
      "Finished inserting vectors for <itmo>!\n",
      "---------------------------------\n"
     ]
    },
    {
     "name": "stderr",
     "output_type": "stream",
     "text": [
      "100%|██████████| 1/1 [00:00<00:00,  1.18it/s]\n"
     ]
    },
    {
     "name": "stdout",
     "output_type": "stream",
     "text": [
      "---------------------------------\n",
      "Finished inserting vectors for <itmo>!\n",
      "---------------------------------\n"
     ]
    },
    {
     "name": "stderr",
     "output_type": "stream",
     "text": [
      "100%|██████████| 4/4 [00:03<00:00,  1.25it/s]\n"
     ]
    },
    {
     "name": "stdout",
     "output_type": "stream",
     "text": [
      "---------------------------------\n",
      "Finished inserting vectors for <itmo>!\n",
      "---------------------------------\n"
     ]
    },
    {
     "name": "stderr",
     "output_type": "stream",
     "text": [
      "100%|██████████| 3/3 [00:02<00:00,  1.14it/s]\n"
     ]
    },
    {
     "name": "stdout",
     "output_type": "stream",
     "text": [
      "---------------------------------\n",
      "Finished inserting vectors for <itmo>!\n",
      "---------------------------------\n"
     ]
    },
    {
     "name": "stderr",
     "output_type": "stream",
     "text": [
      "100%|██████████| 2/2 [00:01<00:00,  1.25it/s]\n"
     ]
    },
    {
     "name": "stdout",
     "output_type": "stream",
     "text": [
      "---------------------------------\n",
      "Finished inserting vectors for <itmo>!\n",
      "---------------------------------\n"
     ]
    },
    {
     "name": "stderr",
     "output_type": "stream",
     "text": [
      "100%|██████████| 2/2 [00:01<00:00,  1.39it/s]\n"
     ]
    },
    {
     "name": "stdout",
     "output_type": "stream",
     "text": [
      "---------------------------------\n",
      "Finished inserting vectors for <itmo>!\n",
      "---------------------------------\n"
     ]
    },
    {
     "name": "stderr",
     "output_type": "stream",
     "text": [
      "100%|██████████| 2/2 [00:01<00:00,  1.17it/s]\n"
     ]
    },
    {
     "name": "stdout",
     "output_type": "stream",
     "text": [
      "---------------------------------\n",
      "Finished inserting vectors for <itmo>!\n",
      "---------------------------------\n"
     ]
    },
    {
     "name": "stderr",
     "output_type": "stream",
     "text": [
      "100%|██████████| 2/2 [00:01<00:00,  1.13it/s]\n"
     ]
    },
    {
     "name": "stdout",
     "output_type": "stream",
     "text": [
      "---------------------------------\n",
      "Finished inserting vectors for <itmo>!\n",
      "---------------------------------\n"
     ]
    },
    {
     "name": "stderr",
     "output_type": "stream",
     "text": [
      "100%|██████████| 2/2 [00:02<00:00,  1.29s/it]\n"
     ]
    },
    {
     "name": "stdout",
     "output_type": "stream",
     "text": [
      "---------------------------------\n",
      "Finished inserting vectors for <itmo>!\n",
      "---------------------------------\n"
     ]
    },
    {
     "name": "stderr",
     "output_type": "stream",
     "text": [
      "100%|██████████| 2/2 [00:01<00:00,  1.18it/s]\n"
     ]
    },
    {
     "name": "stdout",
     "output_type": "stream",
     "text": [
      "---------------------------------\n",
      "Finished inserting vectors for <itmo>!\n",
      "---------------------------------\n"
     ]
    },
    {
     "name": "stderr",
     "output_type": "stream",
     "text": [
      "100%|██████████| 2/2 [00:01<00:00,  1.30it/s]\n"
     ]
    },
    {
     "name": "stdout",
     "output_type": "stream",
     "text": [
      "---------------------------------\n",
      "Finished inserting vectors for <itmo>!\n",
      "---------------------------------\n"
     ]
    },
    {
     "name": "stderr",
     "output_type": "stream",
     "text": [
      "100%|██████████| 3/3 [00:03<00:00,  1.04s/it]\n"
     ]
    },
    {
     "name": "stdout",
     "output_type": "stream",
     "text": [
      "---------------------------------\n",
      "Finished inserting vectors for <itmo>!\n",
      "---------------------------------\n"
     ]
    },
    {
     "name": "stderr",
     "output_type": "stream",
     "text": [
      "100%|██████████| 3/3 [00:02<00:00,  1.14it/s]\n"
     ]
    },
    {
     "name": "stdout",
     "output_type": "stream",
     "text": [
      "---------------------------------\n",
      "Finished inserting vectors for <itmo>!\n",
      "---------------------------------\n"
     ]
    },
    {
     "name": "stderr",
     "output_type": "stream",
     "text": [
      "100%|██████████| 3/3 [00:02<00:00,  1.24it/s]\n"
     ]
    },
    {
     "name": "stdout",
     "output_type": "stream",
     "text": [
      "---------------------------------\n",
      "Finished inserting vectors for <itmo>!\n",
      "---------------------------------\n"
     ]
    },
    {
     "name": "stderr",
     "output_type": "stream",
     "text": [
      "100%|██████████| 2/2 [00:01<00:00,  1.26it/s]\n"
     ]
    },
    {
     "name": "stdout",
     "output_type": "stream",
     "text": [
      "---------------------------------\n",
      "Finished inserting vectors for <itmo>!\n",
      "---------------------------------\n"
     ]
    },
    {
     "name": "stderr",
     "output_type": "stream",
     "text": [
      "100%|██████████| 2/2 [00:01<00:00,  1.07it/s]\n"
     ]
    },
    {
     "name": "stdout",
     "output_type": "stream",
     "text": [
      "---------------------------------\n",
      "Finished inserting vectors for <itmo>!\n",
      "---------------------------------\n"
     ]
    },
    {
     "name": "stderr",
     "output_type": "stream",
     "text": [
      "100%|██████████| 5/5 [00:05<00:00,  1.01s/it]\n"
     ]
    },
    {
     "name": "stdout",
     "output_type": "stream",
     "text": [
      "---------------------------------\n",
      "Finished inserting vectors for <itmo>!\n",
      "---------------------------------\n"
     ]
    },
    {
     "name": "stderr",
     "output_type": "stream",
     "text": [
      "100%|██████████| 4/4 [00:03<00:00,  1.33it/s]\n"
     ]
    },
    {
     "name": "stdout",
     "output_type": "stream",
     "text": [
      "---------------------------------\n",
      "Finished inserting vectors for <itmo>!\n",
      "---------------------------------\n"
     ]
    },
    {
     "name": "stderr",
     "output_type": "stream",
     "text": [
      "100%|██████████| 2/2 [00:01<00:00,  1.13it/s]\n"
     ]
    },
    {
     "name": "stdout",
     "output_type": "stream",
     "text": [
      "---------------------------------\n",
      "Finished inserting vectors for <itmo>!\n",
      "---------------------------------\n"
     ]
    },
    {
     "name": "stderr",
     "output_type": "stream",
     "text": [
      "100%|██████████| 2/2 [00:01<00:00,  1.07it/s]\n"
     ]
    },
    {
     "name": "stdout",
     "output_type": "stream",
     "text": [
      "---------------------------------\n",
      "Finished inserting vectors for <itmo>!\n",
      "---------------------------------\n"
     ]
    },
    {
     "name": "stderr",
     "output_type": "stream",
     "text": [
      "100%|██████████| 2/2 [00:01<00:00,  1.17it/s]\n"
     ]
    },
    {
     "name": "stdout",
     "output_type": "stream",
     "text": [
      "---------------------------------\n",
      "Finished inserting vectors for <itmo>!\n",
      "---------------------------------\n"
     ]
    },
    {
     "name": "stderr",
     "output_type": "stream",
     "text": [
      "100%|██████████| 2/2 [00:01<00:00,  1.23it/s]\n"
     ]
    },
    {
     "name": "stdout",
     "output_type": "stream",
     "text": [
      "---------------------------------\n",
      "Finished inserting vectors for <itmo>!\n",
      "---------------------------------\n"
     ]
    },
    {
     "name": "stderr",
     "output_type": "stream",
     "text": [
      "100%|██████████| 2/2 [00:01<00:00,  1.13it/s]\n"
     ]
    },
    {
     "name": "stdout",
     "output_type": "stream",
     "text": [
      "---------------------------------\n",
      "Finished inserting vectors for <itmo>!\n",
      "---------------------------------\n"
     ]
    },
    {
     "name": "stderr",
     "output_type": "stream",
     "text": [
      "100%|██████████| 2/2 [00:01<00:00,  1.19it/s]\n"
     ]
    },
    {
     "name": "stdout",
     "output_type": "stream",
     "text": [
      "---------------------------------\n",
      "Finished inserting vectors for <itmo>!\n",
      "---------------------------------\n"
     ]
    },
    {
     "name": "stderr",
     "output_type": "stream",
     "text": [
      "100%|██████████| 2/2 [00:01<00:00,  1.28it/s]\n"
     ]
    },
    {
     "name": "stdout",
     "output_type": "stream",
     "text": [
      "---------------------------------\n",
      "Finished inserting vectors for <itmo>!\n",
      "---------------------------------\n"
     ]
    },
    {
     "name": "stderr",
     "output_type": "stream",
     "text": [
      "100%|██████████| 6/6 [00:04<00:00,  1.28it/s]\n"
     ]
    },
    {
     "name": "stdout",
     "output_type": "stream",
     "text": [
      "---------------------------------\n",
      "Finished inserting vectors for <itmo>!\n",
      "---------------------------------\n"
     ]
    },
    {
     "name": "stderr",
     "output_type": "stream",
     "text": [
      "100%|██████████| 2/2 [00:02<00:00,  1.44s/it]\n"
     ]
    },
    {
     "name": "stdout",
     "output_type": "stream",
     "text": [
      "---------------------------------\n",
      "Finished inserting vectors for <itmo>!\n",
      "---------------------------------\n"
     ]
    },
    {
     "name": "stderr",
     "output_type": "stream",
     "text": [
      "100%|██████████| 7/7 [00:06<00:00,  1.03it/s]\n"
     ]
    },
    {
     "name": "stdout",
     "output_type": "stream",
     "text": [
      "---------------------------------\n",
      "Finished inserting vectors for <itmo>!\n",
      "---------------------------------\n"
     ]
    },
    {
     "name": "stderr",
     "output_type": "stream",
     "text": [
      "100%|██████████| 2/2 [00:01<00:00,  1.29it/s]\n"
     ]
    },
    {
     "name": "stdout",
     "output_type": "stream",
     "text": [
      "---------------------------------\n",
      "Finished inserting vectors for <itmo>!\n",
      "---------------------------------\n"
     ]
    },
    {
     "name": "stderr",
     "output_type": "stream",
     "text": [
      "100%|██████████| 2/2 [00:01<00:00,  1.24it/s]\n"
     ]
    },
    {
     "name": "stdout",
     "output_type": "stream",
     "text": [
      "---------------------------------\n",
      "Finished inserting vectors for <itmo>!\n",
      "---------------------------------\n"
     ]
    },
    {
     "name": "stderr",
     "output_type": "stream",
     "text": [
      "100%|██████████| 7/7 [00:06<00:00,  1.07it/s]\n"
     ]
    },
    {
     "name": "stdout",
     "output_type": "stream",
     "text": [
      "---------------------------------\n",
      "Finished inserting vectors for <itmo>!\n",
      "---------------------------------\n"
     ]
    },
    {
     "name": "stderr",
     "output_type": "stream",
     "text": [
      "100%|██████████| 3/3 [00:02<00:00,  1.05it/s]\n"
     ]
    },
    {
     "name": "stdout",
     "output_type": "stream",
     "text": [
      "---------------------------------\n",
      "Finished inserting vectors for <itmo>!\n",
      "---------------------------------\n"
     ]
    },
    {
     "name": "stderr",
     "output_type": "stream",
     "text": [
      "100%|██████████| 2/2 [00:02<00:00,  1.11s/it]\n"
     ]
    },
    {
     "name": "stdout",
     "output_type": "stream",
     "text": [
      "---------------------------------\n",
      "Finished inserting vectors for <itmo>!\n",
      "---------------------------------\n"
     ]
    },
    {
     "name": "stderr",
     "output_type": "stream",
     "text": [
      "100%|██████████| 3/3 [00:03<00:00,  1.00s/it]\n"
     ]
    },
    {
     "name": "stdout",
     "output_type": "stream",
     "text": [
      "---------------------------------\n",
      "Finished inserting vectors for <itmo>!\n",
      "---------------------------------\n"
     ]
    },
    {
     "name": "stderr",
     "output_type": "stream",
     "text": [
      "100%|██████████| 3/3 [00:03<00:00,  1.31s/it]\n"
     ]
    },
    {
     "name": "stdout",
     "output_type": "stream",
     "text": [
      "---------------------------------\n",
      "Finished inserting vectors for <itmo>!\n",
      "---------------------------------\n"
     ]
    },
    {
     "name": "stderr",
     "output_type": "stream",
     "text": [
      "100%|██████████| 7/7 [00:08<00:00,  1.19s/it]\n"
     ]
    },
    {
     "name": "stdout",
     "output_type": "stream",
     "text": [
      "---------------------------------\n",
      "Finished inserting vectors for <itmo>!\n",
      "---------------------------------\n"
     ]
    },
    {
     "name": "stderr",
     "output_type": "stream",
     "text": [
      "100%|██████████| 3/3 [00:02<00:00,  1.19it/s]\n"
     ]
    },
    {
     "name": "stdout",
     "output_type": "stream",
     "text": [
      "---------------------------------\n",
      "Finished inserting vectors for <itmo>!\n",
      "---------------------------------\n"
     ]
    },
    {
     "name": "stderr",
     "output_type": "stream",
     "text": [
      "100%|██████████| 3/3 [00:02<00:00,  1.42it/s]\n"
     ]
    },
    {
     "name": "stdout",
     "output_type": "stream",
     "text": [
      "---------------------------------\n",
      "Finished inserting vectors for <itmo>!\n",
      "---------------------------------\n"
     ]
    },
    {
     "name": "stderr",
     "output_type": "stream",
     "text": [
      "100%|██████████| 3/3 [00:02<00:00,  1.36it/s]\n"
     ]
    },
    {
     "name": "stdout",
     "output_type": "stream",
     "text": [
      "---------------------------------\n",
      "Finished inserting vectors for <itmo>!\n",
      "---------------------------------\n"
     ]
    },
    {
     "name": "stderr",
     "output_type": "stream",
     "text": [
      "100%|██████████| 3/3 [00:02<00:00,  1.34it/s]\n"
     ]
    },
    {
     "name": "stdout",
     "output_type": "stream",
     "text": [
      "---------------------------------\n",
      "Finished inserting vectors for <itmo>!\n",
      "---------------------------------\n"
     ]
    },
    {
     "name": "stderr",
     "output_type": "stream",
     "text": [
      "100%|██████████| 6/6 [00:04<00:00,  1.39it/s]\n"
     ]
    },
    {
     "name": "stdout",
     "output_type": "stream",
     "text": [
      "---------------------------------\n",
      "Finished inserting vectors for <itmo>!\n",
      "---------------------------------\n"
     ]
    },
    {
     "name": "stderr",
     "output_type": "stream",
     "text": [
      "100%|██████████| 1/1 [00:01<00:00,  1.10s/it]\n"
     ]
    },
    {
     "name": "stdout",
     "output_type": "stream",
     "text": [
      "---------------------------------\n",
      "Finished inserting vectors for <itmo>!\n",
      "---------------------------------\n"
     ]
    },
    {
     "name": "stderr",
     "output_type": "stream",
     "text": [
      "100%|██████████| 6/6 [00:04<00:00,  1.33it/s]\n"
     ]
    },
    {
     "name": "stdout",
     "output_type": "stream",
     "text": [
      "---------------------------------\n",
      "Finished inserting vectors for <itmo>!\n",
      "---------------------------------\n"
     ]
    },
    {
     "name": "stderr",
     "output_type": "stream",
     "text": [
      "100%|██████████| 6/6 [00:05<00:00,  1.13it/s]\n"
     ]
    },
    {
     "name": "stdout",
     "output_type": "stream",
     "text": [
      "---------------------------------\n",
      "Finished inserting vectors for <itmo>!\n",
      "---------------------------------\n"
     ]
    },
    {
     "name": "stderr",
     "output_type": "stream",
     "text": [
      "100%|██████████| 6/6 [00:04<00:00,  1.30it/s]\n"
     ]
    },
    {
     "name": "stdout",
     "output_type": "stream",
     "text": [
      "---------------------------------\n",
      "Finished inserting vectors for <itmo>!\n",
      "---------------------------------\n"
     ]
    },
    {
     "name": "stderr",
     "output_type": "stream",
     "text": [
      "100%|██████████| 6/6 [00:04<00:00,  1.28it/s]\n"
     ]
    },
    {
     "name": "stdout",
     "output_type": "stream",
     "text": [
      "---------------------------------\n",
      "Finished inserting vectors for <itmo>!\n",
      "---------------------------------\n"
     ]
    },
    {
     "name": "stderr",
     "output_type": "stream",
     "text": [
      "100%|██████████| 5/5 [00:04<00:00,  1.23it/s]\n"
     ]
    },
    {
     "name": "stdout",
     "output_type": "stream",
     "text": [
      "---------------------------------\n",
      "Finished inserting vectors for <itmo>!\n",
      "---------------------------------\n"
     ]
    },
    {
     "name": "stderr",
     "output_type": "stream",
     "text": [
      "100%|██████████| 2/2 [00:02<00:00,  1.39s/it]\n"
     ]
    },
    {
     "name": "stdout",
     "output_type": "stream",
     "text": [
      "---------------------------------\n",
      "Finished inserting vectors for <itmo>!\n",
      "---------------------------------\n"
     ]
    },
    {
     "name": "stderr",
     "output_type": "stream",
     "text": [
      "100%|██████████| 2/2 [00:01<00:00,  1.10it/s]\n"
     ]
    },
    {
     "name": "stdout",
     "output_type": "stream",
     "text": [
      "---------------------------------\n",
      "Finished inserting vectors for <itmo>!\n",
      "---------------------------------\n"
     ]
    },
    {
     "name": "stderr",
     "output_type": "stream",
     "text": [
      "100%|██████████| 2/2 [00:01<00:00,  1.20it/s]\n"
     ]
    },
    {
     "name": "stdout",
     "output_type": "stream",
     "text": [
      "---------------------------------\n",
      "Finished inserting vectors for <itmo>!\n",
      "---------------------------------\n"
     ]
    },
    {
     "name": "stderr",
     "output_type": "stream",
     "text": [
      "100%|██████████| 5/5 [00:04<00:00,  1.14it/s]\n"
     ]
    },
    {
     "name": "stdout",
     "output_type": "stream",
     "text": [
      "---------------------------------\n",
      "Finished inserting vectors for <itmo>!\n",
      "---------------------------------\n"
     ]
    },
    {
     "name": "stderr",
     "output_type": "stream",
     "text": [
      "100%|██████████| 5/5 [00:04<00:00,  1.17it/s]\n"
     ]
    },
    {
     "name": "stdout",
     "output_type": "stream",
     "text": [
      "---------------------------------\n",
      "Finished inserting vectors for <itmo>!\n",
      "---------------------------------\n"
     ]
    },
    {
     "name": "stderr",
     "output_type": "stream",
     "text": [
      "100%|██████████| 4/4 [00:03<00:00,  1.17it/s]\n"
     ]
    },
    {
     "name": "stdout",
     "output_type": "stream",
     "text": [
      "---------------------------------\n",
      "Finished inserting vectors for <itmo>!\n",
      "---------------------------------\n"
     ]
    },
    {
     "name": "stderr",
     "output_type": "stream",
     "text": [
      "100%|██████████| 7/7 [00:04<00:00,  1.45it/s]\n"
     ]
    },
    {
     "name": "stdout",
     "output_type": "stream",
     "text": [
      "---------------------------------\n",
      "Finished inserting vectors for <itmo>!\n",
      "---------------------------------\n"
     ]
    },
    {
     "name": "stderr",
     "output_type": "stream",
     "text": [
      "100%|██████████| 7/7 [00:06<00:00,  1.10it/s]\n"
     ]
    },
    {
     "name": "stdout",
     "output_type": "stream",
     "text": [
      "---------------------------------\n",
      "Finished inserting vectors for <itmo>!\n",
      "---------------------------------\n"
     ]
    },
    {
     "name": "stderr",
     "output_type": "stream",
     "text": [
      "100%|██████████| 5/5 [00:04<00:00,  1.21it/s]\n"
     ]
    },
    {
     "name": "stdout",
     "output_type": "stream",
     "text": [
      "---------------------------------\n",
      "Finished inserting vectors for <itmo>!\n",
      "---------------------------------\n"
     ]
    },
    {
     "name": "stderr",
     "output_type": "stream",
     "text": [
      "100%|██████████| 5/5 [00:04<00:00,  1.14it/s]\n"
     ]
    },
    {
     "name": "stdout",
     "output_type": "stream",
     "text": [
      "---------------------------------\n",
      "Finished inserting vectors for <itmo>!\n",
      "---------------------------------\n"
     ]
    },
    {
     "name": "stderr",
     "output_type": "stream",
     "text": [
      "100%|██████████| 5/5 [00:03<00:00,  1.37it/s]\n"
     ]
    },
    {
     "name": "stdout",
     "output_type": "stream",
     "text": [
      "---------------------------------\n",
      "Finished inserting vectors for <itmo>!\n",
      "---------------------------------\n"
     ]
    },
    {
     "name": "stderr",
     "output_type": "stream",
     "text": [
      "100%|██████████| 3/3 [00:02<00:00,  1.27it/s]\n"
     ]
    },
    {
     "name": "stdout",
     "output_type": "stream",
     "text": [
      "---------------------------------\n",
      "Finished inserting vectors for <itmo>!\n",
      "---------------------------------\n"
     ]
    },
    {
     "name": "stderr",
     "output_type": "stream",
     "text": [
      "100%|██████████| 3/3 [00:02<00:00,  1.22it/s]\n"
     ]
    },
    {
     "name": "stdout",
     "output_type": "stream",
     "text": [
      "---------------------------------\n",
      "Finished inserting vectors for <itmo>!\n",
      "---------------------------------\n"
     ]
    },
    {
     "name": "stderr",
     "output_type": "stream",
     "text": [
      "100%|██████████| 3/3 [00:02<00:00,  1.35it/s]\n"
     ]
    },
    {
     "name": "stdout",
     "output_type": "stream",
     "text": [
      "---------------------------------\n",
      "Finished inserting vectors for <itmo>!\n",
      "---------------------------------\n"
     ]
    },
    {
     "name": "stderr",
     "output_type": "stream",
     "text": [
      "100%|██████████| 3/3 [00:02<00:00,  1.09it/s]\n"
     ]
    },
    {
     "name": "stdout",
     "output_type": "stream",
     "text": [
      "---------------------------------\n",
      "Finished inserting vectors for <itmo>!\n",
      "---------------------------------\n"
     ]
    },
    {
     "name": "stderr",
     "output_type": "stream",
     "text": [
      "100%|██████████| 3/3 [00:02<00:00,  1.03it/s]\n"
     ]
    },
    {
     "name": "stdout",
     "output_type": "stream",
     "text": [
      "---------------------------------\n",
      "Finished inserting vectors for <itmo>!\n",
      "---------------------------------\n"
     ]
    },
    {
     "name": "stderr",
     "output_type": "stream",
     "text": [
      "100%|██████████| 3/3 [00:02<00:00,  1.42it/s]\n"
     ]
    },
    {
     "name": "stdout",
     "output_type": "stream",
     "text": [
      "---------------------------------\n",
      "Finished inserting vectors for <itmo>!\n",
      "---------------------------------\n"
     ]
    },
    {
     "name": "stderr",
     "output_type": "stream",
     "text": [
      "100%|██████████| 7/7 [00:06<00:00,  1.13it/s]\n"
     ]
    },
    {
     "name": "stdout",
     "output_type": "stream",
     "text": [
      "---------------------------------\n",
      "Finished inserting vectors for <itmo>!\n",
      "---------------------------------\n"
     ]
    },
    {
     "name": "stderr",
     "output_type": "stream",
     "text": [
      "100%|██████████| 6/6 [00:09<00:00,  1.50s/it]\n"
     ]
    },
    {
     "name": "stdout",
     "output_type": "stream",
     "text": [
      "---------------------------------\n",
      "Finished inserting vectors for <itmo>!\n",
      "---------------------------------\n"
     ]
    },
    {
     "name": "stderr",
     "output_type": "stream",
     "text": [
      "100%|██████████| 2/2 [00:02<00:00,  1.03s/it]\n"
     ]
    },
    {
     "name": "stdout",
     "output_type": "stream",
     "text": [
      "---------------------------------\n",
      "Finished inserting vectors for <itmo>!\n",
      "---------------------------------\n"
     ]
    },
    {
     "name": "stderr",
     "output_type": "stream",
     "text": [
      "100%|██████████| 2/2 [00:01<00:00,  1.22it/s]\n"
     ]
    },
    {
     "name": "stdout",
     "output_type": "stream",
     "text": [
      "---------------------------------\n",
      "Finished inserting vectors for <itmo>!\n",
      "---------------------------------\n"
     ]
    },
    {
     "name": "stderr",
     "output_type": "stream",
     "text": [
      "100%|██████████| 6/6 [00:08<00:00,  1.38s/it]\n"
     ]
    },
    {
     "name": "stdout",
     "output_type": "stream",
     "text": [
      "---------------------------------\n",
      "Finished inserting vectors for <itmo>!\n",
      "---------------------------------\n"
     ]
    },
    {
     "name": "stderr",
     "output_type": "stream",
     "text": [
      "100%|██████████| 7/7 [00:05<00:00,  1.26it/s]\n"
     ]
    },
    {
     "name": "stdout",
     "output_type": "stream",
     "text": [
      "---------------------------------\n",
      "Finished inserting vectors for <itmo>!\n",
      "---------------------------------\n"
     ]
    },
    {
     "name": "stderr",
     "output_type": "stream",
     "text": [
      "100%|██████████| 2/2 [00:01<00:00,  1.55it/s]\n"
     ]
    },
    {
     "name": "stdout",
     "output_type": "stream",
     "text": [
      "---------------------------------\n",
      "Finished inserting vectors for <itmo>!\n",
      "---------------------------------\n"
     ]
    },
    {
     "name": "stderr",
     "output_type": "stream",
     "text": [
      "100%|██████████| 3/3 [00:02<00:00,  1.31it/s]\n"
     ]
    },
    {
     "name": "stdout",
     "output_type": "stream",
     "text": [
      "---------------------------------\n",
      "Finished inserting vectors for <itmo>!\n",
      "---------------------------------\n"
     ]
    },
    {
     "name": "stderr",
     "output_type": "stream",
     "text": [
      "100%|██████████| 3/3 [00:02<00:00,  1.38it/s]\n"
     ]
    },
    {
     "name": "stdout",
     "output_type": "stream",
     "text": [
      "---------------------------------\n",
      "Finished inserting vectors for <itmo>!\n",
      "---------------------------------\n"
     ]
    },
    {
     "name": "stderr",
     "output_type": "stream",
     "text": [
      "100%|██████████| 5/5 [00:04<00:00,  1.18it/s]\n"
     ]
    },
    {
     "name": "stdout",
     "output_type": "stream",
     "text": [
      "---------------------------------\n",
      "Finished inserting vectors for <itmo>!\n",
      "---------------------------------\n"
     ]
    },
    {
     "name": "stderr",
     "output_type": "stream",
     "text": [
      "100%|██████████| 3/3 [00:02<00:00,  1.46it/s]\n"
     ]
    },
    {
     "name": "stdout",
     "output_type": "stream",
     "text": [
      "---------------------------------\n",
      "Finished inserting vectors for <itmo>!\n",
      "---------------------------------\n"
     ]
    },
    {
     "name": "stderr",
     "output_type": "stream",
     "text": [
      "100%|██████████| 5/5 [00:04<00:00,  1.12it/s]\n"
     ]
    },
    {
     "name": "stdout",
     "output_type": "stream",
     "text": [
      "---------------------------------\n",
      "Finished inserting vectors for <itmo>!\n",
      "---------------------------------\n"
     ]
    },
    {
     "name": "stderr",
     "output_type": "stream",
     "text": [
      "100%|██████████| 2/2 [00:01<00:00,  1.46it/s]\n"
     ]
    },
    {
     "name": "stdout",
     "output_type": "stream",
     "text": [
      "---------------------------------\n",
      "Finished inserting vectors for <itmo>!\n",
      "---------------------------------\n"
     ]
    },
    {
     "name": "stderr",
     "output_type": "stream",
     "text": [
      "100%|██████████| 4/4 [00:03<00:00,  1.33it/s]\n"
     ]
    },
    {
     "name": "stdout",
     "output_type": "stream",
     "text": [
      "---------------------------------\n",
      "Finished inserting vectors for <itmo>!\n",
      "---------------------------------\n"
     ]
    },
    {
     "name": "stderr",
     "output_type": "stream",
     "text": [
      "100%|██████████| 8/8 [00:07<00:00,  1.06it/s]\n"
     ]
    },
    {
     "name": "stdout",
     "output_type": "stream",
     "text": [
      "---------------------------------\n",
      "Finished inserting vectors for <itmo>!\n",
      "---------------------------------\n"
     ]
    },
    {
     "name": "stderr",
     "output_type": "stream",
     "text": [
      "100%|██████████| 5/5 [00:07<00:00,  1.47s/it]\n"
     ]
    },
    {
     "name": "stdout",
     "output_type": "stream",
     "text": [
      "---------------------------------\n",
      "Finished inserting vectors for <itmo>!\n",
      "---------------------------------\n"
     ]
    },
    {
     "name": "stderr",
     "output_type": "stream",
     "text": [
      "100%|██████████| 4/4 [00:03<00:00,  1.26it/s]\n"
     ]
    },
    {
     "name": "stdout",
     "output_type": "stream",
     "text": [
      "---------------------------------\n",
      "Finished inserting vectors for <itmo>!\n",
      "---------------------------------\n"
     ]
    },
    {
     "name": "stderr",
     "output_type": "stream",
     "text": [
      "100%|██████████| 5/5 [00:04<00:00,  1.19it/s]\n"
     ]
    },
    {
     "name": "stdout",
     "output_type": "stream",
     "text": [
      "---------------------------------\n",
      "Finished inserting vectors for <itmo>!\n",
      "---------------------------------\n"
     ]
    },
    {
     "name": "stderr",
     "output_type": "stream",
     "text": [
      "100%|██████████| 3/3 [00:02<00:00,  1.15it/s]\n"
     ]
    },
    {
     "name": "stdout",
     "output_type": "stream",
     "text": [
      "---------------------------------\n",
      "Finished inserting vectors for <itmo>!\n",
      "---------------------------------\n"
     ]
    },
    {
     "name": "stderr",
     "output_type": "stream",
     "text": [
      "100%|██████████| 5/5 [00:04<00:00,  1.10it/s]\n"
     ]
    },
    {
     "name": "stdout",
     "output_type": "stream",
     "text": [
      "---------------------------------\n",
      "Finished inserting vectors for <itmo>!\n",
      "---------------------------------\n"
     ]
    },
    {
     "name": "stderr",
     "output_type": "stream",
     "text": [
      "100%|██████████| 7/7 [00:06<00:00,  1.03it/s]\n"
     ]
    },
    {
     "name": "stdout",
     "output_type": "stream",
     "text": [
      "---------------------------------\n",
      "Finished inserting vectors for <itmo>!\n",
      "---------------------------------\n"
     ]
    },
    {
     "name": "stderr",
     "output_type": "stream",
     "text": [
      "100%|██████████| 7/7 [00:06<00:00,  1.09it/s]\n"
     ]
    },
    {
     "name": "stdout",
     "output_type": "stream",
     "text": [
      "---------------------------------\n",
      "Finished inserting vectors for <itmo>!\n",
      "---------------------------------\n"
     ]
    },
    {
     "name": "stderr",
     "output_type": "stream",
     "text": [
      "100%|██████████| 7/7 [00:06<00:00,  1.16it/s]\n"
     ]
    },
    {
     "name": "stdout",
     "output_type": "stream",
     "text": [
      "---------------------------------\n",
      "Finished inserting vectors for <itmo>!\n",
      "---------------------------------\n"
     ]
    },
    {
     "name": "stderr",
     "output_type": "stream",
     "text": [
      "100%|██████████| 4/4 [00:03<00:00,  1.27it/s]\n"
     ]
    },
    {
     "name": "stdout",
     "output_type": "stream",
     "text": [
      "---------------------------------\n",
      "Finished inserting vectors for <itmo>!\n",
      "---------------------------------\n"
     ]
    },
    {
     "name": "stderr",
     "output_type": "stream",
     "text": [
      "100%|██████████| 7/7 [00:05<00:00,  1.27it/s]\n"
     ]
    },
    {
     "name": "stdout",
     "output_type": "stream",
     "text": [
      "---------------------------------\n",
      "Finished inserting vectors for <itmo>!\n",
      "---------------------------------\n"
     ]
    },
    {
     "name": "stderr",
     "output_type": "stream",
     "text": [
      "100%|██████████| 7/7 [00:06<00:00,  1.05it/s]\n"
     ]
    },
    {
     "name": "stdout",
     "output_type": "stream",
     "text": [
      "---------------------------------\n",
      "Finished inserting vectors for <itmo>!\n",
      "---------------------------------\n"
     ]
    },
    {
     "name": "stderr",
     "output_type": "stream",
     "text": [
      "100%|██████████| 9/9 [00:09<00:00,  1.08s/it]\n"
     ]
    },
    {
     "name": "stdout",
     "output_type": "stream",
     "text": [
      "---------------------------------\n",
      "Finished inserting vectors for <itmo>!\n",
      "---------------------------------\n"
     ]
    },
    {
     "name": "stderr",
     "output_type": "stream",
     "text": [
      "100%|██████████| 7/7 [00:12<00:00,  1.75s/it]\n"
     ]
    },
    {
     "name": "stdout",
     "output_type": "stream",
     "text": [
      "---------------------------------\n",
      "Finished inserting vectors for <itmo>!\n",
      "---------------------------------\n"
     ]
    },
    {
     "name": "stderr",
     "output_type": "stream",
     "text": [
      "100%|██████████| 7/7 [00:06<00:00,  1.10it/s]\n"
     ]
    },
    {
     "name": "stdout",
     "output_type": "stream",
     "text": [
      "---------------------------------\n",
      "Finished inserting vectors for <itmo>!\n",
      "---------------------------------\n"
     ]
    },
    {
     "name": "stderr",
     "output_type": "stream",
     "text": [
      " 50%|█████     | 2/4 [00:02<00:02,  1.22s/it]\n"
     ]
    },
    {
     "ename": "ValueError",
     "evalue": "Unknown encoding активными формами микроорганизмов. Разработка позволит следить за состоянием нефти, быстро и с высокой точностью предсказывать ее заражение и вовремя проводить бактерицидную обработку. Сейчас прототип способен обнаруживать шесть микроорганизмов-мишеней, но в перспективе устройство можно адаптировать и под другие формы микроорганизмов.\nЕще одну отечественную разработку представили ученые ПИШ ИТМО в области кастомизированного генетического скрининга — прототипы молекулярного микрочипа и аппаратно-программного комплекса, способных детектировать и интерпретировать флуоресцентные сигналы от мишеней. Разработка позволит быстро и эффективно решать широкий перечень задач в области персонализированной медицины, в частности диагностировать онкологические заболевания, диабет, болезни сердца. Отдельной задачей разработчики ставят адаптацию микрочипов для мониторинга здоровья и эффективной селекции российских сельскохозяйственных животных — крупного рогатого скота, овец и свиней. Сейчас микрочип способен определять до 400 генетических мишеней, но разработчики собираются в ближайшее время увеличить их количество до 100 тысяч.\nСобирать химические реакции со всего мира в одном месте и быстро находить в массиве данных нужные соединения с конкретными свойствами помогает отечественная мультиомиксная цифровая платформа. Прототип ИИ-сервиса позволяет ученым ПИШ ИТМО еще до стадии синтеза проверить исследовательскую гипотезу — например, какие реакции будут происходить, какие продукты получатся, а также предсказать, будет ли их синтез экономически выгодным. Мультиомиксная ИИ-платформа ускорит раннюю стадию разработки лекарств — сотрудники центра исследований и разработок смогут сразу сосредоточиться на работе с результативными химическими реакциями вместо их поиска.\nАлександр Виноградов. Фото: Передовая инженерная школа ИТМО\n«В этом году мы продолжим развивать стратегические партнерства с новыми компаниями, штаб-квартиры которых находятся в далеких от Санкт-Петербурга регионах. Например, .\nPlugins found: ['tiktoken_ext.openai_public']\ntiktoken version: 0.8.0 (are you on latest?)",
     "output_type": "error",
     "traceback": [
      "\u001b[0;31m---------------------------------------------------------------------------\u001b[0m",
      "\u001b[0;31mKeyboardInterrupt\u001b[0m                         Traceback (most recent call last)",
      "File \u001b[0;32m~/ITMO/baseline-itmo/assistent/inference.py:83\u001b[0m, in \u001b[0;36mOpenaiEmbeddings.encode\u001b[0;34m(self, input)\u001b[0m\n\u001b[1;32m     82\u001b[0m \u001b[38;5;28;01mtry\u001b[39;00m:\n\u001b[0;32m---> 83\u001b[0m     response \u001b[38;5;241m=\u001b[39m \u001b[38;5;28;43mself\u001b[39;49m\u001b[38;5;241;43m.\u001b[39;49m\u001b[43mclient\u001b[49m\u001b[38;5;241;43m.\u001b[39;49m\u001b[43membeddings\u001b[49m\u001b[38;5;241;43m.\u001b[39;49m\u001b[43mcreate\u001b[49m\u001b[43m(\u001b[49m\n\u001b[1;32m     84\u001b[0m \u001b[43m        \u001b[49m\u001b[43mmodel\u001b[49m\u001b[38;5;241;43m=\u001b[39;49m\u001b[38;5;28;43mself\u001b[39;49m\u001b[38;5;241;43m.\u001b[39;49m\u001b[43mmodel\u001b[49m\u001b[43m,\u001b[49m\u001b[43m \u001b[49m\u001b[38;5;28;43minput\u001b[39;49m\u001b[38;5;241;43m=\u001b[39;49m\u001b[38;5;28;43minput\u001b[39;49m\u001b[43m,\u001b[49m\u001b[43m \u001b[49m\u001b[43mencoding_format\u001b[49m\u001b[38;5;241;43m=\u001b[39;49m\u001b[38;5;124;43m'\u001b[39;49m\u001b[38;5;124;43mfloat\u001b[39;49m\u001b[38;5;124;43m'\u001b[39;49m\n\u001b[1;32m     85\u001b[0m \u001b[43m    \u001b[49m\u001b[43m)\u001b[49m\n\u001b[1;32m     86\u001b[0m \u001b[38;5;28;01mexcept\u001b[39;00m:\n",
      "File \u001b[0;32m~/ITMO/baseline-itmo/.venv/lib/python3.12/site-packages/openai/resources/embeddings.py:125\u001b[0m, in \u001b[0;36mEmbeddings.create\u001b[0;34m(self, input, model, dimensions, encoding_format, user, extra_headers, extra_query, extra_body, timeout)\u001b[0m\n\u001b[1;32m    123\u001b[0m     \u001b[38;5;28;01mreturn\u001b[39;00m obj\n\u001b[0;32m--> 125\u001b[0m \u001b[38;5;28;01mreturn\u001b[39;00m \u001b[38;5;28;43mself\u001b[39;49m\u001b[38;5;241;43m.\u001b[39;49m\u001b[43m_post\u001b[49m\u001b[43m(\u001b[49m\n\u001b[1;32m    126\u001b[0m \u001b[43m    \u001b[49m\u001b[38;5;124;43m\"\u001b[39;49m\u001b[38;5;124;43m/embeddings\u001b[39;49m\u001b[38;5;124;43m\"\u001b[39;49m\u001b[43m,\u001b[49m\n\u001b[1;32m    127\u001b[0m \u001b[43m    \u001b[49m\u001b[43mbody\u001b[49m\u001b[38;5;241;43m=\u001b[39;49m\u001b[43mmaybe_transform\u001b[49m\u001b[43m(\u001b[49m\u001b[43mparams\u001b[49m\u001b[43m,\u001b[49m\u001b[43m \u001b[49m\u001b[43membedding_create_params\u001b[49m\u001b[38;5;241;43m.\u001b[39;49m\u001b[43mEmbeddingCreateParams\u001b[49m\u001b[43m)\u001b[49m\u001b[43m,\u001b[49m\n\u001b[1;32m    128\u001b[0m \u001b[43m    \u001b[49m\u001b[43moptions\u001b[49m\u001b[38;5;241;43m=\u001b[39;49m\u001b[43mmake_request_options\u001b[49m\u001b[43m(\u001b[49m\n\u001b[1;32m    129\u001b[0m \u001b[43m        \u001b[49m\u001b[43mextra_headers\u001b[49m\u001b[38;5;241;43m=\u001b[39;49m\u001b[43mextra_headers\u001b[49m\u001b[43m,\u001b[49m\n\u001b[1;32m    130\u001b[0m \u001b[43m        \u001b[49m\u001b[43mextra_query\u001b[49m\u001b[38;5;241;43m=\u001b[39;49m\u001b[43mextra_query\u001b[49m\u001b[43m,\u001b[49m\n\u001b[1;32m    131\u001b[0m \u001b[43m        \u001b[49m\u001b[43mextra_body\u001b[49m\u001b[38;5;241;43m=\u001b[39;49m\u001b[43mextra_body\u001b[49m\u001b[43m,\u001b[49m\n\u001b[1;32m    132\u001b[0m \u001b[43m        \u001b[49m\u001b[43mtimeout\u001b[49m\u001b[38;5;241;43m=\u001b[39;49m\u001b[43mtimeout\u001b[49m\u001b[43m,\u001b[49m\n\u001b[1;32m    133\u001b[0m \u001b[43m        \u001b[49m\u001b[43mpost_parser\u001b[49m\u001b[38;5;241;43m=\u001b[39;49m\u001b[43mparser\u001b[49m\u001b[43m,\u001b[49m\n\u001b[1;32m    134\u001b[0m \u001b[43m    \u001b[49m\u001b[43m)\u001b[49m\u001b[43m,\u001b[49m\n\u001b[1;32m    135\u001b[0m \u001b[43m    \u001b[49m\u001b[43mcast_to\u001b[49m\u001b[38;5;241;43m=\u001b[39;49m\u001b[43mCreateEmbeddingResponse\u001b[49m\u001b[43m,\u001b[49m\n\u001b[1;32m    136\u001b[0m \u001b[43m\u001b[49m\u001b[43m)\u001b[49m\n",
      "File \u001b[0;32m~/ITMO/baseline-itmo/.venv/lib/python3.12/site-packages/openai/_base_client.py:1283\u001b[0m, in \u001b[0;36mSyncAPIClient.post\u001b[0;34m(self, path, cast_to, body, options, files, stream, stream_cls)\u001b[0m\n\u001b[1;32m   1280\u001b[0m opts \u001b[38;5;241m=\u001b[39m FinalRequestOptions\u001b[38;5;241m.\u001b[39mconstruct(\n\u001b[1;32m   1281\u001b[0m     method\u001b[38;5;241m=\u001b[39m\u001b[38;5;124m\"\u001b[39m\u001b[38;5;124mpost\u001b[39m\u001b[38;5;124m\"\u001b[39m, url\u001b[38;5;241m=\u001b[39mpath, json_data\u001b[38;5;241m=\u001b[39mbody, files\u001b[38;5;241m=\u001b[39mto_httpx_files(files), \u001b[38;5;241m*\u001b[39m\u001b[38;5;241m*\u001b[39moptions\n\u001b[1;32m   1282\u001b[0m )\n\u001b[0;32m-> 1283\u001b[0m \u001b[38;5;28;01mreturn\u001b[39;00m cast(ResponseT, \u001b[38;5;28;43mself\u001b[39;49m\u001b[38;5;241;43m.\u001b[39;49m\u001b[43mrequest\u001b[49m\u001b[43m(\u001b[49m\u001b[43mcast_to\u001b[49m\u001b[43m,\u001b[49m\u001b[43m \u001b[49m\u001b[43mopts\u001b[49m\u001b[43m,\u001b[49m\u001b[43m \u001b[49m\u001b[43mstream\u001b[49m\u001b[38;5;241;43m=\u001b[39;49m\u001b[43mstream\u001b[49m\u001b[43m,\u001b[49m\u001b[43m \u001b[49m\u001b[43mstream_cls\u001b[49m\u001b[38;5;241;43m=\u001b[39;49m\u001b[43mstream_cls\u001b[49m\u001b[43m)\u001b[49m)\n",
      "File \u001b[0;32m~/ITMO/baseline-itmo/.venv/lib/python3.12/site-packages/openai/_base_client.py:960\u001b[0m, in \u001b[0;36mSyncAPIClient.request\u001b[0;34m(self, cast_to, options, remaining_retries, stream, stream_cls)\u001b[0m\n\u001b[1;32m    958\u001b[0m     retries_taken \u001b[38;5;241m=\u001b[39m \u001b[38;5;241m0\u001b[39m\n\u001b[0;32m--> 960\u001b[0m \u001b[38;5;28;01mreturn\u001b[39;00m \u001b[38;5;28;43mself\u001b[39;49m\u001b[38;5;241;43m.\u001b[39;49m\u001b[43m_request\u001b[49m\u001b[43m(\u001b[49m\n\u001b[1;32m    961\u001b[0m \u001b[43m    \u001b[49m\u001b[43mcast_to\u001b[49m\u001b[38;5;241;43m=\u001b[39;49m\u001b[43mcast_to\u001b[49m\u001b[43m,\u001b[49m\n\u001b[1;32m    962\u001b[0m \u001b[43m    \u001b[49m\u001b[43moptions\u001b[49m\u001b[38;5;241;43m=\u001b[39;49m\u001b[43moptions\u001b[49m\u001b[43m,\u001b[49m\n\u001b[1;32m    963\u001b[0m \u001b[43m    \u001b[49m\u001b[43mstream\u001b[49m\u001b[38;5;241;43m=\u001b[39;49m\u001b[43mstream\u001b[49m\u001b[43m,\u001b[49m\n\u001b[1;32m    964\u001b[0m \u001b[43m    \u001b[49m\u001b[43mstream_cls\u001b[49m\u001b[38;5;241;43m=\u001b[39;49m\u001b[43mstream_cls\u001b[49m\u001b[43m,\u001b[49m\n\u001b[1;32m    965\u001b[0m \u001b[43m    \u001b[49m\u001b[43mretries_taken\u001b[49m\u001b[38;5;241;43m=\u001b[39;49m\u001b[43mretries_taken\u001b[49m\u001b[43m,\u001b[49m\n\u001b[1;32m    966\u001b[0m \u001b[43m\u001b[49m\u001b[43m)\u001b[49m\n",
      "File \u001b[0;32m~/ITMO/baseline-itmo/.venv/lib/python3.12/site-packages/openai/_base_client.py:996\u001b[0m, in \u001b[0;36mSyncAPIClient._request\u001b[0;34m(self, cast_to, options, retries_taken, stream, stream_cls)\u001b[0m\n\u001b[1;32m    995\u001b[0m \u001b[38;5;28;01mtry\u001b[39;00m:\n\u001b[0;32m--> 996\u001b[0m     response \u001b[38;5;241m=\u001b[39m \u001b[38;5;28;43mself\u001b[39;49m\u001b[38;5;241;43m.\u001b[39;49m\u001b[43m_client\u001b[49m\u001b[38;5;241;43m.\u001b[39;49m\u001b[43msend\u001b[49m\u001b[43m(\u001b[49m\n\u001b[1;32m    997\u001b[0m \u001b[43m        \u001b[49m\u001b[43mrequest\u001b[49m\u001b[43m,\u001b[49m\n\u001b[1;32m    998\u001b[0m \u001b[43m        \u001b[49m\u001b[43mstream\u001b[49m\u001b[38;5;241;43m=\u001b[39;49m\u001b[43mstream\u001b[49m\u001b[43m \u001b[49m\u001b[38;5;129;43;01mor\u001b[39;49;00m\u001b[43m \u001b[49m\u001b[38;5;28;43mself\u001b[39;49m\u001b[38;5;241;43m.\u001b[39;49m\u001b[43m_should_stream_response_body\u001b[49m\u001b[43m(\u001b[49m\u001b[43mrequest\u001b[49m\u001b[38;5;241;43m=\u001b[39;49m\u001b[43mrequest\u001b[49m\u001b[43m)\u001b[49m\u001b[43m,\u001b[49m\n\u001b[1;32m    999\u001b[0m \u001b[43m        \u001b[49m\u001b[38;5;241;43m*\u001b[39;49m\u001b[38;5;241;43m*\u001b[39;49m\u001b[43mkwargs\u001b[49m\u001b[43m,\u001b[49m\n\u001b[1;32m   1000\u001b[0m \u001b[43m    \u001b[49m\u001b[43m)\u001b[49m\n\u001b[1;32m   1001\u001b[0m \u001b[38;5;28;01mexcept\u001b[39;00m httpx\u001b[38;5;241m.\u001b[39mTimeoutException \u001b[38;5;28;01mas\u001b[39;00m err:\n",
      "File \u001b[0;32m~/ITMO/baseline-itmo/.venv/lib/python3.12/site-packages/httpx/_client.py:914\u001b[0m, in \u001b[0;36mClient.send\u001b[0;34m(self, request, stream, auth, follow_redirects)\u001b[0m\n\u001b[1;32m    912\u001b[0m auth \u001b[38;5;241m=\u001b[39m \u001b[38;5;28mself\u001b[39m\u001b[38;5;241m.\u001b[39m_build_request_auth(request, auth)\n\u001b[0;32m--> 914\u001b[0m response \u001b[38;5;241m=\u001b[39m \u001b[38;5;28;43mself\u001b[39;49m\u001b[38;5;241;43m.\u001b[39;49m\u001b[43m_send_handling_auth\u001b[49m\u001b[43m(\u001b[49m\n\u001b[1;32m    915\u001b[0m \u001b[43m    \u001b[49m\u001b[43mrequest\u001b[49m\u001b[43m,\u001b[49m\n\u001b[1;32m    916\u001b[0m \u001b[43m    \u001b[49m\u001b[43mauth\u001b[49m\u001b[38;5;241;43m=\u001b[39;49m\u001b[43mauth\u001b[49m\u001b[43m,\u001b[49m\n\u001b[1;32m    917\u001b[0m \u001b[43m    \u001b[49m\u001b[43mfollow_redirects\u001b[49m\u001b[38;5;241;43m=\u001b[39;49m\u001b[43mfollow_redirects\u001b[49m\u001b[43m,\u001b[49m\n\u001b[1;32m    918\u001b[0m \u001b[43m    \u001b[49m\u001b[43mhistory\u001b[49m\u001b[38;5;241;43m=\u001b[39;49m\u001b[43m[\u001b[49m\u001b[43m]\u001b[49m\u001b[43m,\u001b[49m\n\u001b[1;32m    919\u001b[0m \u001b[43m\u001b[49m\u001b[43m)\u001b[49m\n\u001b[1;32m    920\u001b[0m \u001b[38;5;28;01mtry\u001b[39;00m:\n",
      "File \u001b[0;32m~/ITMO/baseline-itmo/.venv/lib/python3.12/site-packages/httpx/_client.py:942\u001b[0m, in \u001b[0;36mClient._send_handling_auth\u001b[0;34m(self, request, auth, follow_redirects, history)\u001b[0m\n\u001b[1;32m    941\u001b[0m \u001b[38;5;28;01mwhile\u001b[39;00m \u001b[38;5;28;01mTrue\u001b[39;00m:\n\u001b[0;32m--> 942\u001b[0m     response \u001b[38;5;241m=\u001b[39m \u001b[38;5;28;43mself\u001b[39;49m\u001b[38;5;241;43m.\u001b[39;49m\u001b[43m_send_handling_redirects\u001b[49m\u001b[43m(\u001b[49m\n\u001b[1;32m    943\u001b[0m \u001b[43m        \u001b[49m\u001b[43mrequest\u001b[49m\u001b[43m,\u001b[49m\n\u001b[1;32m    944\u001b[0m \u001b[43m        \u001b[49m\u001b[43mfollow_redirects\u001b[49m\u001b[38;5;241;43m=\u001b[39;49m\u001b[43mfollow_redirects\u001b[49m\u001b[43m,\u001b[49m\n\u001b[1;32m    945\u001b[0m \u001b[43m        \u001b[49m\u001b[43mhistory\u001b[49m\u001b[38;5;241;43m=\u001b[39;49m\u001b[43mhistory\u001b[49m\u001b[43m,\u001b[49m\n\u001b[1;32m    946\u001b[0m \u001b[43m    \u001b[49m\u001b[43m)\u001b[49m\n\u001b[1;32m    947\u001b[0m     \u001b[38;5;28;01mtry\u001b[39;00m:\n",
      "File \u001b[0;32m~/ITMO/baseline-itmo/.venv/lib/python3.12/site-packages/httpx/_client.py:979\u001b[0m, in \u001b[0;36mClient._send_handling_redirects\u001b[0;34m(self, request, follow_redirects, history)\u001b[0m\n\u001b[1;32m    977\u001b[0m     hook(request)\n\u001b[0;32m--> 979\u001b[0m response \u001b[38;5;241m=\u001b[39m \u001b[38;5;28;43mself\u001b[39;49m\u001b[38;5;241;43m.\u001b[39;49m\u001b[43m_send_single_request\u001b[49m\u001b[43m(\u001b[49m\u001b[43mrequest\u001b[49m\u001b[43m)\u001b[49m\n\u001b[1;32m    980\u001b[0m \u001b[38;5;28;01mtry\u001b[39;00m:\n",
      "File \u001b[0;32m~/ITMO/baseline-itmo/.venv/lib/python3.12/site-packages/httpx/_client.py:1014\u001b[0m, in \u001b[0;36mClient._send_single_request\u001b[0;34m(self, request)\u001b[0m\n\u001b[1;32m   1013\u001b[0m \u001b[38;5;28;01mwith\u001b[39;00m request_context(request\u001b[38;5;241m=\u001b[39mrequest):\n\u001b[0;32m-> 1014\u001b[0m     response \u001b[38;5;241m=\u001b[39m \u001b[43mtransport\u001b[49m\u001b[38;5;241;43m.\u001b[39;49m\u001b[43mhandle_request\u001b[49m\u001b[43m(\u001b[49m\u001b[43mrequest\u001b[49m\u001b[43m)\u001b[49m\n\u001b[1;32m   1016\u001b[0m \u001b[38;5;28;01massert\u001b[39;00m \u001b[38;5;28misinstance\u001b[39m(response\u001b[38;5;241m.\u001b[39mstream, SyncByteStream)\n",
      "File \u001b[0;32m~/ITMO/baseline-itmo/.venv/lib/python3.12/site-packages/httpx/_transports/default.py:250\u001b[0m, in \u001b[0;36mHTTPTransport.handle_request\u001b[0;34m(self, request)\u001b[0m\n\u001b[1;32m    249\u001b[0m \u001b[38;5;28;01mwith\u001b[39;00m map_httpcore_exceptions():\n\u001b[0;32m--> 250\u001b[0m     resp \u001b[38;5;241m=\u001b[39m \u001b[38;5;28;43mself\u001b[39;49m\u001b[38;5;241;43m.\u001b[39;49m\u001b[43m_pool\u001b[49m\u001b[38;5;241;43m.\u001b[39;49m\u001b[43mhandle_request\u001b[49m\u001b[43m(\u001b[49m\u001b[43mreq\u001b[49m\u001b[43m)\u001b[49m\n\u001b[1;32m    252\u001b[0m \u001b[38;5;28;01massert\u001b[39;00m \u001b[38;5;28misinstance\u001b[39m(resp\u001b[38;5;241m.\u001b[39mstream, typing\u001b[38;5;241m.\u001b[39mIterable)\n",
      "File \u001b[0;32m~/ITMO/baseline-itmo/.venv/lib/python3.12/site-packages/httpcore/_sync/connection_pool.py:256\u001b[0m, in \u001b[0;36mConnectionPool.handle_request\u001b[0;34m(self, request)\u001b[0m\n\u001b[1;32m    255\u001b[0m     \u001b[38;5;28mself\u001b[39m\u001b[38;5;241m.\u001b[39m_close_connections(closing)\n\u001b[0;32m--> 256\u001b[0m     \u001b[38;5;28;01mraise\u001b[39;00m exc \u001b[38;5;28;01mfrom\u001b[39;00m\u001b[38;5;250m \u001b[39m\u001b[38;5;28;01mNone\u001b[39;00m\n\u001b[1;32m    258\u001b[0m \u001b[38;5;66;03m# Return the response. Note that in this case we still have to manage\u001b[39;00m\n\u001b[1;32m    259\u001b[0m \u001b[38;5;66;03m# the point at which the response is closed.\u001b[39;00m\n",
      "File \u001b[0;32m~/ITMO/baseline-itmo/.venv/lib/python3.12/site-packages/httpcore/_sync/connection_pool.py:236\u001b[0m, in \u001b[0;36mConnectionPool.handle_request\u001b[0;34m(self, request)\u001b[0m\n\u001b[1;32m    234\u001b[0m \u001b[38;5;28;01mtry\u001b[39;00m:\n\u001b[1;32m    235\u001b[0m     \u001b[38;5;66;03m# Send the request on the assigned connection.\u001b[39;00m\n\u001b[0;32m--> 236\u001b[0m     response \u001b[38;5;241m=\u001b[39m \u001b[43mconnection\u001b[49m\u001b[38;5;241;43m.\u001b[39;49m\u001b[43mhandle_request\u001b[49m\u001b[43m(\u001b[49m\n\u001b[1;32m    237\u001b[0m \u001b[43m        \u001b[49m\u001b[43mpool_request\u001b[49m\u001b[38;5;241;43m.\u001b[39;49m\u001b[43mrequest\u001b[49m\n\u001b[1;32m    238\u001b[0m \u001b[43m    \u001b[49m\u001b[43m)\u001b[49m\n\u001b[1;32m    239\u001b[0m \u001b[38;5;28;01mexcept\u001b[39;00m ConnectionNotAvailable:\n\u001b[1;32m    240\u001b[0m     \u001b[38;5;66;03m# In some cases a connection may initially be available to\u001b[39;00m\n\u001b[1;32m    241\u001b[0m     \u001b[38;5;66;03m# handle a request, but then become unavailable.\u001b[39;00m\n\u001b[1;32m    242\u001b[0m     \u001b[38;5;66;03m#\u001b[39;00m\n\u001b[1;32m    243\u001b[0m     \u001b[38;5;66;03m# In this case we clear the connection and try again.\u001b[39;00m\n",
      "File \u001b[0;32m~/ITMO/baseline-itmo/.venv/lib/python3.12/site-packages/httpcore/_sync/connection.py:103\u001b[0m, in \u001b[0;36mHTTPConnection.handle_request\u001b[0;34m(self, request)\u001b[0m\n\u001b[1;32m    101\u001b[0m     \u001b[38;5;28;01mraise\u001b[39;00m exc\n\u001b[0;32m--> 103\u001b[0m \u001b[38;5;28;01mreturn\u001b[39;00m \u001b[38;5;28;43mself\u001b[39;49m\u001b[38;5;241;43m.\u001b[39;49m\u001b[43m_connection\u001b[49m\u001b[38;5;241;43m.\u001b[39;49m\u001b[43mhandle_request\u001b[49m\u001b[43m(\u001b[49m\u001b[43mrequest\u001b[49m\u001b[43m)\u001b[49m\n",
      "File \u001b[0;32m~/ITMO/baseline-itmo/.venv/lib/python3.12/site-packages/httpcore/_sync/http11.py:136\u001b[0m, in \u001b[0;36mHTTP11Connection.handle_request\u001b[0;34m(self, request)\u001b[0m\n\u001b[1;32m    135\u001b[0m         \u001b[38;5;28mself\u001b[39m\u001b[38;5;241m.\u001b[39m_response_closed()\n\u001b[0;32m--> 136\u001b[0m \u001b[38;5;28;01mraise\u001b[39;00m exc\n",
      "File \u001b[0;32m~/ITMO/baseline-itmo/.venv/lib/python3.12/site-packages/httpcore/_sync/http11.py:106\u001b[0m, in \u001b[0;36mHTTP11Connection.handle_request\u001b[0;34m(self, request)\u001b[0m\n\u001b[1;32m     97\u001b[0m \u001b[38;5;28;01mwith\u001b[39;00m Trace(\n\u001b[1;32m     98\u001b[0m     \u001b[38;5;124m\"\u001b[39m\u001b[38;5;124mreceive_response_headers\u001b[39m\u001b[38;5;124m\"\u001b[39m, logger, request, kwargs\n\u001b[1;32m     99\u001b[0m ) \u001b[38;5;28;01mas\u001b[39;00m trace:\n\u001b[1;32m    100\u001b[0m     (\n\u001b[1;32m    101\u001b[0m         http_version,\n\u001b[1;32m    102\u001b[0m         status,\n\u001b[1;32m    103\u001b[0m         reason_phrase,\n\u001b[1;32m    104\u001b[0m         headers,\n\u001b[1;32m    105\u001b[0m         trailing_data,\n\u001b[0;32m--> 106\u001b[0m     ) \u001b[38;5;241m=\u001b[39m \u001b[38;5;28;43mself\u001b[39;49m\u001b[38;5;241;43m.\u001b[39;49m\u001b[43m_receive_response_headers\u001b[49m\u001b[43m(\u001b[49m\u001b[38;5;241;43m*\u001b[39;49m\u001b[38;5;241;43m*\u001b[39;49m\u001b[43mkwargs\u001b[49m\u001b[43m)\u001b[49m\n\u001b[1;32m    107\u001b[0m     trace\u001b[38;5;241m.\u001b[39mreturn_value \u001b[38;5;241m=\u001b[39m (\n\u001b[1;32m    108\u001b[0m         http_version,\n\u001b[1;32m    109\u001b[0m         status,\n\u001b[1;32m    110\u001b[0m         reason_phrase,\n\u001b[1;32m    111\u001b[0m         headers,\n\u001b[1;32m    112\u001b[0m     )\n",
      "File \u001b[0;32m~/ITMO/baseline-itmo/.venv/lib/python3.12/site-packages/httpcore/_sync/http11.py:177\u001b[0m, in \u001b[0;36mHTTP11Connection._receive_response_headers\u001b[0;34m(self, request)\u001b[0m\n\u001b[1;32m    176\u001b[0m \u001b[38;5;28;01mwhile\u001b[39;00m \u001b[38;5;28;01mTrue\u001b[39;00m:\n\u001b[0;32m--> 177\u001b[0m     event \u001b[38;5;241m=\u001b[39m \u001b[38;5;28;43mself\u001b[39;49m\u001b[38;5;241;43m.\u001b[39;49m\u001b[43m_receive_event\u001b[49m\u001b[43m(\u001b[49m\u001b[43mtimeout\u001b[49m\u001b[38;5;241;43m=\u001b[39;49m\u001b[43mtimeout\u001b[49m\u001b[43m)\u001b[49m\n\u001b[1;32m    178\u001b[0m     \u001b[38;5;28;01mif\u001b[39;00m \u001b[38;5;28misinstance\u001b[39m(event, h11\u001b[38;5;241m.\u001b[39mResponse):\n",
      "File \u001b[0;32m~/ITMO/baseline-itmo/.venv/lib/python3.12/site-packages/httpcore/_sync/http11.py:217\u001b[0m, in \u001b[0;36mHTTP11Connection._receive_event\u001b[0;34m(self, timeout)\u001b[0m\n\u001b[1;32m    216\u001b[0m \u001b[38;5;28;01mif\u001b[39;00m event \u001b[38;5;129;01mis\u001b[39;00m h11\u001b[38;5;241m.\u001b[39mNEED_DATA:\n\u001b[0;32m--> 217\u001b[0m     data \u001b[38;5;241m=\u001b[39m \u001b[38;5;28;43mself\u001b[39;49m\u001b[38;5;241;43m.\u001b[39;49m\u001b[43m_network_stream\u001b[49m\u001b[38;5;241;43m.\u001b[39;49m\u001b[43mread\u001b[49m\u001b[43m(\u001b[49m\n\u001b[1;32m    218\u001b[0m \u001b[43m        \u001b[49m\u001b[38;5;28;43mself\u001b[39;49m\u001b[38;5;241;43m.\u001b[39;49m\u001b[43mREAD_NUM_BYTES\u001b[49m\u001b[43m,\u001b[49m\u001b[43m \u001b[49m\u001b[43mtimeout\u001b[49m\u001b[38;5;241;43m=\u001b[39;49m\u001b[43mtimeout\u001b[49m\n\u001b[1;32m    219\u001b[0m \u001b[43m    \u001b[49m\u001b[43m)\u001b[49m\n\u001b[1;32m    221\u001b[0m     \u001b[38;5;66;03m# If we feed this case through h11 we'll raise an exception like:\u001b[39;00m\n\u001b[1;32m    222\u001b[0m     \u001b[38;5;66;03m#\u001b[39;00m\n\u001b[1;32m    223\u001b[0m     \u001b[38;5;66;03m#     httpcore.RemoteProtocolError: can't handle event type\u001b[39;00m\n\u001b[0;32m   (...)\u001b[0m\n\u001b[1;32m    227\u001b[0m     \u001b[38;5;66;03m# perspective. Instead we handle this case distinctly and treat\u001b[39;00m\n\u001b[1;32m    228\u001b[0m     \u001b[38;5;66;03m# it as a ConnectError.\u001b[39;00m\n",
      "File \u001b[0;32m~/ITMO/baseline-itmo/.venv/lib/python3.12/site-packages/httpcore/_backends/sync.py:128\u001b[0m, in \u001b[0;36mSyncStream.read\u001b[0;34m(self, max_bytes, timeout)\u001b[0m\n\u001b[1;32m    127\u001b[0m \u001b[38;5;28mself\u001b[39m\u001b[38;5;241m.\u001b[39m_sock\u001b[38;5;241m.\u001b[39msettimeout(timeout)\n\u001b[0;32m--> 128\u001b[0m \u001b[38;5;28;01mreturn\u001b[39;00m \u001b[38;5;28;43mself\u001b[39;49m\u001b[38;5;241;43m.\u001b[39;49m\u001b[43m_sock\u001b[49m\u001b[38;5;241;43m.\u001b[39;49m\u001b[43mrecv\u001b[49m\u001b[43m(\u001b[49m\u001b[43mmax_bytes\u001b[49m\u001b[43m)\u001b[49m\n",
      "File \u001b[0;32m/opt/homebrew/Caskroom/miniconda/base/lib/python3.12/ssl.py:1232\u001b[0m, in \u001b[0;36mSSLSocket.recv\u001b[0;34m(self, buflen, flags)\u001b[0m\n\u001b[1;32m   1229\u001b[0m         \u001b[38;5;28;01mraise\u001b[39;00m \u001b[38;5;167;01mValueError\u001b[39;00m(\n\u001b[1;32m   1230\u001b[0m             \u001b[38;5;124m\"\u001b[39m\u001b[38;5;124mnon-zero flags not allowed in calls to recv() on \u001b[39m\u001b[38;5;132;01m%s\u001b[39;00m\u001b[38;5;124m\"\u001b[39m \u001b[38;5;241m%\u001b[39m\n\u001b[1;32m   1231\u001b[0m             \u001b[38;5;28mself\u001b[39m\u001b[38;5;241m.\u001b[39m\u001b[38;5;18m__class__\u001b[39m)\n\u001b[0;32m-> 1232\u001b[0m     \u001b[38;5;28;01mreturn\u001b[39;00m \u001b[38;5;28;43mself\u001b[39;49m\u001b[38;5;241;43m.\u001b[39;49m\u001b[43mread\u001b[49m\u001b[43m(\u001b[49m\u001b[43mbuflen\u001b[49m\u001b[43m)\u001b[49m\n\u001b[1;32m   1233\u001b[0m \u001b[38;5;28;01melse\u001b[39;00m:\n",
      "File \u001b[0;32m/opt/homebrew/Caskroom/miniconda/base/lib/python3.12/ssl.py:1105\u001b[0m, in \u001b[0;36mSSLSocket.read\u001b[0;34m(self, len, buffer)\u001b[0m\n\u001b[1;32m   1104\u001b[0m     \u001b[38;5;28;01melse\u001b[39;00m:\n\u001b[0;32m-> 1105\u001b[0m         \u001b[38;5;28;01mreturn\u001b[39;00m \u001b[38;5;28;43mself\u001b[39;49m\u001b[38;5;241;43m.\u001b[39;49m\u001b[43m_sslobj\u001b[49m\u001b[38;5;241;43m.\u001b[39;49m\u001b[43mread\u001b[49m\u001b[43m(\u001b[49m\u001b[38;5;28;43mlen\u001b[39;49m\u001b[43m)\u001b[49m\n\u001b[1;32m   1106\u001b[0m \u001b[38;5;28;01mexcept\u001b[39;00m SSLError \u001b[38;5;28;01mas\u001b[39;00m x:\n",
      "\u001b[0;31mKeyboardInterrupt\u001b[0m: ",
      "\nDuring handling of the above exception, another exception occurred:\n",
      "\u001b[0;31mValueError\u001b[0m                                Traceback (most recent call last)",
      "Cell \u001b[0;32mIn[3], line 1\u001b[0m\n\u001b[0;32m----> 1\u001b[0m \u001b[43mretriever\u001b[49m\u001b[38;5;241;43m.\u001b[39;49m\u001b[43mcreate_db\u001b[49m\u001b[43m(\u001b[49m\u001b[43m)\u001b[49m\n",
      "File \u001b[0;32m~/ITMO/baseline-itmo/assistent/local_retrieve.py:46\u001b[0m, in \u001b[0;36mcreate_db\u001b[0;34m(self)\u001b[0m\n\u001b[1;32m     43\u001b[0m     docs_markdown\u001b[38;5;241m.\u001b[39mappend(docm)\n\u001b[1;32m     45\u001b[0m docs_chunks \u001b[38;5;241m=\u001b[39m []\n\u001b[0;32m---> 46\u001b[0m \u001b[38;5;28;01mfor\u001b[39;00m doc \u001b[38;5;129;01min\u001b[39;00m docs_markdown:\n\u001b[1;32m     47\u001b[0m     docs_chunks\u001b[38;5;241m.\u001b[39mappend(\n\u001b[1;32m     48\u001b[0m         {\n\u001b[1;32m     49\u001b[0m             \u001b[38;5;124m'\u001b[39m\u001b[38;5;124murl\u001b[39m\u001b[38;5;124m'\u001b[39m: doc[\u001b[38;5;124m'\u001b[39m\u001b[38;5;124mmetadata\u001b[39m\u001b[38;5;124m'\u001b[39m][\u001b[38;5;124m'\u001b[39m\u001b[38;5;124msource\u001b[39m\u001b[38;5;124m'\u001b[39m],\n\u001b[0;32m   (...)\u001b[0m\n\u001b[1;32m     52\u001b[0m         }\n\u001b[1;32m     53\u001b[0m     )\n\u001b[1;32m     55\u001b[0m \u001b[38;5;28;01mfor\u001b[39;00m doc_chunks \u001b[38;5;129;01min\u001b[39;00m docs_chunks:\n",
      "File \u001b[0;32m~/ITMO/baseline-itmo/assistent/memory.py:53\u001b[0m, in \u001b[0;36mMemory.insert_vectors\u001b[0;34m(self, chunks, website, url, title)\u001b[0m\n\u001b[1;32m     51\u001b[0m \u001b[38;5;66;03m# insert the vectors into the collection\u001b[39;00m\n\u001b[1;32m     52\u001b[0m \u001b[38;5;28;01mfor\u001b[39;00m result \u001b[38;5;129;01min\u001b[39;00m tqdm(results):\n\u001b[0;32m---> 53\u001b[0m     text_embedding \u001b[38;5;241m=\u001b[39m \u001b[38;5;28;43mself\u001b[39;49m\u001b[38;5;241;43m.\u001b[39;49m\u001b[43membedding_model\u001b[49m\u001b[38;5;241;43m.\u001b[39;49m\u001b[43mencode\u001b[49m\u001b[43m(\u001b[49m\u001b[38;5;28;43minput\u001b[39;49m\u001b[38;5;241;43m=\u001b[39;49m\u001b[43mresult\u001b[49m\u001b[43m)\u001b[49m[\u001b[38;5;241m0\u001b[39m]\u001b[38;5;241m.\u001b[39membedding\n\u001b[1;32m     55\u001b[0m     metadata \u001b[38;5;241m=\u001b[39m {\n\u001b[1;32m     56\u001b[0m         \u001b[38;5;124m'\u001b[39m\u001b[38;5;124mwebsite\u001b[39m\u001b[38;5;124m'\u001b[39m: website,\n\u001b[1;32m     57\u001b[0m         \u001b[38;5;124m'\u001b[39m\u001b[38;5;124murl\u001b[39m\u001b[38;5;124m'\u001b[39m: url,\n\u001b[1;32m     58\u001b[0m         \u001b[38;5;124m'\u001b[39m\u001b[38;5;124mtitle\u001b[39m\u001b[38;5;124m'\u001b[39m: title\n\u001b[1;32m     59\u001b[0m     }\n\u001b[1;32m     61\u001b[0m     \u001b[38;5;66;03m# insert the vectors into the collection\u001b[39;00m\n",
      "File \u001b[0;32m~/ITMO/baseline-itmo/assistent/inference.py:87\u001b[0m, in \u001b[0;36mOpenaiEmbeddings.encode\u001b[0;34m(self, input)\u001b[0m\n\u001b[1;32m     83\u001b[0m     response \u001b[38;5;241m=\u001b[39m \u001b[38;5;28mself\u001b[39m\u001b[38;5;241m.\u001b[39mclient\u001b[38;5;241m.\u001b[39membeddings\u001b[38;5;241m.\u001b[39mcreate(\n\u001b[1;32m     84\u001b[0m         model\u001b[38;5;241m=\u001b[39m\u001b[38;5;28mself\u001b[39m\u001b[38;5;241m.\u001b[39mmodel, \u001b[38;5;28minput\u001b[39m\u001b[38;5;241m=\u001b[39m\u001b[38;5;28minput\u001b[39m, encoding_format\u001b[38;5;241m=\u001b[39m\u001b[38;5;124m'\u001b[39m\u001b[38;5;124mfloat\u001b[39m\u001b[38;5;124m'\u001b[39m\n\u001b[1;32m     85\u001b[0m     )\n\u001b[1;32m     86\u001b[0m \u001b[38;5;28;01mexcept\u001b[39;00m:\n\u001b[0;32m---> 87\u001b[0m     len_embeddings \u001b[38;5;241m=\u001b[39m \u001b[38;5;28;43mself\u001b[39;49m\u001b[38;5;241;43m.\u001b[39;49m\u001b[43mnum_tokens_from_string\u001b[49m\u001b[43m(\u001b[49m\u001b[38;5;28;43minput\u001b[39;49m\u001b[43m)\u001b[49m\n\u001b[1;32m     88\u001b[0m     \u001b[38;5;66;03m# if one of the inputs exceed the limit, raise error\u001b[39;00m\n\u001b[1;32m     89\u001b[0m     \u001b[38;5;28;01mif\u001b[39;00m len_embeddings \u001b[38;5;241m>\u001b[39m \u001b[38;5;241m8191\u001b[39m:\n",
      "File \u001b[0;32m~/ITMO/baseline-itmo/assistent/inference.py:76\u001b[0m, in \u001b[0;36mOpenaiEmbeddings.num_tokens_from_string\u001b[0;34m(string, encoding_name)\u001b[0m\n\u001b[1;32m     72\u001b[0m \u001b[38;5;28;01mdef\u001b[39;00m\u001b[38;5;250m \u001b[39m\u001b[38;5;21mnum_tokens_from_string\u001b[39m(string: \u001b[38;5;28mstr\u001b[39m, encoding_name: \u001b[38;5;28mstr\u001b[39m \u001b[38;5;241m=\u001b[39m \u001b[38;5;124m'\u001b[39m\u001b[38;5;124mcl100k_base\u001b[39m\u001b[38;5;124m'\u001b[39m) \u001b[38;5;241m-\u001b[39m\u001b[38;5;241m>\u001b[39m \u001b[38;5;28mint\u001b[39m:\n\u001b[1;32m     73\u001b[0m \u001b[38;5;250m    \u001b[39m\u001b[38;5;124;03m'''\u001b[39;00m\n\u001b[1;32m     74\u001b[0m \u001b[38;5;124;03m    Returns the number of tokens in a text string.\u001b[39;00m\n\u001b[1;32m     75\u001b[0m \u001b[38;5;124;03m    '''\u001b[39;00m\n\u001b[0;32m---> 76\u001b[0m     encoding \u001b[38;5;241m=\u001b[39m \u001b[43mtiktoken\u001b[49m\u001b[38;5;241;43m.\u001b[39;49m\u001b[43mget_encoding\u001b[49m\u001b[43m(\u001b[49m\u001b[43mencoding_name\u001b[49m\u001b[43m)\u001b[49m\n\u001b[1;32m     77\u001b[0m     num_tokens \u001b[38;5;241m=\u001b[39m \u001b[38;5;28mlen\u001b[39m(encoding\u001b[38;5;241m.\u001b[39mencode(string))\n\u001b[1;32m     79\u001b[0m     \u001b[38;5;28;01mreturn\u001b[39;00m num_tokens\n",
      "File \u001b[0;32m~/ITMO/baseline-itmo/.venv/lib/python3.12/site-packages/tiktoken/registry.py:79\u001b[0m, in \u001b[0;36mget_encoding\u001b[0;34m(encoding_name)\u001b[0m\n\u001b[1;32m     76\u001b[0m     \u001b[38;5;28;01massert\u001b[39;00m ENCODING_CONSTRUCTORS \u001b[38;5;129;01mis\u001b[39;00m \u001b[38;5;129;01mnot\u001b[39;00m \u001b[38;5;28;01mNone\u001b[39;00m\n\u001b[1;32m     78\u001b[0m \u001b[38;5;28;01mif\u001b[39;00m encoding_name \u001b[38;5;129;01mnot\u001b[39;00m \u001b[38;5;129;01min\u001b[39;00m ENCODING_CONSTRUCTORS:\n\u001b[0;32m---> 79\u001b[0m     \u001b[38;5;28;01mraise\u001b[39;00m \u001b[38;5;167;01mValueError\u001b[39;00m(\n\u001b[1;32m     80\u001b[0m         \u001b[38;5;124mf\u001b[39m\u001b[38;5;124m\"\u001b[39m\u001b[38;5;124mUnknown encoding \u001b[39m\u001b[38;5;132;01m{\u001b[39;00mencoding_name\u001b[38;5;132;01m}\u001b[39;00m\u001b[38;5;124m.\u001b[39m\u001b[38;5;130;01m\\n\u001b[39;00m\u001b[38;5;124m\"\u001b[39m\n\u001b[1;32m     81\u001b[0m         \u001b[38;5;124mf\u001b[39m\u001b[38;5;124m\"\u001b[39m\u001b[38;5;124mPlugins found: \u001b[39m\u001b[38;5;132;01m{\u001b[39;00m_available_plugin_modules()\u001b[38;5;132;01m}\u001b[39;00m\u001b[38;5;130;01m\\n\u001b[39;00m\u001b[38;5;124m\"\u001b[39m\n\u001b[1;32m     82\u001b[0m         \u001b[38;5;124mf\u001b[39m\u001b[38;5;124m\"\u001b[39m\u001b[38;5;124mtiktoken version: \u001b[39m\u001b[38;5;132;01m{\u001b[39;00mtiktoken\u001b[38;5;241m.\u001b[39m__version__\u001b[38;5;132;01m}\u001b[39;00m\u001b[38;5;124m (are you on latest?)\u001b[39m\u001b[38;5;124m\"\u001b[39m\n\u001b[1;32m     83\u001b[0m     )\n\u001b[1;32m     85\u001b[0m constructor \u001b[38;5;241m=\u001b[39m ENCODING_CONSTRUCTORS[encoding_name]\n\u001b[1;32m     86\u001b[0m enc \u001b[38;5;241m=\u001b[39m Encoding(\u001b[38;5;241m*\u001b[39m\u001b[38;5;241m*\u001b[39mconstructor())\n",
      "\u001b[0;31mValueError\u001b[0m: Unknown encoding активными формами микроорганизмов. Разработка позволит следить за состоянием нефти, быстро и с высокой точностью предсказывать ее заражение и вовремя проводить бактерицидную обработку. Сейчас прототип способен обнаруживать шесть микроорганизмов-мишеней, но в перспективе устройство можно адаптировать и под другие формы микроорганизмов.\nЕще одну отечественную разработку представили ученые ПИШ ИТМО в области кастомизированного генетического скрининга — прототипы молекулярного микрочипа и аппаратно-программного комплекса, способных детектировать и интерпретировать флуоресцентные сигналы от мишеней. Разработка позволит быстро и эффективно решать широкий перечень задач в области персонализированной медицины, в частности диагностировать онкологические заболевания, диабет, болезни сердца. Отдельной задачей разработчики ставят адаптацию микрочипов для мониторинга здоровья и эффективной селекции российских сельскохозяйственных животных — крупного рогатого скота, овец и свиней. Сейчас микрочип способен определять до 400 генетических мишеней, но разработчики собираются в ближайшее время увеличить их количество до 100 тысяч.\nСобирать химические реакции со всего мира в одном месте и быстро находить в массиве данных нужные соединения с конкретными свойствами помогает отечественная мультиомиксная цифровая платформа. Прототип ИИ-сервиса позволяет ученым ПИШ ИТМО еще до стадии синтеза проверить исследовательскую гипотезу — например, какие реакции будут происходить, какие продукты получатся, а также предсказать, будет ли их синтез экономически выгодным. Мультиомиксная ИИ-платформа ускорит раннюю стадию разработки лекарств — сотрудники центра исследований и разработок смогут сразу сосредоточиться на работе с результативными химическими реакциями вместо их поиска.\nАлександр Виноградов. Фото: Передовая инженерная школа ИТМО\n«В этом году мы продолжим развивать стратегические партнерства с новыми компаниями, штаб-квартиры которых находятся в далеких от Санкт-Петербурга регионах. Например, .\nPlugins found: ['tiktoken_ext.openai_public']\ntiktoken version: 0.8.0 (are you on latest?)"
     ]
    }
   ],
   "source": [
    "retriever.create_db()"
   ]
  },
  {
   "cell_type": "code",
   "execution_count": 5,
   "metadata": {},
   "outputs": [
    {
     "ename": "AttributeError",
     "evalue": "'OpenaiEmbeddings' object has no attribute 'base_url'",
     "output_type": "error",
     "traceback": [
      "\u001b[0;31m---------------------------------------------------------------------------\u001b[0m",
      "\u001b[0;31mAttributeError\u001b[0m                            Traceback (most recent call last)",
      "Cell \u001b[0;32mIn[5], line 6\u001b[0m\n\u001b[1;32m      4\u001b[0m config \u001b[38;5;241m=\u001b[39m load_config(\u001b[38;5;124mf\u001b[39m\u001b[38;5;124m'\u001b[39m\u001b[38;5;132;01m{\u001b[39;00mDIR\u001b[38;5;132;01m}\u001b[39;00m\u001b[38;5;124m/config.json\u001b[39m\u001b[38;5;124m'\u001b[39m)\n\u001b[1;32m      5\u001b[0m embeddings \u001b[38;5;241m=\u001b[39m OpenaiEmbeddings(api_key\u001b[38;5;241m=\u001b[39mos\u001b[38;5;241m.\u001b[39menviron[\u001b[38;5;124m'\u001b[39m\u001b[38;5;124mOPENAI_TOKEN\u001b[39m\u001b[38;5;124m'\u001b[39m], base_url\u001b[38;5;241m=\u001b[39mconfig[\u001b[38;5;124m'\u001b[39m\u001b[38;5;124mbase_url\u001b[39m\u001b[38;5;124m'\u001b[39m], model\u001b[38;5;241m=\u001b[39mconfig[\u001b[38;5;124m'\u001b[39m\u001b[38;5;124membeddings\u001b[39m\u001b[38;5;124m'\u001b[39m])\n\u001b[0;32m----> 6\u001b[0m \u001b[43membeddings\u001b[49m\u001b[38;5;241;43m.\u001b[39;49m\u001b[43mbase_url\u001b[49m\n",
      "\u001b[0;31mAttributeError\u001b[0m: 'OpenaiEmbeddings' object has no attribute 'base_url'"
     ]
    }
   ],
   "source": [
    "from assistent.inference import OpenaiEmbeddings\n",
    "import os\n",
    "from utils import load_config, DIR\n",
    "config = load_config(f'{DIR}/config.json')\n",
    "embeddings = OpenaiEmbeddings(api_key=os.environ['OPENAI_TOKEN'], base_url=config['base_url'], model=config['embeddings'])\n",
    "embeddings.base_url"
   ]
  },
  {
   "cell_type": "code",
   "execution_count": 9,
   "metadata": {},
   "outputs": [
    {
     "data": {
      "text/plain": [
       "[Embedding(embedding=[-0.0066495216, 0.0055126413, -0.0019046831, -0.017077738, 0.028953636, 0.006076992, -0.012301206, 0.02632, -0.010910776, 0.058692455, -0.030196844, -0.018451808, -0.019989459, -0.0049932753, -0.047176432, 0.014722188, 0.009602138, -0.0031632257, 0.0016173959, -0.016513387, 0.008260783, 0.011123431, -0.009324052, 0.02664716, 0.022426799, 0.020267544, -0.044853598, -0.01868082, -0.064646766, -0.019466003, 0.010698123, 0.041058544, -0.004359403, -0.0026908887, 0.02185427, 0.0041222125, 0.04112398, -0.0059093228, -0.03047493, 0.019645942, 0.02640179, 0.013110926, -0.006342809, 0.008293499, 0.010689944, 0.003923872, 0.0144522805, 0.029100858, 0.008726986, 0.0023903109, -0.017012306, 0.026663518, 0.024422474, 0.023326488, -0.014313238, 0.016611535, 0.0075083156, 0.012612008, -0.015670951, -0.020725569, -0.023146551, -0.012939167, 0.001738036, 0.002680665, -0.0051732133, -0.0073079304, -0.011884077, 0.04563878, -0.031963505, 0.059314057, -0.005189571, -0.005676221, 0.0067885644, -0.007974518, 0.0015652549, 0.011033461, 0.04020793, 0.028642833, 0.013331759, 0.01982588, 0.018026501, -0.028561044, -0.017421255, 0.028659193, 0.0028585582, -0.0014548384, -0.023359204, -0.09697014, -0.0104772905, 0.020103965, -0.005500373, 0.0134708015, -0.008150367, 0.0041160784, 0.012865556, 0.024242535, 0.012530218, 0.024193462, 0.0064450465, 0.00055923866, 0.012203058, -0.013135463, 0.01900798, -0.0006921473, 0.00430624, 0.041647434, -0.04118941, 0.0027604103, 0.0038073214, -0.06140788, -0.05915048, 0.017192245, 0.022704884, 0.0056721317, 0.002095867, 0.0013996302, -0.018631747, -0.0011522156, -0.015482835, -0.02875734, -0.008596122, 0.034155477, -0.018320944, -0.0071279923, 0.028004874, -0.014558608, 0.001997719, 0.013012778, -0.014885767, -0.022148713, -0.002617278, -0.014247806, 0.008342573, 0.0019874952, 0.031652704, 0.016848726, 0.0076555377, 0.019236991, -0.03736164, -0.00011706184, -0.042530764, -0.020300262, -0.023539143, 0.017453972, -0.033697452, -0.01982588, 0.031799924, -0.013585308, -0.027007036, 0.020643778, -0.03484251, -0.029902399, 0.0024087136, 0.008866029, 0.018860757, -0.012791946, 0.010616333, -0.005234556, -0.021674331, -0.035071522, -0.015572803, 0.005234556, -0.006588179, -0.0031836731, -0.008816955, -0.03389375, 0.037328925, -0.0534579, 0.0033002237, 0.052181978, 0.011548738, -0.020267544, 0.0128001245, 0.0121867, 0.026663518, 0.008174904, 0.03615115, 0.026041914, 0.033255786, 0.026843455, -0.01226849, 0.021723406, -0.0032797763, 0.0104772905, -0.015523729, -0.012047657, 0.046980135, -0.01843545, 0.01583453, -0.038212255, 0.008751523, 0.0035783094, 0.013315401, -0.01006834, 0.058169, -0.02371908, 0.025044078, -0.022917539, 0.0009773896, -0.04897581, 0.022181429, -0.015867246, 0.0045884154, -0.003680547, -0.039946202, 0.03916102, 0.027988514, -0.014419565, 0.022852106, 0.051854815, -0.016022647, 0.019106127, 0.0059992913, 0.012088552, 0.038539417, -0.019466003, 0.014934842, -0.0003920805, 0.028053947, 0.0017932443, 0.0040179305, -0.018419093, 0.04279249, 0.058921468, -0.03166906, -0.010280995, 0.018549956, 0.022704884, 0.0011113207, 0.03386103, 0.0131027475, -0.002363729, 0.014828514, 0.01446046, -0.008800597, -0.0045188935, 0.014157837, -0.0055167307, 0.037099913, 0.0053490615, -0.002027368, 0.049564697, -0.046849273, 0.0008915103, -0.009782076, -0.0010878061, 0.011957688, 0.016268017, 0.020758284, 0.028937278, 0.0007908064, -0.008060398, -0.019874953, 0.035136953, 0.003281821, 0.0051200497, 0.03353387, 0.007733238, -0.04858322, -0.03279776, 0.0036785023, -0.01615351, -0.011990404, -0.0054881047, 0.0028728715, -0.011344263, 0.0027522312, 0.028299317, 0.023146551, -0.020660136, 0.007303841, 0.039455462, 0.055551723, 0.016603356, 0.032683257, -0.053196173, -0.0117613925, 0.037950527, 0.030311348, 0.021641616, 0.0025722934, 0.041418422, 0.03752522, 0.011908614, 0.012726514, -0.0018044903, -0.018304586, 0.003418819, -0.013544412, -0.039455462, -0.05996838, 0.016963232, -0.047830753, -0.033337574, -0.0029342137, 0.06412331, 0.030556718, 0.024618769, -0.0034065507, -0.036020286, 0.012849199, 0.0034229087, -0.03526782, -0.011556918, -0.027252406, 0.009144114, 0.018173723, 0.0018423182, -0.022606738, -0.00828532, 0.022312293, -7.789213e-05, -0.0105999755, -0.013200895, -0.014836693, -0.0050178124, 0.008338484, 0.018386377, -0.033075847, 0.021936059, 0.03281412, 0.019793164, -0.018337302, 0.0033043132, 0.026941603, 0.033599302, -0.030982027, -0.01657882, 0.020889148, -0.0060156495, -0.013364475, -0.013037316, -0.015016631, -0.0036437414, -0.004915575, -0.03939003, 0.003249105, -0.02591105, -0.012399354, -0.009757539, 0.026827097, -0.020202113, -0.022443157, -0.015662773, -0.0072874827, -0.03778695, 0.04086225, 0.012669261, -0.004359403, 0.034090042, 0.00013993746, -0.03867028, 0.040436942, 0.005623058, -0.002915811, -0.0033533871, -0.018631747, -0.023261057, 0.0065513737, 0.005897054, -0.020970939, 0.011851361, 0.0025436669, 0.021298097, 0.04174558, -0.034155477, 0.009274978, -0.012235774, -0.017535761, 0.036609173, 0.019531436, -0.013544412, -0.021919701, 0.01617805, -0.030491287, 0.009266799, 0.0018106246, -0.017682983, 0.0063714357, -0.0043430454, -0.030311348, 0.020791, -0.00045342292, -0.015540087, -0.0043512243, -0.011426053, -0.011974046, -0.03256875, -0.028953636, -0.0026090988, -0.028037589, -0.015728204, -0.008027682, 0.06163689, 0.035529546, -0.0034004163, -0.00073866535, 0.023620931, 0.0401425, 0.0028708265, 0.007549211, -0.047143716, 0.005655774, -0.03248696, 0.004989186, -0.0614406, 0.0022942077, -0.044428293, 0.018419093, 0.0069889496, -0.04328323, -0.008256693, 0.032208875, 0.00349243, 0.012669261, 0.014026973, 0.057710975, 0.014975737, 0.0036539652, -0.012374816, 0.033501156, 0.0151802115, -0.0058929645, -0.008060398, -0.019924028, 0.0027522312, 0.011998583, 0.022246862, -0.0068008327, 0.013609844, -0.03575856, -0.012153984, 0.012391174, 0.035856705, -0.036576457, 0.034057327, 0.04557335, 0.009135935, -0.004298061, -0.006130155, 0.011033461, -0.017437613, 0.033239428, 0.031816285, -0.026434505, -0.008023593, -0.011057999, -0.015319254, 0.02404624, 0.032715973, -0.025829261, 0.019645942, -0.018010143, -0.011835003, -0.020594705, -0.035071522, -0.043021504, 0.041941877, 0.02103637, 0.0028074393, 0.0048133377, 0.027105184, 0.0025763828, -0.040600523, 0.028937278, -0.021657974, -0.036576457, 0.0118186455, -0.008816955, -0.003970901, 0.04030608, -0.028855488, -0.0121867, 0.0042326287, -0.008972355, 0.0026029646, -0.0232447, 0.0056475946, -0.018288229, 0.00034300654, 0.031456407, 0.00091246894, -0.037492506, 0.0042121815, 0.016603356, -0.001035665, 0.012824661, -0.0071607083, 0.0023044313, 0.004428925, 0.0084652575, 0.042628914, 0.006719043, -0.03395918, -0.012742871, -0.08205166, 0.008101293, -0.0018453853, 0.01859903, 0.031341903, 0.004392119, 0.012219416, 0.036053002, 0.021739764, -0.012865556, -0.006563642, -0.0042326287, -0.022737602, -0.039978918, 0.00552491, 0.021985134, -0.022966612, 0.014648577, -0.041974593, 0.029706104, 0.0065350155, -0.020611063, 0.0008240336, -0.018991623, -0.00520184, -0.021069087, 0.0047315476, 0.0010213518, 0.013086389, -0.007904997, 0.033599302, 0.011581454, 0.00861248, -0.004371672, -0.055911597, -0.015073884, 0.01769934, 0.0034147296, 0.028233884, -0.02615642, 0.018091934, 0.0076514482, 0.011483306, -0.01583453, -0.0070707398, -0.028495612, 0.018828042, 0.0071034557, -0.023899019, -0.0075205844, 0.029068142, 0.017797489, -0.03549683, -0.039357316, 0.03631473, 0.014738546, 0.028299317, 0.0020897328, -0.00053163455, 0.02932987, 0.010771734, -0.008915102, -0.02250859, -0.004559789, -0.03062215, 0.015262001, 0.0026275015, -0.0012881914, 0.02867555, -0.038441267, 0.0052427347, -0.008882387, 0.039455462, -0.013143642, -0.007479689, 0.010918956, -0.023686364, -0.0019118397, -0.017503045, -0.021919701, 0.03346844, -0.008035861, -0.024749633, -0.023604574, -0.016963232, -0.0021469856, 0.0073201987, -0.018778969, 0.0025579801, 0.006694506, 0.0025600248, 0.011753214, -0.037459787, -0.015580982, -0.0018504972, 0.025943767, 0.0027236047, 0.034678932, -0.0035803542, 0.004437104, 0.0015417403, -0.017159527, 0.008620659, 0.012873735, -0.007974518, -0.036085717, 0.039259166, 0.0072997515, -0.0020641733, -0.005377688, 0.040469658, 0.019236991, -0.018877117, 0.009839329, 0.0072752144, -0.00090684585, -0.046325818, -0.018320944, -0.018729893, 0.03729621, -0.011139789, -0.0023657738, 0.0045638783, -0.027285121, 0.02209964, 0.035562262, -0.0046538473, -0.0055698943, -0.011892256, 0.001519248, 0.03256875, -0.0070625604, 0.0037950529, 0.02056199, 0.017617552, 0.020692853, -0.03566041, -0.013675276, 0.028004874, -0.0018515196, 0.0117613925, 0.01389611, -0.04112398, 0.0057948167, -0.008743344, -0.014607682, 0.018337302, -0.02177248, -0.033599302, -0.038473982, -0.012906451, -0.021314457, -0.0057171164, 0.03412276, -0.001292281, -0.024111671, 0.0032061653, 0.0058520697, 0.019204276, 0.012881914, -0.041843727, -0.013307222, 0.006784475, -0.0036273834, -0.013429907, -0.030851163, -0.0274487, 0.009512169, 0.018795326, -0.0013270417, -0.00029930004, 0.0020028308, 0.0019425108, 0.0055821626, 0.01104982, 0.016963232, -0.024782348, 0.018566314, -0.0012033344, 0.02834839, -0.017486688, -0.0064900313, -0.029264437, 0.010035625, 0.0035537726, -0.0016797608, -0.0072424985, 0.0020324797, 0.025322163, -0.006183319, -0.0071198135, -0.07197514, 0.03674004, 0.015711846, 0.010910776, -0.0055535366, -0.008743344, 0.056467768, -0.015728204, 0.026630802, 0.048714083, 0.009602138, -0.044886313, -0.026009198, 0.003631473, 0.002494593, -0.03305949, -0.028446538, 0.010510006, 0.021870628, 0.015082063, 0.012358459, -0.005778459, -0.03631473, -0.027710428, 0.061277017, 0.008056308, -0.004248987, 0.025305806, 0.012211237, 0.0050873337, 0.020741927, -0.0063796146, -0.019760447, -0.0041549285, 0.026434505, 0.010133772, -0.008007234, -0.0007325311, 0.01064087, -0.0235555, 0.011327906, 0.029722461, -0.01576092, 0.004040423, -0.010624512, -0.022377726, -0.0056271474, -0.001970115, -0.034809794, 0.0019629584, 0.0024823244, -0.023097476, 0.007561479, 0.022001492, 0.030164126, -0.021985134, 0.0054962835, -0.009054146, -0.037328925, 0.020970939, -0.008751523, 0.02738327, -0.0087678805, 0.002973064, 0.053817775, -0.02105273, 0.016963232, -0.04377397, 0.0062119453, 0.037557937, 0.011417874, -0.018320944, -0.02136353, -0.00787637, -0.012841019, 0.013364475, -0.00033099364, 0.033124924, 0.014125121, -0.0010561125, 0.023522785, -0.028201168, 0.025878334, 0.01040368, -0.019678658, 0.006948055, -0.012759229, -0.004743816, 0.022852106, -0.0066781477, 0.02144532, -0.038539417, -0.023997165, 0.007369273, 0.0072670355, -0.00058735395, 0.014893946, 0.016750578, 0.010616333, -0.023948092, 0.0058929645, -0.011147968, 0.037656084, -0.024078956, 0.0177157, 0.035038806, -0.0004557233, 0.013658918, 0.04272706, -0.02697432, -0.021690689, -0.022541305, -0.010984388, 0.00039744796, 0.01616987, 0.023032045, -0.020054892, 0.021968776, -0.017732058, -0.0023862212, -0.005418583, -0.030344065, -0.020103965, -0.012522039, -0.016276196, -0.011180684, -0.015368328, 0.029935116, 0.023980808, 0.004028154, -0.010828987, -0.01819008, 0.016317092, -0.007990876, 0.002770634, -0.0050955126, 0.027988514, -0.030507645, 0.026189135, 0.002533443, 0.035594977, 0.016128974, -9.207757e-05, 0.041778296, -0.016627893, -0.020022176, 0.013691635, -0.016439777, -0.033697452, 0.012669261, -0.038048677, 0.0045761466, -0.00454752, 0.029689746, -0.008023593, 0.022835748, -0.009209546, -0.014664935, -0.013667097, -0.005888875, -0.034613498, -0.006596358, 0.0054840147, -0.0028094843, 0.030278632, -0.0012800124, 0.0041385707, 0.036085717, -0.012865556, 0.0015816129, -0.011074357, -0.010632691, 0.02420982, 0.0050300807, 0.0053817774, 0.00576619, -0.04524619, -0.030916594, -0.013748888, -0.04315237, -0.00056537293, -0.033566587, -0.005823443, -0.027808577, -0.052574567, -0.0039586327, -0.027988514, -0.022639453, 0.031554557, -0.010330068, 0.016063543, -0.016120795, -0.0090132505, -0.011205221, -0.005888875, 0.019776806, -0.030753015, 0.0053817774, 0.022426799, -0.03435177, 9.565588e-05, -0.00016089613, -0.02672895, 0.005978844, 0.006187408, 0.007884549, -0.0015151585, -0.023702722, 0.006792654, 0.034580782, -0.018206438, -0.03916102, -0.005459478, 0.00731202, 0.016693326, -0.011082536, 0.0046538473, 0.008596122, -0.019760447, -0.007361094, 0.0055617155, 0.041582, 0.042694345, 0.012072194, 0.0017533717, 0.019057054, -0.002697023, -0.015041169, 0.0050423495, 0.010976209, -0.015474655, 0.00015310053, 0.0053327037, 0.009176831, 0.0053572403, -0.027105184, -0.0016654475, -0.0026131882, -0.008084935, -0.007561479, 0.013070031, -0.005721206, 0.00885785, 0.012096731, 0.0014671069, 0.022312293, 0.0082771415, 0.022704884, 0.0040588253, -0.002128583, -0.0041855997, 0.002956706, -0.029215364, 0.0063141827, -0.013438086, 0.020496557, -0.005913412, -0.02738327, 0.03412276, -0.01657882, -0.020921864, 0.011475127, -0.012178521, -0.01031371, -0.009970193, 0.009135935, -0.005668042, 0.00544312, 0.02867555, -0.021657974, -0.04662026, -0.011172505, -0.0030425854, 0.0134135485, 0.002478235, -0.044330142, -0.018402735, 0.007042113, -0.023391921, -0.0027604103, -0.009283157, -0.0034944748, -0.031979863, 0.007790491, -0.0061587817, 0.0007550233, -0.017045021, 0.026140062, -0.0020815537, -0.0017564388, -0.016529744, 0.02031662, 0.00885785, -0.006449136, 0.03736164, -0.024553338, 0.015482835, 0.0071034557, 0.025027718, -0.03647831, 0.0001346978, 0.009152293, 0.011720497, -0.016963232, -0.040796816, -0.018386377, -0.024847781, -0.0030998385, 0.0019517123, 0.010346427, -0.03078573, 0.00034888517, -0.014714009, -0.008587942, -0.026549011, -0.024553338, -0.018157365, -0.026418148, -0.00081227627, 0.024226177, -0.0067313113, 0.03255239, -0.030360423, 0.0144522805, -0.005708937, -0.000625693, 0.011041641, -0.007925444, -0.001961936, 0.009790255, -0.014125121, 0.008383468, -0.012816482, 0.117777504, 0.012047657, -0.005708937, 0.0011675513, -0.019695016, 0.00023425148, 0.02916629, 0.0077782227, 0.023130193, 0.009659391, -0.019122487, 0.007205693, -0.0024434743, -0.014174195, -0.0216089, -0.01584271, -0.019040696, -0.0023330578, -0.033337574, -0.02429161, -0.013528055, -0.009896582, 0.0117613925, 0.014893946, 0.03549683, -0.0061546923, 0.014182374, -0.024144389, 0.01340537, 0.0002132928, 0.026532654, -0.008702449, -0.0077291485, 0.03631473, 0.011835003, -0.03346844, -0.013061852, -0.016832368, -0.0051159603, 0.0094222, 0.024438832, 0.0005648617, -0.0063264514, 0.0013648695, 0.0059911124, 0.008142187, 0.010166489, 0.028266601, -0.009225904, -0.0049073957, -0.045049895, -0.0032307024, 0.0012299161, 0.02875734, 0.030753015, 0.024602411, -0.011319727, -0.008191261, -0.02664716, -0.03719806, -0.012652903, -0.007843655, 0.010125593, -0.009577601, -0.005778459, -0.030409496, 0.015507371, 0.026107347, 0.032208875, -0.0071852454, 0.027317837, -0.055846166, 0.014125121, 0.0018770789, -0.0022635364, -0.025943767, -0.017290391, 0.0032470603, 0.025583891, 0.016096259, -0.009724823, -0.006837638, -0.0036028465, -0.011360621, 0.010583617, 0.00223491, 0.0017503046, 0.024406116, 0.00078876165, -0.005287719, 0.011867719, -0.017535761, 0.0028544685, -0.021903343, 0.010346427, 0.01933514, 0.031227397, -0.0032122997, 0.009741181, 0.029951474, 0.007610553, -0.0036825917, 0.00796225, -0.022884823, 0.0055289995, -0.025682038, -0.043937553, -0.016039006, 0.009479453, 0.013037316, -0.009921119, -0.046522114, 0.008064487, 0.018075574, 0.008825134, 0.019776806, 0.023048403, -0.009471274, -0.031080173, -0.0046579367, -0.010199204, -0.019138845, -0.03582399, -0.0016490895, 0.01437867, 0.020300262, 0.00966757, 0.013184537, -0.027955798, -0.020005817, -0.006117887, -0.031063816, -0.008416184, 0.0050832443, 0.00731202, -0.023211982, -0.0008271007, -0.008718806, -0.00074684434, -0.0031345992, 0.02818481, -0.011745034, -0.007692343, 0.018091934, 0.0027440523, 0.004428925, 0.0007125948, -0.012333922, -0.0055944314, -0.002688844, -0.0045965943, -0.033419367, -0.007913176, -0.0056598634, 0.025960125, -0.0027604103, -0.02013668, -0.0068008327, -0.010133772, 0.032028936, -0.009945655, 0.027710428, -0.009724823, -0.003713263, -0.024062598, -0.006669969, -0.0078027593, -0.020823717, 0.022083282, 0.039684474, -0.0031325545, -0.016022647, -0.013879752, -0.049172107, 0.007941802, 0.012121268, -0.015450118, 0.015826352, 0.013299043, -0.018746253, 0.018664462, -0.006019739, 0.003956588, -0.010910776, -0.0070625604, 0.016096259, -0.004437104, 0.0010550901, -0.03265054, -0.034319054, 0.0014149658, 0.013707993, -0.024095314, 0.037001766, -0.019449646, -0.007222051, 0.010820808, -0.008240336, -0.023833586, -0.0025293536, 0.0014303015, 0.013928825, -0.0020692854, 0.005320435, 0.0014435922, -0.034417205, -0.008424363, -0.004396209, -0.01583453, 0.0057252953, -0.0025784275, -0.013372654, -0.034188192, 0.010346427, 0.031145606, 0.006894891, 0.00042939713, -0.018631747, 0.0069766813, -0.00503417, -0.010240099, -0.017110454, 0.010174667, -0.008416184, -0.016832368, 0.018108292, 0.038146824, 0.012382995, -0.011237937, 0.0016439776, -0.017977428, 0.004743816, 0.0047806217, -0.00032460378, 0.0074755996, 0.035104237, -0.0144522805, -0.016276196, -0.008743344, 0.018337302, 0.010150131, -0.019220633, -0.0037541578, 0.010706302, 0.010689944, 0.0137161715, 0.01372435, 0.009389484, -0.01486941, 0.0003787896, 0.0038932008, -0.012522039, 0.009945655, -0.01990767, -0.031554557, -0.009037787, 0.02250859, 0.013757067, -0.024258893, -0.013667097, -0.009962014, -0.024160746, -0.0016920292, -0.0044657304, 0.012693797, 0.0009993707, 0.01851724, -0.0031080174, -0.012546576, -0.00046313548, 0.03840855, -0.005954307, 0.021069087, 0.023915377, -0.009389484, 0.019433288, 0.005246824, 0.0027747233, -0.012759229, 0.015973574, -0.0014343909, 0.03389375, 0.007958161, 0.0071279923, 0.022034207, -0.020054892, -0.009602138, -0.009749359, 0.016930515, -0.014337775, -0.0014292791, 0.008702449, 0.012276669, -0.015720025, 0.013577129, -0.0018607209, -0.0216089, 0.008743344, 0.011237937, 0.0036110254, 0.009945655, -0.01194133, -0.029019067, -0.015875425, 0.02730148, -0.0052836295, -0.00666179, -0.009446737, -0.015082063, -0.018091934, -0.01827187, -0.014133301, -0.040665954, -0.020300262, 0.000197446, 0.0036866812, 0.02818481, 0.0050505283, 0.003306358, -0.030409496, -0.010338248, -0.00046006838, -0.004136526, -0.0006144469, -0.020202113, -0.007512405, -0.029935116, 0.006804922, 0.014534071, 0.006539105, -0.0016501119, -0.017453972, -0.007782312, 0.017928353, -0.012513859, -0.01990767, -0.018419093, 0.0015887694, 0.0022492232, -0.028250242, -0.0025375327, -0.0048746797, -0.014305059, -0.030311348, -0.037099913, -0.0044534616, 0.016186228, -0.026074631, -0.0076555377, 0.0012319608, 0.023539143, 6.952144e-05, 0.0015938813, -0.029918756, 0.024553338, -0.022688527, -0.025174942, -0.0025048167, 0.004169242, -0.06752577, -0.0007361094, 0.025731113, -0.011147968, 0.00819944, -0.004437104, 0.001965003, 0.022950254, -0.0030957488, 0.027317837, 0.0036212492, 0.02103637, 0.010330068, -0.013421727, 0.018288229, -0.054079503, 0.0071279923, -0.023015687, -0.009348589, -0.011434233, 0.0101092355, 0.031718135, 0.012121268, -0.026941603, -0.007684164, 0.00019284533, -0.04370854, 0.00592977, 0.0069807707, 0.004612952, -0.004132436, -0.013299043, 0.012178521, 0.026254568, 0.012423891, 0.007172977, -0.015899962, -0.026941603, 0.0017717744, 0.0009615429, -0.007815028, -0.0033411188, -0.0035394593, 0.014067869, 0.01868082, 0.028217526, -0.0014722188, -0.022115998, -0.027186973, -0.035529546, -0.0054799253, 0.0053735985, 0.006952144, 0.01307821, 0.009078682, -0.019711373, 0.0007560457, 0.012219416, 0.00012511303, -0.033206712, 0.009103219, -0.012178521, 0.033664737, 0.006330541, -0.005312256, 0.013495339, 0.019351497, 0.03778695, 0.006829459, -0.006363257, 0.01982588, -0.0047969795, -0.030605793, -0.006101529, 0.015090242, -0.02257402, 0.033991896, 0.016300734, 0.009234083, -0.016832368, 0.0071607083, -0.013168179, -0.011074357, -0.0048215166, -0.00958578, 0.009577601, 0.005663953, 0.011000746, -0.034580782, -0.014689472, -0.018860757, 0.004093586, 0.0028953636, 0.013994257, 0.00673949, -0.02640179, -0.008964176, 0.027432343, 0.00032307024, -0.017764773, -0.022492232, -0.009291336, -0.010935314, -0.014288701, -0.015401044, 0.011319727, 0.017830204, 0.00052396674, -0.009324052, 0.022835748, 0.01615351, 0.021347173, 0.0044207457, 0.008109472, -0.010297352, 0.028086662, -0.025174942, -0.008150367, 0.019776806, 0.0063796146, 0.016480671, 0.00966757, 0.016693326, 0.017208602, 0.019122487, 0.005111871, -0.033353936, 0.0131027475, -0.02671259, 0.012571112, 0.008759702, 0.0075860163, -0.0028687818, 0.008358931, 0.021461679, 0.013429907, 0.021576185, 0.012039478, 0.0153028965, 0.009962014, 0.0043348665, 0.004637489, -0.017552119, 0.011123431, 0.0077945804, -1.6349999e-05, 0.013462623, 0.011205221, -0.011646886, -0.020987296, -0.0024496084, 0.0376888, 0.021756122, -0.011254295, -0.012661082, -0.010894419, -0.009773897, -0.018500883, 0.0018167589, -0.0075982846, -0.0030037353, -0.007222051, -0.019204276, 0.0012380951, -0.0060238284, 0.0150575265, -0.0027501865, -0.019809522, -0.024160746, 0.004040423, -0.016014468, -0.01316, 0.015278359, 0.0046906527, -0.007205693, -0.013904288, -0.035627693, -0.0068908017, -0.0102319205, -0.009782076, -0.009847508, 0.0038400374, 0.014812157, 0.017682983, 0.017094096, -0.017617552, -0.0066413423, -0.0015315164, 0.017192245, 0.012603829, -0.009029608, -0.011107073, 0.014239627, -0.000688569, 0.0020058982, 0.0001300971, -0.006993039, 0.0027236047, -0.006862175, -0.007954071, 0.0018934369, -0.024995003, -0.003907514, -0.004208092, -0.015867246, -0.0037173524, 0.006809012, -0.0035394593, 0.00836711, -0.0018055127, -0.0154255815, -0.03451535, -0.0057375636, -0.0116387075, -0.000120065066, 0.0011471038, -0.006935786, -0.0025273089, 0.032208875, 0.0064532254, 0.009405842, -0.0007657582, -0.026025556, 0.0020590615, -0.0008199441, 0.0013065941, -0.029591598, -0.010493648, 0.008718806, 0.0073733623, 0.0013556681, 0.03330486, 0.006993039, 0.0026602175, 0.018778969, -0.013822499, 0.024635127, -0.022492232, -0.015720025, 0.01340537, 0.018549956, -0.0031611808, -0.00043246427, 0.009536706, 0.011589633, -0.0062610195, 0.008677912, 0.0074224365, -0.027432343, 0.0006998151, 0.0051854816, 0.0070870975, -0.009839329, 0.003833903, -0.012767408, -0.0064286888, -0.000664032, 0.005058707, -0.016848726, 0.014902125, -0.009405842, -0.03230702, 0.011254295, 0.014607682, 0.00011201387, 0.006751759, -0.00011111929, 0.016513387, -0.021788837, -0.0037950529, -0.012849199, 0.0039668116, -0.008080846, 0.03696905, 0.0003363611, 0.011115252, 0.0062487507, 0.012178521, 0.0010315755, 0.0016818055, -0.0038318583, 0.01185954, 0.0018504972, -0.01372435, 0.008416184, 0.0139615415, 0.0154255815, -0.008170814, -0.021739764, 0.011000746, -0.0033206712, -0.018648105, 0.008506153, -0.0050259912, 0.013544412, 0.0072997515, 0.019073412, 0.0030160036, -0.0020314574, -0.0017911996, 0.0062037664, 0.0026622622, -0.014763082, 0.015940858, -0.0038298136, 0.0027685892, -0.01551555, 0.018304586, -0.0068131015, 0.020398408, 0.0090705035, -0.0046088626, 0.0062569296, -4.5399804e-05, -0.024111671, -0.030033262, -0.01128701, -0.0011051864, 0.026336359, -0.011826824, -0.011949509, -0.012579291, -0.000562817, -0.012783767, 0.012055836, -0.016268017, 0.008587942, 0.001109276, 0.024815066, 0.0021347173, 0.007238409, 0.029264437, 0.0041406155, -0.00853069, -0.008686091, 0.025093151, 0.006596358, -0.0102319205, 0.026107347, 0.020725569, 0.0048746797, 0.0017758639, 0.019531436, -0.0033043132, 0.0047111, 0.0046415785, -0.007017576, 0.0027522312, 0.007839565, 0.025600249, 0.00095438625, 0.012145805, 0.008964176, 0.014411386, 0.0067640273, -0.0049442016, 0.009274978, -0.02542031, -0.0029260349, -0.012137626, -0.0014763082, -0.009880223, -0.01502481, -0.02128174, 0.014280522, -0.017257676, 0.0015621877, -0.009888403, -0.0028176631, 0.004727458, 0.0065922686, -0.0013485115, 0.0008623726, 0.0067149536, 0.004948291, 0.031472765, -0.0041487943, -0.020758284, 0.0004150839, -0.014975737, -0.006306004, -0.00015182256, 0.03004962, -7.0096525e-05, 0.0070666503, -0.0046906527, 0.02932987, -0.011074357, -0.00052319997, 0.016914157, 0.0064532254, -0.018141007, 0.0029219454, 0.01787928, 0.004989186, 0.0016521566, -0.026009198, 0.0014108763, 0.021101803, -0.0019486451, 0.012276669, 0.015916321, -0.013233611, -0.007892729, 0.020970939, 0.0043512243, 0.01851724, -0.0066004475, -0.011671423, -0.023097476, -0.013110926, 0.00072946394, -0.0070093973, -0.013225432, -0.009209546, 0.015253822, -0.0135934865, 0.001169596, -0.013675276, 0.013004599, 0.009348589, -0.012816482, 0.008596122, 0.018991623, -0.002494593, -0.010984388, 0.0146322185, -0.004144705, -0.010616333, 0.030327708, 0.007949981, -0.007050292, -0.0067803855, -0.019596867, 0.010673586, 0.025845619, 0.0098066125, -0.010182846, 0.019302424, 0.009896582, -0.02615642, -0.011426053, -0.010305531, -0.013274506, 0.0045965943, -0.017077738, -0.007978608, -0.0036887259, -0.0011358577, 0.0057948167, -0.014689472, -0.00042837477, -0.00357422, -3.904191e-05, 0.0045761466, 0.0071688876, -0.013675276, 0.0022308205, -0.01316, -0.0021388067, -0.003647831, 0.0046170414, 0.0034269982, -0.0115160225, -0.002989422, -0.010902598, -0.028626475, 0.02769407, 0.026843455, 0.026009198, -0.007884549, -0.014640397, -0.032437887, 0.020332977, -0.013258148, -0.009700286, 0.0062037664, 0.013282685, -0.008579764, -0.001084739, 0.016218944, -0.004165152, 0.0036785023, 0.012579291, 0.010133772, 0.033926465, -0.005954307, -0.022786675, -0.028364748, 0.0021408515, 0.0017492821, 0.010575438, 0.005475836, 0.012734693, -0.03631473, -0.020660136, 0.012546576, 0.009847508, 0.008628838, 0.00035323028, -0.037656084, -0.00092269265, 0.021232666, 0.008759702, 0.023293773, 0.024062598, 0.0038114109, 0.013920646, 0.011736855, 0.012415712, 0.019057054, 0.0025313983, -0.006052455, -0.010256457, -0.006829459, -0.0139615415, -0.015073884, 0.008358931, 0.010534544, -0.004760174, -0.0021490306, -0.03889929, -0.0036662337, -0.002989422, -0.0051077814, -0.008084935, 0.0004398765, 0.03834312, -0.019547794, 0.00520184, -0.0024168924, 0.0095612435, 0.0014824425, -0.009144114, 0.039520893, 0.013552592, 0.006702685, 0.030196844, -0.01819008, 0.011794108, 0.002363729, 0.0025416221, 0.006310093, 0.004776532, -0.0132908635, -0.017503045, 0.0007258856, -0.02420982, -0.0026193226, 0.020529272, -0.018173723, -0.0022921627, -0.006829459, 0.009037787, 0.00054390304, 0.032028936, 0.0045965943, 0.020987296, -0.019024339, 0.011466948, 0.018975263, -0.0088905655, -0.006273288, 0.011017104, -0.014198733, 0.0037337104, -0.010133772, -0.023751795, -0.0050627966, 0.019236991, 0.01584271, -0.00093956187, 0.03258511, -0.0024475637, 0.011156146, -0.003768471, 0.015106601, 0.0016184183, 0.019057054, -0.01908977, 0.03161999, 0.0006486964, -0.011066178, -0.003306358, 0.008555227, -0.0159245, -0.0033165817, 0.005745743, 0.010199204, 0.046522114, -0.0030814356, -0.0096839275, 0.015556445, -0.006097439, -0.009651212, -0.016439777, -0.025616607, -0.015122958, -0.0060729026, 0.021510752, -0.020676496, -0.0037746055, 0.010649049, -0.019024339, -0.0094385585, -0.008563406, -0.0011869764, -0.009324052, 0.016881442, 0.024782348, -0.0033002237, -0.011107073, -0.0307203, -0.010444574, 0.019596867, -0.027268764, -0.010673586, 0.0138388565, 0.013634382, 0.020251187, -0.016554283, -0.0048705903, -0.0019854505, -0.021903343, -0.018811684, 0.006375525, 0.012775587, 0.00029469933, 0.0026602175, 0.005811175, 0.017748415, -0.013233611, -0.012113089, -0.019793164, 0.009242263, 0.008563406, 0.020480199, 0.009356768, 0.007675985, 0.014501355, 0.006514568, 0.01210491, 0.004625221, 0.026663518, 0.0017503046, 0.006019739, 0.0069316966, 0.00011514489, -0.019564152, -0.0090705035, 0.005021902, 0.017552119, 0.010518185, -0.0077414173, -0.003917738, -0.0059175016, 0.020202113, 0.0012084462, -0.0022042387, 0.004915575, 0.000879753, -0.003590578, 0.022475874, -0.03389375, -0.011908614, 0.0094222, 0.00061955873, 0.013454444, -0.026745308, -0.017601194, -0.006604537, -0.017192245, 0.0015734339, 0.009790255, 0.0013413549, -0.011491486, -0.01535197, 0.01437867, 0.014255985, -0.0011573276, 0.0028728715, -0.019400572, 0.011336084, -0.00820353, 0.00714844, -0.0010121504, 0.019776806, -0.012767408, 0.0019639807, -0.023113836, 0.009021429, 0.00044447716, -0.024880497, 0.004379851, 0.0032266127, 0.011835003, 0.014223269, 0.022246862, 0.014239627, 0.009005072, -0.009307695, -0.016128974, -0.0017584836, -0.00088690955, -0.015580982, -0.01639888, -0.014174195, 0.014419565, -0.0017298571, -0.028299317, 0.00065943133, -0.0016357986, -0.0026275015, 0.0071116346, -0.005434941, 0.017045021, 0.0041385707, 0.017584836, 0.002754276, 0.013225432, -0.020741927, -0.0021735674, 0.00576619, -0.009037787, 0.0024577875, -0.02136353, -0.006481852, 0.0026622622, -0.011655065, 0.010681765, 0.001770752, -0.001363847, -0.0046006837, -0.008457079, -0.0085225105, 0.017552119, -0.004338956, 0.01819008, 0.020038534, -0.0042367186, -0.013045494, -0.0020396365, -0.0019793164, 0.018108292, -0.023571858, -0.03592214, 0.021085445, 0.0071934243, -0.0049401117, -0.0039668116, 0.008882387, -0.00349243, 0.016799651, -0.002680665, -0.023735438, 0.024553338, 0.018108292, -0.013168179, 0.035365965, 0.02396445, -0.01575274, 0.0141414795, 0.020038534, 0.017846564, 0.0023944003, -0.007172977, -0.011556918, -0.0072833933, 0.009144114, 0.00414266, 0.0001542507, 0.0080031445, -0.012153984, -0.023653649, 0.00885785, -0.012571112, 0.018811684, 0.0010499782, -0.009765718, -0.011303369, -0.005103692, -0.0068212803, -0.01640706, -0.002883095, -0.009463095, -0.010510006, -0.011916793, -0.0035844438, 0.0121294465, 0.004150839, 0.0038932008, -0.010534544, -0.016120795, -0.018337302, 0.028937278, -0.025207657, -0.010837166, 0.013691635, -0.012145805, 0.01989131, 0.003915693, -0.0063673463, 0.019645942, 0.004527073, -0.02695796, 0.021936059, 0.019924028, 0.0032879552, 0.025534816, -0.043021504, -0.010125593, -0.023817228, 0.0062773773, -0.014640397, 0.012211237, -0.016521566, -0.0007718925, 0.020054892, -0.012652903, 0.0020058982, -0.01989131, -0.024635127, 0.022982972, 0.021347173, -0.0066331634, -0.017453972, 0.0017257675, 0.0026704413, -0.0023944003, -0.012399354, 0.016456135, 0.015899962, -0.007005308, 0.011164325, 0.028397465, 0.017372182, 0.013732529, 0.0112133995, 0.018108292, -0.0004869057, -0.002218552, 0.012203058, 0.021788837, 0.01714317, 0.015646415, -0.010444574, 0.00051323185, 0.03256875, -0.011098893, 0.011499665, -0.011123431, -0.0047233687, 0.008972355, 0.009708465, -0.02883913, -0.016627893, -0.023588216, -0.0006486964, 0.0024148477, 0.01861539, 0.025714755, 0.0037868738, -0.013110926, -0.020758284, 0.0032511498, 0.004931933, 0.020643778, 0.010518185, -0.002688844, -0.0072016036, -0.020300262, -0.012971884, -0.003013959, -0.0064368676, 8.971333e-05, -0.008506153, -0.0033002237, -0.019302424, -0.0045188935, 0.0044207457, -0.0054635676, 0.0006277377, -0.012808303, -0.010632691, -0.008330304, 0.005790727, -0.014370491, -0.00034581806, -3.6102588e-06, 0.012620186, -0.011736855, 0.006187408, -0.006874444, -0.003923872, -0.0056475946, -0.014812157, 0.0037562025, 0.0010361762, 0.015818173, 0.020398408, -0.006440957, 0.01259565, -0.0066454317, -0.02031662, -0.02404624, 0.0015499193, 0.0001541229, 0.018778969, -0.0009635876, 0.014812157, -0.001153238, 0.00019501787, -0.0068335487, -0.017911995, -0.016202586, -0.022377726, 0.032274306, 0.029542523, 0.0022982971, 0.014419565, 0.010240099, 0.023588216, 0.015564624, -0.010387321, -0.00107656, 0.0013311311, 0.0054799253, 0.008743344, 0.0017554164, -0.0028708265, -0.00036575436, -0.0066086263, 0.008432542, 0.00019667923, -0.0039688563, -0.031587273, 0.017764773, 0.023849944, -0.0001030042, -0.02632, 0.026041914, 0.019138845, 0.012121268, -0.014403207, -0.01576092, -0.002060084, 0.00036038688, -0.009921119, -0.01706138, 0.01769934, -0.008264872, -0.008604301, 0.0024475637, 0.00022888402, 0.0048460537, 0.011327906, 0.0062937355, 0.0010510007, -0.009618496, -0.017094096, 0.01989131, 0.003842082, -0.0052509136, -0.004359403, 0.006555463, 0.0071320822, -0.0060483655, 0.010460932, 0.0177157, 0.0031673152, 0.0028422002, 0.010894419, 0.003153002, 0.024962287, 0.0076064635, -0.0047560846, 0.017290391, -0.01226849, 0.012652903, -0.0073529147, 0.00016038494, -0.0056148786, -0.00025661592, 0.013937004, 0.0005689512, -0.026843455, -0.010092878, -0.017911995, -0.013356295, -0.026254568, 0.011385159, 0.025976483, 0.011753214, 0.025027718, 0.0051077814, 0.0017308794, 0.003598757, 0.0020856434, -0.02080736, 0.013495339, 0.0040710936, -0.009708465, -0.016366165, 0.00070288224, -0.015253822, -0.009274978, 0.012407533, 0.010444574, 0.010542722, 0.0046006837, 0.0031938967, -0.0040056617, -0.009168651, 0.005643505, -0.0009533639, -0.018091934, -0.00885785, 0.0029771535, -0.0023085207, -0.021265382, -0.014844873, 0.02671259, -0.002510951, 0.00066096487, 0.0123093845, -0.004416656, -0.0011051864, 0.0042367186, -0.0035660411, -0.013282685, 0.006702685, -0.007491958, 0.0058029955, -0.0029342137, 0.00014965002, 0.0045761466, 0.024929572, -0.0029055874, 0.002314655, 0.0015080018, -0.01503299, 0.014247806, -0.000664032, 0.009528527, -0.026761666, 0.015384686, -0.0021776569, -0.001251386, -0.013691635, -0.009904761, 0.0052059293, -0.015139316, 0.013699814, 0.0075328527, -0.028691908, 0.027661355, 0.0148775885, -0.0077291485, -0.036674604, 0.010730839, -0.010182846, -0.035954855, 0.00018402735, -0.0003317604, 0.0041242572, -0.002169478, -0.020480199, -0.011753214, 0.0040588253, -0.000115656076, -0.0076555377, 0.015908143, -0.01615351, 8.351519e-05, -0.0010080609, 0.005721206, -0.014583145, -0.00038517945, -0.0047070105, 0.00044038767, 0.0024516531, -0.025387594, 0.017830204, -0.010092878, -0.023293773, 0.025829261, 0.0037930082, 0.010027446, 0.008338484, -0.014010616, 0.010820808, 0.022835748, 0.025158582, 0.0061546923, 0.004825606, -0.002932169, 0.0090132505, -0.03168542, 0.016693326, -0.008538869, -0.01714317, 0.0047070105, 0.015376507, -0.00020127991, 0.01462404, -0.005954307, -0.00039003574, 0.0013587353, 0.0015018677, -0.021167234, 0.0013372654, -0.011082536, 0.012865556, 0.008052219, -0.013683456, 0.004735637, 0.010248278, -0.001368959, 0.011892256, 0.009659391, 0.01226031, 0.004293971, -0.019793164, 0.00820353, -0.017175885, -0.02412803, 0.017028663, 0.0055453572, -0.0088905655, 0.0017288347, 0.015899962, -0.0004158507, -0.022214146, -0.013855214, -0.0051732133, 0.013577129, 0.008825134, -0.031979863, -0.0044739093, -0.020594705, 0.0020345245, -0.009029608, 0.02892092, 0.015605519, 0.0028156184, 0.0010310643, 0.0032797763, -0.006935786, -0.013339938, -0.025616607, 0.008334394, 0.0041078995, -0.02404624, 0.013061852, 0.018549956, 0.01462404, -0.021150876, 0.0056271474, -0.009675749, -0.017519403, -0.026778024, -0.008183083, 0.008334394, -0.013699814, -0.0026459042, -0.003046675, 0.0050627966, -0.0033492977, 0.025567533, -4.2875818e-05, -0.012914631, -0.018451808, -0.0012830795, -0.0011583499, -0.0052181976, -0.016930515, -0.008776059, -0.008915102, -0.00804404, -0.0063591674, 0.023408279, -0.018222798, -0.015229286, 0.0018004009, -0.022737602, 0.021985134, -0.004126302, 0.0037930082, -0.00090326753, 0.006563642, -0.0076718954, 0.0013894065, -0.015016631, 0.010583617, 0.024913212, 8.2045524e-05, -0.005418583, 0.016848726, -0.0033022685, 0.0026683966, 0.012734693, -0.003054854, -0.013135463, 0.016848726, 0.0045761466, 0.00520184, 0.0063387197, 0.007864102, 0.014288701, 0.012652903, -0.009299515, 0.0030814356, 0.0271379, 0.008064487, 0.0039116037, 0.01210491, -0.0023269237, 0.0037091733, 0.004019975, 0.018713536, 0.021919701, -0.00096000935, -0.012178521, -0.0024189372, 0.021723406, -0.0025804723, 0.009962014, -0.020643778, 0.02234501, -0.0042121815, -0.024602411, -0.0045516095, 0.019809522, -0.018697178, 0.01177775, -0.009716644, -0.0056516845, -0.013552592, 0.023490068, 0.004915575, -0.016930515, 0.0056598634, -0.014067869, 0.005222287, -0.014133301, -0.011368801, -0.0012299161, 0.015253822, 0.0332885, 0.0090132505, -0.004809248, -0.01324179, 0.017846564, -0.036609173, -0.03137462, -0.008702449, -0.009634854, 0.008653374, -0.007933623, 0.0033656557, 0.010485469, 0.028479254, 0.009634854, 0.010460932, 0.032961342, 0.010624512, -0.0070012184, -0.0072424985, 0.008322125, -0.015891783, -0.012423891, 0.0015857023, -0.016914157, 0.0069112494, 0.009201367, 0.00446982, -0.011736855, -0.012775587, 0.005377688, -0.0013955407, 0.016709683, 0.008093114, -0.021003654, 0.008702449, 0.0068458174, -3.7093014e-05, -0.01575274, 0.0005536156, 0.021167234, 0.0048215166, -0.014812157, 0.0014548384, -0.013184537, 0.026908888, 0.009520348, -0.034678932, 0.00788046, -0.0030098695, 0.0073856306, 0.010747197, 0.006187408, -0.0046661156, 0.005721206, -0.009045967, 0.00044089885, 0.02867555, -0.0115160225, -0.007246588, -0.020005817, -0.0023616843, -0.010616333, 0.013372654, 0.009863866, 0.004281703, 0.025731113, -0.031963505, -0.016202586, -0.005103692, -0.0048296954, 0.014689472, -0.017601194, 0.0007396877, 0.0011961778, -0.007933623, 0.02494593, -0.011041641, 0.00130046, -0.0078518335, -0.0177157, 0.0073529147, 0.0058152643, 0.002241044, -0.0007284416, 0.008178993, 0.020054892, -0.0058929645, -0.019956743, -0.022541305, 0.0030650776, -0.015221106, 0.0041140337, 0.018075574, 0.011843182, -0.0159245, 0.0018750342, 0.021723406, 0.0053081666, 0.0029873773, -0.009291336, 0.018141007, 0.005410404, -0.010796271, -0.031767208, -0.009839329, 0.020496557, 0.006669969, 0.00015233374, -0.0026643071, 0.016832368, 0.00617514, 0.0017523493, 0.02226322, 0.010927135, 0.0020907552, 0.013209074, -0.006220124, -0.01137698, -0.01511478, 0.0056189685, -4.182149e-05, -0.029869683, -0.0071361717, -0.0042530764, 0.007467421, 0.00057099597, -0.0063714357, 0.012636544, 0.0009416066, -0.01599811, -0.008232157, 0.0077741332, 0.0100519825, -0.00820353, 0.0024721008, -0.0003562974, -0.01177775, -0.015409223, 0.014983916, 0.013200895, -0.03258511, 0.0004547009, 0.006829459, -0.0032061653, -0.013119105, -0.00909504, -0.023620931, -0.00576619, -0.005103692, 0.014231448, -0.012816482, 0.008808776, -0.004165152, -0.02591105, -0.011344263, 0.0989331, -0.019515079, 0.011197042, 0.043675825, 0.018419093, -0.0070952764, -0.016390702, 0.017895637, -0.0032859105, 0.008506153, 0.0045965943, -0.008538869, 1.9313287e-05, 0.002502772, -0.00771688, 0.027497776, 0.0015938813, -0.0062896456, -0.009733002, 0.0008317014, 0.002014077, -0.012513859, -0.005255003, -0.03939003, 0.0023105657, 0.0037766502, -0.018157365, -0.0014711964, -0.01185954, 0.029477092, -0.0017901771, 0.0060565444, 0.0031509572, 0.009266799, -0.0039443197, 0.00026760643, -0.0050750654, 0.0047233687, -0.0070134867, -0.0030487196, -0.013315401, 0.018533599, -0.008117651, 0.0023432816, -0.009634854, -0.013986078, 0.012317563, 0.035725843, 0.017764773, 0.020022176, 0.009479453, 0.011933151, 0.014133301, 0.02470056, -0.009111399, -0.010714481, 0.003103928, -0.00454752, -0.013438086, 0.019302424, 0.0016715818, -0.011974046, 0.0015069795, -0.018631747, 0.009970193, -0.01502481, -0.004637489, 0.0068539963, 0.006003381, 0.025698397, -0.016415238, -0.0040056617, -0.007614643, -0.0035660411, -0.0012421845, -0.017028663, -0.010755376, 0.017372182, -0.0028974083, -0.009634854, 0.005663953, -0.021821553, 0.0073161093, -0.0023453264, 0.018713536, -0.005962486, 0.065857254, 0.014566787, 0.010321889, 0.015711846, -0.011409695, 0.0103546055, -0.009855687, 0.019400572, 0.019400572, -0.02177248, -0.0007033934, -0.00966757, 0.021739764, -0.0062773773, -0.012579291, 0.01812465, -0.0039852145, 0.00950399, -0.026598087, 0.0055453572, -0.0090132505, 0.015016631, 0.022001492, -0.01543376, 0.016930515, 0.013045494, -0.0010775824, -0.007483779, -0.019220633, -0.027285121, -0.01518839, 0.01462404, -0.0066004475, -0.00682537, 0.027186973, 0.004580236, -0.016881442, 0.043086935, 0.008178993, 0.012088552, -0.0065840897, -0.006522747, 0.02013668, 0.014403207, -0.0070707398, 0.0026663519, 0.008841491, 0.008375289, 0.0038093661, -0.03412276, -9.2205366e-05, 0.010084699, -0.028610118, 0.0028176631, 0.00034300654, 0.0066822376, -0.0112133995, 0.00074071006, -0.012562933, -0.012865556, -0.018239155, 0.01706138, -0.006187408, -0.009888403, -0.0362493, -0.0032286576, 0.0026827098, 0.013495339, -0.020692853, 0.01648885, 0.016431598, 0.0018188036, -0.0012820571, 0.01714317, -0.011033461, 0.017895637, 0.0010223741, -0.0041794656, -0.014918484, 0.015630055, 0.009291336, 0.0029239901, -0.04151657, -0.030098695, 0.021985134, 0.0026131882, 0.011957688, -0.018549956, -0.018631747, -0.021559825, -0.019367855, 0.008882387, 0.02883913, -0.019760447, -0.007545121, -0.00051553216, 0.027759504, -0.0010857614, -0.01861539, 0.011589633, -0.016096259, -0.006318272, -0.012211237, -0.012342101, -0.0054799253, -0.0039054693, 0.00086492853, -0.0052181976, 0.009953835, -0.0034310876, 0.017175885, -0.009086861, -0.013438086, 0.006719043, 0.019629583, -0.0075655687, -0.006195587, -0.028413823, -0.008735165, 0.0015529863, -0.024749633, -0.0034883406, -0.0011031417, -0.024635127, 0.011990404, -0.0017666626, 0.009078682, -0.01747033, 0.0075860163, -0.0038318583, 0.00070697174, -0.0038073214, -0.015499192, -0.0081258295, 0.033828314, 0.025469385, 0.0006875466, 0.0013331759, 0.00592977, 0.014255985, 0.013446265, 0.023146551, 0.0013904289, 0.0018883251, 0.019989459, -0.0026847546, -0.0037050839, 0.0122521315, -0.009397663, -0.009544885, -0.0094222, 0.02111816, -0.009634854, 0.029755177, 0.0019997638, 0.0006129133, -0.0014548384, 0.026058272, -0.011311548, -0.016505208, -0.000387991, 0.009127757, 0.024651485, 0.011695961, 0.002948527, -0.01989131, 0.0069562336, 0.00060729025, 0.01006834, 0.008440721, 0.020054892, -0.0150002735, -0.006694506, 0.0058929645, -0.0027236047, 0.0021510753, 0.005304077, 0.005344972, -0.002981243, -0.0028974083, -0.0062610195, -0.0024373399, -0.004003617, 0.0081544565, 0.004981007, -0.006440957, 0.0033002237, -0.010493648, 0.0011634618, -0.0118186455, 0.011499665, 0.012276669, -0.0007642247, 0.020022176, -0.015376507, -0.0041303914, 0.001109276, 0.0014241672, 0.016071722, 0.014247806, -0.020218471, 0.019286066, 0.0053490615, 0.0032511498], index=0, object='embedding')]"
      ]
     },
     "execution_count": 9,
     "metadata": {},
     "output_type": "execute_result"
    }
   ],
   "source": [
    "from assistent.inference import OpenaiEmbeddings\n",
    "import os\n",
    "from utils import load_config, DIR\n",
    "config = load_config(f'{DIR}/config.json')\n",
    "embeddings = OpenaiEmbeddings(api_key=os.environ['OPENAI_TOKEN'], base_url=config['base_url'], model=config['embeddings'])\n",
    "embeddings.encode('hi')"
   ]
  },
  {
   "cell_type": "code",
   "execution_count": 8,
   "metadata": {},
   "outputs": [
    {
     "data": {
      "text/plain": [
       "CreateEmbeddingResponse(data=[Embedding(embedding=[-0.010992265, 0.0027546093, -0.0057185953, -0.008060995, 0.0006436691, 0.010560427, -0.011234357, -0.056165244, -0.010501539, 0.03946747, -0.0047600437, 0.009192936, -0.061766066, 0.07291536, -0.0010280713, -0.0033140373, -0.01228124, -0.012333584, -0.03643151, 0.003035959, -0.02189293, -0.015153623, 0.058363695, -0.016239764, 0.06134731, -0.024497049, -0.012516788, 0.024353104, 0.037426047, 0.015323741, -0.015572377, 0.016737033, 0.038917854, -0.004387092, -0.024575565, 0.02037495, 0.019301895, -0.011404475, 0.06537781, 0.032453354, -0.052291777, 0.003467798, 0.014682527, -0.01981225, -0.032715075, -0.057840254, 0.0075898976, 0.0053979876, -0.041979987, -0.009127506, 0.0129748, -0.015075107, 0.031720538, 0.013962795, -0.009984641, 0.01961596, -0.029495914, -0.014499322, -0.013321579, -0.032872107, -0.01000427, -0.03972919, 0.004910533, -0.008532092, 0.023083758, 0.022036875, 0.009487372, 0.05689806, -0.011208185, 0.006356539, 0.032034602, -0.015729409, -0.026564643, 0.004616097, 0.038472928, 0.009605146, 0.027218943, -0.027742384, 0.0059443293, 0.0050086784, 0.034835014, -0.0026319278, -0.029050987, -0.0055255764, 0.0133739235, -0.0037884058, -0.038263552, -0.092596754, -0.03480884, 0.038813166, 0.015114365, -0.004007597, -0.011450277, -0.010036985, 0.02729746, 0.015088193, 0.0073478064, -0.011705454, -0.025687877, -0.0023898364, -0.033866648, -0.0561129, -0.011738169, -0.035777207, 0.018608335, 0.0090947915, -0.011875573, -0.0342854, -0.014525494, -0.082389645, 0.0066869617, -0.0014018411, -0.04480657, 0.014878817, 0.0050708367, 0.0034318115, -0.0045277667, -0.042503428, -0.018870056, -0.020361863, -0.023005242, -0.040933102, 0.0016979125, -0.018595248, 0.056165244, -0.012699992, -0.016828636, -0.029260363, -0.004213702, -0.01879154, -0.0026384708, 0.012523332, -0.03643151, 0.011162384, 0.017338991, 0.008905044, -0.011947546, 0.001720813, 0.03507056, 0.010638943, 0.011391389, -0.004596468, 0.0074917525, 0.0047306, 0.004351105, 0.02512518, -0.012549504, -0.035646345, 0.0027022653, 0.0013846656, -0.037138153, -0.02673476, -0.05268436, 0.0066673327, 0.015088193, 0.0177054, -0.001195736, 0.033997506, -0.044283126, 0.029024815, -0.055170704, -0.026878707, -0.020989994, -0.007727301, 0.01885697, 0.012699992, -0.010867949, -0.024994317, -0.01542843, 0.0254785, 0.003647731, 0.023136102, -0.010593141, -0.023293134, -0.046847988, 0.016959496, 0.026263664, 0.043000698, 0.027977934, -0.0007328177, -0.0017764287, 0.037373703, 0.011620395, 0.014067483, -0.038786996, -0.014080569, 0.008819984, -0.014224515, 0.021670466, 0.022102306, -0.030883033, -0.031406473, -0.017365163, -0.043576483, -0.0354108, 0.040174115, 0.010985723, 0.012870111, -0.0278209, 0.029548258, 0.030281074, 0.0016979125, 0.010324878, -0.0019530901, -0.0008252378, 0.02469334, 0.0019203749, -0.0040566693, 0.009016275, -0.00585927, 0.03352641, -0.015663978, -0.02235094, 0.0047862157, -0.030307246, 0.010540797, -0.009932297, 0.03580338, 0.01796712, 0.0155462045, 0.009042447, 0.011941003, 0.0074590375, 0.030961549, -0.025007404, -0.030699827, 0.0021444731, -0.059201203, -0.04344562, 0.036588542, -0.022429457, -0.01898783, -0.03975536, -0.05689806, -0.033107657, -0.009578974, 0.013072944, -0.028004106, -0.064435616, -0.020087058, -0.03213929, 0.06281295, -0.03619596, -0.0112278145, 0.012405557, 0.019890767, -0.01364873, -0.013661816, -0.023057586, -0.034573294, -0.031013893, -0.032950625, 0.030516623, 0.014093655, 0.01796712, 0.044963602, 0.006539744, -0.006013031, 0.0059377863, 0.0278209, 0.0088527, -0.04826128, -0.024706425, 0.02284821, -0.0018124152, -0.009448114, -0.004167901, -0.029548258, 0.029181847, -3.0465915e-05, -0.012137293, -0.010148217, -0.003984696, -0.005980316, -0.022651918, -0.012019519, 0.024353104, 0.0051918826, 0.031197097, 0.001488536, 0.051689822, -0.020231003, 0.011096954, -0.009533173, 0.01267382, 0.02139566, 0.0075898976, -0.022049962, 0.010959551, 0.032060776, -0.042241707, -0.0013895729, -0.017927863, -0.0056237215, -0.023685716, -0.0070206556, 0.028658407, 0.014878817, -0.031537335, 0.013282321, 0.010089329, -0.029469742, 0.042503428, -0.030961549, 0.015454602, -0.008577893, -0.027114255, 0.0055517484, -0.015219053, -0.009965012, 0.0058167404, 0.03616979, 0.05153279, 0.002224625, -0.037242845, -0.003209349, -0.01757454, -0.026446868, 0.00848629, -0.015454602, -0.016017301, 0.019563615, -0.015441516, -0.046533924, 0.0028592977, 0.01809798, 0.0074852095, -0.00436092, 0.019393498, 0.035489313, 0.014970419, -0.011842858, 0.04750229, 0.04446633, -0.012497159, -0.018045636, -0.016723948, 0.023345478, 0.005103552, -0.028867783, -0.01697258, 0.028004106, 0.003912723, 0.01199989, 0.0071188007, 0.031694368, 0.017260475, -0.025295297, 0.0014083841, 0.0026106632, 0.00056229037, 0.03240101, 0.016148161, 0.030385762, 0.020178659, -0.025766395, -0.027716212, -0.015480774, 0.0032862294, 0.02871075, 0.019275723, -0.007864704, -0.03965067, -0.013439354, 0.010704373, -0.0007544914, 0.009251824, 0.01994311, -0.016514571, 0.00076635065, 3.948812e-05, -0.0023276778, -0.027061911, -0.023646457, 4.0740495e-05, -0.032845937, 0.010782889, 0.0043020328, 0.04687416, 0.025452329, 0.037426047, -0.04569642, -0.011273615, 0.0055026757, 0.0070206556, -0.01790169, 0.010815605, -0.03289828, -0.011535336, -0.026446868, -0.035358455, 0.00872184, -0.022691177, 0.0055975495, 0.031040065, -0.030961549, 0.05956761, 0.019171035, 0.0075440966, -0.049203474, -0.021251714, 0.06485437, 0.0048058447, 0.003062131, 0.049203474, 0.008394688, 0.007321634, 0.0076160696, 0.0037000752, -0.0021690095, -0.02792559, -0.00939577, 0.018713024, -0.010769803, -0.00401414, 0.00330913, 0.026878707, 0.003376196, -0.009906125, -0.005999945, 0.010540797, 0.0071384297, 0.008322716, -0.005090466, -0.0030850316, 0.028606063, 0.023567941, 0.012850482, -0.014132913, -0.014159085, -0.0313803, 0.025321469, 0.004511409, -0.00835543, -0.013962795, -0.04111631, -0.022298597, -0.0033860104, 0.028867783, 0.0013773047, 0.006134077, -0.0074852095, 0.032427184, -0.028920127, -0.021618122, -0.016409881, -0.011306331, 0.02399978, -0.0029279992, -0.02076753, 0.0048745465, 0.012523332, -0.01684172, -0.02581874, 0.010553883, -0.0037818628, -0.036274478, 0.048235107, -0.011188556, -0.013936622, 0.007714215, 0.028553719, 0.0019416398, -0.0171427, 0.031301785, -0.016985668, -0.016697776, 0.031799056, 0.018817712, 0.023227705, -0.00088085345, 0.03836824, -0.030124042, -0.035620175, -0.047319088, 0.02920802, -0.016959496, 0.020741358, -0.014185257, 0.0067065908, 0.009912668, 0.03999091, 0.038996372, 0.009886496, -0.0071711447, 0.011561508, 0.014106741, -0.042372566, 0.0144077195, 0.027533008, 0.02063667, -0.031197097, 0.0006996937, 0.009794894, -0.003454712, -0.006477585, 0.030699827, -0.015376085, -0.026590815, -0.012699992, -0.011077325, -0.0026041202, -0.019066347, 0.011685825, -0.008237656, 0.042817492, 0.030568967, -0.018255012, -0.015349913, 0.001967812, 0.049098786, 0.018307356, -0.004648812, 0.013622558, -0.008361974, 0.0106454855, 0.0011368489, 0.011613852, 0.013229976, 0.0076356987, 0.009722921, -0.01447315, -0.003237157, 0.0052049686, 0.03834207, 0.0017420778, 0.035541657, -0.015677065, 0.03148499, -0.019445842, 0.004059941, -0.00898356, -0.009206022, -0.0054732324, 0.0038178493, 0.02857989, -0.021788241, 0.021290971, 0.0124121, 0.020780617, 0.0017518924, -0.00076267024, -0.010920293, 0.0325057, 0.012241982, -0.0074066934, 0.025426157, -0.01453858, -0.023921264, -0.030935377, 0.006094819, -0.01351787, 0.014891903, 0.03870848, 0.00046946135, -0.0028347613, -0.026015028, 0.036038928, -0.028841611, -0.01247753, -0.016462227, 0.004616097, -0.030150214, -0.027114255, 0.014368461, 0.0010387037, -0.012641106, -0.0030604955, 0.0029754362, -0.00850592, 0.019629046, 0.020388035, 0.016422968, 0.014145999, 0.0035234138, 0.02690488, 0.006300924, 0.0070991716, -0.006745849, -0.027637696, 0.0154938605, -0.03747839, -0.006863623, -0.018582163, 0.016422968, 0.012569132, -0.004151543, 0.03402368, -0.032296322, 0.017744657, -0.00644487, -0.002312956, 0.031118581, 0.020453466, -0.07883025, 0.039781533, 0.024863457, 0.020152487, -0.004975963, -0.013249606, -0.027375976, -0.022756606, 0.0029738005, 0.003965067, 0.00672622, 0.022625746, -0.0023489424, -0.011705454, -0.015009677, -0.016030388, -0.044413988, -0.0026302922, -0.04799956, 0.002458538, 0.025360728, -0.034102194, 0.032191634, -0.019720647, 0.0055452054, 0.016920237, -0.0026940866, -0.023123017, 0.013118746, -0.023620285, -0.02406521, -0.018111067, -0.0076291556, -0.018333528, 0.0027726027, -0.020492723, -0.020126315, -0.02172281, -0.030699827, -0.049439024, -0.009487372, 0.0047273287, 0.00048459208, -0.009951926, 0.0023685715, 0.042372566, 0.022939812, -0.0036313734, -0.02284821, -0.0012693449, -0.0155331185, 0.0054830466, -0.0050577507, 0.0085386345, 0.03368344, 0.01618742, 0.013099116, 0.009101334, 0.025413072, -0.017875517, 0.012202724, -0.0096247755, 0.014460064, -0.013066402, -0.01269345, 0.010370679, 0.026630072, -0.0259496, 0.011123126, -0.023070673, 0.0033598384, 0.009160222, 0.009088248, 0.011463363, -0.006359811, 0.007282376, -0.007851618, 0.016409881, -5.7046913e-05, 0.0159257, 0.03122327, 0.0112670725, -0.006304195, 0.013138374, -0.009153678, 0.014564752, 0.011626938, 0.0004796848, -0.00024761225, -0.032270152, 0.026459953, 0.027663868, -0.030385762, -0.009847238, 0.014826473, -0.004930162, -0.00023432173, -0.008303086, 0.010874491, 0.006598631, -0.013570214, -0.043340933, 0.017090356, 0.015598549, 0.023567941, -0.013727246, -0.022403285, -0.03823738, 0.011247443, 1.5015709e-06, 0.026931051, 0.019969283, 0.01605656, -0.017940948, 0.018739196, -0.021408746, 0.010305249, -0.012012976, 0.024915801, 0.033892818, -0.01661926, 0.006065375, 0.018673766, 0.031144753, -0.028422859, 0.002864205, 0.008479748, 2.3194478e-05, -0.0019285538, -0.03465181, 0.046533924, -0.0022818765, 0.010305249, 0.0017829717, 0.01165311, -0.015101279, 0.030019354, 0.0010738724, -0.021147026, -0.020558154, -0.015140537, 0.023515597, -0.010724002, -0.004504866, 0.0020152486, 0.00870221, 0.017181959, 5.6637975e-05, 0.02608046, -0.035646345, 0.00933034, 0.022730434, -0.0038963656, 0.030725999, -0.020178659, 0.0077861883, -0.014276859, 0.008689124, -0.00029341335, -0.020152487, -0.026198233, 0.021539606, -0.018241927, 0.030124042, 0.0008726747, -0.0015556018, 0.00097000203, -0.022455629, 0.009762179, -0.0013879371, 0.010534255, -0.039545983, 0.006732763, -0.017299732, -0.019916939, 0.011411019, 0.018058723, 0.0070533706, 0.009369598, -0.0037033467, 0.006284566, 0.0028036821, -0.003176634, -0.016305193, -0.014708699, -0.006670604, -0.010887577, -0.015847184, 0.0049530626, -0.0054994044, -0.041430373, 0.025543932, -0.0021510164, 0.019092519, -0.029417397, 0.0029149132, 0.02000854, -0.027951762, -0.0059050713, -0.040331148, 0.0007602166, -0.035227593, 0.025138265, -0.0107370885, 0.015205967, -0.02222008, -0.015729409, -0.0074263224, 0.010036985, 0.02439236, 0.0073674354, -0.01879154, -0.021434918, -0.03062131, -0.011424105, 0.0077600162, -0.031013893, 0.042372566, -0.004982506, 0.038760822, -0.008708754, 0.016684689, 0.01569015, -0.005846184, -0.007727301, -0.013923536, -0.006968311, 0.026093544, 0.03975536, 0.0038440214, -0.01809798, 0.06056215, 0.019380411, 0.01453858, 0.013491698, -0.017639969, -0.006804736, -0.037033465, -0.013687988, 0.019432755, -0.042608116, -0.019092519, 0.022651918, 0.010337964, -0.0055713775, 0.03402368, -0.0048123877, 0.020178659, -0.0032404284, 0.006798193, -0.015127451, 0.006889795, 0.0029983367, -0.0036575454, 0.014643268, 0.037870973, -0.00418753, 0.035201423, 0.016305193, -0.025151351, 0.016998753, 0.011849401, -0.0071449727, 0.008329258, 0.013871192, 0.03313383, 0.0024896173, -0.0072104027, 0.0035659433, 0.0059116143, 0.019040175, -0.0009888132, 0.011404475, -0.025988856, 0.0074852095, 0.009984641, -0.026590815, -0.006101362, 0.016763205, -0.013092574, -0.044728052, 0.0016529292, -0.023620285, -0.04533001, 0.017482936, -0.008584436, -0.03682409, 0.022560317, -0.008132968, -0.044780396, 0.029731462, 0.024745684, -0.024876544, -0.030778345, 0.008263828, 0.010095873, 0.019092519, 0.038289726, -0.048235107, 0.021369487, 0.0035953869, -0.003994511, -0.0015776845, 0.023816576, -0.022494886, -0.014486236, -0.0026875436, 0.028291998, 0.005175525, -0.02996701, 0.0048876326, -0.008643324, 0.015873356, -0.0022638834, -0.006955225, 0.020231003, -0.016566915, -0.004465608, -0.023070673, 0.039598327, 0.018111067, -0.00848629, 0.0028298541, -0.021958359, 0.0070533706, -0.03158968, 0.012680364, -0.018503647, 0.0029394496, 0.02176207, 0.00024372732, -0.02284821, -0.003382739, 0.022128478, 0.01391045, 0.021971446, -0.007884334, -0.006611717, -0.020178659, 0.025557017, 0.0061962353, 0.014996591, 0.0058036544, -0.003003244, -0.038760822, 0.0050937375, -0.000784344, 0.027637696, 0.0031210182, -0.02050581, -0.012588762, -0.0008346434, 0.0035724863, 0.015899528, 0.013753418, -0.013871192, -0.02080679, -0.017940948, -0.033107657, -0.0016226678, -0.0036248304, -0.029260363, -0.0085517205, -0.038682308, 0.013753418, -0.0017584354, 0.01460401, 0.036117446, -0.018713024, 0.0011000445, -0.031301785, -0.0002725575, -0.027663868, 0.01625285, 0.015807925, 0.015467688, -0.01849056, 0.0050806515, 0.01796712, -0.0045473957, -0.016108904, 0.03266273, -0.024326932, -0.001972719, -0.034233056, 0.011397933, 0.0013723974, -0.024510136, -0.019000916, -0.011790513, 0.023973608, -0.01822884, 0.008335802, -0.011646567, -0.0028560262, 0.009003189, -0.038786996, 0.0088985, -0.038185038, 0.000111333495, 0.026407609, 0.02089839, -0.024510136, 0.027402148, -0.013897364, -0.011568051, -0.027768556, -0.0033058585, -0.019602874, -0.007956306, 0.04710971, 0.0066542467, -0.008492834, 0.00013188265, -0.011057695, 0.018189583, 0.016135076, 0.0053849015, -0.010560427, -0.009991184, -0.03910106, -0.013609472, 0.027951762, 0.041482717, -0.016553828, 0.05726447, 0.007714215, -0.01336738, -0.011561508, -0.012163466, 0.036771744, 0.02591034, 0.03289828, 0.018974744, 0.0048614605, 0.010023899, 0.021866757, -0.016854808, 0.0033320305, -0.01911869, -0.015611635, -0.021906015, -0.017286647, 0.025727136, -0.0070402846, -0.008780726, 0.008905044, -0.030725999, -0.009454657, 0.009251824, -0.010828691, -0.014054397, 0.0033532954, -0.011986804, -0.016161248, -0.02241637, -0.003942167, -0.045146804, 0.0096509475, 0.027402148, -0.01588644, 0.025570104, -0.0012186366, -0.02755918, 0.03062131, -0.0052932994, 0.001701184, 0.010063157, 0.0012554411, -0.0018778454, 0.016684689, -0.009552802, -0.009402313, -0.0014435528, -0.0031455546, -0.054123823, 0.037138153, 0.011705454, -0.011967175, 0.006045746, -0.001733899, 0.030281074, -0.012981342, 0.002432366, -0.0074001504, -0.0071057146, 0.012156922, -0.006713134, 0.010390309, 0.0074263224, -0.038656134, 0.0003482111, 0.019655218, 0.018621422, -0.019105604, -0.001827137, -0.038525272, 0.0052769417, 0.0077665593, 0.015572377, -0.01542843, -0.009219108, 0.002159195, -0.01731282, 0.009062076, -0.032165464, 0.010972637, -0.017365163, 0.0021706454, -0.001926918, 0.0043085758, 0.028763095, 0.013478612, 0.00898356, 0.005806926, 0.004105742, 0.004442707, 0.045277666, 0.013701074, -0.0031210182, -0.005908343, 0.025308384, 0.025622448, 0.0027431592, -0.029155675, 0.0020234275, 0.009879953, 0.0019040174, -0.010324878, 0.022939812, -0.021277886, -0.023842748, -0.02330622, -0.014734871, -0.013740332, 0.016017301, 0.00062853843, -0.006670604, 0.025740221, 0.032217808, 0.0023931079, -0.021369487, -0.002065957, -0.018935487, -0.019956196, -0.04088076, -0.014996591, 0.018372787, -0.0070271986, 0.0134000955, -0.0050315787, -0.021539606, 0.0054110736, -0.011378303, -0.027375976, 0.054123823, -0.011188556, -0.0035823009, 0.02211539, 0.015192881, 0.0035855724, 0.013059858, 0.010403395, -0.021644294, 0.004184258, 0.008433946, -0.012163466, -0.018896228, 0.0038211208, 0.045120634, 0.015912613, 0.0022818765, 0.018124152, -0.016723948, 0.00021837314, -0.028736923, 0.003938895, -0.010521169, 0.016174333, -0.043000698, -0.008839614, -0.0061896923, 0.012353213, -0.017980207, -0.006304195, 0.0112409005, 0.00083218975, 0.006363082, -0.00822457, 0.004305304, -0.023790404, 0.021500349, 0.004148272, 0.019249551, 0.0017617069, 0.026525384, -0.0053325575, 0.009821066, -0.0032600574, -0.03619596, -0.014211429, 0.009258366, 0.015022763, 0.003628102, -0.016017301, 0.0073543494, -0.022442542, -0.0012472622, 0.016593087, 0.006817822, 0.0013993874, 0.023018328, -0.007249661, -0.02116011, -0.01371416, -0.044126093, 0.0056498935, 0.0144469775, -0.009487372, 0.013674902, -0.005149353, -0.008865786, 0.029993182, 0.011901745, 0.015598549, 0.0271666, 0.0071973167, 0.029181847, -0.034494776, -0.0020250631, -0.0054045306, 0.00058028364, 0.006284566, 0.004190801, 0.0329768, -0.0011916467, -0.00058314623, 0.0014263773, -0.013066402, 0.037007295, 0.00865641, 0.009585517, 0.0037818628, -0.00394871, -0.009277996, -0.015297569, 0.017234303, 0.011280159, -0.007956306, 0.015663978, -0.008368516, 0.004416535, 0.021356402, -0.0024078295, -0.029600602, -0.006637889, -0.010207104, -0.008584436, 0.00021101224, -0.0033402094, 0.024706425, -0.010102415, -0.029809978, -0.0037982203, -0.0057055093, -0.017051097, -0.004357648, 0.040540524, 0.028134966, -0.017221216, 0.019301895, 0.0071711447, -0.017496023, -0.0035234138, -0.022939812, -0.008872328, 0.016815549, 0.012248524, -0.030411934, 0.0017731572, -0.025831824, -0.0050577507, -0.012176552, 0.006320553, -0.025727136, -0.009853781, -0.010089329, -0.0030048797, -0.009035904, 0.0035626718, 0.013439354, -0.010691287, 0.006212593, -0.018477475, 0.0010043528, 0.016697776, -0.010822147, 0.018843884, -0.0289463, 0.0058854423, 0.012039148, -0.027454492, -0.00878727, 0.036510024, -0.004923619, -0.007733844, -0.0016979125, -1.01340065e-05, 0.014682527, 0.020558154, -0.02983615, -0.021173198, 0.002411101, -0.039048716, 0.026001943, -0.0048123877, -0.0071384297, -0.019341154, 0.00789742, 0.0038243923, 0.017038012, -0.008545178, 0.021709725, -0.01822884, 0.012811224, -0.013622558, 0.00051689823, -0.0015367907, 0.01111004, -0.033290863, -0.030411934, -0.009448114, -0.0006534837, -0.018516732, -8.066311e-05, -0.019210292, 0.0019023817, 0.008649866, 0.00034166808, 0.015258311, -0.00059214287, 0.01391045, -0.02920802, -0.003628102, -0.033631098, -0.002105215, -0.035096735, -0.013570214, -7.964076e-05, -0.0008272825, -0.016854808, 0.00024250051, 0.016475312, 0.008427404, 0.0095986035, 0.029260363, 0.0106454855, 0.019890767, -0.010730545, 0.017247388, 0.0073478064, -0.009585517, -0.024850372, 0.017587624, 0.009958469, 0.0019514543, 0.021971446, -0.035018217, -0.0076749567, -0.026224405, -0.004563753, -0.008361974, 0.0030981177, -0.006520115, -0.01994311, 0.0052409554, -0.027873244, 0.004975963, 0.00842086, 0.0072038597, -0.011162384, -0.0051199095, -0.015834097, -0.0075964406, -0.021997618, -0.012811224, 0.018817712, -0.0017028197, -0.008394688, -0.00034514404, 0.02920802, 0.0035168708, 0.00418753, 0.011705454, 0.031144753, 0.014224515, 0.0070206556, 0.03224398, -0.035855725, 0.0036379164, 0.024483964, -0.004419807, -0.0019007459, 0.02551776, -0.007890876, -0.022102306, 0.0053783585, -0.01588644, 0.027218943, 0.009219108, 0.004897447, -0.00919948, 0.003974882, 0.04593197, 0.017888604, -0.008296544, -0.006955225, -0.028684579, -0.022429457, 0.025229868, 0.003847293, -0.004059941, 0.0049399766, 0.003958524, -0.004832017, 0.024418533, 0.041665923, -0.010593141, -0.02215465, -0.015166709, -0.0018124152, -0.00063426356, 0.012327041, 0.015964957, -0.0507738, 0.017103441, -0.0055092187, -0.017051097, -0.001992348, 0.001980898, 0.009847238, -0.0074132364, -0.024457792, -0.025151351, -0.013184176, -0.008662952, -0.0325057, -0.0194851, 0.02116011, -0.0016463862, 0.013229976, 0.0070991716, -0.004158086, -0.016436053, -0.010953007, 0.041744437, 0.0026531927, -0.0052802134, -0.04582728, 0.03085686, 0.011162384, 0.027899416, 0.0036837177, 0.01618742, 0.0064154263, -0.0072104027, 0.017247388, -0.0077861883, 0.006929053, -0.009291082, -0.0004146636, 0.00555502, -0.0046880706, -0.006071918, 0.010854863, 0.003348388, -0.014093655, -0.006863623, -0.021094682, 0.006307467, 0.0075768116, 0.03316, 0.018281184, -0.006287838, -0.0033369379, -0.01879154, 0.017797, -0.011568051, -0.037164327, 0.012595304, 0.008689124, 0.018503647, -0.013831934, -0.000114298295, -0.028004106, -0.010056615, 0.018817712, -0.0061700633, -0.004750229, -0.0036510024, 0.021120854, 0.0017257202, -0.01069783, -0.031903744, 0.0071515157, -0.014878817, 0.00401414, 0.0038865511, -0.00027398876, 0.020950735, -0.009297624, 0.00015457874, 0.0023800218, 0.0086171515, 0.0018009649, -0.023423994, -0.00794322, -0.022193909, 0.014721785, 0.007243118, -0.027140427, 0.019786078, 0.017509108, -0.02577948, 0.0077600162, -0.015938785, 0.01288974, 0.009827609, -0.014172171, 0.022390198, 0.0075964406, -0.014486236, 0.01688098, -0.035279937, -0.006333639, -0.006238765, -0.0014460064, -0.009317254, -0.0038178493, -0.013059858, 0.008466662, -0.012379385, -0.0016717404, 0.0075310105, 0.006278023, 0.044413988, -0.0016022208, 0.009206022, -0.0037327902, 0.010867949, 0.0013086031, -0.012497159, -0.0071384297, -0.030516623, -0.002285148, -0.0056171785, 0.007969392, 0.00668369, -0.008813442, 0.003248607, 0.0017649784, -0.024169898, -0.0094612, -0.004710971, 0.0144338915, -0.000558201, 0.0004931798, 0.02844903, 0.024981232, 0.0155462045, -0.006677147, 0.025792567, -0.006412155, 0.0014754499, 0.017731572, 0.000990449, 0.009219108, 0.02007397, 0.011280159, 0.015140537, 0.020361863, 0.0017698857, -0.0155462045, 0.010756717, 0.015349913, -0.015611635, -0.004213702, 0.009513544, 0.004118828, 0.01618742, -0.0027676953, 0.006323824, 0.016998753, 0.01069783, 0.010089329, 0.020558154, -0.008970474, -0.014918075, -0.0053063855, -0.028004106, 0.009225652, 0.01740442, -0.0027758742, 0.012235438, -0.029260363, 0.010311792, 0.0054503316, 4.720683e-05, 0.038446758, 0.0091078775, 0.027533008, 0.011895202, -0.011993347, -0.008479748, -0.022521058, 0.0033205803, 0.0070468276, -0.012405557, 0.02139566, -0.014865731, -0.004432893, -3.5756555e-05, -0.009533173, 0.017757744, -0.00029443568, -0.0034121824, -0.0053587295, 0.00917985, -0.0020299705, -0.011600766, -0.01918412, 0.030150214, -0.013871192, 0.011823229, 0.0050675655, 0.0066346177, -0.002020156, -0.0071907737, 0.004180987, 0.017496023, -0.004285675, -0.006120991, -0.01206532, 0.019092519, -0.0022148106, -0.003932352, -0.008649866, 0.011024981, -0.016344452, 0.0053031137, -0.004223516, 0.006955225, 0.0029116417, 0.0037000752, 0.008990103, 0.0017420778, -0.010553883, 0.0053423718, -0.0031112037, -0.009140592, 0.0032796864, 0.014329203, 0.021670466, -0.010246362, -0.0038014918, 0.0038309353, -0.018843884, 0.0050217644, 0.023463253, 0.0069944835, 0.020152487, 0.006300924, -0.019851508, 0.003421997, -0.0022736979, 0.01193446, -0.0027889602, 0.009507001, -0.0057087806, 0.001037068, -0.028553719, 0.00633691, 0.0057153236, -0.01158768, 0.0036444594, 0.0074394085, -0.0066673327, 0.009709835, 0.004131914, 0.004989049, -0.0128046805, -0.002404558, 0.00029586698, 0.013282321, 0.024536308, 0.008963931, -0.0003394189, -0.01809798, -0.034835014, -0.019367326, -0.018137239, -0.020558154, -0.014080569, -0.009035904, -0.006631346, 0.015245225, -0.016815549, -0.010488453, -0.01171854, -0.0050871945, 0.0054895896, 0.002326042, -0.0030065156, -0.006942139, 0.03075217, 0.003228978, 0.00030404574, -0.016030388, -0.026486127, -0.017522195, -0.011541879, 0.0075310105, -0.016920237, -0.006160249, -0.0055059474, -0.010933379, -0.0038930941, 0.033290863, 0.003263329, 0.02317536, 0.012876654, 0.011293245, -0.009251824, 0.0053685443, -0.003935624, -0.010534255, -0.004704428, 0.00206105, -0.0053849015, -0.018385872, -0.004710971, -0.004311847, -0.0032845936, -0.012516788, -0.00231132, -0.018438216, 0.0075179245, -0.003083396, -0.00066452497, -0.025962684, -0.00013157594, 0.009716378, -0.005348915, 0.029260363, 0.022246253, 0.018870056, 0.0077665593, 0.0014787215, 0.0028380328, -0.004704428, -0.006850537, -0.004439436, 0.006451413, 0.0025435972, 0.004864732, -0.015349913, 0.008793812, 0.013046772, -0.010043529, 0.009997727, -0.008453576, -0.027716212, -0.023005242, -0.016789377, -0.012529874, 0.011502621, 0.004612826, 0.007295462, 0.0019465471, -0.005993402, -0.0076160696, 0.0009135685, 0.010200561, -0.010017357, 0.01935424, 0.015834097, -0.019524358, 0.0016766477, -0.014852645, 0.0035201423, 0.015585463, -0.0047011566, 0.023214618, -0.0076618707, 0.004763315, -0.0060359314, -0.013439354, -0.038054176, -0.0006240401, -0.022730434, 0.0027366162, 0.012150379, -0.006732763, 0.010030443, -0.017626883, 0.0023227704, 0.01766614, 0.00809371, -0.0071449727, -0.013949708, 0.02310993, -0.016082732, -0.0026973581, 0.008806898, 0.0033467524, -0.017927863, 0.014695613, 0.00011542288, -0.029155675, -0.030307246, 0.0011818322, 0.022494886, 0.023149189, 0.023921264, -0.011182013, -0.013275778, 0.008558264, -0.009408856, 0.0036640884, 0.0058985283, -0.0012799774, -0.0033860104, 0.015075107, 0.027533008, -0.00032899098, -0.022364026, -0.018948572, -3.113044e-05, -0.0018385873, 0.004436164, 0.0056466223, 0.013988967, 0.019393498, 0.00848629, 0.02512518, 0.010553883, 0.00796285, 0.003168455, -0.01282431, -0.008401232, 0.0022442543, -0.016776292, 0.0058658132, 0.020322606, 0.009533173, -0.016396796, 0.0050086784, 0.0071449727, -0.0054503316, 0.009709835, -0.011496078, 0.009480829, -0.033971336, 0.018137239, 0.006120991, -0.018071808, 0.019759906, 0.004315119, 0.0042954898, -0.0006060468, 0.005754582, 0.01254296, -0.011882116, -0.005348915, 0.0013936623, -0.0021493805, 0.029391225, 0.021290971, 0.001508165, 0.030673655, 0.002160831, -0.005600821, 0.021605037, -0.011875573, 0.005734953, 0.011339045, -0.006758935, 0.0015956778, -0.0066542467, -0.016697776, -0.018189583, -0.01618742, -0.011136212, -0.012569132, -0.0033860104, -0.012765422, -0.010867949, -0.012071863, -0.00012922456, -0.010010813, 0.028004106, -0.038028006, 0.011600766, 0.01256259, -0.0027873246, 0.0033402094, -0.03352641, -0.004930162, -0.019825336, 0.009879953, -0.013727246, -0.013766504, -0.004616097, 0.012713078, 0.011038067, -0.027245115, -0.016226677, 0.017496023, 0.014931161, 0.0035005133, 0.020270262, -0.016920237, 0.008250742, 0.012634562, 0.010429567, 0.0035397713, -0.009853781, 0.012170008, 0.013393552, -0.039310437, -0.02577948, 0.0027251658, -0.015297569, 0.01221581, -0.01336738, 0.012464444, 0.01308603, 0.010403395, -0.004858189, -0.010953007, -0.010534255, 0.008172226, -0.011208185, -0.009991184, -0.0019563616, -0.0048941756, 0.010913749, 0.00043102112, -0.004305304, 0.006284566, 3.8178237e-06, 0.010508083, 0.002458538, 0.009703292, -0.009219108, -0.004259503, -0.015978044, 0.008146054, 0.030804517, -0.01275888, -0.00038992282, 5.7149147e-05, -0.012928998, -0.013072944, -0.0025076107, 0.010998809, -0.009696749, 0.022063047, 0.027742384, 0.016920237, 0.025988856, -0.004956334, -0.025465416, -0.00919948, -0.0015204332, 0.0079824785, 0.022390198, -0.002218082, 0.00011235584, -0.00077371154, 0.0042562312, -0.006385983, -0.0003396234, 0.0009462836, -0.010900663, -0.0007189138, -0.0035528573, -0.006071918, 0.00514281, 0.010357593, 0.008041366, 0.014145999, -0.010030443, -0.014316117, -0.0013421361, 0.015349913, 0.009507001, -0.014381547, -0.0018745739, 0.0038374783, 0.028004106, -0.006307467, 0.001733899, 0.018346615, -0.028501375, -0.023895092, -0.0036935322, -0.015323741, 0.008610608, -0.012156922, 0.0038734651, 0.007845075, 0.012222352, 0.008957388, 0.0013118746, -0.003282958, 0.00015529437, -0.06433093, -0.008335802, -0.018595248, -0.0054405173, -0.002358757, 0.0052180546, 0.0007029652, 0.00579384, 0.019000916, -0.015088193, -0.0014157449, -0.009853781, -0.010494997, 0.022599574, -0.003174998, -0.015807925, -0.004596468, 0.011882116, -0.002232804, 0.008662952, 0.025844911, -0.008211484, -0.006300924, -0.00057251385, -0.0021641024, 0.023345478, -0.017496023, -0.015572377, 0.0122616105, -0.009101334, -0.017954035, -0.0036935322, -0.01000427, 0.0032191635, -0.0003269463, -0.03266273, -0.0030081512, -0.018111067, 0.01315146, -0.0075244675, -0.014276859, 0.0050708367, 0.0059017995, -0.0030719456, -0.013975881, 0.02076753, -0.0010182568, 0.024091382, 0.0052115116, 0.0013625829, -0.010292163, -0.0023653, -0.0032535144, 0.01447315, -0.0028216753, -0.0017289917, -0.030254902, 0.019956196, -0.00987341, 0.012686906, 0.014800301, 0.0014181986, -0.012124207, -0.010475367, -0.0071776877, -0.016004216, -0.009683663, -0.011260529, 0.013190718, 0.008080624, 0.006186421, 0.0005667887, -0.01839896, 0.021919101, 0.019105604, 0.0019890766, 0.02581874, 0.0117970565, 0.009075162, 0.027140427, -0.0056891516, 0.0038701936, -0.0040239543, -0.019799164, 0.0055910065, 0.010305249, -0.01364873, 0.027637696, 0.004203887, -0.00850592, -0.008119882, -0.0022148106, 0.010305249, -0.015402258, -0.0055648345, -0.011136212, -0.022494886, -0.00830963, 0.012614934, -0.009670577, -0.0052605844, -0.006889795, -0.004400178, 0.012994428, -0.015834097, -0.01684172, 0.0036739032, 0.013818848, 0.022494886, -0.037007295, 0.01145682, 0.023751145, -0.014303031, 0.02089839, -0.010122045, -0.011136212, 0.015166709, 0.008204941, 0.00023513961, 0.012765422, -0.007923592, 0.029260363, -0.009565888, -0.005780754, -0.01688098, 0.01644914, 0.022259338, 0.008329258, 0.013000972, 0.0074394085, 0.023567941, 0.0053227427, -0.014669441, -0.0023620285, 0.031432644, -0.005980316, -0.0019285538, -0.001707727, 0.0017355348, -0.0008694031, -0.04370734, -0.011064239, -0.0018942029, 0.013740332, -0.005136267, -0.00614062, -0.01731282, 0.03923192, 0.002113394, -0.001985805, 0.008270372, 0.03326469, -0.028370515, 0.004468879, 0.020401122, -0.02818731, 0.015938785, -0.00815914, -0.0027758742, -0.0080348225, 0.02176207, 0.042451084, -0.023319306, 0.019380411, -0.018019464, -0.005973773, 0.011077325, -0.0059116143, 0.0076160696, 0.0023342208, -0.010586599, -0.04760698, -0.008577893, -0.018883143, 0.014316117, -0.0013135104, -0.012798138, 0.011352131, -0.008015194, 0.014891903, 0.0007287283, -0.012654192, 0.006585545, -0.0002876882, -0.016645432, 0.005852727, 0.004684799, -0.0060751894, -0.018765368, -0.0074459515, -0.010370679, 0.0003647731, -0.00421043, -0.006019574, 0.01336738, 0.020846047, -0.021290971, -0.018883143, -0.007871248, -0.0036575454, -0.010396851, 0.0026679144, -0.0070795426, -0.010599685, 0.004059941, -0.007295462, 0.0040108683, -0.0014754499, -0.01885697, -0.0129748, -0.0070141125, -5.8305677e-06, -0.012091492, 0.0018925671, 0.0048680035, -0.010959551, 0.00094382995, -0.01790169, -0.006166792, 0.027899416, 0.00074263226, -0.022782778, 0.007315091, -0.035489313, -0.024549393, -0.011541879, -0.0038865511, -0.006385983, 0.006876709, 0.010573513, 0.0067065908, 0.018255012, -0.0183597, 0.0074001504, -0.00026540106, 0.013557128, -0.004717514, 0.005175525, -0.0006772021, 0.021526521, 0.002167374, 0.007917048, 0.010972637, 0.006696776, -0.0075440966, -0.009866867, 0.01290937, -0.0012047327, 0.017823173, -0.010259448, 0.024745684, -0.016082732, -0.00987341, 0.005594278, -0.015834097, 1.7252091e-07, 0.003654274, 0.00030731724, 0.007707672, 0.00030609043, -0.0014116556, -0.0036837177, -0.016632345, -0.005097009, -0.011437191, -0.0057120523, 0.010194018, 0.01022019, 0.0022573404, -0.0085124625, 0.016723948, -0.010161303, 0.003641188, -0.00479603, -0.0056368075, -0.0029885222, -0.025282212, -0.013112202, -0.014355375, -0.0057055093, -0.016004216, -0.005927972, 0.001979262, 0.018843884, -0.038577616, 0.01744368, -0.010076243, -0.008322716, 0.016331365, -0.029103331, -0.036850262, 0.011633481, -0.02857989, -0.02076753, -0.002079043, 0.015978044, -0.0074001504, 0.0074197794, -0.011024981, 0.01273925, -0.0054143453, 0.0032077131, 0.00924528, -0.000983088, -0.006565916, 0.0010746903, 0.007884334, 0.02241637, -0.025072835, 0.010056615, 0.014865731, -0.011031523, 0.0045015947, -0.008316172, -0.009945383, -0.019367326, -0.020819874, 0.0007156423, -0.0008677674, 0.025530845, 0.0052474984, 0.018974744, 0.016265936, 0.0009773629, 0.021906015, 0.0035953869, 0.024784941, -0.019328067, 0.024457792, 0.0025010675, 0.032584216, 0.021317143, 0.017155785, -0.018451303, 0.011273615, -0.0155331185, 0.0045277667, -0.019000916, 0.0075768116, 0.0014435528, 0.006497214, 0.010625857, 0.0025354184, 0.010194018, 0.022455629, 0.0071057146, -0.001508165, 0.009572431, -0.004338019, -0.01221581, 0.0056531653, 0.0075898976, -0.004177715, 0.019393498, -0.0041221, -0.00086204224, -0.008754554, -0.0013658544, 0.031825226, 0.0064874, 0.0254785, -0.028553719, -0.001275888, 0.003029416, 0.015323741, -0.009919211, 0.018752282, 0.0050773798, 0.00206105, -0.0075571826, -0.027611524, 0.0053031137, 0.0075310105, 0.014669441, 0.011247443, -0.014918075, 0.004364191, 0.014015139, 0.04216319, -0.0037458763, -0.009408856, -0.009513544, 0.006752392, 0.0056040925, -0.009016275, -0.014551666, -0.002219718, 0.020388035, 0.0029279992, -0.004671713, -0.009664034, 0.0036575454, 0.028841611, 0.0009871775, -0.045303836, -0.00637944, 0.0012325405, -0.023332393, 0.003188084, -0.0016627437, 6.394775e-05, 0.00045678424, -0.008931216, -0.015834097, -0.004864732, 0.006304195, -0.010867949, 0.007838532, 0.008172226, 0.034233056, -0.02350251, 0.0017355348, 0.022468714, 0.009886496, -0.01981225, -0.01028562, -0.00025517758, -0.0183597, 0.025596276, -0.018817712, -0.014145999, -0.020217918, 0.02844903, 0.006261666, 0.0054928614, 0.0050381217, 0.0021232085, 0.0055223047, -0.012588762, -0.0032191635, -0.011424105, -0.007864704, -0.006595359, -0.004125371, 0.033055313, -0.004750229, 0.004989049, 0.0056924233, 0.005921429, -0.015742496, 0.0071711447, 0.0051918826, -0.006134077, -0.005986859, 0.017430592, 0.0053456435, 0.0019040174, 0.012241982, 0.0051264525, 0.0253869, 0.004387092, 0.0015106186, -0.0117447125, -0.008630238, -0.007256204, -0.02337165, 0.013380466, -0.022534145, -0.0025190609, -0.0077731023, 0.00200707, -0.017639969, -0.0009274724, -0.0070010265, 0.022390198, -0.012019519, -0.017770829, 0.0074066934, 0.0002756245, 0.01753528, 0.013831934, 0.023070673, -0.006523386, 0.00037704126, 0.0044754227, -0.005129724, -0.019472014, 0.04648158, 0.013557128, -0.0037884058, -0.0112409005, 0.016409881, 0.01206532, 0.0019301896, 0.003228978, 0.0010378858, -0.012654192, -0.024235329, -0.013661816, -0.016789377, -0.004815659, -0.009225652, -0.018385872, -0.0071122576, 0.0069879405, -0.026368352, 0.00987341, -0.014643268, -0.015703237, 0.017718485, -0.022481801, -0.021644294, -0.0127785085, 0.0059312433, -0.011299787, 0.0050413935, -0.014159085, 0.015232139, -0.026237492, 0.024536308, 0.010239819, -0.02284821, -0.015062021, -0.022311682, 0.014132913, 0.01000427, 0.003621559, 0.01757454, 0.021003079, 0.003660817, 0.004871275, 0.00035802563, 0.006804736, -0.01612199, -0.018621422, 0.011162384, -0.0047993017, -0.015912613, -0.0001837156, 0.016933324, 0.004128643, 0.00075694505, 0.00933034, 0.013805762, -0.0010722366, -0.0016292108, -0.003421997, 0.01612199, 0.006732763, -0.0014599103, -0.0072104027, -0.016279021, -0.012484073, -0.020963822, -0.010337964, 0.013596386, 0.0026564642, 0.023136102, 0.0018156867, -0.0035692148, -0.014172171, 0.006909424, -0.006772021, 0.010036985, -0.006418698, -0.010867949, -0.01631828, -0.017888604, 0.010763261, 0.012098035, 0.014656354, -0.018673766, 0.023384737, -0.028658407, -0.014041311, -0.013282321, -0.00055901887, 0.012235438, 0.03376196, 0.0010853227, -0.0036673602, 0.0011466634, 0.01371416, -0.0144469775, 0.023659544, 0.008447032, 0.007831989, 0.0059770443, 0.011941003, -0.009284538, -0.04127334, 0.0010616042, -0.015022763, 0.012601848, 0.028004106, 0.0026286563, 0.028789267, -0.0023015055, 0.023607198, -0.009520087, 0.00089721096, -0.0050708367, 0.006418698, -0.015048935, -0.014957333, 0.0074197794, -0.008924672, -0.021421831, 0.015480774, -0.014774129, 0.004789487, 0.0045212237, 0.012785052, -0.0056695226, 0.017653055, -0.010468825, 0.014263773, 0.0057447674, 0.0091078775, -0.0029934295, -0.009062076, 0.012052234, 0.014368461, 0.01111004, 0.0016725583, -0.0018811169, 0.022704262, 0.020832961, 0.008342344, -0.013321579, -0.007714215, 0.0076422417, -0.0059966734, -0.0070402846, 0.006359811, -0.012183094, 0.018765368, -0.008708754, 0.0031537334, 0.014316117, -0.0014288309, 0.006664061, -0.013504784, 0.002098672, -0.0054536033, 0.0028298541, 0.022049962, -0.017378248, 0.01744368, -0.015415344, -0.025504673, 0.004177715, -0.0060228454, 0.00023145917, 0.024025952, -0.0005254859, 0.017482936, 0.0056368075, 0.018752282, 0.0030179657, -0.00037049825, -0.0159257, 0.011548422, -0.016279021, -0.014145999, 0.018686851, 0.011993347, 0.006889795, -0.018150324, 0.0085909795, 0.026420696, -0.025334556, 0.0070729996, 0.0004391999, -0.00229987, 0.003328759, 0.021539606, 0.00027930495, -0.013439354, 0.011293245, -0.015062021, 0.012156922, 0.0050937375, 0.0128962835, 0.014931161, -0.0035986584, -0.006120991, -0.0074197794, -0.015205967, -0.012045691, 0.01275888, -0.010867949, -0.041482717, 0.0072038597, 0.0050283074, 0.0278209, 0.0122746965, 0.009997727, -0.020427294, -0.006909424, -0.0025959413, 0.001727356, 0.025936512, 0.025635533, 0.021081595, 0.027375976, -0.020623583, -0.014263773, 0.014316117, 0.009866867, 0.01612199, 0.003487427, -0.02564862, 0.0016930052, -0.015912613, 0.006317281, -0.0032011701, 0.0074459515, -0.009042447, 0.0018598521, 0.00039810158, 0.009533173, 0.00038174406, -0.0037393332, 0.020715186, -0.013727246, 0.020689014, 0.012726164, -0.0015735952, 0.007302005, -4.5519962e-05, 0.013229976, -0.0024732598, -0.033631098, -0.0027660597, -0.018647594, -0.040959276, 0.0058854423, 0.02254723, -0.006284566, 0.011823229, 0.026224405, -0.026158975, -0.008519006, 0.008113339, -0.006376168, 0.015467688, -0.004576839, 0.00842086, 0.023188446, 0.0022017246, 0.020689014, 0.0024634453, -0.023724973, -0.0018484019, -0.022272425, -0.018385872, 0.0035463143, 0.010553883, 0.009821066, 0.0047076996, 0.0016750119, -0.010187475, 0.032427184, -0.009847238, -0.008806898, 0.00872184, 0.0069879405, -0.020780617, -0.01684172, 0.0021542879, -0.008944302, -0.0096247755, 0.0069879405, -0.010207104, 0.01898783, 0.011070781, -0.030595139, -0.001574413, 0.012667278, -0.010324878, 0.032060776, -0.0134000955, 0.012811224, -0.011980261, 0.0075898976, 0.002178824, -0.0054568746, -0.009801437, 0.019301895, 0.0066804187, 0.010566969, -0.0112670725, 0.0074721235, -0.0144077195, 0.0037622338, -0.004822202, -0.005149353, -0.014682527, 0.000870221, -0.01569015, -0.011208185, 0.029312707, -0.006088276, 0.01260839, -0.0010387037, 0.0058952565, 0.013805762, 0.014381547, -0.016894065, -0.0088527, 0.008734926, 0.012026062, 0.010416481, 0.006942139, -0.02755918, -0.0021035795, -0.0008669495, -0.010553883, 0.0007778009, 0.01579484, -0.0041221, 0.009291082, -0.0022148106, 0.019341154, -0.019131776, 0.0076226126, -0.016514571, -0.016854808, -0.0052802134, -0.002306413, 0.009788351, -0.008630238, 0.002252433, -0.02508592, -0.018621422, -0.0058854423, 0.0007381339, -0.0057643964, 0.00063180993, 0.0155462045, -0.0010117138, -0.0028723837, 0.0047862157, -0.020558154, -0.0031062965, 0.010894121, 0.00835543, 0.012968256, -0.013059858, -0.013609472, -0.011443733, 0.009919211, 0.025308384, -0.013622558, 0.0047306, -0.0036739032, 0.019916939, -0.0012112757, -0.012333584, -0.010383765, 0.0049726916, -0.012359756, 0.026250577, -0.00830963, -0.025975771, -0.014119827, 0.029522086, -0.022298597, -0.007890876, -0.008119882, 0.013544042, 0.01317109, 0.0026597357, -0.016082732, -0.008492834, 0.022468714, 0.006412155, -0.030647483, 0.01295517, 0.006013031, -0.0024667168, 0.0034448975, 0.026878707, 0.020361863, -0.01697258, 0.029731462, -0.0064350553, 0.010907207, -0.0085386345, 0.0027595167, 0.0032322495, -0.006644432, -0.015964957, 0.006902881, 0.0047306, -0.035620175, 0.02189293, 0.0069879405, -0.04381203, -0.027140427, 0.011620395, -0.009003189, 0.008368516, -0.0023505783, -0.0134000955, -0.039441295, 0.009382684, 0.016763205, 0.007923592, -0.0038800081, -0.0029018272, 0.00076635065, 0.029862322, 0.0027873246, -0.0040108683, -0.019367326, 0.031537335, 0.017770829, 0.002990158, -0.029024815, 0.034337744, 0.022769693, 0.00802828, -0.014800301, 0.0063957972, 0.0034776125, 0.008322716, -0.009539716, -0.01152225, -0.016540743, 0.005954144, -0.025740221, 0.010540797, -0.009317254, -0.000750811, -0.004586654, 0.015192881, 0.017103441, 0.009356512, 0.00085140986, -0.010573513, 0.0072234888, -0.010043529, -0.009533173, 0.00876764, -0.024863457, -0.014289945, 0.0018385873, -0.026695503, -0.015441516, 0.006173335, 0.014878817, 0.010828691, 0.014826473, -0.009925754, 0.0017846074, -0.01315146, -0.0049465196, -0.009356512, -0.0014010231, -0.0017911504, -0.028291998, -0.006592088, 0.0049072616, -0.010501539, -0.0071580587, 0.00078025454, -0.006212593, -0.0035135993, -0.0051199095, 0.00032878653, 0.0009847238, 0.014931161, -0.011849401, 0.00049358874, 0.002178824, -0.013687988, 0.00041486806, -0.004537581, 0.004125371, 0.018385872, 0.00842086, 0.021552693, -0.00926491, -0.029888494, 0.006569187, -0.008211484, -0.0071253437, 0.004138457, -0.010200561, 0.011875573, 0.008963931, 0.028082622, 0.009847238, 0.0048549175, 0.022036875, -0.022481801, 0.00034391723, 0.016854808, -0.004459065, -0.0050512077, 0.014643268, -0.012228896, 0.035489313, 0.009618232, 0.028161138, -0.0015073471, -0.0155069465, -0.0010059886, 0.0072234888, 0.022390198, 0.01145682, -0.011397933, 0.015454602, 0.023698801, 0.028998643, 0.0053161997, -0.017875517, 4.6440073e-05, 0.0048189308, -0.006327096, 0.018045636, 0.004638998, -0.025033576, -0.011941003, 0.016514571, -0.008780726, 0.0070141125, -0.0020054341, -0.012785052, 0.0034448975, -0.004400178, 0.006520115, -0.015048935, -0.021343315, -0.0026041202, -0.00046087365, -0.004423078, -0.0051460816, -0.020819874, -0.013570214, 0.003634645, 0.019223379, 0.012366299, 0.0029279992, -0.0054372456, 0.02139566, 0.003615016, -0.008793812, -0.003103025, 0.015271397, -0.026826363, -0.006732763, -0.0013977516, -0.016305193, 0.0025485044, -0.0003707027, 0.0006861987, 0.008473204, -0.0047600437, 0.028291998, -0.017325904, -0.0017617069, -0.013687988, -0.0056302645, 0.02373806, 0.008780726, 0.0061700633, -0.026329093, -0.0040108683], index=0, object='embedding')], model='emb-openai/text-embedding-3-large', object='list', usage=Usage(prompt_tokens=42, total_tokens=8))"
      ]
     },
     "execution_count": 8,
     "metadata": {},
     "output_type": "execute_result"
    }
   ],
   "source": [
    "from openai import OpenAI\n",
    "client = OpenAI(\n",
    "  api_key=os.environ['OPENAI_TOKEN'], # ваш ключ в VseGPT после регистрации\n",
    "  base_url=\"https://api.vsegpt.ru/v1\",\n",
    ")\n",
    "\n",
    "client.embeddings.create(\n",
    "  model=config['embeddings'],\n",
    "  input=\"The food was delicious and the waiter...\",\n",
    "  encoding_format=\"float\"\n",
    ")"
   ]
  }
 ],
 "metadata": {
  "kernelspec": {
   "display_name": ".venv",
   "language": "python",
   "name": "python3"
  },
  "language_info": {
   "codemirror_mode": {
    "name": "ipython",
    "version": 3
   },
   "file_extension": ".py",
   "mimetype": "text/x-python",
   "name": "python",
   "nbconvert_exporter": "python",
   "pygments_lexer": "ipython3",
   "version": "3.12.7"
  }
 },
 "nbformat": 4,
 "nbformat_minor": 2
}
